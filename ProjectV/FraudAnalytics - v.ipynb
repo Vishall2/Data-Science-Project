{
 "cells": [
  {
   "cell_type": "markdown",
   "metadata": {},
   "source": [
    "# Step 1: Importing Libraries"
   ]
  },
  {
   "cell_type": "code",
   "execution_count": 198,
   "metadata": {},
   "outputs": [],
   "source": [
    "import numpy as np \n",
    "import pandas as pd\n",
    "\n",
    "import seaborn as sns\n",
    "import matplotlib.pyplot as plt\n",
    "\n",
    "from sklearn.utils import resample\n",
    "from sklearn.preprocessing import LabelBinarizer, LabelEncoder\n",
    "from sklearn.model_selection import train_test_split, cross_val_score\n",
    "\n",
    "from sklearn.ensemble import RandomForestClassifier\n",
    "from sklearn.metrics import classification_report, confusion_matrix\n",
    "\n",
    "from sklearn.model_selection import StratifiedKFold \n",
    "from collections import Counter\n",
    "from sklearn.model_selection import KFold\n",
    "from sklearn.model_selection import GridSearchCV\n",
    "from joblib import dump, load\n",
    "\n",
    "import warnings\n",
    "warnings.filterwarnings('ignore')"
   ]
  },
  {
   "cell_type": "markdown",
   "metadata": {},
   "source": [
    "# Step 2: Data Preprocessing"
   ]
  },
  {
   "cell_type": "code",
   "execution_count": 199,
   "metadata": {},
   "outputs": [
    {
     "data": {
      "text/html": [
       "<div>\n",
       "<style scoped>\n",
       "    .dataframe tbody tr th:only-of-type {\n",
       "        vertical-align: middle;\n",
       "    }\n",
       "\n",
       "    .dataframe tbody tr th {\n",
       "        vertical-align: top;\n",
       "    }\n",
       "\n",
       "    .dataframe thead th {\n",
       "        text-align: right;\n",
       "    }\n",
       "</style>\n",
       "<table border=\"1\" class=\"dataframe\">\n",
       "  <thead>\n",
       "    <tr style=\"text-align: right;\">\n",
       "      <th></th>\n",
       "      <th>Area_Service</th>\n",
       "      <th>Hospital County</th>\n",
       "      <th>Hospital Id</th>\n",
       "      <th>Age</th>\n",
       "      <th>Gender</th>\n",
       "      <th>Cultural_group</th>\n",
       "      <th>ethnicity</th>\n",
       "      <th>Days_spend_hsptl</th>\n",
       "      <th>Admission_type</th>\n",
       "      <th>Home or self care,</th>\n",
       "      <th>ccs_diagnosis_code</th>\n",
       "      <th>ccs_procedure_code</th>\n",
       "      <th>apr_drg_description</th>\n",
       "      <th>Code_illness</th>\n",
       "      <th>Mortality risk</th>\n",
       "      <th>Surg_Description</th>\n",
       "      <th>Weight_baby</th>\n",
       "      <th>Abortion</th>\n",
       "      <th>Emergency dept_yes/No</th>\n",
       "      <th>Tot_charg</th>\n",
       "      <th>Tot_cost</th>\n",
       "      <th>ratio_of_total_costs_to_total_charges</th>\n",
       "      <th>Result</th>\n",
       "      <th>Payment_Typology</th>\n",
       "    </tr>\n",
       "  </thead>\n",
       "  <tbody>\n",
       "    <tr>\n",
       "      <th>0</th>\n",
       "      <td>Western NY</td>\n",
       "      <td>Allegany</td>\n",
       "      <td>37.0</td>\n",
       "      <td>30 to 49</td>\n",
       "      <td>F</td>\n",
       "      <td>White</td>\n",
       "      <td>Not Span/Hispanic</td>\n",
       "      <td>4</td>\n",
       "      <td>Elective</td>\n",
       "      <td>Home or Self Care</td>\n",
       "      <td>122</td>\n",
       "      <td>0</td>\n",
       "      <td>Other pneumonia</td>\n",
       "      <td>1</td>\n",
       "      <td>1.0</td>\n",
       "      <td>Medical</td>\n",
       "      <td>0</td>\n",
       "      <td>N</td>\n",
       "      <td>Y</td>\n",
       "      <td>5511.95</td>\n",
       "      <td>5582.49</td>\n",
       "      <td>1.012798</td>\n",
       "      <td>1</td>\n",
       "      <td>1</td>\n",
       "    </tr>\n",
       "    <tr>\n",
       "      <th>1</th>\n",
       "      <td>Western NY</td>\n",
       "      <td>Allegany</td>\n",
       "      <td>37.0</td>\n",
       "      <td>70 or Older</td>\n",
       "      <td>F</td>\n",
       "      <td>White</td>\n",
       "      <td>Not Span/Hispanic</td>\n",
       "      <td>4</td>\n",
       "      <td>Urgent</td>\n",
       "      <td>Short-term Hospital</td>\n",
       "      <td>197</td>\n",
       "      <td>0</td>\n",
       "      <td>Cellulitis &amp; other skin infections</td>\n",
       "      <td>3</td>\n",
       "      <td>2.0</td>\n",
       "      <td>Medical</td>\n",
       "      <td>0</td>\n",
       "      <td>N</td>\n",
       "      <td>Y</td>\n",
       "      <td>4783.20</td>\n",
       "      <td>5162.82</td>\n",
       "      <td>1.079365</td>\n",
       "      <td>1</td>\n",
       "      <td>1</td>\n",
       "    </tr>\n",
       "    <tr>\n",
       "      <th>2</th>\n",
       "      <td>Western NY</td>\n",
       "      <td>Allegany</td>\n",
       "      <td>37.0</td>\n",
       "      <td>30 to 49</td>\n",
       "      <td>F</td>\n",
       "      <td>White</td>\n",
       "      <td>Not Span/Hispanic</td>\n",
       "      <td>3</td>\n",
       "      <td>Urgent</td>\n",
       "      <td>Home or Self Care</td>\n",
       "      <td>122</td>\n",
       "      <td>0</td>\n",
       "      <td>Other pneumonia</td>\n",
       "      <td>1</td>\n",
       "      <td>1.0</td>\n",
       "      <td>Medical</td>\n",
       "      <td>0</td>\n",
       "      <td>N</td>\n",
       "      <td>Y</td>\n",
       "      <td>3829.15</td>\n",
       "      <td>4056.52</td>\n",
       "      <td>1.059379</td>\n",
       "      <td>1</td>\n",
       "      <td>1</td>\n",
       "    </tr>\n",
       "    <tr>\n",
       "      <th>3</th>\n",
       "      <td>Western NY</td>\n",
       "      <td>Allegany</td>\n",
       "      <td>37.0</td>\n",
       "      <td>0 to 17</td>\n",
       "      <td>F</td>\n",
       "      <td>White</td>\n",
       "      <td>Not Span/Hispanic</td>\n",
       "      <td>1</td>\n",
       "      <td>Urgent</td>\n",
       "      <td>Home or Self Care</td>\n",
       "      <td>122</td>\n",
       "      <td>0</td>\n",
       "      <td>Other pneumonia</td>\n",
       "      <td>1</td>\n",
       "      <td>1.0</td>\n",
       "      <td>Medical</td>\n",
       "      <td>0</td>\n",
       "      <td>N</td>\n",
       "      <td>Y</td>\n",
       "      <td>1108.20</td>\n",
       "      <td>1644.75</td>\n",
       "      <td>1.484167</td>\n",
       "      <td>0</td>\n",
       "      <td>1</td>\n",
       "    </tr>\n",
       "    <tr>\n",
       "      <th>4</th>\n",
       "      <td>Western NY</td>\n",
       "      <td>Allegany</td>\n",
       "      <td>37.0</td>\n",
       "      <td>70 or Older</td>\n",
       "      <td>F</td>\n",
       "      <td>White</td>\n",
       "      <td>Not Span/Hispanic</td>\n",
       "      <td>3</td>\n",
       "      <td>Elective</td>\n",
       "      <td>Home or Self Care</td>\n",
       "      <td>122</td>\n",
       "      <td>0</td>\n",
       "      <td>Other pneumonia</td>\n",
       "      <td>2</td>\n",
       "      <td>3.0</td>\n",
       "      <td>Medical</td>\n",
       "      <td>0</td>\n",
       "      <td>N</td>\n",
       "      <td>Y</td>\n",
       "      <td>3418.18</td>\n",
       "      <td>3370.87</td>\n",
       "      <td>0.986161</td>\n",
       "      <td>1</td>\n",
       "      <td>1</td>\n",
       "    </tr>\n",
       "  </tbody>\n",
       "</table>\n",
       "</div>"
      ],
      "text/plain": [
       "  Area_Service Hospital County  Hospital Id          Age Gender  \\\n",
       "0   Western NY        Allegany         37.0     30 to 49      F   \n",
       "1   Western NY        Allegany         37.0  70 or Older      F   \n",
       "2   Western NY        Allegany         37.0     30 to 49      F   \n",
       "3   Western NY        Allegany         37.0      0 to 17      F   \n",
       "4   Western NY        Allegany         37.0  70 or Older      F   \n",
       "\n",
       "  Cultural_group          ethnicity Days_spend_hsptl Admission_type  \\\n",
       "0          White  Not Span/Hispanic                4       Elective   \n",
       "1          White  Not Span/Hispanic                4         Urgent   \n",
       "2          White  Not Span/Hispanic                3         Urgent   \n",
       "3          White  Not Span/Hispanic                1         Urgent   \n",
       "4          White  Not Span/Hispanic                3       Elective   \n",
       "\n",
       "    Home or self care,  ccs_diagnosis_code  ccs_procedure_code  \\\n",
       "0    Home or Self Care                 122                   0   \n",
       "1  Short-term Hospital                 197                   0   \n",
       "2    Home or Self Care                 122                   0   \n",
       "3    Home or Self Care                 122                   0   \n",
       "4    Home or Self Care                 122                   0   \n",
       "\n",
       "                  apr_drg_description  Code_illness  Mortality risk  \\\n",
       "0                     Other pneumonia             1             1.0   \n",
       "1  Cellulitis & other skin infections             3             2.0   \n",
       "2                     Other pneumonia             1             1.0   \n",
       "3                     Other pneumonia             1             1.0   \n",
       "4                     Other pneumonia             2             3.0   \n",
       "\n",
       "  Surg_Description  Weight_baby Abortion Emergency dept_yes/No  Tot_charg  \\\n",
       "0          Medical            0        N                     Y    5511.95   \n",
       "1          Medical            0        N                     Y    4783.20   \n",
       "2          Medical            0        N                     Y    3829.15   \n",
       "3          Medical            0        N                     Y    1108.20   \n",
       "4          Medical            0        N                     Y    3418.18   \n",
       "\n",
       "   Tot_cost  ratio_of_total_costs_to_total_charges  Result  Payment_Typology  \n",
       "0   5582.49                               1.012798       1                 1  \n",
       "1   5162.82                               1.079365       1                 1  \n",
       "2   4056.52                               1.059379       1                 1  \n",
       "3   1644.75                               1.484167       0                 1  \n",
       "4   3370.87                               0.986161       1                 1  "
      ]
     },
     "execution_count": 199,
     "metadata": {},
     "output_type": "execute_result"
    }
   ],
   "source": [
    "df = pd.read_csv(\"Insurance Dataset.csv\")\n",
    "df.head(5)"
   ]
  },
  {
   "cell_type": "code",
   "execution_count": 200,
   "metadata": {},
   "outputs": [
    {
     "name": "stdout",
     "output_type": "stream",
     "text": [
      "<class 'pandas.core.frame.DataFrame'>\n",
      "RangeIndex: 1048575 entries, 0 to 1048574\n",
      "Data columns (total 24 columns):\n",
      " #   Column                                 Non-Null Count    Dtype  \n",
      "---  ------                                 --------------    -----  \n",
      " 0   Area_Service                           1046119 non-null  object \n",
      " 1   Hospital County                        1046119 non-null  object \n",
      " 2   Hospital Id                            1046119 non-null  float64\n",
      " 3   Age                                    1048575 non-null  object \n",
      " 4   Gender                                 1048575 non-null  object \n",
      " 5   Cultural_group                         1048575 non-null  object \n",
      " 6   ethnicity                              1048575 non-null  object \n",
      " 7   Days_spend_hsptl                       1048575 non-null  object \n",
      " 8   Admission_type                         1048575 non-null  object \n",
      " 9   Home or self care,                     1048575 non-null  object \n",
      " 10  ccs_diagnosis_code                     1048575 non-null  int64  \n",
      " 11  ccs_procedure_code                     1048575 non-null  int64  \n",
      " 12  apr_drg_description                    1048575 non-null  object \n",
      " 13  Code_illness                           1048575 non-null  int64  \n",
      " 14  Mortality risk                         1048533 non-null  float64\n",
      " 15  Surg_Description                       1048575 non-null  object \n",
      " 16  Weight_baby                            1048575 non-null  int64  \n",
      " 17  Abortion                               1048575 non-null  object \n",
      " 18  Emergency dept_yes/No                  1048575 non-null  object \n",
      " 19  Tot_charg                              1048575 non-null  float64\n",
      " 20  Tot_cost                               1048575 non-null  float64\n",
      " 21  ratio_of_total_costs_to_total_charges  1048575 non-null  float64\n",
      " 22  Result                                 1048575 non-null  int64  \n",
      " 23  Payment_Typology                       1048575 non-null  int64  \n",
      "dtypes: float64(5), int64(6), object(13)\n",
      "memory usage: 192.0+ MB\n"
     ]
    }
   ],
   "source": [
    "df.info()"
   ]
  },
  {
   "cell_type": "code",
   "execution_count": 201,
   "metadata": {},
   "outputs": [
    {
     "data": {
      "text/plain": [
       "(1048575, 24)"
      ]
     },
     "execution_count": 201,
     "metadata": {},
     "output_type": "execute_result"
    }
   ],
   "source": [
    "df.shape"
   ]
  },
  {
   "cell_type": "markdown",
   "metadata": {},
   "source": [
    "1. Drop Duplicates"
   ]
  },
  {
   "cell_type": "code",
   "execution_count": 202,
   "metadata": {},
   "outputs": [
    {
     "data": {
      "text/html": [
       "<div>\n",
       "<style scoped>\n",
       "    .dataframe tbody tr th:only-of-type {\n",
       "        vertical-align: middle;\n",
       "    }\n",
       "\n",
       "    .dataframe tbody tr th {\n",
       "        vertical-align: top;\n",
       "    }\n",
       "\n",
       "    .dataframe thead th {\n",
       "        text-align: right;\n",
       "    }\n",
       "</style>\n",
       "<table border=\"1\" class=\"dataframe\">\n",
       "  <thead>\n",
       "    <tr style=\"text-align: right;\">\n",
       "      <th></th>\n",
       "      <th>Hospital Id</th>\n",
       "      <th>ccs_diagnosis_code</th>\n",
       "      <th>ccs_procedure_code</th>\n",
       "      <th>Code_illness</th>\n",
       "      <th>Mortality risk</th>\n",
       "      <th>Weight_baby</th>\n",
       "      <th>Tot_charg</th>\n",
       "      <th>Tot_cost</th>\n",
       "      <th>ratio_of_total_costs_to_total_charges</th>\n",
       "      <th>Result</th>\n",
       "      <th>Payment_Typology</th>\n",
       "    </tr>\n",
       "  </thead>\n",
       "  <tbody>\n",
       "    <tr>\n",
       "      <th>count</th>\n",
       "      <td>1041306.0</td>\n",
       "      <td>1043761.0</td>\n",
       "      <td>1043761.0</td>\n",
       "      <td>1043761.0</td>\n",
       "      <td>1043720.0</td>\n",
       "      <td>1043761.0</td>\n",
       "      <td>1043761.0</td>\n",
       "      <td>1043761.0</td>\n",
       "      <td>1043761.0</td>\n",
       "      <td>1043761.0</td>\n",
       "      <td>1043761.0</td>\n",
       "    </tr>\n",
       "    <tr>\n",
       "      <th>mean</th>\n",
       "      <td>652.5</td>\n",
       "      <td>198.6</td>\n",
       "      <td>97.1</td>\n",
       "      <td>2.1</td>\n",
       "      <td>1.8</td>\n",
       "      <td>282.0</td>\n",
       "      <td>27190.1</td>\n",
       "      <td>10501.2</td>\n",
       "      <td>0.5</td>\n",
       "      <td>0.7</td>\n",
       "      <td>1.9</td>\n",
       "    </tr>\n",
       "    <tr>\n",
       "      <th>std</th>\n",
       "      <td>669.6</td>\n",
       "      <td>165.5</td>\n",
       "      <td>87.3</td>\n",
       "      <td>0.9</td>\n",
       "      <td>1.0</td>\n",
       "      <td>932.3</td>\n",
       "      <td>54976.5</td>\n",
       "      <td>22345.9</td>\n",
       "      <td>0.8</td>\n",
       "      <td>0.4</td>\n",
       "      <td>0.8</td>\n",
       "    </tr>\n",
       "    <tr>\n",
       "      <th>min</th>\n",
       "      <td>1.0</td>\n",
       "      <td>1.0</td>\n",
       "      <td>0.0</td>\n",
       "      <td>0.0</td>\n",
       "      <td>1.0</td>\n",
       "      <td>0.0</td>\n",
       "      <td>0.3</td>\n",
       "      <td>0.1</td>\n",
       "      <td>0.0</td>\n",
       "      <td>0.0</td>\n",
       "      <td>1.0</td>\n",
       "    </tr>\n",
       "    <tr>\n",
       "      <th>25%</th>\n",
       "      <td>213.0</td>\n",
       "      <td>108.0</td>\n",
       "      <td>0.0</td>\n",
       "      <td>1.0</td>\n",
       "      <td>1.0</td>\n",
       "      <td>0.0</td>\n",
       "      <td>7473.6</td>\n",
       "      <td>3262.2</td>\n",
       "      <td>0.3</td>\n",
       "      <td>0.0</td>\n",
       "      <td>1.0</td>\n",
       "    </tr>\n",
       "    <tr>\n",
       "      <th>50%</th>\n",
       "      <td>630.0</td>\n",
       "      <td>159.0</td>\n",
       "      <td>88.0</td>\n",
       "      <td>2.0</td>\n",
       "      <td>1.0</td>\n",
       "      <td>0.0</td>\n",
       "      <td>14669.2</td>\n",
       "      <td>5955.4</td>\n",
       "      <td>0.4</td>\n",
       "      <td>1.0</td>\n",
       "      <td>2.0</td>\n",
       "    </tr>\n",
       "    <tr>\n",
       "      <th>75%</th>\n",
       "      <td>977.0</td>\n",
       "      <td>218.0</td>\n",
       "      <td>172.0</td>\n",
       "      <td>3.0</td>\n",
       "      <td>3.0</td>\n",
       "      <td>0.0</td>\n",
       "      <td>29242.3</td>\n",
       "      <td>11377.4</td>\n",
       "      <td>0.5</td>\n",
       "      <td>1.0</td>\n",
       "      <td>3.0</td>\n",
       "    </tr>\n",
       "    <tr>\n",
       "      <th>max</th>\n",
       "      <td>9250.0</td>\n",
       "      <td>670.0</td>\n",
       "      <td>231.0</td>\n",
       "      <td>4.0</td>\n",
       "      <td>4.0</td>\n",
       "      <td>9000.0</td>\n",
       "      <td>6196973.5</td>\n",
       "      <td>2562477.7</td>\n",
       "      <td>157.6</td>\n",
       "      <td>1.0</td>\n",
       "      <td>5.0</td>\n",
       "    </tr>\n",
       "  </tbody>\n",
       "</table>\n",
       "</div>"
      ],
      "text/plain": [
       "      Hospital Id ccs_diagnosis_code ccs_procedure_code Code_illness  \\\n",
       "count   1041306.0          1043761.0          1043761.0    1043761.0   \n",
       "mean        652.5              198.6               97.1          2.1   \n",
       "std         669.6              165.5               87.3          0.9   \n",
       "min           1.0                1.0                0.0          0.0   \n",
       "25%         213.0              108.0                0.0          1.0   \n",
       "50%         630.0              159.0               88.0          2.0   \n",
       "75%         977.0              218.0              172.0          3.0   \n",
       "max        9250.0              670.0              231.0          4.0   \n",
       "\n",
       "      Mortality risk Weight_baby  Tot_charg   Tot_cost  \\\n",
       "count      1043720.0   1043761.0  1043761.0  1043761.0   \n",
       "mean             1.8       282.0    27190.1    10501.2   \n",
       "std              1.0       932.3    54976.5    22345.9   \n",
       "min              1.0         0.0        0.3        0.1   \n",
       "25%              1.0         0.0     7473.6     3262.2   \n",
       "50%              1.0         0.0    14669.2     5955.4   \n",
       "75%              3.0         0.0    29242.3    11377.4   \n",
       "max              4.0      9000.0  6196973.5  2562477.7   \n",
       "\n",
       "      ratio_of_total_costs_to_total_charges     Result Payment_Typology  \n",
       "count                             1043761.0  1043761.0        1043761.0  \n",
       "mean                                    0.5        0.7              1.9  \n",
       "std                                     0.8        0.4              0.8  \n",
       "min                                     0.0        0.0              1.0  \n",
       "25%                                     0.3        0.0              1.0  \n",
       "50%                                     0.4        1.0              2.0  \n",
       "75%                                     0.5        1.0              3.0  \n",
       "max                                   157.6        1.0              5.0  "
      ]
     },
     "execution_count": 202,
     "metadata": {},
     "output_type": "execute_result"
    }
   ],
   "source": [
    "df.drop_duplicates(inplace=True,ignore_index=True)\n",
    "df.describe().apply(lambda s: s.apply('{0:.1f}'.format))"
   ]
  },
  {
   "cell_type": "markdown",
   "metadata": {},
   "source": [
    "2. Drop NA"
   ]
  },
  {
   "cell_type": "code",
   "execution_count": 203,
   "metadata": {},
   "outputs": [
    {
     "data": {
      "text/plain": [
       "Area_Service                             False\n",
       "Hospital County                          False\n",
       "Hospital Id                              False\n",
       "Age                                      False\n",
       "Gender                                   False\n",
       "Cultural_group                           False\n",
       "ethnicity                                False\n",
       "Days_spend_hsptl                         False\n",
       "Admission_type                           False\n",
       "Home or self care,                       False\n",
       "ccs_diagnosis_code                       False\n",
       "ccs_procedure_code                       False\n",
       "apr_drg_description                      False\n",
       "Code_illness                             False\n",
       "Mortality risk                           False\n",
       "Surg_Description                         False\n",
       "Weight_baby                              False\n",
       "Abortion                                 False\n",
       "Emergency dept_yes/No                    False\n",
       "Tot_charg                                False\n",
       "Tot_cost                                 False\n",
       "ratio_of_total_costs_to_total_charges    False\n",
       "Result                                   False\n",
       "Payment_Typology                         False\n",
       "dtype: bool"
      ]
     },
     "execution_count": 203,
     "metadata": {},
     "output_type": "execute_result"
    }
   ],
   "source": [
    "df.dropna(inplace=True)\n",
    "df.isnull().any()"
   ]
  },
  {
   "cell_type": "markdown",
   "metadata": {},
   "source": [
    "3. Drop Columns"
   ]
  },
  {
   "cell_type": "code",
   "execution_count": 204,
   "metadata": {},
   "outputs": [],
   "source": [
    "df.drop(['Area_Service','Hospital County','Hospital Id','Gender','Cultural_group',\"ethnicity\",\"apr_drg_description\",\"Weight_baby\",'Abortion','Tot_charg','Tot_cost'], axis=1, inplace=True)\n",
    "#,'Tot_charg','Tot_cost'"
   ]
  },
  {
   "cell_type": "code",
   "execution_count": 205,
   "metadata": {},
   "outputs": [
    {
     "name": "stdout",
     "output_type": "stream",
     "text": [
      "<class 'pandas.core.frame.DataFrame'>\n",
      "Int64Index: 1041265 entries, 0 to 1043760\n",
      "Data columns (total 13 columns):\n",
      " #   Column                                 Non-Null Count    Dtype  \n",
      "---  ------                                 --------------    -----  \n",
      " 0   Age                                    1041265 non-null  object \n",
      " 1   Days_spend_hsptl                       1041265 non-null  object \n",
      " 2   Admission_type                         1041265 non-null  object \n",
      " 3   Home or self care,                     1041265 non-null  object \n",
      " 4   ccs_diagnosis_code                     1041265 non-null  int64  \n",
      " 5   ccs_procedure_code                     1041265 non-null  int64  \n",
      " 6   Code_illness                           1041265 non-null  int64  \n",
      " 7   Mortality risk                         1041265 non-null  float64\n",
      " 8   Surg_Description                       1041265 non-null  object \n",
      " 9   Emergency dept_yes/No                  1041265 non-null  object \n",
      " 10  ratio_of_total_costs_to_total_charges  1041265 non-null  float64\n",
      " 11  Result                                 1041265 non-null  int64  \n",
      " 12  Payment_Typology                       1041265 non-null  int64  \n",
      "dtypes: float64(2), int64(5), object(6)\n",
      "memory usage: 111.2+ MB\n"
     ]
    }
   ],
   "source": [
    "df.info()"
   ]
  },
  {
   "cell_type": "markdown",
   "metadata": {},
   "source": [
    "4. Converting Columns to Right Datatypes"
   ]
  },
  {
   "cell_type": "code",
   "execution_count": 206,
   "metadata": {},
   "outputs": [
    {
     "name": "stdout",
     "output_type": "stream",
     "text": [
      "<class 'pandas.core.frame.DataFrame'>\n",
      "Int64Index: 1041265 entries, 0 to 1043760\n",
      "Data columns (total 13 columns):\n",
      " #   Column                                 Non-Null Count    Dtype  \n",
      "---  ------                                 --------------    -----  \n",
      " 0   Age                                    1041265 non-null  object \n",
      " 1   Days_spend_hsptl                       1041265 non-null  int32  \n",
      " 2   Admission_type                         1041265 non-null  object \n",
      " 3   Home or self care,                     1041265 non-null  object \n",
      " 4   ccs_diagnosis_code                     1041265 non-null  int64  \n",
      " 5   ccs_procedure_code                     1041265 non-null  int64  \n",
      " 6   Code_illness                           1041265 non-null  int64  \n",
      " 7   Mortality risk                         1041265 non-null  int32  \n",
      " 8   Surg_Description                       1041265 non-null  object \n",
      " 9   Emergency dept_yes/No                  1041265 non-null  object \n",
      " 10  ratio_of_total_costs_to_total_charges  1041265 non-null  float64\n",
      " 11  Result                                 1041265 non-null  int64  \n",
      " 12  Payment_Typology                       1041265 non-null  int64  \n",
      "dtypes: float64(1), int32(2), int64(5), object(5)\n",
      "memory usage: 103.3+ MB\n"
     ]
    }
   ],
   "source": [
    "df.replace({'Days_spend_hsptl': '120 +'}, 120, inplace=True)\n",
    "df['Days_spend_hsptl'] = df['Days_spend_hsptl'].astype(int)\n",
    "df['Mortality risk'] = df['Mortality risk'].astype(int)\n",
    "df.info()"
   ]
  },
  {
   "cell_type": "markdown",
   "metadata": {},
   "source": [
    "5. Lable Encoding"
   ]
  },
  {
   "cell_type": "code",
   "execution_count": 207,
   "metadata": {},
   "outputs": [],
   "source": [
    "from sklearn.preprocessing import LabelBinarizer, LabelEncoder\n",
    "label = LabelEncoder()\n",
    "label_binizer =LabelBinarizer()"
   ]
  },
  {
   "cell_type": "code",
   "execution_count": 208,
   "metadata": {},
   "outputs": [
    {
     "data": {
      "text/plain": [
       "array(['Age', 'Days_spend_hsptl', 'Admission_type', 'Home_or_self_care,',\n",
       "       'ccs_diagnosis_code', 'ccs_procedure_code', 'Code_illness',\n",
       "       'Mortality_risk', 'Surg_Description', 'Emergency_dept_yes_No',\n",
       "       'ratio_of_total_costs_to_total_charges', 'Result',\n",
       "       'Payment_Typology'], dtype=object)"
      ]
     },
     "execution_count": 208,
     "metadata": {},
     "output_type": "execute_result"
    }
   ],
   "source": [
    "# removing spaces in dataset column names..\n",
    "\n",
    "df.columns = df.columns.to_series().apply(lambda x: x.replace(' ', '_')).to_list()\n",
    "df.columns = df.columns.to_series().apply(lambda x: x.replace('/', '_')).to_list()\n",
    "df.columns.values"
   ]
  },
  {
   "cell_type": "code",
   "execution_count": 209,
   "metadata": {},
   "outputs": [],
   "source": [
    "df.rename(columns={'Home_or_self_care,': 'Home_or_self_care'}, inplace=True)"
   ]
  },
  {
   "cell_type": "code",
   "execution_count": 210,
   "metadata": {},
   "outputs": [
    {
     "data": {
      "text/html": [
       "<div>\n",
       "<style scoped>\n",
       "    .dataframe tbody tr th:only-of-type {\n",
       "        vertical-align: middle;\n",
       "    }\n",
       "\n",
       "    .dataframe tbody tr th {\n",
       "        vertical-align: top;\n",
       "    }\n",
       "\n",
       "    .dataframe thead th {\n",
       "        text-align: right;\n",
       "    }\n",
       "</style>\n",
       "<table border=\"1\" class=\"dataframe\">\n",
       "  <thead>\n",
       "    <tr style=\"text-align: right;\">\n",
       "      <th></th>\n",
       "      <th>Age</th>\n",
       "      <th>Days_spend_hsptl</th>\n",
       "      <th>Admission_type</th>\n",
       "      <th>Home_or_self_care</th>\n",
       "      <th>ccs_diagnosis_code</th>\n",
       "      <th>ccs_procedure_code</th>\n",
       "      <th>Code_illness</th>\n",
       "      <th>Mortality_risk</th>\n",
       "      <th>Surg_Description</th>\n",
       "      <th>Emergency_dept_yes_No</th>\n",
       "      <th>ratio_of_total_costs_to_total_charges</th>\n",
       "      <th>Result</th>\n",
       "      <th>Payment_Typology</th>\n",
       "    </tr>\n",
       "  </thead>\n",
       "  <tbody>\n",
       "    <tr>\n",
       "      <th>0</th>\n",
       "      <td>30 to 49</td>\n",
       "      <td>4</td>\n",
       "      <td>Elective</td>\n",
       "      <td>Home or Self Care</td>\n",
       "      <td>122</td>\n",
       "      <td>0</td>\n",
       "      <td>1</td>\n",
       "      <td>1</td>\n",
       "      <td>Medical</td>\n",
       "      <td>Y</td>\n",
       "      <td>1.012798</td>\n",
       "      <td>1</td>\n",
       "      <td>1</td>\n",
       "    </tr>\n",
       "    <tr>\n",
       "      <th>1</th>\n",
       "      <td>70 or Older</td>\n",
       "      <td>4</td>\n",
       "      <td>Urgent</td>\n",
       "      <td>Short-term Hospital</td>\n",
       "      <td>197</td>\n",
       "      <td>0</td>\n",
       "      <td>3</td>\n",
       "      <td>2</td>\n",
       "      <td>Medical</td>\n",
       "      <td>Y</td>\n",
       "      <td>1.079365</td>\n",
       "      <td>1</td>\n",
       "      <td>1</td>\n",
       "    </tr>\n",
       "    <tr>\n",
       "      <th>2</th>\n",
       "      <td>30 to 49</td>\n",
       "      <td>3</td>\n",
       "      <td>Urgent</td>\n",
       "      <td>Home or Self Care</td>\n",
       "      <td>122</td>\n",
       "      <td>0</td>\n",
       "      <td>1</td>\n",
       "      <td>1</td>\n",
       "      <td>Medical</td>\n",
       "      <td>Y</td>\n",
       "      <td>1.059379</td>\n",
       "      <td>1</td>\n",
       "      <td>1</td>\n",
       "    </tr>\n",
       "    <tr>\n",
       "      <th>3</th>\n",
       "      <td>0 to 17</td>\n",
       "      <td>1</td>\n",
       "      <td>Urgent</td>\n",
       "      <td>Home or Self Care</td>\n",
       "      <td>122</td>\n",
       "      <td>0</td>\n",
       "      <td>1</td>\n",
       "      <td>1</td>\n",
       "      <td>Medical</td>\n",
       "      <td>Y</td>\n",
       "      <td>1.484167</td>\n",
       "      <td>0</td>\n",
       "      <td>1</td>\n",
       "    </tr>\n",
       "    <tr>\n",
       "      <th>4</th>\n",
       "      <td>70 or Older</td>\n",
       "      <td>3</td>\n",
       "      <td>Elective</td>\n",
       "      <td>Home or Self Care</td>\n",
       "      <td>122</td>\n",
       "      <td>0</td>\n",
       "      <td>2</td>\n",
       "      <td>3</td>\n",
       "      <td>Medical</td>\n",
       "      <td>Y</td>\n",
       "      <td>0.986161</td>\n",
       "      <td>1</td>\n",
       "      <td>1</td>\n",
       "    </tr>\n",
       "    <tr>\n",
       "      <th>5</th>\n",
       "      <td>0 to 17</td>\n",
       "      <td>1</td>\n",
       "      <td>Elective</td>\n",
       "      <td>Home or Self Care</td>\n",
       "      <td>142</td>\n",
       "      <td>0</td>\n",
       "      <td>1</td>\n",
       "      <td>1</td>\n",
       "      <td>Medical</td>\n",
       "      <td>Y</td>\n",
       "      <td>1.384794</td>\n",
       "      <td>1</td>\n",
       "      <td>1</td>\n",
       "    </tr>\n",
       "    <tr>\n",
       "      <th>6</th>\n",
       "      <td>18 to 29</td>\n",
       "      <td>3</td>\n",
       "      <td>Elective</td>\n",
       "      <td>Home or Self Care</td>\n",
       "      <td>122</td>\n",
       "      <td>0</td>\n",
       "      <td>2</td>\n",
       "      <td>1</td>\n",
       "      <td>Medical</td>\n",
       "      <td>Y</td>\n",
       "      <td>1.066565</td>\n",
       "      <td>1</td>\n",
       "      <td>1</td>\n",
       "    </tr>\n",
       "    <tr>\n",
       "      <th>7</th>\n",
       "      <td>70 or Older</td>\n",
       "      <td>1</td>\n",
       "      <td>Elective</td>\n",
       "      <td>Home or Self Care</td>\n",
       "      <td>154</td>\n",
       "      <td>202</td>\n",
       "      <td>2</td>\n",
       "      <td>3</td>\n",
       "      <td>Medical</td>\n",
       "      <td>Y</td>\n",
       "      <td>1.371150</td>\n",
       "      <td>1</td>\n",
       "      <td>1</td>\n",
       "    </tr>\n",
       "    <tr>\n",
       "      <th>8</th>\n",
       "      <td>0 to 17</td>\n",
       "      <td>1</td>\n",
       "      <td>Elective</td>\n",
       "      <td>Home or Self Care</td>\n",
       "      <td>125</td>\n",
       "      <td>0</td>\n",
       "      <td>1</td>\n",
       "      <td>1</td>\n",
       "      <td>Medical</td>\n",
       "      <td>N</td>\n",
       "      <td>1.128782</td>\n",
       "      <td>1</td>\n",
       "      <td>1</td>\n",
       "    </tr>\n",
       "    <tr>\n",
       "      <th>9</th>\n",
       "      <td>50 to 69</td>\n",
       "      <td>2</td>\n",
       "      <td>Elective</td>\n",
       "      <td>Home or Self Care</td>\n",
       "      <td>122</td>\n",
       "      <td>0</td>\n",
       "      <td>2</td>\n",
       "      <td>1</td>\n",
       "      <td>Medical</td>\n",
       "      <td>Y</td>\n",
       "      <td>1.090095</td>\n",
       "      <td>0</td>\n",
       "      <td>1</td>\n",
       "    </tr>\n",
       "  </tbody>\n",
       "</table>\n",
       "</div>"
      ],
      "text/plain": [
       "           Age  Days_spend_hsptl Admission_type    Home_or_self_care  \\\n",
       "0     30 to 49                 4       Elective    Home or Self Care   \n",
       "1  70 or Older                 4         Urgent  Short-term Hospital   \n",
       "2     30 to 49                 3         Urgent    Home or Self Care   \n",
       "3      0 to 17                 1         Urgent    Home or Self Care   \n",
       "4  70 or Older                 3       Elective    Home or Self Care   \n",
       "5      0 to 17                 1       Elective    Home or Self Care   \n",
       "6     18 to 29                 3       Elective    Home or Self Care   \n",
       "7  70 or Older                 1       Elective    Home or Self Care   \n",
       "8      0 to 17                 1       Elective    Home or Self Care   \n",
       "9     50 to 69                 2       Elective    Home or Self Care   \n",
       "\n",
       "   ccs_diagnosis_code  ccs_procedure_code  Code_illness  Mortality_risk  \\\n",
       "0                 122                   0             1               1   \n",
       "1                 197                   0             3               2   \n",
       "2                 122                   0             1               1   \n",
       "3                 122                   0             1               1   \n",
       "4                 122                   0             2               3   \n",
       "5                 142                   0             1               1   \n",
       "6                 122                   0             2               1   \n",
       "7                 154                 202             2               3   \n",
       "8                 125                   0             1               1   \n",
       "9                 122                   0             2               1   \n",
       "\n",
       "  Surg_Description Emergency_dept_yes_No  \\\n",
       "0          Medical                     Y   \n",
       "1          Medical                     Y   \n",
       "2          Medical                     Y   \n",
       "3          Medical                     Y   \n",
       "4          Medical                     Y   \n",
       "5          Medical                     Y   \n",
       "6          Medical                     Y   \n",
       "7          Medical                     Y   \n",
       "8          Medical                     N   \n",
       "9          Medical                     Y   \n",
       "\n",
       "   ratio_of_total_costs_to_total_charges  Result  Payment_Typology  \n",
       "0                               1.012798       1                 1  \n",
       "1                               1.079365       1                 1  \n",
       "2                               1.059379       1                 1  \n",
       "3                               1.484167       0                 1  \n",
       "4                               0.986161       1                 1  \n",
       "5                               1.384794       1                 1  \n",
       "6                               1.066565       1                 1  \n",
       "7                               1.371150       1                 1  \n",
       "8                               1.128782       1                 1  \n",
       "9                               1.090095       0                 1  "
      ]
     },
     "execution_count": 210,
     "metadata": {},
     "output_type": "execute_result"
    }
   ],
   "source": [
    "df.head(10)"
   ]
  },
  {
   "cell_type": "code",
   "execution_count": 211,
   "metadata": {},
   "outputs": [],
   "source": [
    "df['Age']  = labelencoder.fit_transform(df['Age'])\n",
    "df['Admission_type'] = labelencoder.fit_transform(df['Admission_type'])\n",
    "df['Home_or_self_care'] = labelencoder.fit_transform(df['Home_or_self_care'])"
   ]
  },
  {
   "cell_type": "code",
   "execution_count": 212,
   "metadata": {},
   "outputs": [],
   "source": [
    "df['Surg_Description'] = label_binizer.fit_transform(df['Surg_Description'])\n",
    "df['Emergency_dept_yes_No'] = label_binizer.fit_transform(df['Emergency_dept_yes_No'])"
   ]
  },
  {
   "cell_type": "code",
   "execution_count": 213,
   "metadata": {},
   "outputs": [],
   "source": [
    "label_Age = label.fit(df.Age)\n",
    "label_Admission_type = label.fit(df.Admission_type)\n",
    "label_Home_or_self_care = label.fit(df.Home_or_self_care)"
   ]
  },
  {
   "cell_type": "code",
   "execution_count": 214,
   "metadata": {},
   "outputs": [],
   "source": [
    "one_hot_Surg_Description = label_binizer.fit(df.Surg_Description)\n",
    "one_hot_Emergency_dept_yes_No = label_binizer.fit(df.Emergency_dept_yes_No)"
   ]
  },
  {
   "cell_type": "code",
   "execution_count": 215,
   "metadata": {},
   "outputs": [],
   "source": [
    "label_encoder_list = [label_Age, label_Admission_type,\n",
    "                label_Home_or_self_care]\n",
    "\n",
    "one_hot_coder_list = [one_hot_Surg_Description, one_hot_Emergency_dept_yes_No]"
   ]
  },
  {
   "cell_type": "markdown",
   "metadata": {},
   "source": [
    "# pickling encoding object & columns for deployment point of view..."
   ]
  },
  {
   "cell_type": "code",
   "execution_count": 216,
   "metadata": {},
   "outputs": [],
   "source": [
    "from joblib import dump, load"
   ]
  },
  {
   "cell_type": "code",
   "execution_count": 217,
   "metadata": {},
   "outputs": [
    {
     "data": {
      "text/plain": [
       "['label_encoder_list.joblib']"
      ]
     },
     "execution_count": 217,
     "metadata": {},
     "output_type": "execute_result"
    }
   ],
   "source": [
    "dump(label_encoder_list, 'label_encoder_list.joblib')"
   ]
  },
  {
   "cell_type": "code",
   "execution_count": 218,
   "metadata": {},
   "outputs": [
    {
     "data": {
      "text/plain": [
       "['one_hot_coder_list.joblib']"
      ]
     },
     "execution_count": 218,
     "metadata": {},
     "output_type": "execute_result"
    }
   ],
   "source": [
    "dump(one_hot_coder_list, 'one_hot_coder_list.joblib')"
   ]
  },
  {
   "cell_type": "code",
   "execution_count": 219,
   "metadata": {},
   "outputs": [],
   "source": [
    "label_to_column = ['Age', 'Admission_type', 'Home_or_self_care']\n",
    "\n",
    "one_hot_column = ['Surg_Description', 'Emergency_dept_yes_No']"
   ]
  },
  {
   "cell_type": "code",
   "execution_count": 220,
   "metadata": {},
   "outputs": [
    {
     "data": {
      "text/plain": [
       "['label_to_column.joblib']"
      ]
     },
     "execution_count": 220,
     "metadata": {},
     "output_type": "execute_result"
    }
   ],
   "source": [
    "dump(label_to_column, 'label_to_column.joblib')"
   ]
  },
  {
   "cell_type": "code",
   "execution_count": 221,
   "metadata": {},
   "outputs": [
    {
     "data": {
      "text/plain": [
       "['one_hot_column.joblib']"
      ]
     },
     "execution_count": 221,
     "metadata": {},
     "output_type": "execute_result"
    }
   ],
   "source": [
    "dump(one_hot_column, 'one_hot_column.joblib')"
   ]
  },
  {
   "cell_type": "markdown",
   "metadata": {},
   "source": [
    "#applying label encoding on columns..also this below cells can be used in deployment as well"
   ]
  },
  {
   "cell_type": "code",
   "execution_count": 222,
   "metadata": {},
   "outputs": [],
   "source": [
    "j = 0\n",
    "for i in label_to_column:\n",
    "    df[i] = label_encoder_list[j].fit_transform(df[i])\n",
    "    j =+1"
   ]
  },
  {
   "cell_type": "markdown",
   "metadata": {},
   "source": [
    "#applying one hot encoding on columns..also this below cells can be used in deployment as well"
   ]
  },
  {
   "cell_type": "code",
   "execution_count": 223,
   "metadata": {},
   "outputs": [],
   "source": [
    "k = 0\n",
    "for i in one_hot_column:\n",
    "    df[i] = one_hot_coder_list[k].fit_transform(df[i])\n",
    "    k =+1"
   ]
  },
  {
   "cell_type": "code",
   "execution_count": 224,
   "metadata": {},
   "outputs": [
    {
     "data": {
      "text/html": [
       "<div>\n",
       "<style scoped>\n",
       "    .dataframe tbody tr th:only-of-type {\n",
       "        vertical-align: middle;\n",
       "    }\n",
       "\n",
       "    .dataframe tbody tr th {\n",
       "        vertical-align: top;\n",
       "    }\n",
       "\n",
       "    .dataframe thead th {\n",
       "        text-align: right;\n",
       "    }\n",
       "</style>\n",
       "<table border=\"1\" class=\"dataframe\">\n",
       "  <thead>\n",
       "    <tr style=\"text-align: right;\">\n",
       "      <th></th>\n",
       "      <th>Age</th>\n",
       "      <th>Days_spend_hsptl</th>\n",
       "      <th>Admission_type</th>\n",
       "      <th>Home_or_self_care</th>\n",
       "      <th>ccs_diagnosis_code</th>\n",
       "      <th>ccs_procedure_code</th>\n",
       "      <th>Code_illness</th>\n",
       "      <th>Mortality_risk</th>\n",
       "      <th>Surg_Description</th>\n",
       "      <th>Emergency_dept_yes_No</th>\n",
       "      <th>ratio_of_total_costs_to_total_charges</th>\n",
       "      <th>Result</th>\n",
       "      <th>Payment_Typology</th>\n",
       "    </tr>\n",
       "  </thead>\n",
       "  <tbody>\n",
       "    <tr>\n",
       "      <th>0</th>\n",
       "      <td>2</td>\n",
       "      <td>4</td>\n",
       "      <td>0</td>\n",
       "      <td>7</td>\n",
       "      <td>122</td>\n",
       "      <td>0</td>\n",
       "      <td>1</td>\n",
       "      <td>1</td>\n",
       "      <td>0</td>\n",
       "      <td>1</td>\n",
       "      <td>1.012798</td>\n",
       "      <td>1</td>\n",
       "      <td>1</td>\n",
       "    </tr>\n",
       "    <tr>\n",
       "      <th>1</th>\n",
       "      <td>4</td>\n",
       "      <td>4</td>\n",
       "      <td>5</td>\n",
       "      <td>17</td>\n",
       "      <td>197</td>\n",
       "      <td>0</td>\n",
       "      <td>3</td>\n",
       "      <td>2</td>\n",
       "      <td>0</td>\n",
       "      <td>1</td>\n",
       "      <td>1.079365</td>\n",
       "      <td>1</td>\n",
       "      <td>1</td>\n",
       "    </tr>\n",
       "  </tbody>\n",
       "</table>\n",
       "</div>"
      ],
      "text/plain": [
       "   Age  Days_spend_hsptl  Admission_type  Home_or_self_care  \\\n",
       "0    2                 4               0                  7   \n",
       "1    4                 4               5                 17   \n",
       "\n",
       "   ccs_diagnosis_code  ccs_procedure_code  Code_illness  Mortality_risk  \\\n",
       "0                 122                   0             1               1   \n",
       "1                 197                   0             3               2   \n",
       "\n",
       "   Surg_Description  Emergency_dept_yes_No  \\\n",
       "0                 0                      1   \n",
       "1                 0                      1   \n",
       "\n",
       "   ratio_of_total_costs_to_total_charges  Result  Payment_Typology  \n",
       "0                               1.012798       1                 1  \n",
       "1                               1.079365       1                 1  "
      ]
     },
     "execution_count": 224,
     "metadata": {},
     "output_type": "execute_result"
    }
   ],
   "source": [
    "df.head(2)"
   ]
  },
  {
   "cell_type": "markdown",
   "metadata": {},
   "source": [
    "Data Imbalance..."
   ]
  },
  {
   "cell_type": "code",
   "execution_count": 225,
   "metadata": {},
   "outputs": [
    {
     "data": {
      "image/png": "[encoded data removed]",
      "text/plain": [
       "<Figure size 432x288 with 1 Axes>"
      ]
     },
     "metadata": {
      "needs_background": "light"
     },
     "output_type": "display_data"
    }
   ],
   "source": [
    "sns.countplot(df.Result)\n",
    "plt.show()"
   ]
  },
  {
   "cell_type": "markdown",
   "metadata": {},
   "source": [
    "# Anomaly Detection"
   ]
  },
  {
   "cell_type": "code",
   "execution_count": 228,
   "metadata": {},
   "outputs": [],
   "source": [
    "#from sklearn.ensemble import IsolationForest\n",
    "#clf = IsolationForest(random_state=42,contamination=0.1)\n",
    "#clf.fit(X,Y)\n",
    "#y_outliers = clf.predict(X)\n",
    "#df['y_outliers'] = y_outliers\n",
    "#df['y_train'] = Y\n",
    "#df[df['y_outliers']==-1]"
   ]
  },
  {
   "cell_type": "code",
   "execution_count": 229,
   "metadata": {},
   "outputs": [],
   "source": [
    "#df.drop(df.loc[df['y_outliers']==-1].index, inplace=True)"
   ]
  },
  {
   "cell_type": "code",
   "execution_count": 230,
   "metadata": {},
   "outputs": [],
   "source": [
    "#df.head(2)"
   ]
  },
  {
   "cell_type": "code",
   "execution_count": 231,
   "metadata": {},
   "outputs": [],
   "source": [
    "#df = df.drop(columns=['y_outliers','y_train'])\n",
    "#df = df[['Age','Days_spend_hsptl','Admission_type','Home_or_self_care','ccs_diagnosis_code','ccs_procedure_code','Code_illness','Mortality_risk','Surg_Description','Emergency_dept_yes_No','ratio_of_total_costs_to_total_charges','Payment_Typology','Result']]"
   ]
  },
  {
   "cell_type": "code",
   "execution_count": 232,
   "metadata": {},
   "outputs": [],
   "source": [
    "#df.info()"
   ]
  },
  {
   "cell_type": "markdown",
   "metadata": {},
   "source": [
    "# Step 3: Model By different strategy...\n"
   ]
  },
  {
   "cell_type": "markdown",
   "metadata": {},
   "source": [
    "Performing on sample datasets..."
   ]
  },
  {
   "cell_type": "code",
   "execution_count": 233,
   "metadata": {},
   "outputs": [],
   "source": [
    "# taking 5% sample data from whole dataset\n",
    "\n",
    "sample_data = df.sample(frac=0.02)"
   ]
  },
  {
   "cell_type": "code",
   "execution_count": 234,
   "metadata": {},
   "outputs": [
    {
     "data": {
      "text/plain": [
       "1    15494\n",
       "0     5331\n",
       "Name: Result, dtype: int64"
      ]
     },
     "execution_count": 234,
     "metadata": {},
     "output_type": "execute_result"
    }
   ],
   "source": [
    "# checking for result column unique values counts..\n",
    "\n",
    "sample_data.Result.value_counts()"
   ]
  },
  {
   "cell_type": "code",
   "execution_count": 235,
   "metadata": {},
   "outputs": [
    {
     "data": {
      "image/png": "[encoded data removed]",
      "text/plain": [
       "<Figure size 432x288 with 1 Axes>"
      ]
     },
     "metadata": {
      "needs_background": "light"
     },
     "output_type": "display_data"
    }
   ],
   "source": [
    "sns.countplot(sample_data.Result)\n",
    "plt.show()"
   ]
  },
  {
   "cell_type": "markdown",
   "metadata": {},
   "source": [
    "# 3.1 Upsampling before splitting the data into train & test¶"
   ]
  },
  {
   "cell_type": "code",
   "execution_count": 236,
   "metadata": {},
   "outputs": [],
   "source": [
    "# seperating '0', & '1' label \n",
    "\n",
    "sample_minority = sample_data.loc[sample_data['Result']==0]\n",
    "sample_majority = sample_data.loc[sample_data['Result']==1]"
   ]
  },
  {
   "cell_type": "code",
   "execution_count": 237,
   "metadata": {},
   "outputs": [],
   "source": [
    "# doing upsampling of minority classes... taking 100 to 80% ratio\n",
    "\n",
    "# sample_majority.shape[0]*0.80\n",
    "\n",
    "from sklearn.utils import resample\n",
    "sample_data_minority_upsampled = resample(sample_minority , replace=True, n_samples=12000, random_state=42)"
   ]
  },
  {
   "cell_type": "code",
   "execution_count": 238,
   "metadata": {},
   "outputs": [],
   "source": [
    "# combining upsampled data to majority class data...\n",
    "\n",
    "sample_data_upsampled = pd.concat([sample_majority, sample_data_minority_upsampled ], ignore_index=True)"
   ]
  },
  {
   "cell_type": "code",
   "execution_count": 239,
   "metadata": {},
   "outputs": [],
   "source": [
    "# seperating indepedent & depedent variabales..\n",
    "\n",
    "x = sample_data_upsampled.drop(['Result'],axis=1).values\n",
    "y = sample_data_upsampled.Result.values"
   ]
  },
  {
   "cell_type": "code",
   "execution_count": 240,
   "metadata": {},
   "outputs": [],
   "source": [
    "x_train, x_test, y_train, y_test = train_test_split(x, y, test_size=0.2, stratify = y, random_state=42)"
   ]
  },
  {
   "cell_type": "code",
   "execution_count": 241,
   "metadata": {},
   "outputs": [],
   "source": [
    "# finding best ccp_alph tree prunning parameter. So that it will avoid overfit issue\n",
    "\n",
    "def find_alpha(x_train, x_test, y_train, y_test):\n",
    "    \n",
    "    import matplotlib.pyplot as plt\n",
    "    from sklearn.ensemble import RandomForestClassifier\n",
    "    \n",
    "    \n",
    "    ccp_alphas = np.arange(0.000, 0.040, 0.002)\n",
    "    clfs = []\n",
    "    for ccp_alpha in ccp_alphas:\n",
    "        clf = RandomForestClassifier(n_estimators=15, random_state=42, ccp_alpha=ccp_alpha)\n",
    "        clf.fit(x_train, y_train)\n",
    "        clfs.append(clf)\n",
    "\n",
    "    train_scores = [clf.score(x_train, y_train) for clf in clfs]\n",
    "    test_scores = [clf.score(x_test, y_test) for clf in clfs]\n",
    "\n",
    "    fig, ax = plt.subplots(figsize=(15,6))\n",
    "    ax.set_xlabel(\"alpha\")\n",
    "    ax.set_ylabel(\"accuracy\")\n",
    "    ax.set_title(\"Accuracy vs alpha for training and testing sets\")\n",
    "    ax.plot(ccp_alphas, train_scores, marker='o', label=\"train\",drawstyle=\"steps-post\")\n",
    "    ax.plot(ccp_alphas, test_scores, marker='o', label=\"test\",drawstyle=\"steps-post\")\n",
    "    ax.set_xticks(np.arange(0.000,0.040, 0.002))\n",
    "    ax.set_yticks(np.arange(0.70,1.01, 0.1))\n",
    "    ax.legend()\n",
    "    plt.grid(True)\n",
    "    plt.rcParams['xtick.labelsize']=12\n",
    "    plt.rcParams['ytick.labelsize']=12\n",
    "    plt.show()"
   ]
  },
  {
   "cell_type": "code",
   "execution_count": 242,
   "metadata": {},
   "outputs": [
    {
     "data": {
      "image/png": "[encoded data removed]",
      "text/plain": [
       "<Figure size 1080x432 with 1 Axes>"
      ]
     },
     "metadata": {
      "needs_background": "light"
     },
     "output_type": "display_data"
    }
   ],
   "source": [
    "find_alpha(x_train, x_test, y_train, y_test)"
   ]
  },
  {
   "cell_type": "markdown",
   "metadata": {},
   "source": [
    "* ccp_alph parameter should be zero for this case.\n"
   ]
  },
  {
   "cell_type": "markdown",
   "metadata": {},
   "source": [
    "# Building Model with n_estimators=100"
   ]
  },
  {
   "cell_type": "code",
   "execution_count": 243,
   "metadata": {},
   "outputs": [],
   "source": [
    "from sklearn.ensemble import RandomForestClassifier\n",
    "sample_RF_upsampled = RandomForestClassifier(n_estimators=100, random_state=42)"
   ]
  },
  {
   "cell_type": "code",
   "execution_count": 244,
   "metadata": {},
   "outputs": [],
   "source": [
    "clf_sample = sample_RF_upsampled.fit(x_train, y_train)"
   ]
  },
  {
   "cell_type": "code",
   "execution_count": 245,
   "metadata": {},
   "outputs": [],
   "source": [
    "y_pred_train = clf_sample.predict(x_train)\n",
    "y_pred = clf_sample.predict(x_test)"
   ]
  },
  {
   "cell_type": "code",
   "execution_count": 246,
   "metadata": {},
   "outputs": [
    {
     "name": "stdout",
     "output_type": "stream",
     "text": [
      "              precision    recall  f1-score   support\n",
      "\n",
      "           0       1.00      1.00      1.00      9600\n",
      "           1       1.00      1.00      1.00     12395\n",
      "\n",
      "    accuracy                           1.00     21995\n",
      "   macro avg       1.00      1.00      1.00     21995\n",
      "weighted avg       1.00      1.00      1.00     21995\n",
      "\n"
     ]
    }
   ],
   "source": [
    "print(classification_report(y_train, y_pred_train ))"
   ]
  },
  {
   "cell_type": "code",
   "execution_count": 247,
   "metadata": {},
   "outputs": [
    {
     "name": "stdout",
     "output_type": "stream",
     "text": [
      "              precision    recall  f1-score   support\n",
      "\n",
      "           0       0.87      0.87      0.87      2400\n",
      "           1       0.90      0.90      0.90      3099\n",
      "\n",
      "    accuracy                           0.89      5499\n",
      "   macro avg       0.88      0.88      0.88      5499\n",
      "weighted avg       0.89      0.89      0.89      5499\n",
      "\n"
     ]
    }
   ],
   "source": [
    "print(classification_report(y_test, y_pred ))"
   ]
  },
  {
   "cell_type": "code",
   "execution_count": 248,
   "metadata": {},
   "outputs": [
    {
     "data": {
      "text/plain": [
       "array([0.87925077, 0.88434261, 0.87452264, 0.87706856, 0.86922517])"
      ]
     },
     "execution_count": 248,
     "metadata": {},
     "output_type": "execute_result"
    }
   ],
   "source": [
    "cross_val_score(clf_sample, x, y)"
   ]
  },
  {
   "cell_type": "markdown",
   "metadata": {},
   "source": [
    "# Building Model with n_estimators=15"
   ]
  },
  {
   "cell_type": "code",
   "execution_count": 249,
   "metadata": {},
   "outputs": [],
   "source": [
    "from sklearn.ensemble import RandomForestClassifier\n",
    "sample_RF15_upsampled = RandomForestClassifier(n_estimators=15, random_state=42)"
   ]
  },
  {
   "cell_type": "code",
   "execution_count": 250,
   "metadata": {},
   "outputs": [],
   "source": [
    "clf_15_sample = sample_RF_upsampled.fit(x_train, y_train)"
   ]
  },
  {
   "cell_type": "code",
   "execution_count": 251,
   "metadata": {},
   "outputs": [],
   "source": [
    "y_pred_train = clf_15_sample.predict(x_train)\n",
    "y_pred = clf_15_sample.predict(x_test)"
   ]
  },
  {
   "cell_type": "code",
   "execution_count": 252,
   "metadata": {},
   "outputs": [
    {
     "name": "stdout",
     "output_type": "stream",
     "text": [
      "              precision    recall  f1-score   support\n",
      "\n",
      "           0       1.00      1.00      1.00      9600\n",
      "           1       1.00      1.00      1.00     12395\n",
      "\n",
      "    accuracy                           1.00     21995\n",
      "   macro avg       1.00      1.00      1.00     21995\n",
      "weighted avg       1.00      1.00      1.00     21995\n",
      "\n"
     ]
    }
   ],
   "source": [
    "print(classification_report(y_train, y_pred_train ))"
   ]
  },
  {
   "cell_type": "code",
   "execution_count": 253,
   "metadata": {},
   "outputs": [
    {
     "name": "stdout",
     "output_type": "stream",
     "text": [
      "              precision    recall  f1-score   support\n",
      "\n",
      "           0       0.87      0.87      0.87      2400\n",
      "           1       0.90      0.90      0.90      3099\n",
      "\n",
      "    accuracy                           0.89      5499\n",
      "   macro avg       0.88      0.88      0.88      5499\n",
      "weighted avg       0.89      0.89      0.89      5499\n",
      "\n"
     ]
    }
   ],
   "source": [
    "print(classification_report(y_test, y_pred ))"
   ]
  },
  {
   "cell_type": "code",
   "execution_count": 254,
   "metadata": {},
   "outputs": [
    {
     "data": {
      "text/plain": [
       "array([0.87925077, 0.88434261, 0.87452264, 0.87706856, 0.86922517])"
      ]
     },
     "execution_count": 254,
     "metadata": {},
     "output_type": "execute_result"
    }
   ],
   "source": [
    "cross_val_score(clf_15_sample, x, y)"
   ]
  },
  {
   "cell_type": "code",
   "execution_count": 255,
   "metadata": {},
   "outputs": [
    {
     "name": "stdout",
     "output_type": "stream",
     "text": [
      "              precision    recall  f1-score   support\n",
      "\n",
      "           0       0.28      0.12      0.17    260904\n",
      "           1       0.75      0.90      0.82    780361\n",
      "\n",
      "    accuracy                           0.70   1041265\n",
      "   macro avg       0.52      0.51      0.49   1041265\n",
      "weighted avg       0.63      0.70      0.66   1041265\n",
      "\n"
     ]
    }
   ],
   "source": [
    "y_pred_whole = clf_15_sample.predict(df.drop(['Result'],axis=1))\n",
    "\n",
    "print(classification_report(df.Result.values, y_pred_whole))"
   ]
  },
  {
   "cell_type": "markdown",
   "metadata": {},
   "source": [
    "# 3.2 Upsampling after train_test_split..."
   ]
  },
  {
   "cell_type": "markdown",
   "metadata": {},
   "source": [
    "3.1 Upsampling using sklearn resample"
   ]
  },
  {
   "cell_type": "code",
   "execution_count": 256,
   "metadata": {},
   "outputs": [],
   "source": [
    "x = sample_data.drop(['Result'],axis=1).values\n",
    "y = sample_data.Result.values"
   ]
  },
  {
   "cell_type": "code",
   "execution_count": 257,
   "metadata": {},
   "outputs": [],
   "source": [
    "x_train, x_test, y_train, y_test = train_test_split(x, y, test_size=0.2, stratify = y, random_state=42)"
   ]
  },
  {
   "cell_type": "code",
   "execution_count": 258,
   "metadata": {},
   "outputs": [
    {
     "data": {
      "text/plain": [
       "Counter({0: 4265, 1: 12395})"
      ]
     },
     "execution_count": 258,
     "metadata": {},
     "output_type": "execute_result"
    }
   ],
   "source": [
    "from collections import Counter\n",
    "Counter(y_train)"
   ]
  },
  {
   "cell_type": "code",
   "execution_count": 259,
   "metadata": {},
   "outputs": [],
   "source": [
    "x_train_df = pd.DataFrame(x_train, columns=sample_data.drop(['Result'],axis=1).columns)\n",
    "y_train_df = pd.DataFrame(y_train, columns=['Result'])\n",
    "\n",
    "df_train = pd.concat([x_train_df, y_train_df],axis=1)"
   ]
  },
  {
   "cell_type": "code",
   "execution_count": 260,
   "metadata": {},
   "outputs": [],
   "source": [
    "df_train_majority = df_train.loc[df_train['Result']==1]\n",
    "df_train_minority = df_train.loc[df_train['Result']==0]"
   ]
  },
  {
   "cell_type": "code",
   "execution_count": 261,
   "metadata": {},
   "outputs": [
    {
     "data": {
      "text/plain": [
       "(12395, 13)"
      ]
     },
     "execution_count": 261,
     "metadata": {},
     "output_type": "execute_result"
    }
   ],
   "source": [
    "df_train_majority.shape"
   ]
  },
  {
   "cell_type": "code",
   "execution_count": 262,
   "metadata": {},
   "outputs": [
    {
     "data": {
      "text/plain": [
       "(4265, 13)"
      ]
     },
     "execution_count": 262,
     "metadata": {},
     "output_type": "execute_result"
    }
   ],
   "source": [
    "df_train_minority.shape"
   ]
  },
  {
   "cell_type": "code",
   "execution_count": 263,
   "metadata": {},
   "outputs": [
    {
     "data": {
      "text/plain": [
       "9916.0"
      ]
     },
     "execution_count": 263,
     "metadata": {},
     "output_type": "execute_result"
    }
   ],
   "source": [
    "# checking 80% row counts w.r.t majority class\n",
    "12395*0.80"
   ]
  },
  {
   "cell_type": "code",
   "execution_count": 264,
   "metadata": {},
   "outputs": [],
   "source": [
    "# doing upsampling of minority classes... taking 100 to 80% ratio\n",
    "\n",
    "# sample_majority.shape[0]*0.80\n",
    "\n",
    "from sklearn.utils import resample\n",
    "df_train_minority_upsampled = resample(df_train_minority , replace=True, n_samples=9990, random_state=42)"
   ]
  },
  {
   "cell_type": "code",
   "execution_count": 265,
   "metadata": {},
   "outputs": [],
   "source": [
    "after_split_upsampled = pd.concat([df_train_majority, df_train_minority_upsampled])"
   ]
  },
  {
   "cell_type": "code",
   "execution_count": 266,
   "metadata": {},
   "outputs": [],
   "source": [
    "# splitting into x_train, y_train only..note: we have alerady splitted test sets using k fold...\n",
    "\n",
    "x_train_upsampled = after_split_upsampled.drop(['Result'],axis=1).values\n",
    "y_train_upsampled = after_split_upsampled.Result.values"
   ]
  },
  {
   "cell_type": "code",
   "execution_count": 267,
   "metadata": {},
   "outputs": [],
   "source": [
    "from sklearn.ensemble import RandomForestClassifier\n",
    "sample_RF15_after_split_upsampled = RandomForestClassifier(n_estimators=15, random_state=42)"
   ]
  },
  {
   "cell_type": "code",
   "execution_count": 268,
   "metadata": {},
   "outputs": [],
   "source": [
    "sample_RF15_after_split_upsampled = sample_RF15_after_split_upsampled.fit(x_train_upsampled, y_train_upsampled)"
   ]
  },
  {
   "cell_type": "code",
   "execution_count": 269,
   "metadata": {},
   "outputs": [],
   "source": [
    "y_pred_train = sample_RF15_after_split_upsampled.predict(x_train_upsampled)\n",
    "y_pred = sample_RF15_after_split_upsampled.predict(x_test)"
   ]
  },
  {
   "cell_type": "code",
   "execution_count": 270,
   "metadata": {},
   "outputs": [
    {
     "data": {
      "text/plain": [
       "Counter({1: 3099, 0: 1066})"
      ]
     },
     "execution_count": 270,
     "metadata": {},
     "output_type": "execute_result"
    }
   ],
   "source": [
    "Counter(y_test)"
   ]
  },
  {
   "cell_type": "code",
   "execution_count": 271,
   "metadata": {},
   "outputs": [
    {
     "name": "stdout",
     "output_type": "stream",
     "text": [
      "              precision    recall  f1-score   support\n",
      "\n",
      "           0       1.00      1.00      1.00      9990\n",
      "           1       1.00      1.00      1.00     12395\n",
      "\n",
      "    accuracy                           1.00     22385\n",
      "   macro avg       1.00      1.00      1.00     22385\n",
      "weighted avg       1.00      1.00      1.00     22385\n",
      "\n"
     ]
    }
   ],
   "source": [
    "print(classification_report(y_train_upsampled, y_pred_train ))"
   ]
  },
  {
   "cell_type": "code",
   "execution_count": 272,
   "metadata": {},
   "outputs": [
    {
     "name": "stdout",
     "output_type": "stream",
     "text": [
      "              precision    recall  f1-score   support\n",
      "\n",
      "           0       0.25      0.14      0.18      1066\n",
      "           1       0.74      0.86      0.80      3099\n",
      "\n",
      "    accuracy                           0.68      4165\n",
      "   macro avg       0.50      0.50      0.49      4165\n",
      "weighted avg       0.62      0.68      0.64      4165\n",
      "\n"
     ]
    }
   ],
   "source": [
    "print(classification_report(y_test, y_pred ))"
   ]
  },
  {
   "cell_type": "markdown",
   "metadata": {},
   "source": [
    "# Conclusion:"
   ]
  },
  {
   "cell_type": "markdown",
   "metadata": {},
   "source": [
    "It is clear that, upsampling tech. is best suited for imbalanced dataset..when we upsample minority class before train_test_split"
   ]
  },
  {
   "cell_type": "markdown",
   "metadata": {},
   "source": [
    "# Step 4: Model Building On whole dataset..."
   ]
  },
  {
   "cell_type": "code",
   "execution_count": 273,
   "metadata": {},
   "outputs": [],
   "source": [
    "data_minority = df.loc[df['Result']==0]\n",
    "data_majority = df.loc[df['Result']==1]"
   ]
  },
  {
   "cell_type": "code",
   "execution_count": 274,
   "metadata": {},
   "outputs": [],
   "source": [
    "from sklearn.utils import resample\n",
    "data_minority_upsampled = resample(data_minority, replace=True, n_samples=624290, random_state=42)\n",
    "data_upsampled = pd.concat([data_majority, data_minority_upsampled ], ignore_index=True)"
   ]
  },
  {
   "cell_type": "code",
   "execution_count": 275,
   "metadata": {},
   "outputs": [],
   "source": [
    "X = data_upsampled.drop(['Result'],axis=1).values\n",
    "Y = data_upsampled.Result.values"
   ]
  },
  {
   "cell_type": "code",
   "execution_count": 276,
   "metadata": {},
   "outputs": [],
   "source": [
    "x_train, x_test, y_train, y_test = train_test_split(X, Y, test_size=0.2, stratify=Y, random_state=30)"
   ]
  },
  {
   "cell_type": "code",
   "execution_count": 277,
   "metadata": {},
   "outputs": [],
   "source": [
    "from sklearn.ensemble import RandomForestClassifier\n",
    "model_rf_upsampled = RandomForestClassifier(n_estimators=15, random_state=42)"
   ]
  },
  {
   "cell_type": "code",
   "execution_count": 278,
   "metadata": {},
   "outputs": [
    {
     "data": {
      "text/plain": [
       "RandomForestClassifier(n_estimators=15, random_state=42)"
      ]
     },
     "execution_count": 278,
     "metadata": {},
     "output_type": "execute_result"
    }
   ],
   "source": [
    "model_rf_upsampled.fit(x_train, y_train)"
   ]
  },
  {
   "cell_type": "code",
   "execution_count": 279,
   "metadata": {},
   "outputs": [],
   "source": [
    "y_pred_train = model_rf_upsampled.predict(x_train)\n",
    "y_pred_test = model_rf_upsampled.predict(x_test)"
   ]
  },
  {
   "cell_type": "code",
   "execution_count": 280,
   "metadata": {},
   "outputs": [
    {
     "name": "stdout",
     "output_type": "stream",
     "text": [
      "              precision    recall  f1-score   support\n",
      "\n",
      "           0       0.98      0.99      0.98    499432\n",
      "           1       0.99      0.99      0.99    624288\n",
      "\n",
      "    accuracy                           0.99   1123720\n",
      "   macro avg       0.98      0.99      0.99   1123720\n",
      "weighted avg       0.99      0.99      0.99   1123720\n",
      "\n"
     ]
    }
   ],
   "source": [
    "# classification report...for train set\n",
    "print(classification_report(y_train, y_pred_train))"
   ]
  },
  {
   "cell_type": "code",
   "execution_count": 281,
   "metadata": {},
   "outputs": [
    {
     "name": "stdout",
     "output_type": "stream",
     "text": [
      "              precision    recall  f1-score   support\n",
      "\n",
      "           0       0.78      0.86      0.82    124858\n",
      "           1       0.88      0.81      0.84    156073\n",
      "\n",
      "    accuracy                           0.83    280931\n",
      "   macro avg       0.83      0.84      0.83    280931\n",
      "weighted avg       0.84      0.83      0.83    280931\n",
      "\n"
     ]
    }
   ],
   "source": [
    "# classification report...for test set\n",
    "print(classification_report(y_test, y_pred_test))"
   ]
  },
  {
   "cell_type": "code",
   "execution_count": 282,
   "metadata": {},
   "outputs": [
    {
     "name": "stdout",
     "output_type": "stream",
     "text": [
      "              precision    recall  f1-score   support\n",
      "\n",
      "           0       0.85      0.86      0.86    260904\n",
      "           1       0.95      0.95      0.95    780361\n",
      "\n",
      "    accuracy                           0.93   1041265\n",
      "   macro avg       0.90      0.91      0.90   1041265\n",
      "weighted avg       0.93      0.93      0.93   1041265\n",
      "\n"
     ]
    }
   ],
   "source": [
    "y_pred_whole = model_rf_upsampled.predict(df.drop(['Result'],axis=1))\n",
    "\n",
    "print(classification_report(df.Result.values, y_pred_whole))"
   ]
  },
  {
   "cell_type": "markdown",
   "metadata": {},
   "source": [
    "# Saving model..."
   ]
  },
  {
   "cell_type": "code",
   "execution_count": 283,
   "metadata": {},
   "outputs": [
    {
     "data": {
      "text/plain": [
       "['model_rf_upsampled.joblib']"
      ]
     },
     "execution_count": 283,
     "metadata": {},
     "output_type": "execute_result"
    }
   ],
   "source": [
    "from joblib import dump, load\n",
    "dump(model_rf_upsampled, 'model_rf_upsampled.joblib')"
   ]
  },
  {
   "cell_type": "code",
   "execution_count": 284,
   "metadata": {},
   "outputs": [],
   "source": [
    "from sklearn.metrics import f1_score\n",
    "\n",
    "skf = StratifiedKFold(n_splits=5, shuffle=True, random_state=1) \n",
    "lst_accu_stratified = [] \n",
    "\n",
    "x = df.drop(['Result'],axis=1).values\n",
    "y = df.Result.values\n",
    "   \n",
    "for train_index, test_index in skf.split(x, y): \n",
    "    x_train_fold, x_test_fold = x[train_index], x[test_index] \n",
    "    y_train_fold, y_test_fold = y[train_index], y[test_index] \n",
    "    model_rf_upsampled.fit(x_train_fold, y_train_fold)\n",
    "    lst_accu_stratified.append(f1_score(y_test_fold, model_rf_upsampled.predict(x_test_fold)))"
   ]
  },
  {
   "cell_type": "code",
   "execution_count": 285,
   "metadata": {},
   "outputs": [
    {
     "name": "stdout",
     "output_type": "stream",
     "text": [
      "List of possible F1 score: [0.8128341305055469, 0.8128008447853571, 0.813368416734548, 0.8128667323851101, 0.8120150143623301]\n",
      "\n",
      "Maximum F1 score That can be obtained from this model is: 81.34\n",
      "\n",
      "Minimum F1 score: 81.2\n",
      "\n",
      "Overall F1 score: 81.28\n",
      "\n",
      "Standard Deviation is: 0.0\n"
     ]
    }
   ],
   "source": [
    "# Print the output. \n",
    "print('List of possible F1 score:', lst_accu_stratified) \n",
    "print('\\nMaximum F1 score That can be obtained from this model is:', \n",
    "      (np.round(max(lst_accu_stratified)*100, 2)))\n",
    "print('\\nMinimum F1 score:', \n",
    "      (np.round(min(lst_accu_stratified)*100,2))) \n",
    "print('\\nOverall F1 score:', \n",
    "     (np.round(np.mean(lst_accu_stratified)*100,2)))\n",
    "print('\\nStandard Deviation is:', np.round(np.std(lst_accu_stratified)))"
   ]
  },
  {
   "cell_type": "markdown",
   "metadata": {},
   "source": [
    "# Predicting on different samples from dataset"
   ]
  },
  {
   "cell_type": "markdown",
   "metadata": {},
   "source": [
    "# Building a model for small sample for deployment purpose"
   ]
  },
  {
   "cell_type": "code",
   "execution_count": 286,
   "metadata": {},
   "outputs": [],
   "source": [
    "# taking sample data from dataset..\n",
    "\n",
    "sample = df.sample(50000)"
   ]
  },
  {
   "cell_type": "code",
   "execution_count": 287,
   "metadata": {},
   "outputs": [
    {
     "data": {
      "text/html": [
       "<div>\n",
       "<style scoped>\n",
       "    .dataframe tbody tr th:only-of-type {\n",
       "        vertical-align: middle;\n",
       "    }\n",
       "\n",
       "    .dataframe tbody tr th {\n",
       "        vertical-align: top;\n",
       "    }\n",
       "\n",
       "    .dataframe thead th {\n",
       "        text-align: right;\n",
       "    }\n",
       "</style>\n",
       "<table border=\"1\" class=\"dataframe\">\n",
       "  <thead>\n",
       "    <tr style=\"text-align: right;\">\n",
       "      <th></th>\n",
       "      <th>Age</th>\n",
       "      <th>Days_spend_hsptl</th>\n",
       "      <th>Admission_type</th>\n",
       "      <th>Home_or_self_care</th>\n",
       "      <th>ccs_diagnosis_code</th>\n",
       "      <th>ccs_procedure_code</th>\n",
       "      <th>Code_illness</th>\n",
       "      <th>Mortality_risk</th>\n",
       "      <th>Surg_Description</th>\n",
       "      <th>Emergency_dept_yes_No</th>\n",
       "      <th>ratio_of_total_costs_to_total_charges</th>\n",
       "      <th>Result</th>\n",
       "      <th>Payment_Typology</th>\n",
       "    </tr>\n",
       "  </thead>\n",
       "  <tbody>\n",
       "    <tr>\n",
       "      <th>20214</th>\n",
       "      <td>1</td>\n",
       "      <td>2</td>\n",
       "      <td>5</td>\n",
       "      <td>7</td>\n",
       "      <td>657</td>\n",
       "      <td>0</td>\n",
       "      <td>1</td>\n",
       "      <td>1</td>\n",
       "      <td>0</td>\n",
       "      <td>1</td>\n",
       "      <td>1.237881</td>\n",
       "      <td>1</td>\n",
       "      <td>2</td>\n",
       "    </tr>\n",
       "    <tr>\n",
       "      <th>664337</th>\n",
       "      <td>3</td>\n",
       "      <td>16</td>\n",
       "      <td>1</td>\n",
       "      <td>7</td>\n",
       "      <td>659</td>\n",
       "      <td>0</td>\n",
       "      <td>2</td>\n",
       "      <td>1</td>\n",
       "      <td>0</td>\n",
       "      <td>1</td>\n",
       "      <td>0.363088</td>\n",
       "      <td>0</td>\n",
       "      <td>1</td>\n",
       "    </tr>\n",
       "  </tbody>\n",
       "</table>\n",
       "</div>"
      ],
      "text/plain": [
       "        Age  Days_spend_hsptl  Admission_type  Home_or_self_care  \\\n",
       "20214     1                 2               5                  7   \n",
       "664337    3                16               1                  7   \n",
       "\n",
       "        ccs_diagnosis_code  ccs_procedure_code  Code_illness  Mortality_risk  \\\n",
       "20214                  657                   0             1               1   \n",
       "664337                 659                   0             2               1   \n",
       "\n",
       "        Surg_Description  Emergency_dept_yes_No  \\\n",
       "20214                  0                      1   \n",
       "664337                 0                      1   \n",
       "\n",
       "        ratio_of_total_costs_to_total_charges  Result  Payment_Typology  \n",
       "20214                                1.237881       1                 2  \n",
       "664337                               0.363088       0                 1  "
      ]
     },
     "execution_count": 287,
     "metadata": {},
     "output_type": "execute_result"
    }
   ],
   "source": [
    "sample.head(2)"
   ]
  },
  {
   "cell_type": "code",
   "execution_count": 288,
   "metadata": {},
   "outputs": [
    {
     "data": {
      "text/plain": [
       "(50000, 13)"
      ]
     },
     "execution_count": 288,
     "metadata": {},
     "output_type": "execute_result"
    }
   ],
   "source": [
    "sample.shape"
   ]
  },
  {
   "cell_type": "code",
   "execution_count": 289,
   "metadata": {},
   "outputs": [],
   "source": [
    "index= sample.index.to_list()"
   ]
  },
  {
   "cell_type": "code",
   "execution_count": 290,
   "metadata": {},
   "outputs": [
    {
     "name": "stdout",
     "output_type": "stream",
     "text": [
      "<class 'pandas.core.frame.DataFrame'>\n",
      "Int64Index: 50000 entries, 20214 to 931396\n",
      "Data columns (total 13 columns):\n",
      " #   Column                                 Non-Null Count  Dtype  \n",
      "---  ------                                 --------------  -----  \n",
      " 0   Age                                    50000 non-null  int64  \n",
      " 1   Days_spend_hsptl                       50000 non-null  int32  \n",
      " 2   Admission_type                         50000 non-null  int64  \n",
      " 3   Home_or_self_care                      50000 non-null  int64  \n",
      " 4   ccs_diagnosis_code                     50000 non-null  int64  \n",
      " 5   ccs_procedure_code                     50000 non-null  int64  \n",
      " 6   Code_illness                           50000 non-null  int64  \n",
      " 7   Mortality_risk                         50000 non-null  int32  \n",
      " 8   Surg_Description                       50000 non-null  int32  \n",
      " 9   Emergency_dept_yes_No                  50000 non-null  int32  \n",
      " 10  ratio_of_total_costs_to_total_charges  50000 non-null  float64\n",
      " 11  Result                                 50000 non-null  int64  \n",
      " 12  Payment_Typology                       50000 non-null  int64  \n",
      "dtypes: float64(1), int32(4), int64(8)\n",
      "memory usage: 4.6 MB\n"
     ]
    }
   ],
   "source": [
    "# checking memory size of sample data..\n",
    "\n",
    "sample.info()"
   ]
  },
  {
   "cell_type": "markdown",
   "metadata": {},
   "source": [
    "* Now it is showing 4.6 MB size which will be ok for deployment part of view.\n",
    "\n",
    "* Note: This model will may not be good fit on whole dataset. F1 score, Accuracy may drop in large proportion"
   ]
  },
  {
   "cell_type": "code",
   "execution_count": 291,
   "metadata": {},
   "outputs": [
    {
     "data": {
      "text/plain": [
       "1    37631\n",
       "0    12369\n",
       "Name: Result, dtype: int64"
      ]
     },
     "execution_count": 291,
     "metadata": {},
     "output_type": "execute_result"
    }
   ],
   "source": [
    "# Checking for imbalance state\n",
    "\n",
    "sample.Result.value_counts()"
   ]
  },
  {
   "cell_type": "code",
   "execution_count": 292,
   "metadata": {},
   "outputs": [],
   "source": [
    "# # seperating majority & minority classes\n",
    "\n",
    "sample_1 = sample.loc[sample['Result']==1]\n",
    "sample_0 = sample.loc[sample['Result']==0]"
   ]
  },
  {
   "cell_type": "code",
   "execution_count": 293,
   "metadata": {},
   "outputs": [],
   "source": [
    "# and will do downsampling of class '1'\n",
    "\n",
    "from sklearn.utils import resample\n",
    "sample_0 = resample(sample_0, replace=True, n_samples=5500, random_state=42)\n",
    "\n",
    "sample_upsampled = pd.concat([sample_0, sample_1], ignore_index=True)"
   ]
  },
  {
   "cell_type": "code",
   "execution_count": 294,
   "metadata": {},
   "outputs": [
    {
     "data": {
      "text/plain": [
       "(43131, 13)"
      ]
     },
     "execution_count": 294,
     "metadata": {},
     "output_type": "execute_result"
    }
   ],
   "source": [
    "sample_upsampled.shape"
   ]
  },
  {
   "cell_type": "code",
   "execution_count": 295,
   "metadata": {},
   "outputs": [
    {
     "data": {
      "text/html": [
       "<div>\n",
       "<style scoped>\n",
       "    .dataframe tbody tr th:only-of-type {\n",
       "        vertical-align: middle;\n",
       "    }\n",
       "\n",
       "    .dataframe tbody tr th {\n",
       "        vertical-align: top;\n",
       "    }\n",
       "\n",
       "    .dataframe thead th {\n",
       "        text-align: right;\n",
       "    }\n",
       "</style>\n",
       "<table border=\"1\" class=\"dataframe\">\n",
       "  <thead>\n",
       "    <tr style=\"text-align: right;\">\n",
       "      <th></th>\n",
       "      <th>Age</th>\n",
       "      <th>Days_spend_hsptl</th>\n",
       "      <th>Admission_type</th>\n",
       "      <th>Home_or_self_care</th>\n",
       "      <th>ccs_diagnosis_code</th>\n",
       "      <th>ccs_procedure_code</th>\n",
       "      <th>Code_illness</th>\n",
       "      <th>Mortality_risk</th>\n",
       "      <th>Surg_Description</th>\n",
       "      <th>Emergency_dept_yes_No</th>\n",
       "      <th>ratio_of_total_costs_to_total_charges</th>\n",
       "      <th>Result</th>\n",
       "      <th>Payment_Typology</th>\n",
       "    </tr>\n",
       "  </thead>\n",
       "  <tbody>\n",
       "    <tr>\n",
       "      <th>0</th>\n",
       "      <td>2</td>\n",
       "      <td>3</td>\n",
       "      <td>1</td>\n",
       "      <td>7</td>\n",
       "      <td>106</td>\n",
       "      <td>201</td>\n",
       "      <td>1</td>\n",
       "      <td>1</td>\n",
       "      <td>0</td>\n",
       "      <td>1</td>\n",
       "      <td>0.342587</td>\n",
       "      <td>0</td>\n",
       "      <td>1</td>\n",
       "    </tr>\n",
       "    <tr>\n",
       "      <th>1</th>\n",
       "      <td>3</td>\n",
       "      <td>16</td>\n",
       "      <td>0</td>\n",
       "      <td>7</td>\n",
       "      <td>40</td>\n",
       "      <td>64</td>\n",
       "      <td>2</td>\n",
       "      <td>3</td>\n",
       "      <td>1</td>\n",
       "      <td>0</td>\n",
       "      <td>0.530171</td>\n",
       "      <td>0</td>\n",
       "      <td>2</td>\n",
       "    </tr>\n",
       "    <tr>\n",
       "      <th>2</th>\n",
       "      <td>3</td>\n",
       "      <td>1</td>\n",
       "      <td>1</td>\n",
       "      <td>7</td>\n",
       "      <td>127</td>\n",
       "      <td>0</td>\n",
       "      <td>1</td>\n",
       "      <td>1</td>\n",
       "      <td>0</td>\n",
       "      <td>1</td>\n",
       "      <td>0.300218</td>\n",
       "      <td>0</td>\n",
       "      <td>1</td>\n",
       "    </tr>\n",
       "    <tr>\n",
       "      <th>3</th>\n",
       "      <td>3</td>\n",
       "      <td>2</td>\n",
       "      <td>1</td>\n",
       "      <td>7</td>\n",
       "      <td>159</td>\n",
       "      <td>0</td>\n",
       "      <td>2</td>\n",
       "      <td>3</td>\n",
       "      <td>0</td>\n",
       "      <td>1</td>\n",
       "      <td>0.597093</td>\n",
       "      <td>0</td>\n",
       "      <td>2</td>\n",
       "    </tr>\n",
       "    <tr>\n",
       "      <th>4</th>\n",
       "      <td>4</td>\n",
       "      <td>11</td>\n",
       "      <td>5</td>\n",
       "      <td>18</td>\n",
       "      <td>237</td>\n",
       "      <td>168</td>\n",
       "      <td>3</td>\n",
       "      <td>2</td>\n",
       "      <td>0</td>\n",
       "      <td>0</td>\n",
       "      <td>0.523709</td>\n",
       "      <td>0</td>\n",
       "      <td>3</td>\n",
       "    </tr>\n",
       "  </tbody>\n",
       "</table>\n",
       "</div>"
      ],
      "text/plain": [
       "   Age  Days_spend_hsptl  Admission_type  Home_or_self_care  \\\n",
       "0    2                 3               1                  7   \n",
       "1    3                16               0                  7   \n",
       "2    3                 1               1                  7   \n",
       "3    3                 2               1                  7   \n",
       "4    4                11               5                 18   \n",
       "\n",
       "   ccs_diagnosis_code  ccs_procedure_code  Code_illness  Mortality_risk  \\\n",
       "0                 106                 201             1               1   \n",
       "1                  40                  64             2               3   \n",
       "2                 127                   0             1               1   \n",
       "3                 159                   0             2               3   \n",
       "4                 237                 168             3               2   \n",
       "\n",
       "   Surg_Description  Emergency_dept_yes_No  \\\n",
       "0                 0                      1   \n",
       "1                 1                      0   \n",
       "2                 0                      1   \n",
       "3                 0                      1   \n",
       "4                 0                      0   \n",
       "\n",
       "   ratio_of_total_costs_to_total_charges  Result  Payment_Typology  \n",
       "0                               0.342587       0                 1  \n",
       "1                               0.530171       0                 2  \n",
       "2                               0.300218       0                 1  \n",
       "3                               0.597093       0                 2  \n",
       "4                               0.523709       0                 3  "
      ]
     },
     "execution_count": 295,
     "metadata": {},
     "output_type": "execute_result"
    }
   ],
   "source": [
    "sample_upsampled.head()"
   ]
  },
  {
   "cell_type": "code",
   "execution_count": 296,
   "metadata": {},
   "outputs": [
    {
     "data": {
      "text/plain": [
       "1    0.872482\n",
       "0    0.127518\n",
       "Name: Result, dtype: float64"
      ]
     },
     "execution_count": 296,
     "metadata": {},
     "output_type": "execute_result"
    }
   ],
   "source": [
    "# Checking for imbalance state\n",
    "\n",
    "sample_upsampled.Result.value_counts(normalize=True)"
   ]
  },
  {
   "cell_type": "code",
   "execution_count": 297,
   "metadata": {},
   "outputs": [
    {
     "name": "stdout",
     "output_type": "stream",
     "text": [
      "<class 'pandas.core.frame.DataFrame'>\n",
      "RangeIndex: 43131 entries, 0 to 43130\n",
      "Data columns (total 13 columns):\n",
      " #   Column                                 Non-Null Count  Dtype  \n",
      "---  ------                                 --------------  -----  \n",
      " 0   Age                                    43131 non-null  int64  \n",
      " 1   Days_spend_hsptl                       43131 non-null  int32  \n",
      " 2   Admission_type                         43131 non-null  int64  \n",
      " 3   Home_or_self_care                      43131 non-null  int64  \n",
      " 4   ccs_diagnosis_code                     43131 non-null  int64  \n",
      " 5   ccs_procedure_code                     43131 non-null  int64  \n",
      " 6   Code_illness                           43131 non-null  int64  \n",
      " 7   Mortality_risk                         43131 non-null  int32  \n",
      " 8   Surg_Description                       43131 non-null  int32  \n",
      " 9   Emergency_dept_yes_No                  43131 non-null  int32  \n",
      " 10  ratio_of_total_costs_to_total_charges  43131 non-null  float64\n",
      " 11  Result                                 43131 non-null  int64  \n",
      " 12  Payment_Typology                       43131 non-null  int64  \n",
      "dtypes: float64(1), int32(4), int64(8)\n",
      "memory usage: 3.6 MB\n"
     ]
    }
   ],
   "source": [
    "sample_upsampled.info()"
   ]
  },
  {
   "cell_type": "code",
   "execution_count": 298,
   "metadata": {},
   "outputs": [],
   "source": [
    "X = sample_upsampled.drop(['Result'],axis=1).values\n",
    "Y = sample_upsampled.Result.values\n",
    "\n",
    "x_train, x_test, y_train, y_test = train_test_split(X, Y, test_size=0.2, stratify=Y, random_state=30)\n",
    "\n",
    "from sklearn.ensemble import RandomForestClassifier\n",
    "model = RandomForestClassifier(n_estimators=15, random_state=42)\n",
    "\n",
    "model = model.fit(x_train, y_train)\n",
    "\n",
    "y_pred_train = model.predict(x_train)\n",
    "y_pred_test = model.predict(x_test)"
   ]
  },
  {
   "cell_type": "code",
   "execution_count": 299,
   "metadata": {},
   "outputs": [
    {
     "name": "stdout",
     "output_type": "stream",
     "text": [
      "              precision    recall  f1-score   support\n",
      "\n",
      "           0       1.00      0.94      0.97      4400\n",
      "           1       0.99      1.00      1.00     30104\n",
      "\n",
      "    accuracy                           0.99     34504\n",
      "   macro avg       0.99      0.97      0.98     34504\n",
      "weighted avg       0.99      0.99      0.99     34504\n",
      "\n"
     ]
    }
   ],
   "source": [
    "# classification report...for train set\n",
    "print(classification_report(y_train, y_pred_train))"
   ]
  },
  {
   "cell_type": "code",
   "execution_count": 300,
   "metadata": {},
   "outputs": [
    {
     "name": "stdout",
     "output_type": "stream",
     "text": [
      "              precision    recall  f1-score   support\n",
      "\n",
      "           0       0.65      0.28      0.39      1100\n",
      "           1       0.90      0.98      0.94      7527\n",
      "\n",
      "    accuracy                           0.89      8627\n",
      "   macro avg       0.78      0.63      0.67      8627\n",
      "weighted avg       0.87      0.89      0.87      8627\n",
      "\n"
     ]
    }
   ],
   "source": [
    "# classification report...for train set\n",
    "print(classification_report(y_test, y_pred_test))"
   ]
  },
  {
   "cell_type": "code",
   "execution_count": 301,
   "metadata": {},
   "outputs": [
    {
     "name": "stdout",
     "output_type": "stream",
     "text": [
      "              precision    recall  f1-score   support\n",
      "\n",
      "           0       0.95      0.29      0.44     12369\n",
      "           1       0.81      1.00      0.89     37631\n",
      "\n",
      "    accuracy                           0.82     50000\n",
      "   macro avg       0.88      0.64      0.67     50000\n",
      "weighted avg       0.85      0.82      0.78     50000\n",
      "\n"
     ]
    }
   ],
   "source": [
    "y_pred_whole = model.predict(sample.drop(['Result'],axis=1))\n",
    "\n",
    "print(classification_report(sample.Result.values, y_pred_whole))"
   ]
  },
  {
   "cell_type": "code",
   "execution_count": 302,
   "metadata": {},
   "outputs": [
    {
     "data": {
      "image/png": "[encoded data removed]",
      "text/plain": [
       "<Figure size 432x288 with 2 Axes>"
      ]
     },
     "metadata": {
      "needs_background": "light"
     },
     "output_type": "display_data"
    }
   ],
   "source": [
    "sns.heatmap(confusion_matrix(sample.Result.values, y_pred_whole), annot=True, fmt='.8g')\n",
    "plt.show()"
   ]
  },
  {
   "cell_type": "markdown",
   "metadata": {},
   "source": [
    "# Saving Model"
   ]
  },
  {
   "cell_type": "code",
   "execution_count": 303,
   "metadata": {},
   "outputs": [
    {
     "data": {
      "text/plain": [
       "['model.joblib']"
      ]
     },
     "execution_count": 303,
     "metadata": {},
     "output_type": "execute_result"
    }
   ],
   "source": [
    "from joblib import dump, load\n",
    "dump(model, 'model.joblib') "
   ]
  },
  {
   "cell_type": "markdown",
   "metadata": {},
   "source": [
    "Saving sample data to deployment trial"
   ]
  },
  {
   "cell_type": "code",
   "execution_count": 304,
   "metadata": {},
   "outputs": [],
   "source": [
    "index = sample.index.to_list()"
   ]
  },
  {
   "cell_type": "code",
   "execution_count": 305,
   "metadata": {},
   "outputs": [],
   "source": [
    "sample_test_data = df.copy()"
   ]
  },
  {
   "cell_type": "code",
   "execution_count": 306,
   "metadata": {},
   "outputs": [],
   "source": [
    "sample_test_data = sample_test_data.loc[index]"
   ]
  },
  {
   "cell_type": "code",
   "execution_count": 307,
   "metadata": {},
   "outputs": [],
   "source": [
    "sample_test_data.to_csv('sample_test_data.csv', index=False)"
   ]
  },
  {
   "cell_type": "code",
   "execution_count": null,
   "metadata": {},
   "outputs": [],
   "source": []
  }
 ],
 "metadata": {
  "kernelspec": {
   "display_name": "Python 3",
   "language": "python",
   "name": "python3"
  },
  "language_info": {
   "codemirror_mode": {
    "name": "ipython",
    "version": 3
   },
   "file_extension": ".py",
   "mimetype": "text/x-python",
   "name": "python",
   "nbconvert_exporter": "python",
   "pygments_lexer": "ipython3",
   "version": "3.8.5"
  }
 },
 "nbformat": 4,
 "nbformat_minor": 4
}
