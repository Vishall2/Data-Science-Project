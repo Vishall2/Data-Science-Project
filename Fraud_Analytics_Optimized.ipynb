{
 "cells": [
  {
   "cell_type": "markdown",
   "metadata": {
    "id": "vJWIovXC3voL"
   },
   "source": [
    "### Importing Libraries"
   ]
  },
  {
   "cell_type": "code",
   "execution_count": 1,
   "metadata": {
    "id": "qCGzMk353voQ"
   },
   "outputs": [],
   "source": [
    "import numpy as np \n",
    "import pandas as pd\n",
    "\n",
    "import matplotlib.pyplot as plt\n",
    "import seaborn as sns\n",
    "\n",
    "import warnings\n",
    "warnings.filterwarnings('ignore')\n",
    "\n",
    "from sklearn.preprocessing import LabelEncoder\n",
    "from sklearn.model_selection import train_test_split, cross_val_score\n",
    "from sklearn.preprocessing import StandardScaler\n",
    "from sklearn.metrics import classification_report, confusion_matrix\n",
    "from sklearn.metrics import roc_curve,roc_auc_score\n",
    "from sklearn.metrics import accuracy_score\n",
    "from sklearn.ensemble import IsolationForest\n",
    "\n",
    "from sklearn.metrics import classification_report\n",
    "from sklearn.model_selection import StratifiedKFold\n",
    "from sklearn.model_selection import GridSearchCV\n",
    "from scipy.stats import randint\n",
    "\n",
    "from imblearn.combine import SMOTETomek\n",
    "from imblearn.combine import SMOTEENN\n",
    "\n",
    "from sklearn.linear_model import LogisticRegression\n",
    "from sklearn.neighbors import KNeighborsClassifier\n",
    "from sklearn.svm import SVC\n",
    "from sklearn.tree import DecisionTreeClassifier\n",
    "from sklearn.ensemble import BaggingClassifier\n",
    "from sklearn.ensemble import AdaBoostClassifier\n",
    "from sklearn.ensemble import RandomForestClassifier\n",
    "\n",
    "from xgboost import XGBClassifier"
   ]
  },
  {
   "cell_type": "markdown",
   "metadata": {
    "id": "cRUqR9Zb3voU"
   },
   "source": [
    "### Dataset loading"
   ]
  },
  {
   "cell_type": "code",
   "execution_count": 2,
   "metadata": {
    "colab": {
     "base_uri": "https://localhost:8080/",
     "height": 445
    },
    "id": "4HWBjkk53voV",
    "outputId": "5cd84308-88df-47b1-ce26-eb54c29326cb"
   },
   "outputs": [
    {
     "data": {
      "text/html": [
       "<div>\n",
       "<style scoped>\n",
       "    .dataframe tbody tr th:only-of-type {\n",
       "        vertical-align: middle;\n",
       "    }\n",
       "\n",
       "    .dataframe tbody tr th {\n",
       "        vertical-align: top;\n",
       "    }\n",
       "\n",
       "    .dataframe thead th {\n",
       "        text-align: right;\n",
       "    }\n",
       "</style>\n",
       "<table border=\"1\" class=\"dataframe\">\n",
       "  <thead>\n",
       "    <tr style=\"text-align: right;\">\n",
       "      <th></th>\n",
       "      <th>Area_Service</th>\n",
       "      <th>Hospital County</th>\n",
       "      <th>Hospital Id</th>\n",
       "      <th>Age</th>\n",
       "      <th>Gender</th>\n",
       "      <th>Cultural_group</th>\n",
       "      <th>ethnicity</th>\n",
       "      <th>Days_spend_hsptl</th>\n",
       "      <th>Admission_type</th>\n",
       "      <th>Home or self care,</th>\n",
       "      <th>...</th>\n",
       "      <th>Mortality risk</th>\n",
       "      <th>Surg_Description</th>\n",
       "      <th>Weight_baby</th>\n",
       "      <th>Abortion</th>\n",
       "      <th>Emergency dept_yes/No</th>\n",
       "      <th>Tot_charg</th>\n",
       "      <th>Tot_cost</th>\n",
       "      <th>ratio_of_total_costs_to_total_charges</th>\n",
       "      <th>Result</th>\n",
       "      <th>Payment_Typology</th>\n",
       "    </tr>\n",
       "  </thead>\n",
       "  <tbody>\n",
       "    <tr>\n",
       "      <th>0</th>\n",
       "      <td>Western NY</td>\n",
       "      <td>Allegany</td>\n",
       "      <td>37.0</td>\n",
       "      <td>30 to 49</td>\n",
       "      <td>F</td>\n",
       "      <td>White</td>\n",
       "      <td>Not Span/Hispanic</td>\n",
       "      <td>4</td>\n",
       "      <td>Elective</td>\n",
       "      <td>Home or Self Care</td>\n",
       "      <td>...</td>\n",
       "      <td>1.0</td>\n",
       "      <td>Medical</td>\n",
       "      <td>0</td>\n",
       "      <td>N</td>\n",
       "      <td>Y</td>\n",
       "      <td>5511.95</td>\n",
       "      <td>5582.49</td>\n",
       "      <td>1.012798</td>\n",
       "      <td>1</td>\n",
       "      <td>1</td>\n",
       "    </tr>\n",
       "    <tr>\n",
       "      <th>1</th>\n",
       "      <td>Western NY</td>\n",
       "      <td>Allegany</td>\n",
       "      <td>37.0</td>\n",
       "      <td>70 or Older</td>\n",
       "      <td>F</td>\n",
       "      <td>White</td>\n",
       "      <td>Not Span/Hispanic</td>\n",
       "      <td>4</td>\n",
       "      <td>Urgent</td>\n",
       "      <td>Short-term Hospital</td>\n",
       "      <td>...</td>\n",
       "      <td>2.0</td>\n",
       "      <td>Medical</td>\n",
       "      <td>0</td>\n",
       "      <td>N</td>\n",
       "      <td>Y</td>\n",
       "      <td>4783.20</td>\n",
       "      <td>5162.82</td>\n",
       "      <td>1.079365</td>\n",
       "      <td>1</td>\n",
       "      <td>1</td>\n",
       "    </tr>\n",
       "    <tr>\n",
       "      <th>2</th>\n",
       "      <td>Western NY</td>\n",
       "      <td>Allegany</td>\n",
       "      <td>37.0</td>\n",
       "      <td>30 to 49</td>\n",
       "      <td>F</td>\n",
       "      <td>White</td>\n",
       "      <td>Not Span/Hispanic</td>\n",
       "      <td>3</td>\n",
       "      <td>Urgent</td>\n",
       "      <td>Home or Self Care</td>\n",
       "      <td>...</td>\n",
       "      <td>1.0</td>\n",
       "      <td>Medical</td>\n",
       "      <td>0</td>\n",
       "      <td>N</td>\n",
       "      <td>Y</td>\n",
       "      <td>3829.15</td>\n",
       "      <td>4056.52</td>\n",
       "      <td>1.059379</td>\n",
       "      <td>1</td>\n",
       "      <td>1</td>\n",
       "    </tr>\n",
       "    <tr>\n",
       "      <th>3</th>\n",
       "      <td>Western NY</td>\n",
       "      <td>Allegany</td>\n",
       "      <td>37.0</td>\n",
       "      <td>0 to 17</td>\n",
       "      <td>F</td>\n",
       "      <td>White</td>\n",
       "      <td>Not Span/Hispanic</td>\n",
       "      <td>1</td>\n",
       "      <td>Urgent</td>\n",
       "      <td>Home or Self Care</td>\n",
       "      <td>...</td>\n",
       "      <td>1.0</td>\n",
       "      <td>Medical</td>\n",
       "      <td>0</td>\n",
       "      <td>N</td>\n",
       "      <td>Y</td>\n",
       "      <td>1108.20</td>\n",
       "      <td>1644.75</td>\n",
       "      <td>1.484167</td>\n",
       "      <td>0</td>\n",
       "      <td>1</td>\n",
       "    </tr>\n",
       "    <tr>\n",
       "      <th>4</th>\n",
       "      <td>Western NY</td>\n",
       "      <td>Allegany</td>\n",
       "      <td>37.0</td>\n",
       "      <td>70 or Older</td>\n",
       "      <td>F</td>\n",
       "      <td>White</td>\n",
       "      <td>Not Span/Hispanic</td>\n",
       "      <td>3</td>\n",
       "      <td>Elective</td>\n",
       "      <td>Home or Self Care</td>\n",
       "      <td>...</td>\n",
       "      <td>3.0</td>\n",
       "      <td>Medical</td>\n",
       "      <td>0</td>\n",
       "      <td>N</td>\n",
       "      <td>Y</td>\n",
       "      <td>3418.18</td>\n",
       "      <td>3370.87</td>\n",
       "      <td>0.986161</td>\n",
       "      <td>1</td>\n",
       "      <td>1</td>\n",
       "    </tr>\n",
       "  </tbody>\n",
       "</table>\n",
       "<p>5 rows × 24 columns</p>\n",
       "</div>"
      ],
      "text/plain": [
       "  Area_Service Hospital County  Hospital Id          Age Gender  \\\n",
       "0   Western NY        Allegany         37.0     30 to 49      F   \n",
       "1   Western NY        Allegany         37.0  70 or Older      F   \n",
       "2   Western NY        Allegany         37.0     30 to 49      F   \n",
       "3   Western NY        Allegany         37.0      0 to 17      F   \n",
       "4   Western NY        Allegany         37.0  70 or Older      F   \n",
       "\n",
       "  Cultural_group          ethnicity Days_spend_hsptl Admission_type  \\\n",
       "0          White  Not Span/Hispanic                4       Elective   \n",
       "1          White  Not Span/Hispanic                4         Urgent   \n",
       "2          White  Not Span/Hispanic                3         Urgent   \n",
       "3          White  Not Span/Hispanic                1         Urgent   \n",
       "4          White  Not Span/Hispanic                3       Elective   \n",
       "\n",
       "    Home or self care,  ...  Mortality risk  Surg_Description Weight_baby  \\\n",
       "0    Home or Self Care  ...             1.0           Medical           0   \n",
       "1  Short-term Hospital  ...             2.0           Medical           0   \n",
       "2    Home or Self Care  ...             1.0           Medical           0   \n",
       "3    Home or Self Care  ...             1.0           Medical           0   \n",
       "4    Home or Self Care  ...             3.0           Medical           0   \n",
       "\n",
       "   Abortion  Emergency dept_yes/No Tot_charg  Tot_cost  \\\n",
       "0         N                      Y   5511.95   5582.49   \n",
       "1         N                      Y   4783.20   5162.82   \n",
       "2         N                      Y   3829.15   4056.52   \n",
       "3         N                      Y   1108.20   1644.75   \n",
       "4         N                      Y   3418.18   3370.87   \n",
       "\n",
       "  ratio_of_total_costs_to_total_charges Result  Payment_Typology  \n",
       "0                              1.012798      1                 1  \n",
       "1                              1.079365      1                 1  \n",
       "2                              1.059379      1                 1  \n",
       "3                              1.484167      0                 1  \n",
       "4                              0.986161      1                 1  \n",
       "\n",
       "[5 rows x 24 columns]"
      ]
     },
     "execution_count": 2,
     "metadata": {},
     "output_type": "execute_result"
    }
   ],
   "source": [
    "df = pd.read_csv(\"InsuranceDataset.csv\")\n",
    "df.head()"
   ]
  },
  {
   "cell_type": "code",
   "execution_count": 3,
   "metadata": {
    "colab": {
     "base_uri": "https://localhost:8080/"
    },
    "id": "HfKv6BRKRuxh",
    "outputId": "3671b413-33d1-4065-f8fb-750d868239fc"
   },
   "outputs": [
    {
     "data": {
      "text/plain": [
       "Index(['Area_Service', 'Hospital County', 'Hospital Id', 'Age', 'Gender',\n",
       "       'Cultural_group', 'ethnicity', 'Days_spend_hsptl', 'Admission_type',\n",
       "       'Home or self care,', 'ccs_diagnosis_code', 'ccs_procedure_code',\n",
       "       'apr_drg_description', 'Code_illness', 'Mortality risk',\n",
       "       'Surg_Description', 'Weight_baby', 'Abortion', 'Emergency dept_yes/No',\n",
       "       'Tot_charg', 'Tot_cost', 'ratio_of_total_costs_to_total_charges',\n",
       "       'Result', 'Payment_Typology'],\n",
       "      dtype='object')"
      ]
     },
     "execution_count": 3,
     "metadata": {},
     "output_type": "execute_result"
    }
   ],
   "source": [
    "df.columns"
   ]
  },
  {
   "cell_type": "code",
   "execution_count": 4,
   "metadata": {
    "colab": {
     "base_uri": "https://localhost:8080/"
    },
    "id": "XKTZLtFmRxwK",
    "outputId": "f4384506-de53-4a7c-ed27-c00b630d120d"
   },
   "outputs": [
    {
     "name": "stdout",
     "output_type": "stream",
     "text": [
      "<class 'pandas.core.frame.DataFrame'>\n",
      "RangeIndex: 1048575 entries, 0 to 1048574\n",
      "Data columns (total 24 columns):\n",
      " #   Column                                 Non-Null Count    Dtype  \n",
      "---  ------                                 --------------    -----  \n",
      " 0   Area_Service                           1046119 non-null  object \n",
      " 1   Hospital County                        1046119 non-null  object \n",
      " 2   Hospital Id                            1046119 non-null  float64\n",
      " 3   Age                                    1048575 non-null  object \n",
      " 4   Gender                                 1048575 non-null  object \n",
      " 5   Cultural_group                         1048575 non-null  object \n",
      " 6   ethnicity                              1048575 non-null  object \n",
      " 7   Days_spend_hsptl                       1048575 non-null  object \n",
      " 8   Admission_type                         1048575 non-null  object \n",
      " 9   Home or self care,                     1048575 non-null  object \n",
      " 10  ccs_diagnosis_code                     1048575 non-null  int64  \n",
      " 11  ccs_procedure_code                     1048575 non-null  int64  \n",
      " 12  apr_drg_description                    1048575 non-null  object \n",
      " 13  Code_illness                           1048575 non-null  int64  \n",
      " 14  Mortality risk                         1048533 non-null  float64\n",
      " 15  Surg_Description                       1048575 non-null  object \n",
      " 16  Weight_baby                            1048575 non-null  int64  \n",
      " 17  Abortion                               1048575 non-null  object \n",
      " 18  Emergency dept_yes/No                  1048575 non-null  object \n",
      " 19  Tot_charg                              1048575 non-null  float64\n",
      " 20  Tot_cost                               1048575 non-null  float64\n",
      " 21  ratio_of_total_costs_to_total_charges  1048575 non-null  float64\n",
      " 22  Result                                 1048575 non-null  int64  \n",
      " 23  Payment_Typology                       1048575 non-null  int64  \n",
      "dtypes: float64(5), int64(6), object(13)\n",
      "memory usage: 192.0+ MB\n"
     ]
    }
   ],
   "source": [
    "df.info()"
   ]
  },
  {
   "cell_type": "code",
   "execution_count": 5,
   "metadata": {
    "colab": {
     "base_uri": "https://localhost:8080/"
    },
    "id": "LDEdbYKsSB6Z",
    "outputId": "5dc6539e-2b03-4283-9bc2-81165eee894a"
   },
   "outputs": [
    {
     "data": {
      "text/plain": [
       "(1048575, 24)"
      ]
     },
     "execution_count": 5,
     "metadata": {},
     "output_type": "execute_result"
    }
   ],
   "source": [
    "df.shape"
   ]
  },
  {
   "cell_type": "markdown",
   "metadata": {
    "id": "ioUIOZK93voX"
   },
   "source": [
    "### Data Preprocessing"
   ]
  },
  {
   "cell_type": "markdown",
   "metadata": {
    "id": "rR2xZUcM3voY"
   },
   "source": [
    "#### 1. Drop Duplicates "
   ]
  },
  {
   "cell_type": "code",
   "execution_count": 6,
   "metadata": {
    "colab": {
     "base_uri": "https://localhost:8080/",
     "height": 334
    },
    "id": "n1nakEO73voY",
    "outputId": "c0136fe9-4b7f-46b1-adc7-ad07c507f9c1"
   },
   "outputs": [
    {
     "data": {
      "text/html": [
       "<div>\n",
       "<style scoped>\n",
       "    .dataframe tbody tr th:only-of-type {\n",
       "        vertical-align: middle;\n",
       "    }\n",
       "\n",
       "    .dataframe tbody tr th {\n",
       "        vertical-align: top;\n",
       "    }\n",
       "\n",
       "    .dataframe thead th {\n",
       "        text-align: right;\n",
       "    }\n",
       "</style>\n",
       "<table border=\"1\" class=\"dataframe\">\n",
       "  <thead>\n",
       "    <tr style=\"text-align: right;\">\n",
       "      <th></th>\n",
       "      <th>Hospital Id</th>\n",
       "      <th>ccs_diagnosis_code</th>\n",
       "      <th>ccs_procedure_code</th>\n",
       "      <th>Code_illness</th>\n",
       "      <th>Mortality risk</th>\n",
       "      <th>Weight_baby</th>\n",
       "      <th>Tot_charg</th>\n",
       "      <th>Tot_cost</th>\n",
       "      <th>ratio_of_total_costs_to_total_charges</th>\n",
       "      <th>Result</th>\n",
       "      <th>Payment_Typology</th>\n",
       "    </tr>\n",
       "  </thead>\n",
       "  <tbody>\n",
       "    <tr>\n",
       "      <th>count</th>\n",
       "      <td>1041306.0</td>\n",
       "      <td>1043761.0</td>\n",
       "      <td>1043761.0</td>\n",
       "      <td>1043761.0</td>\n",
       "      <td>1043720.0</td>\n",
       "      <td>1043761.0</td>\n",
       "      <td>1043761.0</td>\n",
       "      <td>1043761.0</td>\n",
       "      <td>1043761.0</td>\n",
       "      <td>1043761.0</td>\n",
       "      <td>1043761.0</td>\n",
       "    </tr>\n",
       "    <tr>\n",
       "      <th>mean</th>\n",
       "      <td>652.5</td>\n",
       "      <td>198.6</td>\n",
       "      <td>97.1</td>\n",
       "      <td>2.1</td>\n",
       "      <td>1.8</td>\n",
       "      <td>282.0</td>\n",
       "      <td>27190.1</td>\n",
       "      <td>10501.2</td>\n",
       "      <td>0.5</td>\n",
       "      <td>0.7</td>\n",
       "      <td>1.9</td>\n",
       "    </tr>\n",
       "    <tr>\n",
       "      <th>std</th>\n",
       "      <td>669.6</td>\n",
       "      <td>165.5</td>\n",
       "      <td>87.3</td>\n",
       "      <td>0.9</td>\n",
       "      <td>1.0</td>\n",
       "      <td>932.3</td>\n",
       "      <td>54976.5</td>\n",
       "      <td>22345.9</td>\n",
       "      <td>0.8</td>\n",
       "      <td>0.4</td>\n",
       "      <td>0.8</td>\n",
       "    </tr>\n",
       "    <tr>\n",
       "      <th>min</th>\n",
       "      <td>1.0</td>\n",
       "      <td>1.0</td>\n",
       "      <td>0.0</td>\n",
       "      <td>0.0</td>\n",
       "      <td>1.0</td>\n",
       "      <td>0.0</td>\n",
       "      <td>0.3</td>\n",
       "      <td>0.1</td>\n",
       "      <td>0.0</td>\n",
       "      <td>0.0</td>\n",
       "      <td>1.0</td>\n",
       "    </tr>\n",
       "    <tr>\n",
       "      <th>25%</th>\n",
       "      <td>213.0</td>\n",
       "      <td>108.0</td>\n",
       "      <td>0.0</td>\n",
       "      <td>1.0</td>\n",
       "      <td>1.0</td>\n",
       "      <td>0.0</td>\n",
       "      <td>7473.6</td>\n",
       "      <td>3262.2</td>\n",
       "      <td>0.3</td>\n",
       "      <td>0.0</td>\n",
       "      <td>1.0</td>\n",
       "    </tr>\n",
       "    <tr>\n",
       "      <th>50%</th>\n",
       "      <td>630.0</td>\n",
       "      <td>159.0</td>\n",
       "      <td>88.0</td>\n",
       "      <td>2.0</td>\n",
       "      <td>1.0</td>\n",
       "      <td>0.0</td>\n",
       "      <td>14669.2</td>\n",
       "      <td>5955.4</td>\n",
       "      <td>0.4</td>\n",
       "      <td>1.0</td>\n",
       "      <td>2.0</td>\n",
       "    </tr>\n",
       "    <tr>\n",
       "      <th>75%</th>\n",
       "      <td>977.0</td>\n",
       "      <td>218.0</td>\n",
       "      <td>172.0</td>\n",
       "      <td>3.0</td>\n",
       "      <td>3.0</td>\n",
       "      <td>0.0</td>\n",
       "      <td>29242.3</td>\n",
       "      <td>11377.4</td>\n",
       "      <td>0.5</td>\n",
       "      <td>1.0</td>\n",
       "      <td>3.0</td>\n",
       "    </tr>\n",
       "    <tr>\n",
       "      <th>max</th>\n",
       "      <td>9250.0</td>\n",
       "      <td>670.0</td>\n",
       "      <td>231.0</td>\n",
       "      <td>4.0</td>\n",
       "      <td>4.0</td>\n",
       "      <td>9000.0</td>\n",
       "      <td>6196973.5</td>\n",
       "      <td>2562477.7</td>\n",
       "      <td>157.6</td>\n",
       "      <td>1.0</td>\n",
       "      <td>5.0</td>\n",
       "    </tr>\n",
       "  </tbody>\n",
       "</table>\n",
       "</div>"
      ],
      "text/plain": [
       "      Hospital Id ccs_diagnosis_code ccs_procedure_code Code_illness  \\\n",
       "count   1041306.0          1043761.0          1043761.0    1043761.0   \n",
       "mean        652.5              198.6               97.1          2.1   \n",
       "std         669.6              165.5               87.3          0.9   \n",
       "min           1.0                1.0                0.0          0.0   \n",
       "25%         213.0              108.0                0.0          1.0   \n",
       "50%         630.0              159.0               88.0          2.0   \n",
       "75%         977.0              218.0              172.0          3.0   \n",
       "max        9250.0              670.0              231.0          4.0   \n",
       "\n",
       "      Mortality risk Weight_baby  Tot_charg   Tot_cost  \\\n",
       "count      1043720.0   1043761.0  1043761.0  1043761.0   \n",
       "mean             1.8       282.0    27190.1    10501.2   \n",
       "std              1.0       932.3    54976.5    22345.9   \n",
       "min              1.0         0.0        0.3        0.1   \n",
       "25%              1.0         0.0     7473.6     3262.2   \n",
       "50%              1.0         0.0    14669.2     5955.4   \n",
       "75%              3.0         0.0    29242.3    11377.4   \n",
       "max              4.0      9000.0  6196973.5  2562477.7   \n",
       "\n",
       "      ratio_of_total_costs_to_total_charges     Result Payment_Typology  \n",
       "count                             1043761.0  1043761.0        1043761.0  \n",
       "mean                                    0.5        0.7              1.9  \n",
       "std                                     0.8        0.4              0.8  \n",
       "min                                     0.0        0.0              1.0  \n",
       "25%                                     0.3        0.0              1.0  \n",
       "50%                                     0.4        1.0              2.0  \n",
       "75%                                     0.5        1.0              3.0  \n",
       "max                                   157.6        1.0              5.0  "
      ]
     },
     "execution_count": 6,
     "metadata": {},
     "output_type": "execute_result"
    }
   ],
   "source": [
    "df.drop_duplicates(inplace=True,ignore_index=True)\n",
    "df.describe().apply(lambda s: s.apply('{0:.1f}'.format))"
   ]
  },
  {
   "cell_type": "markdown",
   "metadata": {
    "id": "oQd9FjhK3voZ"
   },
   "source": [
    "#### 2. Drop NA"
   ]
  },
  {
   "cell_type": "code",
   "execution_count": 7,
   "metadata": {
    "colab": {
     "base_uri": "https://localhost:8080/"
    },
    "id": "fBvlS8P83voa",
    "outputId": "415b34a6-5786-44b5-81c1-1c312f76db65"
   },
   "outputs": [
    {
     "data": {
      "text/plain": [
       "Area_Service                             False\n",
       "Hospital County                          False\n",
       "Hospital Id                              False\n",
       "Age                                      False\n",
       "Gender                                   False\n",
       "Cultural_group                           False\n",
       "ethnicity                                False\n",
       "Days_spend_hsptl                         False\n",
       "Admission_type                           False\n",
       "Home or self care,                       False\n",
       "ccs_diagnosis_code                       False\n",
       "ccs_procedure_code                       False\n",
       "apr_drg_description                      False\n",
       "Code_illness                             False\n",
       "Mortality risk                           False\n",
       "Surg_Description                         False\n",
       "Weight_baby                              False\n",
       "Abortion                                 False\n",
       "Emergency dept_yes/No                    False\n",
       "Tot_charg                                False\n",
       "Tot_cost                                 False\n",
       "ratio_of_total_costs_to_total_charges    False\n",
       "Result                                   False\n",
       "Payment_Typology                         False\n",
       "dtype: bool"
      ]
     },
     "execution_count": 7,
     "metadata": {},
     "output_type": "execute_result"
    }
   ],
   "source": [
    "df.dropna(inplace=True)\n",
    "df.isnull().any()"
   ]
  },
  {
   "cell_type": "markdown",
   "metadata": {
    "id": "qN0hulg_3vob"
   },
   "source": [
    "#### 3. Drop Columns"
   ]
  },
  {
   "cell_type": "code",
   "execution_count": 8,
   "metadata": {
    "id": "rtAH6bXX3voc"
   },
   "outputs": [],
   "source": [
    "df.drop(['Area_Service','Hospital County','Hospital Id','Gender','Cultural_group',\"ethnicity\",\"apr_drg_description\",\"Weight_baby\",'Abortion','Payment_Typology'], axis=1, inplace=True)"
   ]
  },
  {
   "cell_type": "code",
   "execution_count": 9,
   "metadata": {
    "colab": {
     "base_uri": "https://localhost:8080/"
    },
    "id": "9dWJ7u9y3vod",
    "outputId": "273b0d71-fbef-442f-ab10-82fa02c6ad3d"
   },
   "outputs": [
    {
     "name": "stdout",
     "output_type": "stream",
     "text": [
      "<class 'pandas.core.frame.DataFrame'>\n",
      "Int64Index: 1041265 entries, 0 to 1043760\n",
      "Data columns (total 14 columns):\n",
      " #   Column                                 Non-Null Count    Dtype  \n",
      "---  ------                                 --------------    -----  \n",
      " 0   Age                                    1041265 non-null  object \n",
      " 1   Days_spend_hsptl                       1041265 non-null  object \n",
      " 2   Admission_type                         1041265 non-null  object \n",
      " 3   Home or self care,                     1041265 non-null  object \n",
      " 4   ccs_diagnosis_code                     1041265 non-null  int64  \n",
      " 5   ccs_procedure_code                     1041265 non-null  int64  \n",
      " 6   Code_illness                           1041265 non-null  int64  \n",
      " 7   Mortality risk                         1041265 non-null  float64\n",
      " 8   Surg_Description                       1041265 non-null  object \n",
      " 9   Emergency dept_yes/No                  1041265 non-null  object \n",
      " 10  Tot_charg                              1041265 non-null  float64\n",
      " 11  Tot_cost                               1041265 non-null  float64\n",
      " 12  ratio_of_total_costs_to_total_charges  1041265 non-null  float64\n",
      " 13  Result                                 1041265 non-null  int64  \n",
      "dtypes: float64(4), int64(4), object(6)\n",
      "memory usage: 119.2+ MB\n"
     ]
    }
   ],
   "source": [
    "df.info()"
   ]
  },
  {
   "cell_type": "markdown",
   "metadata": {
    "id": "mvQAKY8LTrIX"
   },
   "source": [
    "###4.Rename Column Names"
   ]
  },
  {
   "cell_type": "code",
   "execution_count": 10,
   "metadata": {
    "colab": {
     "base_uri": "https://localhost:8080/"
    },
    "id": "C4ajYOMW6M78",
    "outputId": "3c050b64-6a14-4164-c559-f6a7a99fe971"
   },
   "outputs": [
    {
     "data": {
      "text/plain": [
       "Index(['Age', 'Days_spend_hsptl', 'Admission_type', 'Home_or_self_care',\n",
       "       'ccs_diagnosis_code', 'ccs_procedure_code', 'Code_illness',\n",
       "       'Mortality_risk', 'Surg_Description', 'Emergency_dept_yes/No',\n",
       "       'Tot_charg', 'Tot_cost', 'ratio_of_total_costs_to_total_charges',\n",
       "       'Result'],\n",
       "      dtype='object')"
      ]
     },
     "execution_count": 10,
     "metadata": {},
     "output_type": "execute_result"
    }
   ],
   "source": [
    "df = df.rename(columns={'Mortality risk':'Mortality_risk',\"Home or self care,\":\"Home_or_self_care\",'Emergency dept_yes/No':'Emergency_dept_yes/No'})\n",
    "df.columns"
   ]
  },
  {
   "cell_type": "markdown",
   "metadata": {
    "id": "vVwbUp6k3vod"
   },
   "source": [
    "####5. Converting Columns to Right Datatypes"
   ]
  },
  {
   "cell_type": "code",
   "execution_count": 11,
   "metadata": {
    "id": "I-_kWELP3voe"
   },
   "outputs": [],
   "source": [
    "df.replace({'Days_spend_hsptl': '120 +'}, 120, inplace=True)\n",
    "df['Mortality_risk'] = df['Mortality_risk'].astype(int)"
   ]
  },
  {
   "cell_type": "code",
   "execution_count": 12,
   "metadata": {
    "colab": {
     "base_uri": "https://localhost:8080/",
     "height": 609
    },
    "id": "6ARFh-Y860dE",
    "outputId": "4c06b495-00a8-4f69-bcf8-e4da7fea0b12"
   },
   "outputs": [
    {
     "data": {
      "text/html": [
       "<div>\n",
       "<style scoped>\n",
       "    .dataframe tbody tr th:only-of-type {\n",
       "        vertical-align: middle;\n",
       "    }\n",
       "\n",
       "    .dataframe tbody tr th {\n",
       "        vertical-align: top;\n",
       "    }\n",
       "\n",
       "    .dataframe thead th {\n",
       "        text-align: right;\n",
       "    }\n",
       "</style>\n",
       "<table border=\"1\" class=\"dataframe\">\n",
       "  <thead>\n",
       "    <tr style=\"text-align: right;\">\n",
       "      <th></th>\n",
       "      <th>Age</th>\n",
       "      <th>Days_spend_hsptl</th>\n",
       "      <th>Admission_type</th>\n",
       "      <th>Home_or_self_care</th>\n",
       "      <th>ccs_diagnosis_code</th>\n",
       "      <th>ccs_procedure_code</th>\n",
       "      <th>Code_illness</th>\n",
       "      <th>Mortality_risk</th>\n",
       "      <th>Surg_Description</th>\n",
       "      <th>Emergency_dept_yes/No</th>\n",
       "      <th>Tot_charg</th>\n",
       "      <th>Tot_cost</th>\n",
       "      <th>ratio_of_total_costs_to_total_charges</th>\n",
       "      <th>Result</th>\n",
       "    </tr>\n",
       "  </thead>\n",
       "  <tbody>\n",
       "    <tr>\n",
       "      <th>0</th>\n",
       "      <td>30 to 49</td>\n",
       "      <td>4</td>\n",
       "      <td>Elective</td>\n",
       "      <td>Home or Self Care</td>\n",
       "      <td>122</td>\n",
       "      <td>0</td>\n",
       "      <td>1</td>\n",
       "      <td>1</td>\n",
       "      <td>Medical</td>\n",
       "      <td>Y</td>\n",
       "      <td>5511.95</td>\n",
       "      <td>5582.49</td>\n",
       "      <td>1.012798</td>\n",
       "      <td>1</td>\n",
       "    </tr>\n",
       "    <tr>\n",
       "      <th>1</th>\n",
       "      <td>70 or Older</td>\n",
       "      <td>4</td>\n",
       "      <td>Urgent</td>\n",
       "      <td>Short-term Hospital</td>\n",
       "      <td>197</td>\n",
       "      <td>0</td>\n",
       "      <td>3</td>\n",
       "      <td>2</td>\n",
       "      <td>Medical</td>\n",
       "      <td>Y</td>\n",
       "      <td>4783.20</td>\n",
       "      <td>5162.82</td>\n",
       "      <td>1.079365</td>\n",
       "      <td>1</td>\n",
       "    </tr>\n",
       "    <tr>\n",
       "      <th>2</th>\n",
       "      <td>30 to 49</td>\n",
       "      <td>3</td>\n",
       "      <td>Urgent</td>\n",
       "      <td>Home or Self Care</td>\n",
       "      <td>122</td>\n",
       "      <td>0</td>\n",
       "      <td>1</td>\n",
       "      <td>1</td>\n",
       "      <td>Medical</td>\n",
       "      <td>Y</td>\n",
       "      <td>3829.15</td>\n",
       "      <td>4056.52</td>\n",
       "      <td>1.059379</td>\n",
       "      <td>1</td>\n",
       "    </tr>\n",
       "    <tr>\n",
       "      <th>3</th>\n",
       "      <td>0 to 17</td>\n",
       "      <td>1</td>\n",
       "      <td>Urgent</td>\n",
       "      <td>Home or Self Care</td>\n",
       "      <td>122</td>\n",
       "      <td>0</td>\n",
       "      <td>1</td>\n",
       "      <td>1</td>\n",
       "      <td>Medical</td>\n",
       "      <td>Y</td>\n",
       "      <td>1108.20</td>\n",
       "      <td>1644.75</td>\n",
       "      <td>1.484167</td>\n",
       "      <td>0</td>\n",
       "    </tr>\n",
       "    <tr>\n",
       "      <th>4</th>\n",
       "      <td>70 or Older</td>\n",
       "      <td>3</td>\n",
       "      <td>Elective</td>\n",
       "      <td>Home or Self Care</td>\n",
       "      <td>122</td>\n",
       "      <td>0</td>\n",
       "      <td>2</td>\n",
       "      <td>3</td>\n",
       "      <td>Medical</td>\n",
       "      <td>Y</td>\n",
       "      <td>3418.18</td>\n",
       "      <td>3370.87</td>\n",
       "      <td>0.986161</td>\n",
       "      <td>1</td>\n",
       "    </tr>\n",
       "    <tr>\n",
       "      <th>...</th>\n",
       "      <td>...</td>\n",
       "      <td>...</td>\n",
       "      <td>...</td>\n",
       "      <td>...</td>\n",
       "      <td>...</td>\n",
       "      <td>...</td>\n",
       "      <td>...</td>\n",
       "      <td>...</td>\n",
       "      <td>...</td>\n",
       "      <td>...</td>\n",
       "      <td>...</td>\n",
       "      <td>...</td>\n",
       "      <td>...</td>\n",
       "      <td>...</td>\n",
       "    </tr>\n",
       "    <tr>\n",
       "      <th>1043756</th>\n",
       "      <td>70 or Older</td>\n",
       "      <td>6</td>\n",
       "      <td>Emergency</td>\n",
       "      <td>Skilled Nursing Home</td>\n",
       "      <td>106</td>\n",
       "      <td>29</td>\n",
       "      <td>2</td>\n",
       "      <td>3</td>\n",
       "      <td>Medical</td>\n",
       "      <td>Y</td>\n",
       "      <td>69650.41</td>\n",
       "      <td>13896.82</td>\n",
       "      <td>0.199522</td>\n",
       "      <td>1</td>\n",
       "    </tr>\n",
       "    <tr>\n",
       "      <th>1043757</th>\n",
       "      <td>0 to 17</td>\n",
       "      <td>2</td>\n",
       "      <td>Emergency</td>\n",
       "      <td>Home or Self Care</td>\n",
       "      <td>8</td>\n",
       "      <td>231</td>\n",
       "      <td>2</td>\n",
       "      <td>1</td>\n",
       "      <td>Medical</td>\n",
       "      <td>N</td>\n",
       "      <td>13587.38</td>\n",
       "      <td>3918.35</td>\n",
       "      <td>0.288382</td>\n",
       "      <td>1</td>\n",
       "    </tr>\n",
       "    <tr>\n",
       "      <th>1043758</th>\n",
       "      <td>50 to 69</td>\n",
       "      <td>13</td>\n",
       "      <td>Emergency</td>\n",
       "      <td>Medicare Cert Long Term Care Hospital</td>\n",
       "      <td>151</td>\n",
       "      <td>88</td>\n",
       "      <td>4</td>\n",
       "      <td>4</td>\n",
       "      <td>Medical</td>\n",
       "      <td>Y</td>\n",
       "      <td>104629.78</td>\n",
       "      <td>24746.64</td>\n",
       "      <td>0.236516</td>\n",
       "      <td>0</td>\n",
       "    </tr>\n",
       "    <tr>\n",
       "      <th>1043759</th>\n",
       "      <td>30 to 49</td>\n",
       "      <td>2</td>\n",
       "      <td>Emergency</td>\n",
       "      <td>Home or Self Care</td>\n",
       "      <td>143</td>\n",
       "      <td>86</td>\n",
       "      <td>1</td>\n",
       "      <td>1</td>\n",
       "      <td>Surgical</td>\n",
       "      <td>Y</td>\n",
       "      <td>27521.41</td>\n",
       "      <td>6766.04</td>\n",
       "      <td>0.245846</td>\n",
       "      <td>1</td>\n",
       "    </tr>\n",
       "    <tr>\n",
       "      <th>1043760</th>\n",
       "      <td>50 to 69</td>\n",
       "      <td>2</td>\n",
       "      <td>Emergency</td>\n",
       "      <td>Home or Self Care</td>\n",
       "      <td>106</td>\n",
       "      <td>0</td>\n",
       "      <td>1</td>\n",
       "      <td>1</td>\n",
       "      <td>Medical</td>\n",
       "      <td>Y</td>\n",
       "      <td>24832.23</td>\n",
       "      <td>4974.66</td>\n",
       "      <td>0.200331</td>\n",
       "      <td>1</td>\n",
       "    </tr>\n",
       "  </tbody>\n",
       "</table>\n",
       "<p>1041265 rows × 14 columns</p>\n",
       "</div>"
      ],
      "text/plain": [
       "                 Age Days_spend_hsptl Admission_type  \\\n",
       "0           30 to 49                4       Elective   \n",
       "1        70 or Older                4         Urgent   \n",
       "2           30 to 49                3         Urgent   \n",
       "3            0 to 17                1         Urgent   \n",
       "4        70 or Older                3       Elective   \n",
       "...              ...              ...            ...   \n",
       "1043756  70 or Older                6      Emergency   \n",
       "1043757      0 to 17                2      Emergency   \n",
       "1043758     50 to 69               13      Emergency   \n",
       "1043759     30 to 49                2      Emergency   \n",
       "1043760     50 to 69                2      Emergency   \n",
       "\n",
       "                             Home_or_self_care  ccs_diagnosis_code  \\\n",
       "0                            Home or Self Care                 122   \n",
       "1                          Short-term Hospital                 197   \n",
       "2                            Home or Self Care                 122   \n",
       "3                            Home or Self Care                 122   \n",
       "4                            Home or Self Care                 122   \n",
       "...                                        ...                 ...   \n",
       "1043756                   Skilled Nursing Home                 106   \n",
       "1043757                      Home or Self Care                   8   \n",
       "1043758  Medicare Cert Long Term Care Hospital                 151   \n",
       "1043759                      Home or Self Care                 143   \n",
       "1043760                      Home or Self Care                 106   \n",
       "\n",
       "         ccs_procedure_code  Code_illness  Mortality_risk Surg_Description  \\\n",
       "0                         0             1               1          Medical   \n",
       "1                         0             3               2          Medical   \n",
       "2                         0             1               1          Medical   \n",
       "3                         0             1               1          Medical   \n",
       "4                         0             2               3          Medical   \n",
       "...                     ...           ...             ...              ...   \n",
       "1043756                  29             2               3          Medical   \n",
       "1043757                 231             2               1          Medical   \n",
       "1043758                  88             4               4          Medical   \n",
       "1043759                  86             1               1         Surgical   \n",
       "1043760                   0             1               1          Medical   \n",
       "\n",
       "        Emergency_dept_yes/No  Tot_charg  Tot_cost  \\\n",
       "0                           Y    5511.95   5582.49   \n",
       "1                           Y    4783.20   5162.82   \n",
       "2                           Y    3829.15   4056.52   \n",
       "3                           Y    1108.20   1644.75   \n",
       "4                           Y    3418.18   3370.87   \n",
       "...                       ...        ...       ...   \n",
       "1043756                     Y   69650.41  13896.82   \n",
       "1043757                     N   13587.38   3918.35   \n",
       "1043758                     Y  104629.78  24746.64   \n",
       "1043759                     Y   27521.41   6766.04   \n",
       "1043760                     Y   24832.23   4974.66   \n",
       "\n",
       "         ratio_of_total_costs_to_total_charges  Result  \n",
       "0                                     1.012798       1  \n",
       "1                                     1.079365       1  \n",
       "2                                     1.059379       1  \n",
       "3                                     1.484167       0  \n",
       "4                                     0.986161       1  \n",
       "...                                        ...     ...  \n",
       "1043756                               0.199522       1  \n",
       "1043757                               0.288382       1  \n",
       "1043758                               0.236516       0  \n",
       "1043759                               0.245846       1  \n",
       "1043760                               0.200331       1  \n",
       "\n",
       "[1041265 rows x 14 columns]"
      ]
     },
     "execution_count": 12,
     "metadata": {},
     "output_type": "execute_result"
    }
   ],
   "source": [
    "df"
   ]
  },
  {
   "cell_type": "markdown",
   "metadata": {
    "id": "bF3bqNFS3vof"
   },
   "source": [
    "###6. Label Encoding"
   ]
  },
  {
   "cell_type": "code",
   "execution_count": 13,
   "metadata": {
    "id": "tyvBBDqr3vof"
   },
   "outputs": [],
   "source": [
    "from sklearn.preprocessing import LabelEncoder\n",
    "labelencoder = LabelEncoder()"
   ]
  },
  {
   "cell_type": "code",
   "execution_count": 14,
   "metadata": {
    "id": "Pvz_Yypb3vog"
   },
   "outputs": [],
   "source": [
    "df['Age']  = labelencoder.fit_transform(df['Age'])\n",
    "df['Admission_type'] = labelencoder.fit_transform(df['Admission_type'])\n",
    "df['Home_or_self_care'] = labelencoder.fit_transform(df['Home_or_self_care'])\n",
    "df['Surg_Description'] = labelencoder.fit_transform(df['Surg_Description'])\n",
    "df['Emergency_dept_yes/No'] = labelencoder.fit_transform(df['Emergency_dept_yes/No'])"
   ]
  },
  {
   "cell_type": "code",
   "execution_count": 15,
   "metadata": {
    "colab": {
     "base_uri": "https://localhost:8080/",
     "height": 472
    },
    "id": "ip9pZ6oxwqG_",
    "outputId": "a91ad5bc-1011-44cf-d865-41132e6600ab"
   },
   "outputs": [
    {
     "data": {
      "text/html": [
       "<div>\n",
       "<style scoped>\n",
       "    .dataframe tbody tr th:only-of-type {\n",
       "        vertical-align: middle;\n",
       "    }\n",
       "\n",
       "    .dataframe tbody tr th {\n",
       "        vertical-align: top;\n",
       "    }\n",
       "\n",
       "    .dataframe thead th {\n",
       "        text-align: right;\n",
       "    }\n",
       "</style>\n",
       "<table border=\"1\" class=\"dataframe\">\n",
       "  <thead>\n",
       "    <tr style=\"text-align: right;\">\n",
       "      <th></th>\n",
       "      <th>Age</th>\n",
       "      <th>Admission_type</th>\n",
       "      <th>Home_or_self_care</th>\n",
       "      <th>ccs_diagnosis_code</th>\n",
       "      <th>ccs_procedure_code</th>\n",
       "      <th>Code_illness</th>\n",
       "      <th>Mortality_risk</th>\n",
       "      <th>Surg_Description</th>\n",
       "      <th>Emergency_dept_yes/No</th>\n",
       "      <th>Tot_charg</th>\n",
       "      <th>Tot_cost</th>\n",
       "      <th>ratio_of_total_costs_to_total_charges</th>\n",
       "      <th>Result</th>\n",
       "    </tr>\n",
       "  </thead>\n",
       "  <tbody>\n",
       "    <tr>\n",
       "      <th>Age</th>\n",
       "      <td>1.000000</td>\n",
       "      <td>-0.109385</td>\n",
       "      <td>0.302961</td>\n",
       "      <td>-0.223039</td>\n",
       "      <td>-0.119909</td>\n",
       "      <td>0.413520</td>\n",
       "      <td>0.498528</td>\n",
       "      <td>0.092201</td>\n",
       "      <td>0.342891</td>\n",
       "      <td>0.099697</td>\n",
       "      <td>0.084832</td>\n",
       "      <td>-0.049608</td>\n",
       "      <td>0.001983</td>\n",
       "    </tr>\n",
       "    <tr>\n",
       "      <th>Admission_type</th>\n",
       "      <td>-0.109385</td>\n",
       "      <td>1.000000</td>\n",
       "      <td>-0.040385</td>\n",
       "      <td>0.012607</td>\n",
       "      <td>-0.002615</td>\n",
       "      <td>0.019216</td>\n",
       "      <td>0.013942</td>\n",
       "      <td>-0.163797</td>\n",
       "      <td>-0.076151</td>\n",
       "      <td>-0.031345</td>\n",
       "      <td>-0.022222</td>\n",
       "      <td>0.022305</td>\n",
       "      <td>-0.001403</td>\n",
       "    </tr>\n",
       "    <tr>\n",
       "      <th>Home_or_self_care</th>\n",
       "      <td>0.302961</td>\n",
       "      <td>-0.040385</td>\n",
       "      <td>1.000000</td>\n",
       "      <td>-0.070088</td>\n",
       "      <td>-0.000530</td>\n",
       "      <td>0.241575</td>\n",
       "      <td>0.243000</td>\n",
       "      <td>0.023579</td>\n",
       "      <td>0.142063</td>\n",
       "      <td>0.107349</td>\n",
       "      <td>0.096862</td>\n",
       "      <td>-0.012959</td>\n",
       "      <td>0.000477</td>\n",
       "    </tr>\n",
       "    <tr>\n",
       "      <th>ccs_diagnosis_code</th>\n",
       "      <td>-0.223039</td>\n",
       "      <td>0.012607</td>\n",
       "      <td>-0.070088</td>\n",
       "      <td>1.000000</td>\n",
       "      <td>0.051307</td>\n",
       "      <td>-0.181906</td>\n",
       "      <td>-0.269338</td>\n",
       "      <td>-0.148600</td>\n",
       "      <td>-0.100412</td>\n",
       "      <td>-0.076322</td>\n",
       "      <td>-0.041976</td>\n",
       "      <td>0.030690</td>\n",
       "      <td>0.000317</td>\n",
       "    </tr>\n",
       "    <tr>\n",
       "      <th>ccs_procedure_code</th>\n",
       "      <td>-0.119909</td>\n",
       "      <td>-0.002615</td>\n",
       "      <td>-0.000530</td>\n",
       "      <td>0.051307</td>\n",
       "      <td>1.000000</td>\n",
       "      <td>0.013522</td>\n",
       "      <td>-0.035020</td>\n",
       "      <td>0.047185</td>\n",
       "      <td>-0.170406</td>\n",
       "      <td>0.025710</td>\n",
       "      <td>0.034001</td>\n",
       "      <td>0.017527</td>\n",
       "      <td>-0.000441</td>\n",
       "    </tr>\n",
       "    <tr>\n",
       "      <th>Code_illness</th>\n",
       "      <td>0.413520</td>\n",
       "      <td>0.019216</td>\n",
       "      <td>0.241575</td>\n",
       "      <td>-0.181906</td>\n",
       "      <td>0.013522</td>\n",
       "      <td>1.000000</td>\n",
       "      <td>0.635410</td>\n",
       "      <td>-0.084941</td>\n",
       "      <td>0.307177</td>\n",
       "      <td>0.290234</td>\n",
       "      <td>0.246470</td>\n",
       "      <td>-0.033883</td>\n",
       "      <td>0.002065</td>\n",
       "    </tr>\n",
       "    <tr>\n",
       "      <th>Mortality_risk</th>\n",
       "      <td>0.498528</td>\n",
       "      <td>0.013942</td>\n",
       "      <td>0.243000</td>\n",
       "      <td>-0.269338</td>\n",
       "      <td>-0.035020</td>\n",
       "      <td>0.635410</td>\n",
       "      <td>1.000000</td>\n",
       "      <td>-0.068615</td>\n",
       "      <td>0.294515</td>\n",
       "      <td>0.221497</td>\n",
       "      <td>0.181717</td>\n",
       "      <td>-0.036955</td>\n",
       "      <td>0.002483</td>\n",
       "    </tr>\n",
       "    <tr>\n",
       "      <th>Surg_Description</th>\n",
       "      <td>0.092201</td>\n",
       "      <td>-0.163797</td>\n",
       "      <td>0.023579</td>\n",
       "      <td>-0.148600</td>\n",
       "      <td>0.047185</td>\n",
       "      <td>-0.084941</td>\n",
       "      <td>-0.068615</td>\n",
       "      <td>1.000000</td>\n",
       "      <td>-0.277383</td>\n",
       "      <td>0.210457</td>\n",
       "      <td>0.192765</td>\n",
       "      <td>-0.010672</td>\n",
       "      <td>-0.002039</td>\n",
       "    </tr>\n",
       "    <tr>\n",
       "      <th>Emergency_dept_yes/No</th>\n",
       "      <td>0.342891</td>\n",
       "      <td>-0.076151</td>\n",
       "      <td>0.142063</td>\n",
       "      <td>-0.100412</td>\n",
       "      <td>-0.170406</td>\n",
       "      <td>0.307177</td>\n",
       "      <td>0.294515</td>\n",
       "      <td>-0.277383</td>\n",
       "      <td>1.000000</td>\n",
       "      <td>0.010675</td>\n",
       "      <td>-0.009997</td>\n",
       "      <td>-0.049358</td>\n",
       "      <td>0.002676</td>\n",
       "    </tr>\n",
       "    <tr>\n",
       "      <th>Tot_charg</th>\n",
       "      <td>0.099697</td>\n",
       "      <td>-0.031345</td>\n",
       "      <td>0.107349</td>\n",
       "      <td>-0.076322</td>\n",
       "      <td>0.025710</td>\n",
       "      <td>0.290234</td>\n",
       "      <td>0.221497</td>\n",
       "      <td>0.210457</td>\n",
       "      <td>0.010675</td>\n",
       "      <td>1.000000</td>\n",
       "      <td>0.723527</td>\n",
       "      <td>-0.043142</td>\n",
       "      <td>-0.001055</td>\n",
       "    </tr>\n",
       "    <tr>\n",
       "      <th>Tot_cost</th>\n",
       "      <td>0.084832</td>\n",
       "      <td>-0.022222</td>\n",
       "      <td>0.096862</td>\n",
       "      <td>-0.041976</td>\n",
       "      <td>0.034001</td>\n",
       "      <td>0.246470</td>\n",
       "      <td>0.181717</td>\n",
       "      <td>0.192765</td>\n",
       "      <td>-0.009997</td>\n",
       "      <td>0.723527</td>\n",
       "      <td>1.000000</td>\n",
       "      <td>0.421115</td>\n",
       "      <td>-0.001400</td>\n",
       "    </tr>\n",
       "    <tr>\n",
       "      <th>ratio_of_total_costs_to_total_charges</th>\n",
       "      <td>-0.049608</td>\n",
       "      <td>0.022305</td>\n",
       "      <td>-0.012959</td>\n",
       "      <td>0.030690</td>\n",
       "      <td>0.017527</td>\n",
       "      <td>-0.033883</td>\n",
       "      <td>-0.036955</td>\n",
       "      <td>-0.010672</td>\n",
       "      <td>-0.049358</td>\n",
       "      <td>-0.043142</td>\n",
       "      <td>0.421115</td>\n",
       "      <td>1.000000</td>\n",
       "      <td>0.000465</td>\n",
       "    </tr>\n",
       "    <tr>\n",
       "      <th>Result</th>\n",
       "      <td>0.001983</td>\n",
       "      <td>-0.001403</td>\n",
       "      <td>0.000477</td>\n",
       "      <td>0.000317</td>\n",
       "      <td>-0.000441</td>\n",
       "      <td>0.002065</td>\n",
       "      <td>0.002483</td>\n",
       "      <td>-0.002039</td>\n",
       "      <td>0.002676</td>\n",
       "      <td>-0.001055</td>\n",
       "      <td>-0.001400</td>\n",
       "      <td>0.000465</td>\n",
       "      <td>1.000000</td>\n",
       "    </tr>\n",
       "  </tbody>\n",
       "</table>\n",
       "</div>"
      ],
      "text/plain": [
       "                                            Age  Admission_type  \\\n",
       "Age                                    1.000000       -0.109385   \n",
       "Admission_type                        -0.109385        1.000000   \n",
       "Home_or_self_care                      0.302961       -0.040385   \n",
       "ccs_diagnosis_code                    -0.223039        0.012607   \n",
       "ccs_procedure_code                    -0.119909       -0.002615   \n",
       "Code_illness                           0.413520        0.019216   \n",
       "Mortality_risk                         0.498528        0.013942   \n",
       "Surg_Description                       0.092201       -0.163797   \n",
       "Emergency_dept_yes/No                  0.342891       -0.076151   \n",
       "Tot_charg                              0.099697       -0.031345   \n",
       "Tot_cost                               0.084832       -0.022222   \n",
       "ratio_of_total_costs_to_total_charges -0.049608        0.022305   \n",
       "Result                                 0.001983       -0.001403   \n",
       "\n",
       "                                       Home_or_self_care  ccs_diagnosis_code  \\\n",
       "Age                                             0.302961           -0.223039   \n",
       "Admission_type                                 -0.040385            0.012607   \n",
       "Home_or_self_care                               1.000000           -0.070088   \n",
       "ccs_diagnosis_code                             -0.070088            1.000000   \n",
       "ccs_procedure_code                             -0.000530            0.051307   \n",
       "Code_illness                                    0.241575           -0.181906   \n",
       "Mortality_risk                                  0.243000           -0.269338   \n",
       "Surg_Description                                0.023579           -0.148600   \n",
       "Emergency_dept_yes/No                           0.142063           -0.100412   \n",
       "Tot_charg                                       0.107349           -0.076322   \n",
       "Tot_cost                                        0.096862           -0.041976   \n",
       "ratio_of_total_costs_to_total_charges          -0.012959            0.030690   \n",
       "Result                                          0.000477            0.000317   \n",
       "\n",
       "                                       ccs_procedure_code  Code_illness  \\\n",
       "Age                                             -0.119909      0.413520   \n",
       "Admission_type                                  -0.002615      0.019216   \n",
       "Home_or_self_care                               -0.000530      0.241575   \n",
       "ccs_diagnosis_code                               0.051307     -0.181906   \n",
       "ccs_procedure_code                               1.000000      0.013522   \n",
       "Code_illness                                     0.013522      1.000000   \n",
       "Mortality_risk                                  -0.035020      0.635410   \n",
       "Surg_Description                                 0.047185     -0.084941   \n",
       "Emergency_dept_yes/No                           -0.170406      0.307177   \n",
       "Tot_charg                                        0.025710      0.290234   \n",
       "Tot_cost                                         0.034001      0.246470   \n",
       "ratio_of_total_costs_to_total_charges            0.017527     -0.033883   \n",
       "Result                                          -0.000441      0.002065   \n",
       "\n",
       "                                       Mortality_risk  Surg_Description  \\\n",
       "Age                                          0.498528          0.092201   \n",
       "Admission_type                               0.013942         -0.163797   \n",
       "Home_or_self_care                            0.243000          0.023579   \n",
       "ccs_diagnosis_code                          -0.269338         -0.148600   \n",
       "ccs_procedure_code                          -0.035020          0.047185   \n",
       "Code_illness                                 0.635410         -0.084941   \n",
       "Mortality_risk                               1.000000         -0.068615   \n",
       "Surg_Description                            -0.068615          1.000000   \n",
       "Emergency_dept_yes/No                        0.294515         -0.277383   \n",
       "Tot_charg                                    0.221497          0.210457   \n",
       "Tot_cost                                     0.181717          0.192765   \n",
       "ratio_of_total_costs_to_total_charges       -0.036955         -0.010672   \n",
       "Result                                       0.002483         -0.002039   \n",
       "\n",
       "                                       Emergency_dept_yes/No  Tot_charg  \\\n",
       "Age                                                 0.342891   0.099697   \n",
       "Admission_type                                     -0.076151  -0.031345   \n",
       "Home_or_self_care                                   0.142063   0.107349   \n",
       "ccs_diagnosis_code                                 -0.100412  -0.076322   \n",
       "ccs_procedure_code                                 -0.170406   0.025710   \n",
       "Code_illness                                        0.307177   0.290234   \n",
       "Mortality_risk                                      0.294515   0.221497   \n",
       "Surg_Description                                   -0.277383   0.210457   \n",
       "Emergency_dept_yes/No                               1.000000   0.010675   \n",
       "Tot_charg                                           0.010675   1.000000   \n",
       "Tot_cost                                           -0.009997   0.723527   \n",
       "ratio_of_total_costs_to_total_charges              -0.049358  -0.043142   \n",
       "Result                                              0.002676  -0.001055   \n",
       "\n",
       "                                       Tot_cost  \\\n",
       "Age                                    0.084832   \n",
       "Admission_type                        -0.022222   \n",
       "Home_or_self_care                      0.096862   \n",
       "ccs_diagnosis_code                    -0.041976   \n",
       "ccs_procedure_code                     0.034001   \n",
       "Code_illness                           0.246470   \n",
       "Mortality_risk                         0.181717   \n",
       "Surg_Description                       0.192765   \n",
       "Emergency_dept_yes/No                 -0.009997   \n",
       "Tot_charg                              0.723527   \n",
       "Tot_cost                               1.000000   \n",
       "ratio_of_total_costs_to_total_charges  0.421115   \n",
       "Result                                -0.001400   \n",
       "\n",
       "                                       ratio_of_total_costs_to_total_charges  \\\n",
       "Age                                                                -0.049608   \n",
       "Admission_type                                                      0.022305   \n",
       "Home_or_self_care                                                  -0.012959   \n",
       "ccs_diagnosis_code                                                  0.030690   \n",
       "ccs_procedure_code                                                  0.017527   \n",
       "Code_illness                                                       -0.033883   \n",
       "Mortality_risk                                                     -0.036955   \n",
       "Surg_Description                                                   -0.010672   \n",
       "Emergency_dept_yes/No                                              -0.049358   \n",
       "Tot_charg                                                          -0.043142   \n",
       "Tot_cost                                                            0.421115   \n",
       "ratio_of_total_costs_to_total_charges                               1.000000   \n",
       "Result                                                              0.000465   \n",
       "\n",
       "                                         Result  \n",
       "Age                                    0.001983  \n",
       "Admission_type                        -0.001403  \n",
       "Home_or_self_care                      0.000477  \n",
       "ccs_diagnosis_code                     0.000317  \n",
       "ccs_procedure_code                    -0.000441  \n",
       "Code_illness                           0.002065  \n",
       "Mortality_risk                         0.002483  \n",
       "Surg_Description                      -0.002039  \n",
       "Emergency_dept_yes/No                  0.002676  \n",
       "Tot_charg                             -0.001055  \n",
       "Tot_cost                              -0.001400  \n",
       "ratio_of_total_costs_to_total_charges  0.000465  \n",
       "Result                                 1.000000  "
      ]
     },
     "execution_count": 15,
     "metadata": {},
     "output_type": "execute_result"
    }
   ],
   "source": [
    "df.corr()"
   ]
  },
  {
   "cell_type": "code",
   "execution_count": 16,
   "metadata": {
    "colab": {
     "base_uri": "https://localhost:8080/"
    },
    "id": "cjMiVXwUTiW1",
    "outputId": "5eaefd5c-6fdb-4792-ed48-ba1c4a39784f"
   },
   "outputs": [
    {
     "data": {
      "text/plain": [
       "1    780361\n",
       "0    260904\n",
       "Name: Result, dtype: int64"
      ]
     },
     "execution_count": 16,
     "metadata": {},
     "output_type": "execute_result"
    }
   ],
   "source": [
    "df['Result'].value_counts()"
   ]
  },
  {
   "cell_type": "code",
   "execution_count": 17,
   "metadata": {
    "colab": {
     "base_uri": "https://localhost:8080/",
     "height": 279
    },
    "id": "erHOmBjTURq_",
    "outputId": "f3213c3d-fb18-4616-9690-3a6fcb277048"
   },
   "outputs": [
    {
     "data": {
      "image/png": "[encoded data removed]",
      "text/plain": [
       "<Figure size 432x288 with 1 Axes>"
      ]
     },
     "metadata": {
      "needs_background": "light"
     },
     "output_type": "display_data"
    }
   ],
   "source": [
    "g = sns.countplot(df['Result'])\n",
    "g.set_xticklabels(['Fraud','Genuine'])\n",
    "plt.show()"
   ]
  },
  {
   "cell_type": "markdown",
   "metadata": {
    "id": "TjwZrwmqOCZ0"
   },
   "source": [
    "##Assigning X and Y on Variable"
   ]
  },
  {
   "cell_type": "code",
   "execution_count": 18,
   "metadata": {
    "id": "KEPh__Mg_yKp"
   },
   "outputs": [],
   "source": [
    "X = df.drop(['Result'],axis=1)\n",
    "Y = df.Result"
   ]
  },
  {
   "cell_type": "markdown",
   "metadata": {
    "id": "-6F6r5_DTSAq"
   },
   "source": [
    "##Oversampling Complete Dataset using SMOTETomek"
   ]
  },
  {
   "cell_type": "code",
   "execution_count": 20,
   "metadata": {
    "id": "-EiN-isPs8LN"
   },
   "outputs": [],
   "source": [
    "from imblearn.combine import SMOTETomek\n",
    "smt = SMOTETomek(sampling_strategy=\"auto\",random_state=42)\n",
    "X_smt, Y_smt = smt.fit_sample(X,Y)"
   ]
  },
  {
   "cell_type": "code",
   "execution_count": 21,
   "metadata": {
    "colab": {
     "base_uri": "https://localhost:8080/"
    },
    "id": "vmr75icgqK8X",
    "outputId": "d41e1125-9074-44b4-c749-f24cf26873b0"
   },
   "outputs": [
    {
     "data": {
      "text/plain": [
       "array([718461, 718461], dtype=int64)"
      ]
     },
     "execution_count": 21,
     "metadata": {},
     "output_type": "execute_result"
    }
   ],
   "source": [
    "unique, count = np.unique(Y_smt, return_counts=True)\n",
    "count"
   ]
  },
  {
   "cell_type": "markdown",
   "metadata": {
    "id": "FgyVmq0vs_ZH"
   },
   "source": [
    "##Train Test Split"
   ]
  },
  {
   "cell_type": "code",
   "execution_count": 22,
   "metadata": {
    "id": "PKQPuQQcqK54"
   },
   "outputs": [],
   "source": [
    "X_train,X_test,Y_train,Y_test = train_test_split(X_smt,Y_smt,test_size=0.2,stratify=Y_smt)"
   ]
  },
  {
   "cell_type": "code",
   "execution_count": 23,
   "metadata": {
    "colab": {
     "base_uri": "https://localhost:8080/"
    },
    "id": "dPlm2pu6tB4K",
    "outputId": "95992a42-a1ec-44cd-9605-812b930f05b7"
   },
   "outputs": [
    {
     "data": {
      "text/plain": [
       "array([574768, 574769], dtype=int64)"
      ]
     },
     "execution_count": 23,
     "metadata": {},
     "output_type": "execute_result"
    }
   ],
   "source": [
    "unique, count = np.unique(Y_train,return_counts=True)\n",
    "count"
   ]
  },
  {
   "cell_type": "markdown",
   "metadata": {
    "id": "JvVFA25Y3vo4"
   },
   "source": [
    "#**Model Building**"
   ]
  },
  {
   "cell_type": "markdown",
   "metadata": {
    "id": "AKD0dhQWxF2Y"
   },
   "source": [
    "##**Random Forest Classifier**"
   ]
  },
  {
   "cell_type": "code",
   "execution_count": 24,
   "metadata": {
    "colab": {
     "base_uri": "https://localhost:8080/"
    },
    "id": "o9PmC35luB6O",
    "outputId": "470c2ea1-ce74-4ceb-d79f-bb7f92e0d568"
   },
   "outputs": [
    {
     "data": {
      "text/plain": [
       "RandomForestClassifier(max_features=6, min_samples_leaf=6, min_samples_split=5,\n",
       "                       n_estimators=13, n_jobs=-1)"
      ]
     },
     "execution_count": 24,
     "metadata": {},
     "output_type": "execute_result"
    }
   ],
   "source": [
    "Model = RandomForestClassifier(n_estimators=13,max_features=6,min_samples_leaf=6,min_samples_split=5,n_jobs=-1)\n",
    "Model.fit(X_train,Y_train)"
   ]
  },
  {
   "cell_type": "code",
   "execution_count": 25,
   "metadata": {
    "colab": {
     "base_uri": "https://localhost:8080/"
    },
    "id": "zRIDwBYXxywx",
    "outputId": "34391b94-8cae-4de7-c69f-e76a442ab7ad"
   },
   "outputs": [
    {
     "name": "stdout",
     "output_type": "stream",
     "text": [
      "              precision    recall  f1-score   support\n",
      "\n",
      "           0       0.94      0.79      0.86    574768\n",
      "           1       0.82      0.95      0.88    574769\n",
      "\n",
      "    accuracy                           0.87   1149537\n",
      "   macro avg       0.88      0.87      0.87   1149537\n",
      "weighted avg       0.88      0.87      0.87   1149537\n",
      "\n"
     ]
    }
   ],
   "source": [
    "Y_train_pred = Model.predict(X_train)\n",
    "print(classification_report(Y_train,Y_train_pred))"
   ]
  },
  {
   "cell_type": "code",
   "execution_count": 26,
   "metadata": {
    "colab": {
     "base_uri": "https://localhost:8080/"
    },
    "id": "9JAYLeIjuB3A",
    "outputId": "318abdc4-4a28-49e5-8da6-27984a446b78"
   },
   "outputs": [
    {
     "name": "stdout",
     "output_type": "stream",
     "text": [
      "              precision    recall  f1-score   support\n",
      "\n",
      "           0       0.85      0.66      0.75    143693\n",
      "           1       0.72      0.89      0.80    143692\n",
      "\n",
      "    accuracy                           0.77    287385\n",
      "   macro avg       0.79      0.77      0.77    287385\n",
      "weighted avg       0.79      0.77      0.77    287385\n",
      "\n"
     ]
    }
   ],
   "source": [
    "Y_pred = Model.predict(X_test)\n",
    "print(classification_report(Y_test,Y_pred))"
   ]
  },
  {
   "cell_type": "markdown",
   "metadata": {
    "id": "dXrxIPnhkuYS"
   },
   "source": [
    "#**Training Model on Complete Dataset**"
   ]
  },
  {
   "cell_type": "code",
   "execution_count": 27,
   "metadata": {
    "colab": {
     "base_uri": "https://localhost:8080/"
    },
    "id": "PQjyPvoCk15i",
    "outputId": "f653cd2f-518d-4f68-cfe7-13630da5dbeb"
   },
   "outputs": [
    {
     "data": {
      "text/plain": [
       "RandomForestClassifier(max_features=6, min_samples_leaf=6, min_samples_split=5,\n",
       "                       n_estimators=13, n_jobs=-1)"
      ]
     },
     "execution_count": 27,
     "metadata": {},
     "output_type": "execute_result"
    }
   ],
   "source": [
    "Model_final = RandomForestClassifier(n_estimators=13,max_features=6,min_samples_leaf=6,min_samples_split=5,n_jobs=-1)\n",
    "Model_final.fit(X_smt,Y_smt)"
   ]
  },
  {
   "cell_type": "markdown",
   "metadata": {
    "id": "Hf1nRWquScLr"
   },
   "source": [
    "##Save Model"
   ]
  },
  {
   "cell_type": "code",
   "execution_count": 29,
   "metadata": {
    "colab": {
     "base_uri": "https://localhost:8080/"
    },
    "id": "a_F0yBnFCwNe",
    "outputId": "2558839a-0fe7-47d7-d351-8ca02f4ad395"
   },
   "outputs": [
    {
     "data": {
      "text/plain": [
       "['RFModel.joblib']"
      ]
     },
     "execution_count": 29,
     "metadata": {},
     "output_type": "execute_result"
    }
   ],
   "source": [
    "import joblib\n",
    "#Serialize the model and save\n",
    "from sklearn.externals import joblib\n",
    "#from joblib import dump, load\n",
    "joblib.dump(Model_final, 'RFModel.joblib',0)"
   ]
  },
  {
   "cell_type": "code",
   "execution_count": 30,
   "metadata": {
    "id": "mIicxC2BB5Cl"
   },
   "outputs": [],
   "source": [
    "import pickle\n",
    "with open('Model_final.joblib','wb') as f:\n",
    "  pickle.dump(Model_final,f,-1)"
   ]
  },
  {
   "cell_type": "markdown",
   "metadata": {},
   "source": [
    "# Building a model for small sample for deployment purpose"
   ]
  },
  {
   "cell_type": "code",
   "execution_count": 45,
   "metadata": {},
   "outputs": [
    {
     "data": {
      "text/html": [
       "<div>\n",
       "<style scoped>\n",
       "    .dataframe tbody tr th:only-of-type {\n",
       "        vertical-align: middle;\n",
       "    }\n",
       "\n",
       "    .dataframe tbody tr th {\n",
       "        vertical-align: top;\n",
       "    }\n",
       "\n",
       "    .dataframe thead th {\n",
       "        text-align: right;\n",
       "    }\n",
       "</style>\n",
       "<table border=\"1\" class=\"dataframe\">\n",
       "  <thead>\n",
       "    <tr style=\"text-align: right;\">\n",
       "      <th></th>\n",
       "      <th>Age</th>\n",
       "      <th>Days_spend_hsptl</th>\n",
       "      <th>Admission_type</th>\n",
       "      <th>Home_or_self_care</th>\n",
       "      <th>ccs_diagnosis_code</th>\n",
       "      <th>ccs_procedure_code</th>\n",
       "      <th>Code_illness</th>\n",
       "      <th>Mortality_risk</th>\n",
       "      <th>Surg_Description</th>\n",
       "      <th>Emergency_dept_yes/No</th>\n",
       "      <th>Tot_charg</th>\n",
       "      <th>Tot_cost</th>\n",
       "      <th>ratio_of_total_costs_to_total_charges</th>\n",
       "      <th>Result</th>\n",
       "    </tr>\n",
       "  </thead>\n",
       "  <tbody>\n",
       "    <tr>\n",
       "      <th>563816</th>\n",
       "      <td>2</td>\n",
       "      <td>13</td>\n",
       "      <td>1</td>\n",
       "      <td>2</td>\n",
       "      <td>2</td>\n",
       "      <td>162</td>\n",
       "      <td>4</td>\n",
       "      <td>3</td>\n",
       "      <td>1</td>\n",
       "      <td>1</td>\n",
       "      <td>129340.91</td>\n",
       "      <td>42657.56</td>\n",
       "      <td>0.329807</td>\n",
       "      <td>1</td>\n",
       "    </tr>\n",
       "    <tr>\n",
       "      <th>28590</th>\n",
       "      <td>4</td>\n",
       "      <td>6</td>\n",
       "      <td>1</td>\n",
       "      <td>18</td>\n",
       "      <td>205</td>\n",
       "      <td>155</td>\n",
       "      <td>3</td>\n",
       "      <td>4</td>\n",
       "      <td>0</td>\n",
       "      <td>1</td>\n",
       "      <td>15045.32</td>\n",
       "      <td>7321.83</td>\n",
       "      <td>0.486652</td>\n",
       "      <td>1</td>\n",
       "    </tr>\n",
       "  </tbody>\n",
       "</table>\n",
       "</div>"
      ],
      "text/plain": [
       "        Age Days_spend_hsptl  Admission_type  Home_or_self_care  \\\n",
       "563816    2               13               1                  2   \n",
       "28590     4                6               1                 18   \n",
       "\n",
       "        ccs_diagnosis_code  ccs_procedure_code  Code_illness  Mortality_risk  \\\n",
       "563816                   2                 162             4               3   \n",
       "28590                  205                 155             3               4   \n",
       "\n",
       "        Surg_Description  Emergency_dept_yes/No  Tot_charg  Tot_cost  \\\n",
       "563816                 1                      1  129340.91  42657.56   \n",
       "28590                  0                      1   15045.32   7321.83   \n",
       "\n",
       "        ratio_of_total_costs_to_total_charges  Result  \n",
       "563816                               0.329807       1  \n",
       "28590                                0.486652       1  "
      ]
     },
     "execution_count": 45,
     "metadata": {},
     "output_type": "execute_result"
    }
   ],
   "source": [
    "# taking sample data from dataset..\n",
    "\n",
    "sample = df.sample(250000)\n",
    "sample.head(2)"
   ]
  },
  {
   "cell_type": "code",
   "execution_count": 46,
   "metadata": {},
   "outputs": [
    {
     "data": {
      "text/plain": [
       "(250000, 14)"
      ]
     },
     "execution_count": 46,
     "metadata": {},
     "output_type": "execute_result"
    }
   ],
   "source": [
    "sample.shape"
   ]
  },
  {
   "cell_type": "code",
   "execution_count": 47,
   "metadata": {},
   "outputs": [],
   "source": [
    "index= sample.index.to_list()"
   ]
  },
  {
   "cell_type": "code",
   "execution_count": 48,
   "metadata": {},
   "outputs": [
    {
     "name": "stdout",
     "output_type": "stream",
     "text": [
      "<class 'pandas.core.frame.DataFrame'>\n",
      "Int64Index: 250000 entries, 563816 to 311395\n",
      "Data columns (total 14 columns):\n",
      " #   Column                                 Non-Null Count   Dtype  \n",
      "---  ------                                 --------------   -----  \n",
      " 0   Age                                    250000 non-null  int32  \n",
      " 1   Days_spend_hsptl                       250000 non-null  object \n",
      " 2   Admission_type                         250000 non-null  int32  \n",
      " 3   Home_or_self_care                      250000 non-null  int32  \n",
      " 4   ccs_diagnosis_code                     250000 non-null  int64  \n",
      " 5   ccs_procedure_code                     250000 non-null  int64  \n",
      " 6   Code_illness                           250000 non-null  int64  \n",
      " 7   Mortality_risk                         250000 non-null  int32  \n",
      " 8   Surg_Description                       250000 non-null  int32  \n",
      " 9   Emergency_dept_yes/No                  250000 non-null  int32  \n",
      " 10  Tot_charg                              250000 non-null  float64\n",
      " 11  Tot_cost                               250000 non-null  float64\n",
      " 12  ratio_of_total_costs_to_total_charges  250000 non-null  float64\n",
      " 13  Result                                 250000 non-null  int64  \n",
      "dtypes: float64(3), int32(6), int64(4), object(1)\n",
      "memory usage: 22.9+ MB\n"
     ]
    }
   ],
   "source": [
    "# checking memory size of sample data..\n",
    "\n",
    "sample.info()"
   ]
  },
  {
   "cell_type": "markdown",
   "metadata": {},
   "source": [
    "* Now it is showing 23 MB size which will be ok for deployment part of view.\n",
    "\n",
    "* Note: This model will may not be good fit on whole dataset. F1 score, Accuracy may drop in large proportion"
   ]
  },
  {
   "cell_type": "code",
   "execution_count": 49,
   "metadata": {},
   "outputs": [
    {
     "data": {
      "text/plain": [
       "1    187559\n",
       "0     62441\n",
       "Name: Result, dtype: int64"
      ]
     },
     "execution_count": 49,
     "metadata": {},
     "output_type": "execute_result"
    }
   ],
   "source": [
    "# Checking for imbalance state\n",
    "\n",
    "sample.Result.value_counts()"
   ]
  },
  {
   "cell_type": "code",
   "execution_count": 50,
   "metadata": {},
   "outputs": [],
   "source": [
    "# # seperating majority & minority classes\n",
    "\n",
    "sample_1 = sample.loc[sample['Result']==1]\n",
    "sample_0 = sample.loc[sample['Result']==0]"
   ]
  },
  {
   "cell_type": "code",
   "execution_count": 51,
   "metadata": {},
   "outputs": [],
   "source": [
    "# and will do upsampling of class '1'\n",
    "\n",
    "from sklearn.utils import resample\n",
    "sample_0 = resample(sample_0, replace=True, n_samples=5500, random_state=42)\n",
    "\n",
    "sample_upsampled = pd.concat([sample_0, sample_1], ignore_index=True)"
   ]
  },
  {
   "cell_type": "code",
   "execution_count": 52,
   "metadata": {},
   "outputs": [
    {
     "data": {
      "text/plain": [
       "(193059, 14)"
      ]
     },
     "execution_count": 52,
     "metadata": {},
     "output_type": "execute_result"
    }
   ],
   "source": [
    "sample_upsampled.shape"
   ]
  },
  {
   "cell_type": "code",
   "execution_count": 53,
   "metadata": {},
   "outputs": [
    {
     "data": {
      "text/html": [
       "<div>\n",
       "<style scoped>\n",
       "    .dataframe tbody tr th:only-of-type {\n",
       "        vertical-align: middle;\n",
       "    }\n",
       "\n",
       "    .dataframe tbody tr th {\n",
       "        vertical-align: top;\n",
       "    }\n",
       "\n",
       "    .dataframe thead th {\n",
       "        text-align: right;\n",
       "    }\n",
       "</style>\n",
       "<table border=\"1\" class=\"dataframe\">\n",
       "  <thead>\n",
       "    <tr style=\"text-align: right;\">\n",
       "      <th></th>\n",
       "      <th>Age</th>\n",
       "      <th>Days_spend_hsptl</th>\n",
       "      <th>Admission_type</th>\n",
       "      <th>Home_or_self_care</th>\n",
       "      <th>ccs_diagnosis_code</th>\n",
       "      <th>ccs_procedure_code</th>\n",
       "      <th>Code_illness</th>\n",
       "      <th>Mortality_risk</th>\n",
       "      <th>Surg_Description</th>\n",
       "      <th>Emergency_dept_yes/No</th>\n",
       "      <th>Tot_charg</th>\n",
       "      <th>Tot_cost</th>\n",
       "      <th>ratio_of_total_costs_to_total_charges</th>\n",
       "      <th>Result</th>\n",
       "    </tr>\n",
       "  </thead>\n",
       "  <tbody>\n",
       "    <tr>\n",
       "      <th>0</th>\n",
       "      <td>2</td>\n",
       "      <td>2</td>\n",
       "      <td>0</td>\n",
       "      <td>7</td>\n",
       "      <td>185</td>\n",
       "      <td>137</td>\n",
       "      <td>2</td>\n",
       "      <td>1</td>\n",
       "      <td>0</td>\n",
       "      <td>0</td>\n",
       "      <td>5443.58</td>\n",
       "      <td>2435.65</td>\n",
       "      <td>0.447436</td>\n",
       "      <td>0</td>\n",
       "    </tr>\n",
       "    <tr>\n",
       "      <th>1</th>\n",
       "      <td>4</td>\n",
       "      <td>6</td>\n",
       "      <td>1</td>\n",
       "      <td>18</td>\n",
       "      <td>109</td>\n",
       "      <td>193</td>\n",
       "      <td>3</td>\n",
       "      <td>2</td>\n",
       "      <td>0</td>\n",
       "      <td>1</td>\n",
       "      <td>23357.91</td>\n",
       "      <td>10673.56</td>\n",
       "      <td>0.456957</td>\n",
       "      <td>0</td>\n",
       "    </tr>\n",
       "    <tr>\n",
       "      <th>2</th>\n",
       "      <td>1</td>\n",
       "      <td>5</td>\n",
       "      <td>0</td>\n",
       "      <td>8</td>\n",
       "      <td>183</td>\n",
       "      <td>134</td>\n",
       "      <td>3</td>\n",
       "      <td>1</td>\n",
       "      <td>1</td>\n",
       "      <td>0</td>\n",
       "      <td>51359.72</td>\n",
       "      <td>10413.59</td>\n",
       "      <td>0.202758</td>\n",
       "      <td>0</td>\n",
       "    </tr>\n",
       "    <tr>\n",
       "      <th>3</th>\n",
       "      <td>1</td>\n",
       "      <td>10</td>\n",
       "      <td>5</td>\n",
       "      <td>7</td>\n",
       "      <td>184</td>\n",
       "      <td>134</td>\n",
       "      <td>2</td>\n",
       "      <td>1</td>\n",
       "      <td>1</td>\n",
       "      <td>0</td>\n",
       "      <td>29604.54</td>\n",
       "      <td>16477.71</td>\n",
       "      <td>0.556594</td>\n",
       "      <td>0</td>\n",
       "    </tr>\n",
       "    <tr>\n",
       "      <th>4</th>\n",
       "      <td>2</td>\n",
       "      <td>6</td>\n",
       "      <td>5</td>\n",
       "      <td>7</td>\n",
       "      <td>152</td>\n",
       "      <td>70</td>\n",
       "      <td>1</td>\n",
       "      <td>1</td>\n",
       "      <td>0</td>\n",
       "      <td>1</td>\n",
       "      <td>16290.65</td>\n",
       "      <td>6928.71</td>\n",
       "      <td>0.425318</td>\n",
       "      <td>0</td>\n",
       "    </tr>\n",
       "  </tbody>\n",
       "</table>\n",
       "</div>"
      ],
      "text/plain": [
       "   Age Days_spend_hsptl  Admission_type  Home_or_self_care  \\\n",
       "0    2                2               0                  7   \n",
       "1    4                6               1                 18   \n",
       "2    1                5               0                  8   \n",
       "3    1               10               5                  7   \n",
       "4    2                6               5                  7   \n",
       "\n",
       "   ccs_diagnosis_code  ccs_procedure_code  Code_illness  Mortality_risk  \\\n",
       "0                 185                 137             2               1   \n",
       "1                 109                 193             3               2   \n",
       "2                 183                 134             3               1   \n",
       "3                 184                 134             2               1   \n",
       "4                 152                  70             1               1   \n",
       "\n",
       "   Surg_Description  Emergency_dept_yes/No  Tot_charg  Tot_cost  \\\n",
       "0                 0                      0    5443.58   2435.65   \n",
       "1                 0                      1   23357.91  10673.56   \n",
       "2                 1                      0   51359.72  10413.59   \n",
       "3                 1                      0   29604.54  16477.71   \n",
       "4                 0                      1   16290.65   6928.71   \n",
       "\n",
       "   ratio_of_total_costs_to_total_charges  Result  \n",
       "0                               0.447436       0  \n",
       "1                               0.456957       0  \n",
       "2                               0.202758       0  \n",
       "3                               0.556594       0  \n",
       "4                               0.425318       0  "
      ]
     },
     "execution_count": 53,
     "metadata": {},
     "output_type": "execute_result"
    }
   ],
   "source": [
    "sample_upsampled.head()"
   ]
  },
  {
   "cell_type": "code",
   "execution_count": 54,
   "metadata": {},
   "outputs": [
    {
     "data": {
      "text/plain": [
       "1    0.971511\n",
       "0    0.028489\n",
       "Name: Result, dtype: float64"
      ]
     },
     "execution_count": 54,
     "metadata": {},
     "output_type": "execute_result"
    }
   ],
   "source": [
    "# Checking for imbalance state\n",
    "\n",
    "sample_upsampled.Result.value_counts(normalize=True)"
   ]
  },
  {
   "cell_type": "code",
   "execution_count": 55,
   "metadata": {},
   "outputs": [
    {
     "name": "stdout",
     "output_type": "stream",
     "text": [
      "<class 'pandas.core.frame.DataFrame'>\n",
      "RangeIndex: 193059 entries, 0 to 193058\n",
      "Data columns (total 14 columns):\n",
      " #   Column                                 Non-Null Count   Dtype  \n",
      "---  ------                                 --------------   -----  \n",
      " 0   Age                                    193059 non-null  int32  \n",
      " 1   Days_spend_hsptl                       193059 non-null  object \n",
      " 2   Admission_type                         193059 non-null  int32  \n",
      " 3   Home_or_self_care                      193059 non-null  int32  \n",
      " 4   ccs_diagnosis_code                     193059 non-null  int64  \n",
      " 5   ccs_procedure_code                     193059 non-null  int64  \n",
      " 6   Code_illness                           193059 non-null  int64  \n",
      " 7   Mortality_risk                         193059 non-null  int32  \n",
      " 8   Surg_Description                       193059 non-null  int32  \n",
      " 9   Emergency_dept_yes/No                  193059 non-null  int32  \n",
      " 10  Tot_charg                              193059 non-null  float64\n",
      " 11  Tot_cost                               193059 non-null  float64\n",
      " 12  ratio_of_total_costs_to_total_charges  193059 non-null  float64\n",
      " 13  Result                                 193059 non-null  int64  \n",
      "dtypes: float64(3), int32(6), int64(4), object(1)\n",
      "memory usage: 16.2+ MB\n"
     ]
    }
   ],
   "source": [
    "sample_upsampled.info()"
   ]
  },
  {
   "cell_type": "code",
   "execution_count": 56,
   "metadata": {},
   "outputs": [],
   "source": [
    "X = sample_upsampled.drop(['Result'],axis=1).values\n",
    "Y = sample_upsampled.Result.values\n",
    "\n",
    "x_train, x_test, y_train, y_test = train_test_split(X, Y, test_size=0.2, stratify=Y, random_state=30)\n",
    "\n",
    "from sklearn.ensemble import RandomForestClassifier\n",
    "model = RandomForestClassifier(n_estimators=15, random_state=42)\n",
    "\n",
    "model = model.fit(x_train, y_train)\n",
    "\n",
    "y_pred_train = model.predict(x_train)\n",
    "y_pred_test = model.predict(x_test)"
   ]
  },
  {
   "cell_type": "code",
   "execution_count": 57,
   "metadata": {},
   "outputs": [
    {
     "name": "stdout",
     "output_type": "stream",
     "text": [
      "              precision    recall  f1-score   support\n",
      "\n",
      "           0       1.00      0.88      0.93      4400\n",
      "           1       1.00      1.00      1.00    150047\n",
      "\n",
      "    accuracy                           1.00    154447\n",
      "   macro avg       1.00      0.94      0.96    154447\n",
      "weighted avg       1.00      1.00      1.00    154447\n",
      "\n"
     ]
    }
   ],
   "source": [
    "# classification report...for train set\n",
    "print(classification_report(y_train, y_pred_train))"
   ]
  },
  {
   "cell_type": "code",
   "execution_count": 58,
   "metadata": {},
   "outputs": [
    {
     "name": "stdout",
     "output_type": "stream",
     "text": [
      "              precision    recall  f1-score   support\n",
      "\n",
      "           0       0.65      0.05      0.10      1100\n",
      "           1       0.97      1.00      0.99     37512\n",
      "\n",
      "    accuracy                           0.97     38612\n",
      "   macro avg       0.81      0.53      0.54     38612\n",
      "weighted avg       0.96      0.97      0.96     38612\n",
      "\n"
     ]
    }
   ],
   "source": [
    "# classification report...for train set\n",
    "print(classification_report(y_test, y_pred_test))"
   ]
  },
  {
   "cell_type": "code",
   "execution_count": 59,
   "metadata": {},
   "outputs": [
    {
     "name": "stdout",
     "output_type": "stream",
     "text": [
      "              precision    recall  f1-score   support\n",
      "\n",
      "           0       0.99      0.06      0.11     62441\n",
      "           1       0.76      1.00      0.86    187559\n",
      "\n",
      "    accuracy                           0.76    250000\n",
      "   macro avg       0.87      0.53      0.49    250000\n",
      "weighted avg       0.82      0.76      0.68    250000\n",
      "\n"
     ]
    }
   ],
   "source": [
    "y_pred_whole = model.predict(sample.drop(['Result'],axis=1))\n",
    "\n",
    "print(classification_report(sample.Result.values, y_pred_whole))"
   ]
  },
  {
   "cell_type": "markdown",
   "metadata": {},
   "source": [
    "# Saving Model"
   ]
  },
  {
   "cell_type": "code",
   "execution_count": 60,
   "metadata": {},
   "outputs": [
    {
     "data": {
      "text/plain": [
       "['model.joblib']"
      ]
     },
     "execution_count": 60,
     "metadata": {},
     "output_type": "execute_result"
    }
   ],
   "source": [
    "from joblib import dump, load\n",
    "dump(model, 'model.joblib') "
   ]
  },
  {
   "cell_type": "markdown",
   "metadata": {},
   "source": [
    "Saving sample data to deployment trial"
   ]
  },
  {
   "cell_type": "code",
   "execution_count": 61,
   "metadata": {},
   "outputs": [],
   "source": [
    "index = sample.index.to_list()"
   ]
  },
  {
   "cell_type": "code",
   "execution_count": 62,
   "metadata": {},
   "outputs": [],
   "source": [
    "sample_test_data = df.copy()"
   ]
  },
  {
   "cell_type": "code",
   "execution_count": 63,
   "metadata": {},
   "outputs": [],
   "source": [
    "sample_test_data = sample_test_data.loc[index]"
   ]
  },
  {
   "cell_type": "code",
   "execution_count": 64,
   "metadata": {},
   "outputs": [],
   "source": [
    "sample_test_data.to_csv('sample_test_data.csv', index=False)"
   ]
  }
 ],
 "metadata": {
  "accelerator": "GPU",
  "colab": {
   "collapsed_sections": [
    "ArF_wcAbpI2_"
   ],
   "name": "Fraud_Analytics_Optimized.ipynb",
   "provenance": []
  },
  "kernelspec": {
   "display_name": "Python 3",
   "language": "python",
   "name": "python3"
  },
  "language_info": {
   "codemirror_mode": {
    "name": "ipython",
    "version": 3
   },
   "file_extension": ".py",
   "mimetype": "text/x-python",
   "name": "python",
   "nbconvert_exporter": "python",
   "pygments_lexer": "ipython3",
   "version": "3.8.5"
  }
 },
 "nbformat": 4,
 "nbformat_minor": 1
}
