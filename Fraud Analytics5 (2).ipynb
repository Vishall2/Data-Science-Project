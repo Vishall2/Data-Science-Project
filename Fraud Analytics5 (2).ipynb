{
 "cells": [
  {
   "cell_type": "markdown",
   "metadata": {},
   "source": [
    "### Importing Libraries"
   ]
  },
  {
   "cell_type": "code",
   "execution_count": 2,
   "metadata": {},
   "outputs": [],
   "source": [
    "import numpy as np \n",
    "import pandas as pd\n",
    "\n",
    "from sklearn.utils import resample\n",
    "from sklearn.preprocessing import LabelEncoder\n",
    "from sklearn.model_selection import train_test_split, cross_val_score\n",
    "\n",
    "from sklearn.ensemble import RandomForestClassifier\n",
    "from sklearn.metrics import classification_report, confusion_matrix\n",
    "\n",
    "import seaborn as sns\n",
    "import matplotlib.pyplot as plt\n",
    "\n",
    "import warnings\n",
    "warnings.filterwarnings('ignore')\n",
    "\n",
    "from sklearn.metrics import classification_report\n",
    "from sklearn.model_selection import KFold\n",
    "from sklearn.model_selection import GridSearchCV"
   ]
  },
  {
   "cell_type": "markdown",
   "metadata": {},
   "source": [
    "### Dataset loading"
   ]
  },
  {
   "cell_type": "code",
   "execution_count": 5,
   "metadata": {},
   "outputs": [
    {
     "name": "stdout",
     "output_type": "stream",
     "text": [
      "<class 'pandas.core.frame.DataFrame'>\n",
      "RangeIndex: 1048575 entries, 0 to 1048574\n",
      "Data columns (total 24 columns):\n",
      " #   Column                                 Non-Null Count    Dtype  \n",
      "---  ------                                 --------------    -----  \n",
      " 0   Area_Service                           1046119 non-null  object \n",
      " 1   Hospital County                        1046119 non-null  object \n",
      " 2   Hospital Id                            1046119 non-null  float64\n",
      " 3   Age                                    1048575 non-null  object \n",
      " 4   Gender                                 1048575 non-null  object \n",
      " 5   Cultural_group                         1048575 non-null  object \n",
      " 6   ethnicity                              1048575 non-null  object \n",
      " 7   Days_spend_hsptl                       1048575 non-null  object \n",
      " 8   Admission_type                         1048575 non-null  object \n",
      " 9   Home or self care,                     1048575 non-null  object \n",
      " 10  ccs_diagnosis_code                     1048575 non-null  int64  \n",
      " 11  ccs_procedure_code                     1048575 non-null  int64  \n",
      " 12  apr_drg_description                    1048575 non-null  object \n",
      " 13  Code_illness                           1048575 non-null  int64  \n",
      " 14  Mortality risk                         1048533 non-null  float64\n",
      " 15  Surg_Description                       1048575 non-null  object \n",
      " 16  Weight_baby                            1048575 non-null  int64  \n",
      " 17  Abortion                               1048575 non-null  object \n",
      " 18  Emergency dept_yes/No                  1048575 non-null  object \n",
      " 19  Tot_charg                              1048575 non-null  float64\n",
      " 20  Tot_cost                               1048575 non-null  float64\n",
      " 21  ratio_of_total_costs_to_total_charges  1048575 non-null  float64\n",
      " 22  Result                                 1048575 non-null  int64  \n",
      " 23  Payment_Typology                       1048575 non-null  int64  \n",
      "dtypes: float64(5), int64(6), object(13)\n",
      "memory usage: 192.0+ MB\n"
     ]
    }
   ],
   "source": [
    "df = pd.read_csv(\"InsuranceDataset.csv\")\n",
    "df.info()"
   ]
  },
  {
   "cell_type": "markdown",
   "metadata": {},
   "source": [
    "### Data Preprocessing"
   ]
  },
  {
   "cell_type": "markdown",
   "metadata": {},
   "source": [
    "#### 1. Drop Duplicates "
   ]
  },
  {
   "cell_type": "code",
   "execution_count": 6,
   "metadata": {},
   "outputs": [
    {
     "data": {
      "text/html": [
       "<div>\n",
       "<style scoped>\n",
       "    .dataframe tbody tr th:only-of-type {\n",
       "        vertical-align: middle;\n",
       "    }\n",
       "\n",
       "    .dataframe tbody tr th {\n",
       "        vertical-align: top;\n",
       "    }\n",
       "\n",
       "    .dataframe thead th {\n",
       "        text-align: right;\n",
       "    }\n",
       "</style>\n",
       "<table border=\"1\" class=\"dataframe\">\n",
       "  <thead>\n",
       "    <tr style=\"text-align: right;\">\n",
       "      <th></th>\n",
       "      <th>Hospital Id</th>\n",
       "      <th>ccs_diagnosis_code</th>\n",
       "      <th>ccs_procedure_code</th>\n",
       "      <th>Code_illness</th>\n",
       "      <th>Mortality risk</th>\n",
       "      <th>Weight_baby</th>\n",
       "      <th>Tot_charg</th>\n",
       "      <th>Tot_cost</th>\n",
       "      <th>ratio_of_total_costs_to_total_charges</th>\n",
       "      <th>Result</th>\n",
       "      <th>Payment_Typology</th>\n",
       "    </tr>\n",
       "  </thead>\n",
       "  <tbody>\n",
       "    <tr>\n",
       "      <th>count</th>\n",
       "      <td>1041306.0</td>\n",
       "      <td>1043761.0</td>\n",
       "      <td>1043761.0</td>\n",
       "      <td>1043761.0</td>\n",
       "      <td>1043720.0</td>\n",
       "      <td>1043761.0</td>\n",
       "      <td>1043761.0</td>\n",
       "      <td>1043761.0</td>\n",
       "      <td>1043761.0</td>\n",
       "      <td>1043761.0</td>\n",
       "      <td>1043761.0</td>\n",
       "    </tr>\n",
       "    <tr>\n",
       "      <th>mean</th>\n",
       "      <td>652.5</td>\n",
       "      <td>198.6</td>\n",
       "      <td>97.1</td>\n",
       "      <td>2.1</td>\n",
       "      <td>1.8</td>\n",
       "      <td>282.0</td>\n",
       "      <td>27190.1</td>\n",
       "      <td>10501.2</td>\n",
       "      <td>0.5</td>\n",
       "      <td>0.7</td>\n",
       "      <td>1.9</td>\n",
       "    </tr>\n",
       "    <tr>\n",
       "      <th>std</th>\n",
       "      <td>669.6</td>\n",
       "      <td>165.5</td>\n",
       "      <td>87.3</td>\n",
       "      <td>0.9</td>\n",
       "      <td>1.0</td>\n",
       "      <td>932.3</td>\n",
       "      <td>54976.5</td>\n",
       "      <td>22345.9</td>\n",
       "      <td>0.8</td>\n",
       "      <td>0.4</td>\n",
       "      <td>0.8</td>\n",
       "    </tr>\n",
       "    <tr>\n",
       "      <th>min</th>\n",
       "      <td>1.0</td>\n",
       "      <td>1.0</td>\n",
       "      <td>0.0</td>\n",
       "      <td>0.0</td>\n",
       "      <td>1.0</td>\n",
       "      <td>0.0</td>\n",
       "      <td>0.3</td>\n",
       "      <td>0.1</td>\n",
       "      <td>0.0</td>\n",
       "      <td>0.0</td>\n",
       "      <td>1.0</td>\n",
       "    </tr>\n",
       "    <tr>\n",
       "      <th>25%</th>\n",
       "      <td>213.0</td>\n",
       "      <td>108.0</td>\n",
       "      <td>0.0</td>\n",
       "      <td>1.0</td>\n",
       "      <td>1.0</td>\n",
       "      <td>0.0</td>\n",
       "      <td>7473.6</td>\n",
       "      <td>3262.2</td>\n",
       "      <td>0.3</td>\n",
       "      <td>0.0</td>\n",
       "      <td>1.0</td>\n",
       "    </tr>\n",
       "    <tr>\n",
       "      <th>50%</th>\n",
       "      <td>630.0</td>\n",
       "      <td>159.0</td>\n",
       "      <td>88.0</td>\n",
       "      <td>2.0</td>\n",
       "      <td>1.0</td>\n",
       "      <td>0.0</td>\n",
       "      <td>14669.2</td>\n",
       "      <td>5955.4</td>\n",
       "      <td>0.4</td>\n",
       "      <td>1.0</td>\n",
       "      <td>2.0</td>\n",
       "    </tr>\n",
       "    <tr>\n",
       "      <th>75%</th>\n",
       "      <td>977.0</td>\n",
       "      <td>218.0</td>\n",
       "      <td>172.0</td>\n",
       "      <td>3.0</td>\n",
       "      <td>3.0</td>\n",
       "      <td>0.0</td>\n",
       "      <td>29242.3</td>\n",
       "      <td>11377.4</td>\n",
       "      <td>0.5</td>\n",
       "      <td>1.0</td>\n",
       "      <td>3.0</td>\n",
       "    </tr>\n",
       "    <tr>\n",
       "      <th>max</th>\n",
       "      <td>9250.0</td>\n",
       "      <td>670.0</td>\n",
       "      <td>231.0</td>\n",
       "      <td>4.0</td>\n",
       "      <td>4.0</td>\n",
       "      <td>9000.0</td>\n",
       "      <td>6196973.5</td>\n",
       "      <td>2562477.7</td>\n",
       "      <td>157.6</td>\n",
       "      <td>1.0</td>\n",
       "      <td>5.0</td>\n",
       "    </tr>\n",
       "  </tbody>\n",
       "</table>\n",
       "</div>"
      ],
      "text/plain": [
       "      Hospital Id ccs_diagnosis_code ccs_procedure_code Code_illness  \\\n",
       "count   1041306.0          1043761.0          1043761.0    1043761.0   \n",
       "mean        652.5              198.6               97.1          2.1   \n",
       "std         669.6              165.5               87.3          0.9   \n",
       "min           1.0                1.0                0.0          0.0   \n",
       "25%         213.0              108.0                0.0          1.0   \n",
       "50%         630.0              159.0               88.0          2.0   \n",
       "75%         977.0              218.0              172.0          3.0   \n",
       "max        9250.0              670.0              231.0          4.0   \n",
       "\n",
       "      Mortality risk Weight_baby  Tot_charg   Tot_cost  \\\n",
       "count      1043720.0   1043761.0  1043761.0  1043761.0   \n",
       "mean             1.8       282.0    27190.1    10501.2   \n",
       "std              1.0       932.3    54976.5    22345.9   \n",
       "min              1.0         0.0        0.3        0.1   \n",
       "25%              1.0         0.0     7473.6     3262.2   \n",
       "50%              1.0         0.0    14669.2     5955.4   \n",
       "75%              3.0         0.0    29242.3    11377.4   \n",
       "max              4.0      9000.0  6196973.5  2562477.7   \n",
       "\n",
       "      ratio_of_total_costs_to_total_charges     Result Payment_Typology  \n",
       "count                             1043761.0  1043761.0        1043761.0  \n",
       "mean                                    0.5        0.7              1.9  \n",
       "std                                     0.8        0.4              0.8  \n",
       "min                                     0.0        0.0              1.0  \n",
       "25%                                     0.3        0.0              1.0  \n",
       "50%                                     0.4        1.0              2.0  \n",
       "75%                                     0.5        1.0              3.0  \n",
       "max                                   157.6        1.0              5.0  "
      ]
     },
     "execution_count": 6,
     "metadata": {},
     "output_type": "execute_result"
    }
   ],
   "source": [
    "df.drop_duplicates(inplace=True,ignore_index=True)\n",
    "df.describe().apply(lambda s: s.apply('{0:.1f}'.format))"
   ]
  },
  {
   "cell_type": "markdown",
   "metadata": {},
   "source": [
    "#### 2. Drop NA"
   ]
  },
  {
   "cell_type": "code",
   "execution_count": 7,
   "metadata": {},
   "outputs": [
    {
     "data": {
      "text/plain": [
       "Area_Service                             False\n",
       "Hospital County                          False\n",
       "Hospital Id                              False\n",
       "Age                                      False\n",
       "Gender                                   False\n",
       "Cultural_group                           False\n",
       "ethnicity                                False\n",
       "Days_spend_hsptl                         False\n",
       "Admission_type                           False\n",
       "Home or self care,                       False\n",
       "ccs_diagnosis_code                       False\n",
       "ccs_procedure_code                       False\n",
       "apr_drg_description                      False\n",
       "Code_illness                             False\n",
       "Mortality risk                           False\n",
       "Surg_Description                         False\n",
       "Weight_baby                              False\n",
       "Abortion                                 False\n",
       "Emergency dept_yes/No                    False\n",
       "Tot_charg                                False\n",
       "Tot_cost                                 False\n",
       "ratio_of_total_costs_to_total_charges    False\n",
       "Result                                   False\n",
       "Payment_Typology                         False\n",
       "dtype: bool"
      ]
     },
     "execution_count": 7,
     "metadata": {},
     "output_type": "execute_result"
    }
   ],
   "source": [
    "df.dropna(inplace=True)\n",
    "df.isnull().any()"
   ]
  },
  {
   "cell_type": "markdown",
   "metadata": {},
   "source": [
    "#### 3. Drop Columns"
   ]
  },
  {
   "cell_type": "code",
   "execution_count": 8,
   "metadata": {},
   "outputs": [],
   "source": [
    "df.drop(['Area_Service','Hospital County','Hospital Id','Gender','Cultural_group',\"ethnicity\",\"apr_drg_description\",\"Weight_baby\",'Abortion','Tot_charg','Tot_cost'], axis=1, inplace=True)\n",
    "#,'Tot_charg','Tot_cost'"
   ]
  },
  {
   "cell_type": "code",
   "execution_count": 9,
   "metadata": {},
   "outputs": [
    {
     "name": "stdout",
     "output_type": "stream",
     "text": [
      "<class 'pandas.core.frame.DataFrame'>\n",
      "Int64Index: 1041265 entries, 0 to 1043760\n",
      "Data columns (total 13 columns):\n",
      " #   Column                                 Non-Null Count    Dtype  \n",
      "---  ------                                 --------------    -----  \n",
      " 0   Age                                    1041265 non-null  object \n",
      " 1   Days_spend_hsptl                       1041265 non-null  object \n",
      " 2   Admission_type                         1041265 non-null  object \n",
      " 3   Home or self care,                     1041265 non-null  object \n",
      " 4   ccs_diagnosis_code                     1041265 non-null  int64  \n",
      " 5   ccs_procedure_code                     1041265 non-null  int64  \n",
      " 6   Code_illness                           1041265 non-null  int64  \n",
      " 7   Mortality risk                         1041265 non-null  float64\n",
      " 8   Surg_Description                       1041265 non-null  object \n",
      " 9   Emergency dept_yes/No                  1041265 non-null  object \n",
      " 10  ratio_of_total_costs_to_total_charges  1041265 non-null  float64\n",
      " 11  Result                                 1041265 non-null  int64  \n",
      " 12  Payment_Typology                       1041265 non-null  int64  \n",
      "dtypes: float64(2), int64(5), object(6)\n",
      "memory usage: 111.2+ MB\n"
     ]
    }
   ],
   "source": [
    "df.info()"
   ]
  },
  {
   "cell_type": "markdown",
   "metadata": {},
   "source": [
    "#### 4. Converting Columns to Right Datatypes"
   ]
  },
  {
   "cell_type": "code",
   "execution_count": 10,
   "metadata": {},
   "outputs": [],
   "source": [
    "df.replace({'Days_spend_hsptl': '120 +'}, 120, inplace=True)\n",
    "df['Mortality risk'] = df['Mortality risk'].astype(int)"
   ]
  },
  {
   "cell_type": "markdown",
   "metadata": {},
   "source": [
    "#### 5. Label Encoding"
   ]
  },
  {
   "cell_type": "code",
   "execution_count": 11,
   "metadata": {},
   "outputs": [],
   "source": [
    "from sklearn.preprocessing import LabelBinarizer, LabelEncoder\n",
    "labelencoder = LabelEncoder()\n",
    "label_binizer =LabelBinarizer()"
   ]
  },
  {
   "cell_type": "code",
   "execution_count": 12,
   "metadata": {},
   "outputs": [],
   "source": [
    "df['Age']  = labelencoder.fit_transform(df['Age'])\n",
    "df['Admission_type'] = labelencoder.fit_transform(df['Admission_type'])\n",
    "df['Home or self care,'] = labelencoder.fit_transform(df['Home or self care,'])"
   ]
  },
  {
   "cell_type": "code",
   "execution_count": 13,
   "metadata": {},
   "outputs": [],
   "source": [
    "df['Surg_Description'] = label_binizer.fit_transform(df['Surg_Description'])\n",
    "df['Emergency dept_yes/No'] = label_binizer.fit_transform(df['Emergency dept_yes/No'])"
   ]
  },
  {
   "cell_type": "code",
   "execution_count": 11,
   "metadata": {},
   "outputs": [],
   "source": [
    "#df['Age']  = labelencoder.fit_transform(df['Age'])\n",
    "#df['Admission_type'] = labelencoder.fit_transform(df['Admission_type'])\n",
    "#df['Home or self care,'] = labelencoder.fit_transform(df['Home or self care,'])\n",
    "#df['Surg_Description'] = labelencoder.fit_transform(df['Surg_Description'])\n",
    "#df['Emergency dept_yes/No'] = labelencoder.fit_transform(df['Emergency dept_yes/No'])"
   ]
  },
  {
   "cell_type": "code",
   "execution_count": 12,
   "metadata": {},
   "outputs": [
    {
     "data": {
      "text/html": [
       "<div>\n",
       "<style scoped>\n",
       "    .dataframe tbody tr th:only-of-type {\n",
       "        vertical-align: middle;\n",
       "    }\n",
       "\n",
       "    .dataframe tbody tr th {\n",
       "        vertical-align: top;\n",
       "    }\n",
       "\n",
       "    .dataframe thead th {\n",
       "        text-align: right;\n",
       "    }\n",
       "</style>\n",
       "<table border=\"1\" class=\"dataframe\">\n",
       "  <thead>\n",
       "    <tr style=\"text-align: right;\">\n",
       "      <th></th>\n",
       "      <th>Age</th>\n",
       "      <th>Days_spend_hsptl</th>\n",
       "      <th>Admission_type</th>\n",
       "      <th>Home or self care,</th>\n",
       "      <th>ccs_diagnosis_code</th>\n",
       "      <th>ccs_procedure_code</th>\n",
       "      <th>Code_illness</th>\n",
       "      <th>Mortality risk</th>\n",
       "      <th>Surg_Description</th>\n",
       "      <th>Emergency dept_yes/No</th>\n",
       "      <th>ratio_of_total_costs_to_total_charges</th>\n",
       "      <th>Result</th>\n",
       "      <th>Payment_Typology</th>\n",
       "    </tr>\n",
       "  </thead>\n",
       "  <tbody>\n",
       "    <tr>\n",
       "      <th>0</th>\n",
       "      <td>2</td>\n",
       "      <td>4</td>\n",
       "      <td>0</td>\n",
       "      <td>7</td>\n",
       "      <td>122</td>\n",
       "      <td>0</td>\n",
       "      <td>1</td>\n",
       "      <td>1</td>\n",
       "      <td>0</td>\n",
       "      <td>1</td>\n",
       "      <td>1.012798</td>\n",
       "      <td>1</td>\n",
       "      <td>1</td>\n",
       "    </tr>\n",
       "    <tr>\n",
       "      <th>1</th>\n",
       "      <td>4</td>\n",
       "      <td>4</td>\n",
       "      <td>5</td>\n",
       "      <td>17</td>\n",
       "      <td>197</td>\n",
       "      <td>0</td>\n",
       "      <td>3</td>\n",
       "      <td>2</td>\n",
       "      <td>0</td>\n",
       "      <td>1</td>\n",
       "      <td>1.079365</td>\n",
       "      <td>1</td>\n",
       "      <td>1</td>\n",
       "    </tr>\n",
       "    <tr>\n",
       "      <th>2</th>\n",
       "      <td>2</td>\n",
       "      <td>3</td>\n",
       "      <td>5</td>\n",
       "      <td>7</td>\n",
       "      <td>122</td>\n",
       "      <td>0</td>\n",
       "      <td>1</td>\n",
       "      <td>1</td>\n",
       "      <td>0</td>\n",
       "      <td>1</td>\n",
       "      <td>1.059379</td>\n",
       "      <td>1</td>\n",
       "      <td>1</td>\n",
       "    </tr>\n",
       "    <tr>\n",
       "      <th>3</th>\n",
       "      <td>0</td>\n",
       "      <td>1</td>\n",
       "      <td>5</td>\n",
       "      <td>7</td>\n",
       "      <td>122</td>\n",
       "      <td>0</td>\n",
       "      <td>1</td>\n",
       "      <td>1</td>\n",
       "      <td>0</td>\n",
       "      <td>1</td>\n",
       "      <td>1.484167</td>\n",
       "      <td>0</td>\n",
       "      <td>1</td>\n",
       "    </tr>\n",
       "    <tr>\n",
       "      <th>4</th>\n",
       "      <td>4</td>\n",
       "      <td>3</td>\n",
       "      <td>0</td>\n",
       "      <td>7</td>\n",
       "      <td>122</td>\n",
       "      <td>0</td>\n",
       "      <td>2</td>\n",
       "      <td>3</td>\n",
       "      <td>0</td>\n",
       "      <td>1</td>\n",
       "      <td>0.986161</td>\n",
       "      <td>1</td>\n",
       "      <td>1</td>\n",
       "    </tr>\n",
       "    <tr>\n",
       "      <th>5</th>\n",
       "      <td>0</td>\n",
       "      <td>1</td>\n",
       "      <td>0</td>\n",
       "      <td>7</td>\n",
       "      <td>142</td>\n",
       "      <td>0</td>\n",
       "      <td>1</td>\n",
       "      <td>1</td>\n",
       "      <td>0</td>\n",
       "      <td>1</td>\n",
       "      <td>1.384794</td>\n",
       "      <td>1</td>\n",
       "      <td>1</td>\n",
       "    </tr>\n",
       "    <tr>\n",
       "      <th>6</th>\n",
       "      <td>1</td>\n",
       "      <td>3</td>\n",
       "      <td>0</td>\n",
       "      <td>7</td>\n",
       "      <td>122</td>\n",
       "      <td>0</td>\n",
       "      <td>2</td>\n",
       "      <td>1</td>\n",
       "      <td>0</td>\n",
       "      <td>1</td>\n",
       "      <td>1.066565</td>\n",
       "      <td>1</td>\n",
       "      <td>1</td>\n",
       "    </tr>\n",
       "    <tr>\n",
       "      <th>7</th>\n",
       "      <td>4</td>\n",
       "      <td>1</td>\n",
       "      <td>0</td>\n",
       "      <td>7</td>\n",
       "      <td>154</td>\n",
       "      <td>202</td>\n",
       "      <td>2</td>\n",
       "      <td>3</td>\n",
       "      <td>0</td>\n",
       "      <td>1</td>\n",
       "      <td>1.371150</td>\n",
       "      <td>1</td>\n",
       "      <td>1</td>\n",
       "    </tr>\n",
       "    <tr>\n",
       "      <th>8</th>\n",
       "      <td>0</td>\n",
       "      <td>1</td>\n",
       "      <td>0</td>\n",
       "      <td>7</td>\n",
       "      <td>125</td>\n",
       "      <td>0</td>\n",
       "      <td>1</td>\n",
       "      <td>1</td>\n",
       "      <td>0</td>\n",
       "      <td>0</td>\n",
       "      <td>1.128782</td>\n",
       "      <td>1</td>\n",
       "      <td>1</td>\n",
       "    </tr>\n",
       "    <tr>\n",
       "      <th>9</th>\n",
       "      <td>3</td>\n",
       "      <td>2</td>\n",
       "      <td>0</td>\n",
       "      <td>7</td>\n",
       "      <td>122</td>\n",
       "      <td>0</td>\n",
       "      <td>2</td>\n",
       "      <td>1</td>\n",
       "      <td>0</td>\n",
       "      <td>1</td>\n",
       "      <td>1.090095</td>\n",
       "      <td>0</td>\n",
       "      <td>1</td>\n",
       "    </tr>\n",
       "  </tbody>\n",
       "</table>\n",
       "</div>"
      ],
      "text/plain": [
       "   Age Days_spend_hsptl  Admission_type  Home or self care,  \\\n",
       "0    2                4               0                   7   \n",
       "1    4                4               5                  17   \n",
       "2    2                3               5                   7   \n",
       "3    0                1               5                   7   \n",
       "4    4                3               0                   7   \n",
       "5    0                1               0                   7   \n",
       "6    1                3               0                   7   \n",
       "7    4                1               0                   7   \n",
       "8    0                1               0                   7   \n",
       "9    3                2               0                   7   \n",
       "\n",
       "   ccs_diagnosis_code  ccs_procedure_code  Code_illness  Mortality risk  \\\n",
       "0                 122                   0             1               1   \n",
       "1                 197                   0             3               2   \n",
       "2                 122                   0             1               1   \n",
       "3                 122                   0             1               1   \n",
       "4                 122                   0             2               3   \n",
       "5                 142                   0             1               1   \n",
       "6                 122                   0             2               1   \n",
       "7                 154                 202             2               3   \n",
       "8                 125                   0             1               1   \n",
       "9                 122                   0             2               1   \n",
       "\n",
       "   Surg_Description  Emergency dept_yes/No  \\\n",
       "0                 0                      1   \n",
       "1                 0                      1   \n",
       "2                 0                      1   \n",
       "3                 0                      1   \n",
       "4                 0                      1   \n",
       "5                 0                      1   \n",
       "6                 0                      1   \n",
       "7                 0                      1   \n",
       "8                 0                      0   \n",
       "9                 0                      1   \n",
       "\n",
       "   ratio_of_total_costs_to_total_charges  Result  Payment_Typology  \n",
       "0                               1.012798       1                 1  \n",
       "1                               1.079365       1                 1  \n",
       "2                               1.059379       1                 1  \n",
       "3                               1.484167       0                 1  \n",
       "4                               0.986161       1                 1  \n",
       "5                               1.384794       1                 1  \n",
       "6                               1.066565       1                 1  \n",
       "7                               1.371150       1                 1  \n",
       "8                               1.128782       1                 1  \n",
       "9                               1.090095       0                 1  "
      ]
     },
     "execution_count": 12,
     "metadata": {},
     "output_type": "execute_result"
    }
   ],
   "source": [
    "df.head(10)"
   ]
  },
  {
   "cell_type": "code",
   "execution_count": 13,
   "metadata": {},
   "outputs": [],
   "source": [
    "X = df.iloc[:,0:-1]    \n",
    "Y = df.iloc[:,-1]"
   ]
  },
  {
   "cell_type": "code",
   "execution_count": 14,
   "metadata": {},
   "outputs": [
    {
     "data": {
      "text/html": [
       "<div>\n",
       "<style scoped>\n",
       "    .dataframe tbody tr th:only-of-type {\n",
       "        vertical-align: middle;\n",
       "    }\n",
       "\n",
       "    .dataframe tbody tr th {\n",
       "        vertical-align: top;\n",
       "    }\n",
       "\n",
       "    .dataframe thead th {\n",
       "        text-align: right;\n",
       "    }\n",
       "</style>\n",
       "<table border=\"1\" class=\"dataframe\">\n",
       "  <thead>\n",
       "    <tr style=\"text-align: right;\">\n",
       "      <th></th>\n",
       "      <th>Age</th>\n",
       "      <th>Days_spend_hsptl</th>\n",
       "      <th>Admission_type</th>\n",
       "      <th>Home or self care,</th>\n",
       "      <th>ccs_diagnosis_code</th>\n",
       "      <th>ccs_procedure_code</th>\n",
       "      <th>Code_illness</th>\n",
       "      <th>Mortality risk</th>\n",
       "      <th>Surg_Description</th>\n",
       "      <th>Emergency dept_yes/No</th>\n",
       "      <th>ratio_of_total_costs_to_total_charges</th>\n",
       "      <th>Result</th>\n",
       "      <th>Payment_Typology</th>\n",
       "      <th>y_outliers</th>\n",
       "      <th>y_train</th>\n",
       "    </tr>\n",
       "  </thead>\n",
       "  <tbody>\n",
       "    <tr>\n",
       "      <th>1</th>\n",
       "      <td>4</td>\n",
       "      <td>4</td>\n",
       "      <td>5</td>\n",
       "      <td>17</td>\n",
       "      <td>197</td>\n",
       "      <td>0</td>\n",
       "      <td>3</td>\n",
       "      <td>2</td>\n",
       "      <td>0</td>\n",
       "      <td>1</td>\n",
       "      <td>1.079365</td>\n",
       "      <td>1</td>\n",
       "      <td>1</td>\n",
       "      <td>-1</td>\n",
       "      <td>1</td>\n",
       "    </tr>\n",
       "    <tr>\n",
       "      <th>3</th>\n",
       "      <td>0</td>\n",
       "      <td>1</td>\n",
       "      <td>5</td>\n",
       "      <td>7</td>\n",
       "      <td>122</td>\n",
       "      <td>0</td>\n",
       "      <td>1</td>\n",
       "      <td>1</td>\n",
       "      <td>0</td>\n",
       "      <td>1</td>\n",
       "      <td>1.484167</td>\n",
       "      <td>0</td>\n",
       "      <td>1</td>\n",
       "      <td>-1</td>\n",
       "      <td>1</td>\n",
       "    </tr>\n",
       "    <tr>\n",
       "      <th>11</th>\n",
       "      <td>3</td>\n",
       "      <td>2</td>\n",
       "      <td>0</td>\n",
       "      <td>7</td>\n",
       "      <td>122</td>\n",
       "      <td>202</td>\n",
       "      <td>3</td>\n",
       "      <td>3</td>\n",
       "      <td>0</td>\n",
       "      <td>1</td>\n",
       "      <td>1.192205</td>\n",
       "      <td>0</td>\n",
       "      <td>1</td>\n",
       "      <td>-1</td>\n",
       "      <td>1</td>\n",
       "    </tr>\n",
       "    <tr>\n",
       "      <th>22</th>\n",
       "      <td>0</td>\n",
       "      <td>1</td>\n",
       "      <td>5</td>\n",
       "      <td>7</td>\n",
       "      <td>122</td>\n",
       "      <td>0</td>\n",
       "      <td>1</td>\n",
       "      <td>1</td>\n",
       "      <td>0</td>\n",
       "      <td>1</td>\n",
       "      <td>1.328677</td>\n",
       "      <td>0</td>\n",
       "      <td>1</td>\n",
       "      <td>-1</td>\n",
       "      <td>1</td>\n",
       "    </tr>\n",
       "    <tr>\n",
       "      <th>29</th>\n",
       "      <td>2</td>\n",
       "      <td>1</td>\n",
       "      <td>0</td>\n",
       "      <td>17</td>\n",
       "      <td>244</td>\n",
       "      <td>0</td>\n",
       "      <td>1</td>\n",
       "      <td>1</td>\n",
       "      <td>0</td>\n",
       "      <td>1</td>\n",
       "      <td>1.346271</td>\n",
       "      <td>1</td>\n",
       "      <td>1</td>\n",
       "      <td>-1</td>\n",
       "      <td>1</td>\n",
       "    </tr>\n",
       "    <tr>\n",
       "      <th>...</th>\n",
       "      <td>...</td>\n",
       "      <td>...</td>\n",
       "      <td>...</td>\n",
       "      <td>...</td>\n",
       "      <td>...</td>\n",
       "      <td>...</td>\n",
       "      <td>...</td>\n",
       "      <td>...</td>\n",
       "      <td>...</td>\n",
       "      <td>...</td>\n",
       "      <td>...</td>\n",
       "      <td>...</td>\n",
       "      <td>...</td>\n",
       "      <td>...</td>\n",
       "      <td>...</td>\n",
       "    </tr>\n",
       "    <tr>\n",
       "      <th>1043730</th>\n",
       "      <td>4</td>\n",
       "      <td>30</td>\n",
       "      <td>1</td>\n",
       "      <td>4</td>\n",
       "      <td>13</td>\n",
       "      <td>222</td>\n",
       "      <td>4</td>\n",
       "      <td>4</td>\n",
       "      <td>0</td>\n",
       "      <td>1</td>\n",
       "      <td>0.242338</td>\n",
       "      <td>1</td>\n",
       "      <td>3</td>\n",
       "      <td>-1</td>\n",
       "      <td>3</td>\n",
       "    </tr>\n",
       "    <tr>\n",
       "      <th>1043732</th>\n",
       "      <td>2</td>\n",
       "      <td>19</td>\n",
       "      <td>1</td>\n",
       "      <td>8</td>\n",
       "      <td>116</td>\n",
       "      <td>75</td>\n",
       "      <td>4</td>\n",
       "      <td>4</td>\n",
       "      <td>1</td>\n",
       "      <td>0</td>\n",
       "      <td>0.214560</td>\n",
       "      <td>1</td>\n",
       "      <td>3</td>\n",
       "      <td>-1</td>\n",
       "      <td>3</td>\n",
       "    </tr>\n",
       "    <tr>\n",
       "      <th>1043735</th>\n",
       "      <td>3</td>\n",
       "      <td>16</td>\n",
       "      <td>1</td>\n",
       "      <td>4</td>\n",
       "      <td>151</td>\n",
       "      <td>216</td>\n",
       "      <td>4</td>\n",
       "      <td>4</td>\n",
       "      <td>0</td>\n",
       "      <td>1</td>\n",
       "      <td>0.208465</td>\n",
       "      <td>0</td>\n",
       "      <td>3</td>\n",
       "      <td>-1</td>\n",
       "      <td>3</td>\n",
       "    </tr>\n",
       "    <tr>\n",
       "      <th>1043745</th>\n",
       "      <td>3</td>\n",
       "      <td>15</td>\n",
       "      <td>1</td>\n",
       "      <td>18</td>\n",
       "      <td>237</td>\n",
       "      <td>5</td>\n",
       "      <td>1</td>\n",
       "      <td>1</td>\n",
       "      <td>1</td>\n",
       "      <td>0</td>\n",
       "      <td>0.232809</td>\n",
       "      <td>1</td>\n",
       "      <td>3</td>\n",
       "      <td>-1</td>\n",
       "      <td>3</td>\n",
       "    </tr>\n",
       "    <tr>\n",
       "      <th>1043758</th>\n",
       "      <td>3</td>\n",
       "      <td>13</td>\n",
       "      <td>1</td>\n",
       "      <td>15</td>\n",
       "      <td>151</td>\n",
       "      <td>88</td>\n",
       "      <td>4</td>\n",
       "      <td>4</td>\n",
       "      <td>0</td>\n",
       "      <td>1</td>\n",
       "      <td>0.236516</td>\n",
       "      <td>0</td>\n",
       "      <td>3</td>\n",
       "      <td>-1</td>\n",
       "      <td>3</td>\n",
       "    </tr>\n",
       "  </tbody>\n",
       "</table>\n",
       "<p>104127 rows × 15 columns</p>\n",
       "</div>"
      ],
      "text/plain": [
       "         Age Days_spend_hsptl  Admission_type  Home or self care,  \\\n",
       "1          4                4               5                  17   \n",
       "3          0                1               5                   7   \n",
       "11         3                2               0                   7   \n",
       "22         0                1               5                   7   \n",
       "29         2                1               0                  17   \n",
       "...      ...              ...             ...                 ...   \n",
       "1043730    4               30               1                   4   \n",
       "1043732    2               19               1                   8   \n",
       "1043735    3               16               1                   4   \n",
       "1043745    3               15               1                  18   \n",
       "1043758    3               13               1                  15   \n",
       "\n",
       "         ccs_diagnosis_code  ccs_procedure_code  Code_illness  Mortality risk  \\\n",
       "1                       197                   0             3               2   \n",
       "3                       122                   0             1               1   \n",
       "11                      122                 202             3               3   \n",
       "22                      122                   0             1               1   \n",
       "29                      244                   0             1               1   \n",
       "...                     ...                 ...           ...             ...   \n",
       "1043730                  13                 222             4               4   \n",
       "1043732                 116                  75             4               4   \n",
       "1043735                 151                 216             4               4   \n",
       "1043745                 237                   5             1               1   \n",
       "1043758                 151                  88             4               4   \n",
       "\n",
       "         Surg_Description  Emergency dept_yes/No  \\\n",
       "1                       0                      1   \n",
       "3                       0                      1   \n",
       "11                      0                      1   \n",
       "22                      0                      1   \n",
       "29                      0                      1   \n",
       "...                   ...                    ...   \n",
       "1043730                 0                      1   \n",
       "1043732                 1                      0   \n",
       "1043735                 0                      1   \n",
       "1043745                 1                      0   \n",
       "1043758                 0                      1   \n",
       "\n",
       "         ratio_of_total_costs_to_total_charges  Result  Payment_Typology  \\\n",
       "1                                     1.079365       1                 1   \n",
       "3                                     1.484167       0                 1   \n",
       "11                                    1.192205       0                 1   \n",
       "22                                    1.328677       0                 1   \n",
       "29                                    1.346271       1                 1   \n",
       "...                                        ...     ...               ...   \n",
       "1043730                               0.242338       1                 3   \n",
       "1043732                               0.214560       1                 3   \n",
       "1043735                               0.208465       0                 3   \n",
       "1043745                               0.232809       1                 3   \n",
       "1043758                               0.236516       0                 3   \n",
       "\n",
       "         y_outliers  y_train  \n",
       "1                -1        1  \n",
       "3                -1        1  \n",
       "11               -1        1  \n",
       "22               -1        1  \n",
       "29               -1        1  \n",
       "...             ...      ...  \n",
       "1043730          -1        3  \n",
       "1043732          -1        3  \n",
       "1043735          -1        3  \n",
       "1043745          -1        3  \n",
       "1043758          -1        3  \n",
       "\n",
       "[104127 rows x 15 columns]"
      ]
     },
     "execution_count": 14,
     "metadata": {},
     "output_type": "execute_result"
    }
   ],
   "source": [
    "from sklearn.ensemble import IsolationForest\n",
    "clf = IsolationForest(random_state=42,contamination=0.1)\n",
    "clf.fit(X,Y)\n",
    "y_outliers = clf.predict(X)\n",
    "df['y_outliers'] = y_outliers\n",
    "df['y_train'] = Y\n",
    "df[df['y_outliers']==-1]"
   ]
  },
  {
   "cell_type": "code",
   "execution_count": 15,
   "metadata": {},
   "outputs": [],
   "source": [
    "df.drop(df.loc[df['y_outliers']==-1].index, inplace=True)"
   ]
  },
  {
   "cell_type": "code",
   "execution_count": 16,
   "metadata": {},
   "outputs": [],
   "source": [
    "#df = df.drop(columns=['y_outliers','y_train'])\n",
    "df = df[['Age','Days_spend_hsptl','Admission_type','Home or self care,','ccs_diagnosis_code','ccs_procedure_code','Code_illness','Mortality risk','Surg_Description','Emergency dept_yes/No','ratio_of_total_costs_to_total_charges','Payment_Typology','Result']]"
   ]
  },
  {
   "cell_type": "code",
   "execution_count": 14,
   "metadata": {},
   "outputs": [
    {
     "name": "stdout",
     "output_type": "stream",
     "text": [
      "<class 'pandas.core.frame.DataFrame'>\n",
      "Int64Index: 1041265 entries, 0 to 1043760\n",
      "Data columns (total 13 columns):\n",
      " #   Column                                 Non-Null Count    Dtype  \n",
      "---  ------                                 --------------    -----  \n",
      " 0   Age                                    1041265 non-null  int32  \n",
      " 1   Days_spend_hsptl                       1041265 non-null  object \n",
      " 2   Admission_type                         1041265 non-null  int32  \n",
      " 3   Home or self care,                     1041265 non-null  int32  \n",
      " 4   ccs_diagnosis_code                     1041265 non-null  int64  \n",
      " 5   ccs_procedure_code                     1041265 non-null  int64  \n",
      " 6   Code_illness                           1041265 non-null  int64  \n",
      " 7   Mortality risk                         1041265 non-null  int32  \n",
      " 8   Surg_Description                       1041265 non-null  int32  \n",
      " 9   Emergency dept_yes/No                  1041265 non-null  int32  \n",
      " 10  ratio_of_total_costs_to_total_charges  1041265 non-null  float64\n",
      " 11  Result                                 1041265 non-null  int64  \n",
      " 12  Payment_Typology                       1041265 non-null  int64  \n",
      "dtypes: float64(1), int32(6), int64(5), object(1)\n",
      "memory usage: 87.4+ MB\n"
     ]
    }
   ],
   "source": [
    "df.info()"
   ]
  },
  {
   "cell_type": "code",
   "execution_count": 15,
   "metadata": {},
   "outputs": [],
   "source": [
    "#df.to_csv(r'Example1.csv')"
   ]
  },
  {
   "cell_type": "markdown",
   "metadata": {},
   "source": [
    "### Data Standardization"
   ]
  },
  {
   "cell_type": "code",
   "execution_count": 16,
   "metadata": {},
   "outputs": [],
   "source": [
    "from sklearn.preprocessing import MinMaxScaler\n",
    "scaler = MinMaxScaler()\n",
    "scaler.fit(df)\n",
    "df_array = scaler.transform(df)\n",
    "df = pd.DataFrame(df_array,columns =['Age','Days_spend_hsptl','Admission_type','Home or self care,','ccs_diagnosis_code','ccs_procedure_code','Code_illness','Mortality risk','Surg_Description','Emergency dept_yes/No','ratio_of_total_costs_to_total_charges','Payment_Typology','Result'])"
   ]
  },
  {
   "cell_type": "code",
   "execution_count": 17,
   "metadata": {},
   "outputs": [
    {
     "data": {
      "text/html": [
       "<div>\n",
       "<style scoped>\n",
       "    .dataframe tbody tr th:only-of-type {\n",
       "        vertical-align: middle;\n",
       "    }\n",
       "\n",
       "    .dataframe tbody tr th {\n",
       "        vertical-align: top;\n",
       "    }\n",
       "\n",
       "    .dataframe thead th {\n",
       "        text-align: right;\n",
       "    }\n",
       "</style>\n",
       "<table border=\"1\" class=\"dataframe\">\n",
       "  <thead>\n",
       "    <tr style=\"text-align: right;\">\n",
       "      <th></th>\n",
       "      <th>Age</th>\n",
       "      <th>Days_spend_hsptl</th>\n",
       "      <th>Admission_type</th>\n",
       "      <th>Home or self care,</th>\n",
       "      <th>ccs_diagnosis_code</th>\n",
       "      <th>ccs_procedure_code</th>\n",
       "      <th>Code_illness</th>\n",
       "      <th>Mortality risk</th>\n",
       "      <th>Surg_Description</th>\n",
       "      <th>Emergency dept_yes/No</th>\n",
       "      <th>ratio_of_total_costs_to_total_charges</th>\n",
       "      <th>Payment_Typology</th>\n",
       "      <th>Result</th>\n",
       "    </tr>\n",
       "  </thead>\n",
       "  <tbody>\n",
       "    <tr>\n",
       "      <th>0</th>\n",
       "      <td>0.50</td>\n",
       "      <td>0.025210</td>\n",
       "      <td>0.0</td>\n",
       "      <td>0.388889</td>\n",
       "      <td>0.180867</td>\n",
       "      <td>0.000000</td>\n",
       "      <td>0.000000</td>\n",
       "      <td>0.000000</td>\n",
       "      <td>0.0</td>\n",
       "      <td>1.0</td>\n",
       "      <td>0.006219</td>\n",
       "      <td>1.0</td>\n",
       "      <td>0.00</td>\n",
       "    </tr>\n",
       "    <tr>\n",
       "      <th>1</th>\n",
       "      <td>1.00</td>\n",
       "      <td>0.025210</td>\n",
       "      <td>1.0</td>\n",
       "      <td>0.944444</td>\n",
       "      <td>0.292975</td>\n",
       "      <td>0.000000</td>\n",
       "      <td>0.666667</td>\n",
       "      <td>0.333333</td>\n",
       "      <td>0.0</td>\n",
       "      <td>1.0</td>\n",
       "      <td>0.006642</td>\n",
       "      <td>1.0</td>\n",
       "      <td>0.00</td>\n",
       "    </tr>\n",
       "    <tr>\n",
       "      <th>2</th>\n",
       "      <td>0.50</td>\n",
       "      <td>0.016807</td>\n",
       "      <td>1.0</td>\n",
       "      <td>0.388889</td>\n",
       "      <td>0.180867</td>\n",
       "      <td>0.000000</td>\n",
       "      <td>0.000000</td>\n",
       "      <td>0.000000</td>\n",
       "      <td>0.0</td>\n",
       "      <td>1.0</td>\n",
       "      <td>0.006515</td>\n",
       "      <td>1.0</td>\n",
       "      <td>0.00</td>\n",
       "    </tr>\n",
       "    <tr>\n",
       "      <th>3</th>\n",
       "      <td>0.00</td>\n",
       "      <td>0.000000</td>\n",
       "      <td>1.0</td>\n",
       "      <td>0.388889</td>\n",
       "      <td>0.180867</td>\n",
       "      <td>0.000000</td>\n",
       "      <td>0.000000</td>\n",
       "      <td>0.000000</td>\n",
       "      <td>0.0</td>\n",
       "      <td>1.0</td>\n",
       "      <td>0.009211</td>\n",
       "      <td>0.0</td>\n",
       "      <td>0.00</td>\n",
       "    </tr>\n",
       "    <tr>\n",
       "      <th>4</th>\n",
       "      <td>1.00</td>\n",
       "      <td>0.016807</td>\n",
       "      <td>0.0</td>\n",
       "      <td>0.388889</td>\n",
       "      <td>0.180867</td>\n",
       "      <td>0.000000</td>\n",
       "      <td>0.333333</td>\n",
       "      <td>0.666667</td>\n",
       "      <td>0.0</td>\n",
       "      <td>1.0</td>\n",
       "      <td>0.006050</td>\n",
       "      <td>1.0</td>\n",
       "      <td>0.00</td>\n",
       "    </tr>\n",
       "    <tr>\n",
       "      <th>...</th>\n",
       "      <td>...</td>\n",
       "      <td>...</td>\n",
       "      <td>...</td>\n",
       "      <td>...</td>\n",
       "      <td>...</td>\n",
       "      <td>...</td>\n",
       "      <td>...</td>\n",
       "      <td>...</td>\n",
       "      <td>...</td>\n",
       "      <td>...</td>\n",
       "      <td>...</td>\n",
       "      <td>...</td>\n",
       "      <td>...</td>\n",
       "    </tr>\n",
       "    <tr>\n",
       "      <th>1041260</th>\n",
       "      <td>1.00</td>\n",
       "      <td>0.042017</td>\n",
       "      <td>0.2</td>\n",
       "      <td>1.000000</td>\n",
       "      <td>0.156951</td>\n",
       "      <td>0.125541</td>\n",
       "      <td>0.333333</td>\n",
       "      <td>0.666667</td>\n",
       "      <td>0.0</td>\n",
       "      <td>1.0</td>\n",
       "      <td>0.001056</td>\n",
       "      <td>1.0</td>\n",
       "      <td>0.50</td>\n",
       "    </tr>\n",
       "    <tr>\n",
       "      <th>1041261</th>\n",
       "      <td>0.00</td>\n",
       "      <td>0.008403</td>\n",
       "      <td>0.2</td>\n",
       "      <td>0.388889</td>\n",
       "      <td>0.010463</td>\n",
       "      <td>1.000000</td>\n",
       "      <td>0.333333</td>\n",
       "      <td>0.000000</td>\n",
       "      <td>0.0</td>\n",
       "      <td>0.0</td>\n",
       "      <td>0.001620</td>\n",
       "      <td>1.0</td>\n",
       "      <td>0.50</td>\n",
       "    </tr>\n",
       "    <tr>\n",
       "      <th>1041262</th>\n",
       "      <td>0.75</td>\n",
       "      <td>0.100840</td>\n",
       "      <td>0.2</td>\n",
       "      <td>0.833333</td>\n",
       "      <td>0.224215</td>\n",
       "      <td>0.380952</td>\n",
       "      <td>1.000000</td>\n",
       "      <td>1.000000</td>\n",
       "      <td>0.0</td>\n",
       "      <td>1.0</td>\n",
       "      <td>0.001291</td>\n",
       "      <td>0.0</td>\n",
       "      <td>0.50</td>\n",
       "    </tr>\n",
       "    <tr>\n",
       "      <th>1041263</th>\n",
       "      <td>0.50</td>\n",
       "      <td>0.008403</td>\n",
       "      <td>0.2</td>\n",
       "      <td>0.388889</td>\n",
       "      <td>0.212257</td>\n",
       "      <td>0.372294</td>\n",
       "      <td>0.000000</td>\n",
       "      <td>0.000000</td>\n",
       "      <td>1.0</td>\n",
       "      <td>1.0</td>\n",
       "      <td>0.001350</td>\n",
       "      <td>1.0</td>\n",
       "      <td>0.50</td>\n",
       "    </tr>\n",
       "    <tr>\n",
       "      <th>1041264</th>\n",
       "      <td>0.75</td>\n",
       "      <td>0.008403</td>\n",
       "      <td>0.2</td>\n",
       "      <td>0.388889</td>\n",
       "      <td>0.156951</td>\n",
       "      <td>0.000000</td>\n",
       "      <td>0.000000</td>\n",
       "      <td>0.000000</td>\n",
       "      <td>0.0</td>\n",
       "      <td>1.0</td>\n",
       "      <td>0.001061</td>\n",
       "      <td>1.0</td>\n",
       "      <td>0.25</td>\n",
       "    </tr>\n",
       "  </tbody>\n",
       "</table>\n",
       "<p>1041265 rows × 13 columns</p>\n",
       "</div>"
      ],
      "text/plain": [
       "          Age  Days_spend_hsptl  Admission_type  Home or self care,  \\\n",
       "0        0.50          0.025210             0.0            0.388889   \n",
       "1        1.00          0.025210             1.0            0.944444   \n",
       "2        0.50          0.016807             1.0            0.388889   \n",
       "3        0.00          0.000000             1.0            0.388889   \n",
       "4        1.00          0.016807             0.0            0.388889   \n",
       "...       ...               ...             ...                 ...   \n",
       "1041260  1.00          0.042017             0.2            1.000000   \n",
       "1041261  0.00          0.008403             0.2            0.388889   \n",
       "1041262  0.75          0.100840             0.2            0.833333   \n",
       "1041263  0.50          0.008403             0.2            0.388889   \n",
       "1041264  0.75          0.008403             0.2            0.388889   \n",
       "\n",
       "         ccs_diagnosis_code  ccs_procedure_code  Code_illness  Mortality risk  \\\n",
       "0                  0.180867            0.000000      0.000000        0.000000   \n",
       "1                  0.292975            0.000000      0.666667        0.333333   \n",
       "2                  0.180867            0.000000      0.000000        0.000000   \n",
       "3                  0.180867            0.000000      0.000000        0.000000   \n",
       "4                  0.180867            0.000000      0.333333        0.666667   \n",
       "...                     ...                 ...           ...             ...   \n",
       "1041260            0.156951            0.125541      0.333333        0.666667   \n",
       "1041261            0.010463            1.000000      0.333333        0.000000   \n",
       "1041262            0.224215            0.380952      1.000000        1.000000   \n",
       "1041263            0.212257            0.372294      0.000000        0.000000   \n",
       "1041264            0.156951            0.000000      0.000000        0.000000   \n",
       "\n",
       "         Surg_Description  Emergency dept_yes/No  \\\n",
       "0                     0.0                    1.0   \n",
       "1                     0.0                    1.0   \n",
       "2                     0.0                    1.0   \n",
       "3                     0.0                    1.0   \n",
       "4                     0.0                    1.0   \n",
       "...                   ...                    ...   \n",
       "1041260               0.0                    1.0   \n",
       "1041261               0.0                    0.0   \n",
       "1041262               0.0                    1.0   \n",
       "1041263               1.0                    1.0   \n",
       "1041264               0.0                    1.0   \n",
       "\n",
       "         ratio_of_total_costs_to_total_charges  Payment_Typology  Result  \n",
       "0                                     0.006219               1.0    0.00  \n",
       "1                                     0.006642               1.0    0.00  \n",
       "2                                     0.006515               1.0    0.00  \n",
       "3                                     0.009211               0.0    0.00  \n",
       "4                                     0.006050               1.0    0.00  \n",
       "...                                        ...               ...     ...  \n",
       "1041260                               0.001056               1.0    0.50  \n",
       "1041261                               0.001620               1.0    0.50  \n",
       "1041262                               0.001291               0.0    0.50  \n",
       "1041263                               0.001350               1.0    0.50  \n",
       "1041264                               0.001061               1.0    0.25  \n",
       "\n",
       "[1041265 rows x 13 columns]"
      ]
     },
     "execution_count": 17,
     "metadata": {},
     "output_type": "execute_result"
    }
   ],
   "source": [
    "df"
   ]
  },
  {
   "cell_type": "markdown",
   "metadata": {},
   "source": [
    "### Data Sampling"
   ]
  },
  {
   "cell_type": "code",
   "execution_count": 18,
   "metadata": {},
   "outputs": [
    {
     "data": {
      "text/plain": [
       "0.25    8440\n",
       "0.00    6948\n",
       "0.50    5359\n",
       "0.75      76\n",
       "1.00       2\n",
       "Name: Result, dtype: int64"
      ]
     },
     "execution_count": 18,
     "metadata": {},
     "output_type": "execute_result"
    }
   ],
   "source": [
    "#Step1 - take a sample data from df. This is just to check the result of 2 methods (before/after train test split)\n",
    "sample_data = df.sample(frac=0.02)\n",
    "sample_data.Result.value_counts()"
   ]
  },
  {
   "cell_type": "markdown",
   "metadata": {},
   "source": [
    "### Downsampling before train-test split"
   ]
  },
  {
   "cell_type": "code",
   "execution_count": 28,
   "metadata": {},
   "outputs": [],
   "source": [
    "# seperating '0', & '1' label \n",
    "sample_minority = sample_data.loc[sample_data['Result']==0]\n",
    "sample_majority = sample_data.loc[sample_data['Result']==1]\n",
    "\n",
    "# doing dowmsampling of majority classes... taking 100 to 80% ratio\n",
    "#sample_minority.shape[0]*0.80 - Here its 3300\n",
    "\n",
    "from sklearn.utils import resample\n",
    "sample_data_majority_downsampled = resample(sample_majority , replace=True, n_samples=3300, random_state=42)\n",
    "\n",
    "sample_data_downsampled = pd.concat([sample_data_majority_downsampled, sample_minority ], ignore_index=True)\n",
    "\n",
    "# seperating indepedent & depedent variabales..\n",
    "\n",
    "x = sample_data_downsampled.drop(['Result'],axis=1).values\n",
    "y = sample_data_downsampled.Result.values\n",
    "\n",
    "x_train, x_test, y_train, y_test = train_test_split(x, y, test_size=0.33, stratify = y, random_state=42)"
   ]
  },
  {
   "cell_type": "markdown",
   "metadata": {},
   "source": [
    "### Build the model with n-estimator = 15"
   ]
  },
  {
   "cell_type": "code",
   "execution_count": 29,
   "metadata": {},
   "outputs": [
    {
     "name": "stdout",
     "output_type": "stream",
     "text": [
      "              precision    recall  f1-score   support\n",
      "\n",
      "         0.0       1.00      1.00      1.00      4655\n",
      "         1.0       1.00      1.00      1.00      2211\n",
      "\n",
      "    accuracy                           1.00      6866\n",
      "   macro avg       1.00      1.00      1.00      6866\n",
      "weighted avg       1.00      1.00      1.00      6866\n",
      "\n",
      "              precision    recall  f1-score   support\n",
      "\n",
      "         0.0       1.00      1.00      1.00      2293\n",
      "         1.0       1.00      1.00      1.00      1089\n",
      "\n",
      "    accuracy                           1.00      3382\n",
      "   macro avg       1.00      1.00      1.00      3382\n",
      "weighted avg       1.00      1.00      1.00      3382\n",
      "\n",
      "1.0\n"
     ]
    }
   ],
   "source": [
    "from sklearn.ensemble import RandomForestClassifier\n",
    "sample_RF15_before_split_upsampled = RandomForestClassifier(n_estimators=15, random_state=42)\n",
    "\n",
    "clf_15_sample = sample_RF15_before_split_upsampled.fit(x_train, y_train)\n",
    "y_pred_train = clf_15_sample.predict(x_train)\n",
    "y_pred = clf_15_sample.predict(x_test)\n",
    "print(classification_report(y_train, y_pred_train ))\n",
    "\n",
    "print(classification_report(y_test, y_pred ))\n",
    "\n",
    "results = cross_val_score(clf_15_sample, x, y)\n",
    "print(results.mean())"
   ]
  },
  {
   "cell_type": "markdown",
   "metadata": {},
   "source": [
    "#### Downsampling after train-test split"
   ]
  },
  {
   "cell_type": "code",
   "execution_count": 30,
   "metadata": {},
   "outputs": [],
   "source": [
    "x = sample_data.drop(['Result'],axis=1).values\n",
    "y = sample_data.Result.values\n",
    "\n",
    "x_train, x_test, y_train, y_test = train_test_split(x, y, test_size=0.33, stratify = y, random_state=42)\n",
    "\n",
    "x_train_df = pd.DataFrame(x_train, columns=sample_data.drop(['Result'],axis=1).columns)\n",
    "y_train_df = pd.DataFrame(y_train, columns=['Result'])\n",
    "\n",
    "df_train = pd.concat([x_train_df, y_train_df],axis=1)\n",
    "\n",
    "df_train_majority = df_train.loc[df_train['Result']==1]\n",
    "df_train_minority = df_train.loc[df_train['Result']==0]\n",
    "\n",
    "# doing downsampling of majority classes... taking 100 to 80% ratio\n",
    "\n",
    "# sample_minority.shape[0]*0.80   - 3287\n",
    "\n",
    "from sklearn.utils import resample\n",
    "df_train_majority_downsampled = resample(df_train_majority , replace=True, n_samples=3300, random_state=42)\n",
    "\n",
    "after_split_downsampled = pd.concat([df_train_majority_downsampled,df_train_minority])\n",
    "\n",
    "\n",
    "# splitting into x_train, y_train only..note: we have alerady splitted test sets using k fold...\n",
    "\n",
    "x_train_downsampled = after_split_downsampled.drop(['Result'],axis=1).values\n",
    "y_train_downsampled = after_split_downsampled.Result.values\n"
   ]
  },
  {
   "cell_type": "markdown",
   "metadata": {},
   "source": [
    "#### Build the model with n-estimator = 15"
   ]
  },
  {
   "cell_type": "code",
   "execution_count": 31,
   "metadata": {},
   "outputs": [
    {
     "ename": "ValueError",
     "evalue": "Classification metrics can't handle a mix of continuous-multioutput and binary targets",
     "output_type": "error",
     "traceback": [
      "\u001b[1;31m---------------------------------------------------------------------------\u001b[0m",
      "\u001b[1;31mValueError\u001b[0m                                Traceback (most recent call last)",
      "\u001b[1;32m<ipython-input-31-7cc629129506>\u001b[0m in \u001b[0;36m<module>\u001b[1;34m\u001b[0m\n\u001b[0;32m      7\u001b[0m \u001b[0my_pred\u001b[0m \u001b[1;33m=\u001b[0m \u001b[0msample_RF15_after_split_downsampled\u001b[0m\u001b[1;33m.\u001b[0m\u001b[0mpredict\u001b[0m\u001b[1;33m(\u001b[0m\u001b[0mx_test\u001b[0m\u001b[1;33m)\u001b[0m\u001b[1;33m\u001b[0m\u001b[1;33m\u001b[0m\u001b[0m\n\u001b[0;32m      8\u001b[0m \u001b[1;33m\u001b[0m\u001b[0m\n\u001b[1;32m----> 9\u001b[1;33m \u001b[0mprint\u001b[0m\u001b[1;33m(\u001b[0m\u001b[0mclassification_report\u001b[0m\u001b[1;33m(\u001b[0m\u001b[0mx_train_downsampled\u001b[0m\u001b[1;33m,\u001b[0m \u001b[0my_pred_train\u001b[0m \u001b[1;33m)\u001b[0m\u001b[1;33m)\u001b[0m\u001b[1;33m\u001b[0m\u001b[1;33m\u001b[0m\u001b[0m\n\u001b[0m\u001b[0;32m     10\u001b[0m \u001b[1;33m\u001b[0m\u001b[0m\n\u001b[0;32m     11\u001b[0m \u001b[0mprint\u001b[0m\u001b[1;33m(\u001b[0m\u001b[0mclassification_report\u001b[0m\u001b[1;33m(\u001b[0m\u001b[0my_test\u001b[0m\u001b[1;33m,\u001b[0m \u001b[0my_pred\u001b[0m \u001b[1;33m)\u001b[0m\u001b[1;33m)\u001b[0m\u001b[1;33m\u001b[0m\u001b[1;33m\u001b[0m\u001b[0m\n",
      "\u001b[1;32mD:\\Downloads\\Python1\\lib\\site-packages\\sklearn\\utils\\validation.py\u001b[0m in \u001b[0;36minner_f\u001b[1;34m(*args, **kwargs)\u001b[0m\n\u001b[0;32m     70\u001b[0m                           FutureWarning)\n\u001b[0;32m     71\u001b[0m         \u001b[0mkwargs\u001b[0m\u001b[1;33m.\u001b[0m\u001b[0mupdate\u001b[0m\u001b[1;33m(\u001b[0m\u001b[1;33m{\u001b[0m\u001b[0mk\u001b[0m\u001b[1;33m:\u001b[0m \u001b[0marg\u001b[0m \u001b[1;32mfor\u001b[0m \u001b[0mk\u001b[0m\u001b[1;33m,\u001b[0m \u001b[0marg\u001b[0m \u001b[1;32min\u001b[0m \u001b[0mzip\u001b[0m\u001b[1;33m(\u001b[0m\u001b[0msig\u001b[0m\u001b[1;33m.\u001b[0m\u001b[0mparameters\u001b[0m\u001b[1;33m,\u001b[0m \u001b[0margs\u001b[0m\u001b[1;33m)\u001b[0m\u001b[1;33m}\u001b[0m\u001b[1;33m)\u001b[0m\u001b[1;33m\u001b[0m\u001b[1;33m\u001b[0m\u001b[0m\n\u001b[1;32m---> 72\u001b[1;33m         \u001b[1;32mreturn\u001b[0m \u001b[0mf\u001b[0m\u001b[1;33m(\u001b[0m\u001b[1;33m**\u001b[0m\u001b[0mkwargs\u001b[0m\u001b[1;33m)\u001b[0m\u001b[1;33m\u001b[0m\u001b[1;33m\u001b[0m\u001b[0m\n\u001b[0m\u001b[0;32m     73\u001b[0m     \u001b[1;32mreturn\u001b[0m \u001b[0minner_f\u001b[0m\u001b[1;33m\u001b[0m\u001b[1;33m\u001b[0m\u001b[0m\n\u001b[0;32m     74\u001b[0m \u001b[1;33m\u001b[0m\u001b[0m\n",
      "\u001b[1;32mD:\\Downloads\\Python1\\lib\\site-packages\\sklearn\\metrics\\_classification.py\u001b[0m in \u001b[0;36mclassification_report\u001b[1;34m(y_true, y_pred, labels, target_names, sample_weight, digits, output_dict, zero_division)\u001b[0m\n\u001b[0;32m   1927\u001b[0m     \"\"\"\n\u001b[0;32m   1928\u001b[0m \u001b[1;33m\u001b[0m\u001b[0m\n\u001b[1;32m-> 1929\u001b[1;33m     \u001b[0my_type\u001b[0m\u001b[1;33m,\u001b[0m \u001b[0my_true\u001b[0m\u001b[1;33m,\u001b[0m \u001b[0my_pred\u001b[0m \u001b[1;33m=\u001b[0m \u001b[0m_check_targets\u001b[0m\u001b[1;33m(\u001b[0m\u001b[0my_true\u001b[0m\u001b[1;33m,\u001b[0m \u001b[0my_pred\u001b[0m\u001b[1;33m)\u001b[0m\u001b[1;33m\u001b[0m\u001b[1;33m\u001b[0m\u001b[0m\n\u001b[0m\u001b[0;32m   1930\u001b[0m \u001b[1;33m\u001b[0m\u001b[0m\n\u001b[0;32m   1931\u001b[0m     \u001b[0mlabels_given\u001b[0m \u001b[1;33m=\u001b[0m \u001b[1;32mTrue\u001b[0m\u001b[1;33m\u001b[0m\u001b[1;33m\u001b[0m\u001b[0m\n",
      "\u001b[1;32mD:\\Downloads\\Python1\\lib\\site-packages\\sklearn\\metrics\\_classification.py\u001b[0m in \u001b[0;36m_check_targets\u001b[1;34m(y_true, y_pred)\u001b[0m\n\u001b[0;32m     88\u001b[0m \u001b[1;33m\u001b[0m\u001b[0m\n\u001b[0;32m     89\u001b[0m     \u001b[1;32mif\u001b[0m \u001b[0mlen\u001b[0m\u001b[1;33m(\u001b[0m\u001b[0my_type\u001b[0m\u001b[1;33m)\u001b[0m \u001b[1;33m>\u001b[0m \u001b[1;36m1\u001b[0m\u001b[1;33m:\u001b[0m\u001b[1;33m\u001b[0m\u001b[1;33m\u001b[0m\u001b[0m\n\u001b[1;32m---> 90\u001b[1;33m         raise ValueError(\"Classification metrics can't handle a mix of {0} \"\n\u001b[0m\u001b[0;32m     91\u001b[0m                          \"and {1} targets\".format(type_true, type_pred))\n\u001b[0;32m     92\u001b[0m \u001b[1;33m\u001b[0m\u001b[0m\n",
      "\u001b[1;31mValueError\u001b[0m: Classification metrics can't handle a mix of continuous-multioutput and binary targets"
     ]
    }
   ],
   "source": [
    "from sklearn.ensemble import RandomForestClassifier\n",
    "sample_RF15_after_split_downsampled = RandomForestClassifier(n_estimators=15, random_state=42)\n",
    "\n",
    "sample_RF15_after_split_downsampled = sample_RF15_after_split_downsampled.fit(x_train_downsampled, y_train_downsampled)\n",
    "\n",
    "y_pred_train = sample_RF15_after_split_downsampled.predict(x_train_downsampled)\n",
    "y_pred = sample_RF15_after_split_downsampled.predict(x_test)\n",
    "\n",
    "print(classification_report(x_train_downsampled, y_pred_train ))\n",
    "\n",
    "print(classification_report(y_test, y_pred ))\n",
    "\n",
    "results = cross_val_score(sample_RF15_after_split_downsampled, x, y)\n",
    "print(results.mean())\n"
   ]
  },
  {
   "cell_type": "markdown",
   "metadata": {},
   "source": [
    "#### Method1 - Upsampling before train-test split"
   ]
  },
  {
   "cell_type": "code",
   "execution_count": 32,
   "metadata": {},
   "outputs": [],
   "source": [
    "# seperating '0', & '1' label \n",
    "sample_minority = sample_data.loc[sample_data['Result']==0]\n",
    "sample_majority = sample_data.loc[sample_data['Result']==1]"
   ]
  },
  {
   "cell_type": "code",
   "execution_count": 33,
   "metadata": {},
   "outputs": [],
   "source": [
    "# doing upsampling of minority classes... taking 100 to 80% ratio\n",
    "#sample_majority.shape[0]*0.80 - Here its 12452\n",
    "\n",
    "from sklearn.utils import resample\n",
    "sample_data_minority_upsampled = resample(sample_minority , replace=True, n_samples=12000, random_state=42)"
   ]
  },
  {
   "cell_type": "code",
   "execution_count": 34,
   "metadata": {},
   "outputs": [],
   "source": [
    "# combining upsampled data to majority class data...\n",
    "\n",
    "sample_data_upsampled = pd.concat([sample_majority, sample_data_minority_upsampled ], ignore_index=True)"
   ]
  },
  {
   "cell_type": "code",
   "execution_count": 35,
   "metadata": {},
   "outputs": [],
   "source": [
    "# seperating indepedent & depedent variabales..\n",
    "\n",
    "X= sample_data_upsampled.drop(['Result'],axis=1).values\n",
    "Y= sample_data_upsampled.Result.values"
   ]
  },
  {
   "cell_type": "code",
   "execution_count": 36,
   "metadata": {},
   "outputs": [],
   "source": [
    "x_train, x_test, y_train, y_test = train_test_split(X, Y, test_size=0.33, stratify = Y, random_state=42)"
   ]
  },
  {
   "cell_type": "markdown",
   "metadata": {},
   "source": [
    "### Build the model with n-estimator = 15"
   ]
  },
  {
   "cell_type": "code",
   "execution_count": 37,
   "metadata": {},
   "outputs": [],
   "source": [
    "from sklearn.ensemble import RandomForestClassifier\n",
    "sample_RF15_before_split_upsampled = RandomForestClassifier(n_estimators=15, random_state=42)"
   ]
  },
  {
   "cell_type": "code",
   "execution_count": 38,
   "metadata": {},
   "outputs": [
    {
     "name": "stdout",
     "output_type": "stream",
     "text": [
      "              precision    recall  f1-score   support\n",
      "\n",
      "         0.0       1.00      1.00      1.00      8040\n",
      "         1.0       1.00      1.00      1.00         1\n",
      "\n",
      "    accuracy                           1.00      8041\n",
      "   macro avg       1.00      1.00      1.00      8041\n",
      "weighted avg       1.00      1.00      1.00      8041\n",
      "\n"
     ]
    }
   ],
   "source": [
    "clf_15_sample = sample_RF15_before_split_upsampled.fit(x_train, y_train)\n",
    "y_pred_train = clf_15_sample.predict(x_train)\n",
    "y_pred = clf_15_sample.predict(x_test)\n",
    "print(classification_report(y_train, y_pred_train ))"
   ]
  },
  {
   "cell_type": "code",
   "execution_count": 39,
   "metadata": {},
   "outputs": [
    {
     "name": "stdout",
     "output_type": "stream",
     "text": [
      "              precision    recall  f1-score   support\n",
      "\n",
      "         0.0       1.00      1.00      1.00      3960\n",
      "         1.0       0.00      0.00      0.00         1\n",
      "\n",
      "    accuracy                           1.00      3961\n",
      "   macro avg       0.50      0.50      0.50      3961\n",
      "weighted avg       1.00      1.00      1.00      3961\n",
      "\n"
     ]
    }
   ],
   "source": [
    "print(classification_report(y_test, y_pred ))"
   ]
  },
  {
   "cell_type": "code",
   "execution_count": 40,
   "metadata": {},
   "outputs": [
    {
     "name": "stdout",
     "output_type": "stream",
     "text": [
      "nan\n"
     ]
    }
   ],
   "source": [
    "results = cross_val_score(clf_15_sample, x, y)\n",
    "print(results.mean())"
   ]
  },
  {
   "cell_type": "markdown",
   "metadata": {},
   "source": [
    "#### Method2 - Upsampling after train-test split"
   ]
  },
  {
   "cell_type": "code",
   "execution_count": 41,
   "metadata": {},
   "outputs": [],
   "source": [
    "x = sample_data.drop(['Result'],axis=1).values\n",
    "y = sample_data.Result.values"
   ]
  },
  {
   "cell_type": "code",
   "execution_count": 42,
   "metadata": {},
   "outputs": [],
   "source": [
    "x_train, x_test, y_train, y_test = train_test_split(x, y, test_size=0.33, stratify = y, random_state=42)"
   ]
  },
  {
   "cell_type": "code",
   "execution_count": 43,
   "metadata": {},
   "outputs": [],
   "source": [
    "x_train_df = pd.DataFrame(x_train, columns=sample_data.drop(['Result'],axis=1).columns)\n",
    "y_train_df = pd.DataFrame(y_train, columns=['Result'])\n",
    "\n",
    "df_train = pd.concat([x_train_df, y_train_df],axis=1)"
   ]
  },
  {
   "cell_type": "code",
   "execution_count": 44,
   "metadata": {},
   "outputs": [],
   "source": [
    "df_train_majority = df_train.loc[df_train['Result']==1]\n",
    "df_train_minority = df_train.loc[df_train['Result']==0]"
   ]
  },
  {
   "cell_type": "code",
   "execution_count": 45,
   "metadata": {},
   "outputs": [],
   "source": [
    "# doing upsampling of minority classes... taking 100 to 80% ratio\n",
    "\n",
    "# sample_majority.shape[0]*0.80\n",
    "\n",
    "from sklearn.utils import resample\n",
    "df_train_minority_upsampled = resample(df_train_minority , replace=True, n_samples=12000, random_state=42)"
   ]
  },
  {
   "cell_type": "code",
   "execution_count": 46,
   "metadata": {},
   "outputs": [],
   "source": [
    "after_split_upsampled = pd.concat([df_train_majority, df_train_minority_upsampled])"
   ]
  },
  {
   "cell_type": "code",
   "execution_count": 47,
   "metadata": {},
   "outputs": [],
   "source": [
    "# splitting into x_train, y_train only..note: we have alerady splitted test sets using k fold...\n",
    "\n",
    "x_train_upsampled = after_split_upsampled.drop(['Result'],axis=1).values\n",
    "y_train_upsampled = after_split_upsampled.Result.values"
   ]
  },
  {
   "cell_type": "markdown",
   "metadata": {},
   "source": [
    "### Build the model with n-estimator = 15"
   ]
  },
  {
   "cell_type": "code",
   "execution_count": 48,
   "metadata": {},
   "outputs": [],
   "source": [
    "from sklearn.ensemble import RandomForestClassifier\n",
    "sample_RF15_after_split_upsampled = RandomForestClassifier(n_estimators=15, random_state=42)"
   ]
  },
  {
   "cell_type": "code",
   "execution_count": 49,
   "metadata": {},
   "outputs": [],
   "source": [
    "sample_RF15_after_split_upsampled = sample_RF15_after_split_upsampled.fit(x_train_upsampled, y_train_upsampled)"
   ]
  },
  {
   "cell_type": "code",
   "execution_count": 50,
   "metadata": {},
   "outputs": [],
   "source": [
    "y_pred_train = sample_RF15_after_split_upsampled.predict(x_train_upsampled)\n",
    "y_pred = sample_RF15_after_split_upsampled.predict(x_test)"
   ]
  },
  {
   "cell_type": "code",
   "execution_count": 51,
   "metadata": {},
   "outputs": [
    {
     "name": "stdout",
     "output_type": "stream",
     "text": [
      "              precision    recall  f1-score   support\n",
      "\n",
      "         0.0       1.00      1.00      1.00     12000\n",
      "         1.0       1.00      1.00      1.00         1\n",
      "\n",
      "    accuracy                           1.00     12001\n",
      "   macro avg       1.00      1.00      1.00     12001\n",
      "weighted avg       1.00      1.00      1.00     12001\n",
      "\n"
     ]
    }
   ],
   "source": [
    "print(classification_report(y_train_upsampled, y_pred_train ))"
   ]
  },
  {
   "cell_type": "code",
   "execution_count": 52,
   "metadata": {},
   "outputs": [
    {
     "ename": "ValueError",
     "evalue": "Classification metrics can't handle a mix of continuous and binary targets",
     "output_type": "error",
     "traceback": [
      "\u001b[1;31m---------------------------------------------------------------------------\u001b[0m",
      "\u001b[1;31mValueError\u001b[0m                                Traceback (most recent call last)",
      "\u001b[1;32m<ipython-input-52-481ea0e6b6ac>\u001b[0m in \u001b[0;36m<module>\u001b[1;34m\u001b[0m\n\u001b[1;32m----> 1\u001b[1;33m \u001b[0mprint\u001b[0m\u001b[1;33m(\u001b[0m\u001b[0mclassification_report\u001b[0m\u001b[1;33m(\u001b[0m\u001b[0my_test\u001b[0m\u001b[1;33m,\u001b[0m \u001b[0my_pred\u001b[0m \u001b[1;33m)\u001b[0m\u001b[1;33m)\u001b[0m\u001b[1;33m\u001b[0m\u001b[1;33m\u001b[0m\u001b[0m\n\u001b[0m",
      "\u001b[1;32mD:\\Downloads\\Python1\\lib\\site-packages\\sklearn\\utils\\validation.py\u001b[0m in \u001b[0;36minner_f\u001b[1;34m(*args, **kwargs)\u001b[0m\n\u001b[0;32m     70\u001b[0m                           FutureWarning)\n\u001b[0;32m     71\u001b[0m         \u001b[0mkwargs\u001b[0m\u001b[1;33m.\u001b[0m\u001b[0mupdate\u001b[0m\u001b[1;33m(\u001b[0m\u001b[1;33m{\u001b[0m\u001b[0mk\u001b[0m\u001b[1;33m:\u001b[0m \u001b[0marg\u001b[0m \u001b[1;32mfor\u001b[0m \u001b[0mk\u001b[0m\u001b[1;33m,\u001b[0m \u001b[0marg\u001b[0m \u001b[1;32min\u001b[0m \u001b[0mzip\u001b[0m\u001b[1;33m(\u001b[0m\u001b[0msig\u001b[0m\u001b[1;33m.\u001b[0m\u001b[0mparameters\u001b[0m\u001b[1;33m,\u001b[0m \u001b[0margs\u001b[0m\u001b[1;33m)\u001b[0m\u001b[1;33m}\u001b[0m\u001b[1;33m)\u001b[0m\u001b[1;33m\u001b[0m\u001b[1;33m\u001b[0m\u001b[0m\n\u001b[1;32m---> 72\u001b[1;33m         \u001b[1;32mreturn\u001b[0m \u001b[0mf\u001b[0m\u001b[1;33m(\u001b[0m\u001b[1;33m**\u001b[0m\u001b[0mkwargs\u001b[0m\u001b[1;33m)\u001b[0m\u001b[1;33m\u001b[0m\u001b[1;33m\u001b[0m\u001b[0m\n\u001b[0m\u001b[0;32m     73\u001b[0m     \u001b[1;32mreturn\u001b[0m \u001b[0minner_f\u001b[0m\u001b[1;33m\u001b[0m\u001b[1;33m\u001b[0m\u001b[0m\n\u001b[0;32m     74\u001b[0m \u001b[1;33m\u001b[0m\u001b[0m\n",
      "\u001b[1;32mD:\\Downloads\\Python1\\lib\\site-packages\\sklearn\\metrics\\_classification.py\u001b[0m in \u001b[0;36mclassification_report\u001b[1;34m(y_true, y_pred, labels, target_names, sample_weight, digits, output_dict, zero_division)\u001b[0m\n\u001b[0;32m   1927\u001b[0m     \"\"\"\n\u001b[0;32m   1928\u001b[0m \u001b[1;33m\u001b[0m\u001b[0m\n\u001b[1;32m-> 1929\u001b[1;33m     \u001b[0my_type\u001b[0m\u001b[1;33m,\u001b[0m \u001b[0my_true\u001b[0m\u001b[1;33m,\u001b[0m \u001b[0my_pred\u001b[0m \u001b[1;33m=\u001b[0m \u001b[0m_check_targets\u001b[0m\u001b[1;33m(\u001b[0m\u001b[0my_true\u001b[0m\u001b[1;33m,\u001b[0m \u001b[0my_pred\u001b[0m\u001b[1;33m)\u001b[0m\u001b[1;33m\u001b[0m\u001b[1;33m\u001b[0m\u001b[0m\n\u001b[0m\u001b[0;32m   1930\u001b[0m \u001b[1;33m\u001b[0m\u001b[0m\n\u001b[0;32m   1931\u001b[0m     \u001b[0mlabels_given\u001b[0m \u001b[1;33m=\u001b[0m \u001b[1;32mTrue\u001b[0m\u001b[1;33m\u001b[0m\u001b[1;33m\u001b[0m\u001b[0m\n",
      "\u001b[1;32mD:\\Downloads\\Python1\\lib\\site-packages\\sklearn\\metrics\\_classification.py\u001b[0m in \u001b[0;36m_check_targets\u001b[1;34m(y_true, y_pred)\u001b[0m\n\u001b[0;32m     88\u001b[0m \u001b[1;33m\u001b[0m\u001b[0m\n\u001b[0;32m     89\u001b[0m     \u001b[1;32mif\u001b[0m \u001b[0mlen\u001b[0m\u001b[1;33m(\u001b[0m\u001b[0my_type\u001b[0m\u001b[1;33m)\u001b[0m \u001b[1;33m>\u001b[0m \u001b[1;36m1\u001b[0m\u001b[1;33m:\u001b[0m\u001b[1;33m\u001b[0m\u001b[1;33m\u001b[0m\u001b[0m\n\u001b[1;32m---> 90\u001b[1;33m         raise ValueError(\"Classification metrics can't handle a mix of {0} \"\n\u001b[0m\u001b[0;32m     91\u001b[0m                          \"and {1} targets\".format(type_true, type_pred))\n\u001b[0;32m     92\u001b[0m \u001b[1;33m\u001b[0m\u001b[0m\n",
      "\u001b[1;31mValueError\u001b[0m: Classification metrics can't handle a mix of continuous and binary targets"
     ]
    }
   ],
   "source": [
    "print(classification_report(y_test, y_pred ))"
   ]
  },
  {
   "cell_type": "code",
   "execution_count": 53,
   "metadata": {},
   "outputs": [
    {
     "name": "stdout",
     "output_type": "stream",
     "text": [
      "nan\n"
     ]
    }
   ],
   "source": [
    "results = cross_val_score(sample_RF15_after_split_upsampled, x, y)\n",
    "print(results.mean())"
   ]
  },
  {
   "cell_type": "markdown",
   "metadata": {},
   "source": [
    "##### Conclusion:\n",
    "##### Upsampling before Train-Test split gives more accuracy"
   ]
  },
  {
   "cell_type": "markdown",
   "metadata": {},
   "source": [
    "### Model Building on whole dataset"
   ]
  },
  {
   "cell_type": "code",
   "execution_count": 54,
   "metadata": {},
   "outputs": [],
   "source": [
    "data_minority = df.loc[df['Result']==0]\n",
    "data_majority = df.loc[df['Result']==1]"
   ]
  },
  {
   "cell_type": "code",
   "execution_count": 55,
   "metadata": {},
   "outputs": [
    {
     "data": {
      "text/plain": [
       "52.800000000000004"
      ]
     },
     "execution_count": 55,
     "metadata": {},
     "output_type": "execute_result"
    }
   ],
   "source": [
    "data_majority.shape[0]*0.80"
   ]
  },
  {
   "cell_type": "code",
   "execution_count": 56,
   "metadata": {},
   "outputs": [],
   "source": [
    "from sklearn.utils import resample\n",
    "data_minority_upsampled = resample(data_minority, replace=True, n_samples=600000, random_state=42)\n",
    "data_upsampled = pd.concat([data_majority, data_minority_upsampled ], ignore_index=True)"
   ]
  },
  {
   "cell_type": "code",
   "execution_count": 57,
   "metadata": {},
   "outputs": [],
   "source": [
    "X = data_upsampled.drop(['Result'],axis=1).values\n",
    "Y = data_upsampled.Result.values"
   ]
  },
  {
   "cell_type": "code",
   "execution_count": 58,
   "metadata": {},
   "outputs": [
    {
     "data": {
      "text/plain": [
       "600000"
      ]
     },
     "execution_count": 58,
     "metadata": {},
     "output_type": "execute_result"
    }
   ],
   "source": [
    "Y\n",
    "len(Y)\n",
    "len(Y) - np.count_nonzero(Y)"
   ]
  },
  {
   "cell_type": "code",
   "execution_count": 59,
   "metadata": {},
   "outputs": [],
   "source": [
    "x_train, x_test, y_train, y_test = train_test_split(X, Y, test_size=0.33, stratify=Y, random_state=30)"
   ]
  },
  {
   "cell_type": "markdown",
   "metadata": {},
   "source": [
    "### GridSearch for Randon Forest"
   ]
  },
  {
   "cell_type": "code",
   "execution_count": 70,
   "metadata": {},
   "outputs": [],
   "source": [
    "parameters = {\n",
    "    \"n_estimators\":[50,100,250],\n",
    "    \"max_depth\":[2,4,8,16,32,None]\n",
    "}"
   ]
  },
  {
   "cell_type": "code",
   "execution_count": 71,
   "metadata": {},
   "outputs": [],
   "source": [
    "from sklearn.model_selection import GridSearchCV\n"
   ]
  },
  {
   "cell_type": "code",
   "execution_count": 72,
   "metadata": {},
   "outputs": [],
   "source": [
    "def display(results):\n",
    "    print(f'Best parameters are: {results.best_params_}')\n",
    "    print(\"\\n\")\n",
    "    mean_score = results.cv_results_['mean_test_score']\n",
    "    std_score = results.cv_results_['std_test_score']\n",
    "    params = results.cv_results_['params']\n",
    "    for mean,std,params in zip(mean_score,std_score,params):\n",
    "        print(f'{round(mean,3)} + or -{round(std,3)} for the {params}')\n"
   ]
  },
  {
   "cell_type": "code",
   "execution_count": 74,
   "metadata": {},
   "outputs": [],
   "source": [
    "x_train, x_test, y_train, y_test = train_test_split(X, Y, test_size=0.33, stratify=Y, random_state=42)\n",
    "model_rf_upsampled = RandomForestClassifier()"
   ]
  },
  {
   "cell_type": "code",
   "execution_count": null,
   "metadata": {},
   "outputs": [],
   "source": [
    "from sklearn.ensemble import RandomForestClassifier\n",
    "from sklearn.metrics import mean_squared_error\n",
    "\n",
    "x_train, x_test, y_train, y_test = train_test_split(X, Y, test_size=0.33, stratify=Y, random_state=42)\n",
    "\n",
    "#model_rf_upsampled = RandomForestClassifier(n_estimators=100, random_state=42)\n",
    "model_rf_upsampled = RandomForestClassifier()\n",
    "\n",
    "cv = GridSearchCV(model_rf_upsampled,parameters,cv=5)\n",
    "cv.fit(x_train,y_train)\n",
    "\n",
    "display(cv)"
   ]
  },
  {
   "cell_type": "markdown",
   "metadata": {},
   "source": [
    "### Random Forest Classifier on whole data "
   ]
  },
  {
   "cell_type": "code",
   "execution_count": 75,
   "metadata": {},
   "outputs": [
    {
     "name": "stdout",
     "output_type": "stream",
     "text": [
      "              precision    recall  f1-score   support\n",
      "\n",
      "         0.0       1.00      1.00      1.00    402000\n",
      "         1.0       1.00      0.98      0.99        44\n",
      "\n",
      "    accuracy                           1.00    402044\n",
      "   macro avg       1.00      0.99      0.99    402044\n",
      "weighted avg       1.00      1.00      1.00    402044\n",
      "\n",
      "              precision    recall  f1-score   support\n",
      "\n",
      "         0.0       1.00      1.00      1.00    198000\n",
      "         1.0       0.00      0.00      0.00        22\n",
      "\n",
      "    accuracy                           1.00    198022\n",
      "   macro avg       0.50      0.50      0.50    198022\n",
      "weighted avg       1.00      1.00      1.00    198022\n",
      "\n",
      "RF with full trees, Train MSE: 2.4872899483638606e-06 Test MSE: 0.00012119865469493288\n"
     ]
    }
   ],
   "source": [
    "from sklearn.metrics import mean_squared_error\n",
    "\n",
    "model_rf_upsampled = RandomForestClassifier(n_estimators=100, random_state=42)\n",
    "\n",
    "\n",
    "df_RF100_upsampled = model_rf_upsampled.fit(x_train, y_train)\n",
    "\n",
    "y_pred_train = model_rf_upsampled.predict(x_train)\n",
    "# classification report...for train set\n",
    "print(classification_report(y_train, y_pred_train))\n",
    "\n",
    "y_pred_test = model_rf_upsampled.predict(x_test)\n",
    "# classification report...for test set\n",
    "print(classification_report(y_test, y_pred_test))\n",
    "\n",
    "mse_train = mean_squared_error(y_train, y_pred_train)\n",
    "mse_test = mean_squared_error(y_test, y_pred_test)\n",
    "\n",
    "print(\"RF with full trees, Train MSE: {} Test MSE: {}\".format(mse_train, mse_test))"
   ]
  },
  {
   "cell_type": "markdown",
   "metadata": {},
   "source": [
    "### Testing the accuracy with Random data"
   ]
  },
  {
   "cell_type": "code",
   "execution_count": 76,
   "metadata": {},
   "outputs": [
    {
     "name": "stdout",
     "output_type": "stream",
     "text": [
      "Record-59070   Predicted Value [0.]   Actual Value 0.0\n"
     ]
    }
   ],
   "source": [
    "import random\n",
    "r1 = random.randint(100,100000)\n",
    "r2 = r1 + 1\n",
    "\n",
    "x_test1 = x_test[r1:r2,:] \n",
    "y_test1 = y_test[r1] \n",
    "y_pred_test1 = model_rf_upsampled.predict(x_test1)\n",
    "y_pred_test1\n",
    "y_test1\n",
    "\n",
    "print (\"Record-\" + str(r1) + \"   Predicted Value \" + str(y_pred_test1) + \"   Actual Value \" + str(y_test1))\n"
   ]
  },
  {
   "cell_type": "markdown",
   "metadata": {},
   "source": [
    "### Save the model to .sav file"
   ]
  },
  {
   "cell_type": "code",
   "execution_count": 79,
   "metadata": {},
   "outputs": [
    {
     "data": {
      "text/plain": [
       "['RF_WholeData_encoded.joblib']"
      ]
     },
     "execution_count": 79,
     "metadata": {},
     "output_type": "execute_result"
    }
   ],
   "source": [
    "from joblib import dump, load\n",
    "dump(df_RF100_upsampled, 'RF_WholeData_encoded.joblib')"
   ]
  },
  {
   "cell_type": "code",
   "execution_count": 80,
   "metadata": {},
   "outputs": [
    {
     "name": "stdout",
     "output_type": "stream",
     "text": [
      "0.9999583379161625\n"
     ]
    }
   ],
   "source": [
    "#from pickle import dump\n",
    "#from pickle import load\n",
    "\n",
    "\n",
    "# save the model to disk\n",
    "#dump(df_RF100_upsampled, open('RF_WholeData_encoded.sav', 'wb'))\n",
    "\n",
    "# load the model from disk\n",
    "loaded_model = load(open('RF_WholeData_encoded.joblib', 'rb'))\n",
    "result = loaded_model.score(X, Y)\n",
    "print(result)"
   ]
  },
  {
   "cell_type": "code",
   "execution_count": null,
   "metadata": {},
   "outputs": [],
   "source": []
  },
  {
   "cell_type": "markdown",
   "metadata": {},
   "source": [
    "### Logistic Regression"
   ]
  },
  {
   "cell_type": "code",
   "execution_count": 81,
   "metadata": {},
   "outputs": [
    {
     "name": "stdout",
     "output_type": "stream",
     "text": [
      "              precision    recall  f1-score   support\n",
      "\n",
      "         0.0       1.00      1.00      1.00    402001\n",
      "         1.0       0.00      0.00      0.00        43\n",
      "\n",
      "    accuracy                           1.00    402044\n",
      "   macro avg       0.50      0.50      0.50    402044\n",
      "weighted avg       1.00      1.00      1.00    402044\n",
      "\n",
      "              precision    recall  f1-score   support\n",
      "\n",
      "         0.0       1.00      1.00      1.00    197999\n",
      "         1.0       0.00      0.00      0.00        23\n",
      "\n",
      "    accuracy                           1.00    198022\n",
      "   macro avg       0.50      0.50      0.50    198022\n",
      "weighted avg       1.00      1.00      1.00    198022\n",
      "\n"
     ]
    },
    {
     "data": {
      "text/plain": [
       "99.98838512892507"
      ]
     },
     "execution_count": 81,
     "metadata": {},
     "output_type": "execute_result"
    }
   ],
   "source": [
    "#Evaluate using Logistic Regression\n",
    "from sklearn.linear_model import LogisticRegression\n",
    "model = LogisticRegression(max_iter=500)\n",
    "\n",
    "test_size = 0.33\n",
    "seed = 5\n",
    "X_train, X_test, Y_train, Y_test = train_test_split(X, Y, test_size=test_size, random_state=seed)\n",
    "\n",
    "# grid searching for learning rate    \n",
    "parameters = { 'C' : [ 1, 2, 3, 4, 5, 6, 7, 8, 9, 10 ] }\n",
    "          \n",
    "model = LogisticRegression()        \n",
    "grid = GridSearchCV(model, parameters )    \n",
    "grid.fit(X_train, Y_train )\n",
    "    \n",
    "y_pred_train = grid.predict(X_train)\n",
    "print(classification_report(Y_train,y_pred_train))\n",
    "\n",
    "y_pred_test = grid.predict(X_test)\n",
    "print(classification_report(Y_test,y_pred_test))\n",
    "\n",
    "result = grid.score(X_test, Y_test)\n",
    "\n",
    "result*100.0\n"
   ]
  },
  {
   "cell_type": "markdown",
   "metadata": {},
   "source": [
    "### Dump the model into .sav file"
   ]
  },
  {
   "cell_type": "code",
   "execution_count": null,
   "metadata": {
    "scrolled": true
   },
   "outputs": [],
   "source": [
    "df.info()"
   ]
  },
  {
   "cell_type": "code",
   "execution_count": null,
   "metadata": {},
   "outputs": [],
   "source": [
    "# Gaussian Naive Bayes Classification\n",
    "\n",
    "from sklearn.naive_bayes import GaussianNB\n",
    "\n",
    "kfold = KFold(n_splits=10)\n",
    "test_size = 0.33\n",
    "seed = 5\n",
    "X_train, X_test, Y_train, Y_test = train_test_split(X, Y, test_size=test_size, random_state=seed)\n",
    "\n",
    "model = GaussianNB()\n",
    "model.fit(X_train, Y_train)\n",
    "\n",
    "y_pred_train = model.predict(X_train)\n",
    "print(classification_report(Y_train,y_pred_train))\n",
    "\n",
    "y_pred_test = model.predict(X_test)\n",
    "print(classification_report(Y_test,y_pred_test))\n",
    "\n",
    "#results = cross_val_score(model, X_train, Y_train, cv=kfold)\n",
    "#print(results.mean())\n"
   ]
  },
  {
   "cell_type": "code",
   "execution_count": null,
   "metadata": {},
   "outputs": [],
   "source": [
    "# KNN Classification\n",
    "from sklearn.neighbors import KNeighborsClassifier\n",
    "\n",
    "kfold = KFold(n_splits=10)\n",
    "test_size = 0.33\n",
    "seed = 5\n",
    "X_train, X_test, Y_train, Y_test = train_test_split(X, Y, test_size=test_size, random_state=seed)\n",
    "\n",
    "model = KNeighborsClassifier(n_neighbors=17)\n",
    "model.fit(X_train, Y_train)\n",
    "\n",
    "y_pred_train = model.predict(X_train)\n",
    "print(classification_report(Y_train,y_pred_train))\n",
    "\n",
    "y_pred_test = model.predict(X_test)\n",
    "print(classification_report(Y_test,y_pred_test))\n",
    "\n",
    "#results = cross_val_score(model, X_train, Y_train, cv=kfold)\n",
    "#print(results.mean())\n"
   ]
  },
  {
   "cell_type": "code",
   "execution_count": null,
   "metadata": {},
   "outputs": [],
   "source": [
    "from sklearn.svm import SVC\n",
    "\n",
    "kfold = KFold(n_splits=10)\n",
    "test_size = 0.33\n",
    "seed = 5\n",
    "X_train, X_test, Y_train, Y_test = train_test_split(X, Y, test_size=test_size, random_state=seed)\n",
    "\n",
    "model = SVC()\n",
    "model.fit(X_train, Y_train)\n",
    "\n",
    "y_pred_train = model.predict(X_train)\n",
    "print(classification_report(Y_train,y_pred_train))\n",
    "\n",
    "y_pred_test = model.predict(X_test)\n",
    "print(classification_report(Y_test,y_pred_test))\n",
    "\n",
    "#results = cross_val_score(model, X_train, X_train, cv=kfold)\n",
    "#print(results.mean())"
   ]
  },
  {
   "cell_type": "code",
   "execution_count": null,
   "metadata": {},
   "outputs": [],
   "source": [
    "# AdaBoost Classification\n",
    "from sklearn.ensemble import AdaBoostClassifier\n",
    "\n",
    "num_trees = 10\n",
    "test_size = 0.33\n",
    "seed = 5\n",
    "X_train, X_test, Y_train, Y_test = train_test_split(X, Y, test_size=test_size, random_state=seed)\n",
    "\n",
    "\n",
    "kfold = KFold(n_splits=10)\n",
    "model = AdaBoostClassifier(n_estimators=num_trees)\n",
    "\n",
    "model.fit(X_train, Y_train)\n",
    "\n",
    "y_pred_train = model.predict(X_train)\n",
    "print(classification_report(Y_train,y_pred_train))\n",
    "\n",
    "y_pred_test = model.predict(X_test)\n",
    "print(classification_report(Y_test,y_pred_test))\n",
    "\n",
    "#results = cross_val_score(model, X, Y, cv=kfold)\n",
    "#print(results.mean())"
   ]
  },
  {
   "cell_type": "code",
   "execution_count": null,
   "metadata": {},
   "outputs": [],
   "source": [
    "# Bagged Decision Trees for Classification\n",
    "\n",
    "from sklearn.ensemble import BaggingClassifier\n",
    "from sklearn.tree import DecisionTreeClassifier\n",
    "\n",
    "test_size = 0.33\n",
    "seed = 5\n",
    "X_train, X_test, Y_train, Y_test = train_test_split(X, Y, test_size=test_size, random_state=seed)\n",
    "\n",
    "kfold = KFold(n_splits=10, random_state=seed)\n",
    "cart = DecisionTreeClassifier()\n",
    "num_trees = 100\n",
    "model = BaggingClassifier(base_estimator=cart, n_estimators=num_trees)\n",
    "\n",
    "model.fit(X_train, Y_train)\n",
    "\n",
    "y_pred_train = model.predict(X_train)\n",
    "print(classification_report(Y_train,y_pred_train))\n",
    "\n",
    "y_pred_test = model.predict(X_test)\n",
    "print(classification_report(Y_test,y_pred_test))\n",
    "\n",
    "#results = cross_val_score(model, X_train, Y_train, cv=kfold)\n",
    "#print(results.mean())"
   ]
  },
  {
   "cell_type": "code",
   "execution_count": null,
   "metadata": {},
   "outputs": [],
   "source": [
    "len(X_test)"
   ]
  },
  {
   "cell_type": "code",
   "execution_count": null,
   "metadata": {},
   "outputs": [],
   "source": []
  }
 ],
 "metadata": {
  "kernelspec": {
   "display_name": "Python 3",
   "language": "python",
   "name": "python3"
  },
  "language_info": {
   "codemirror_mode": {
    "name": "ipython",
    "version": 3
   },
   "file_extension": ".py",
   "mimetype": "text/x-python",
   "name": "python",
   "nbconvert_exporter": "python",
   "pygments_lexer": "ipython3",
   "version": "3.8.5"
  }
 },
 "nbformat": 4,
 "nbformat_minor": 4
}
