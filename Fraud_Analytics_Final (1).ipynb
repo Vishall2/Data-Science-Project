{
  "nbformat": 4,
  "nbformat_minor": 0,
  "metadata": {
    "accelerator": "GPU",
    "colab": {
      "name": "Fraud_Analytics_Final.ipynb",
      "provenance": [],
      "collapsed_sections": [
        "ArF_wcAbpI2_"
      ]
    },
    "kernelspec": {
      "display_name": "Python 3",
      "language": "python",
      "name": "python3"
    },
    "language_info": {
      "codemirror_mode": {
        "name": "ipython",
        "version": 3
      },
      "file_extension": ".py",
      "mimetype": "text/x-python",
      "name": "python",
      "nbconvert_exporter": "python",
      "pygments_lexer": "ipython3",
      "version": "3.8.5"
    }
  },
  "cells": [
    {
      "cell_type": "markdown",
      "metadata": {
        "id": "vJWIovXC3voL"
      },
      "source": [
        "### Importing Libraries"
      ]
    },
    {
      "cell_type": "code",
      "metadata": {
        "id": "qCGzMk353voQ"
      },
      "source": [
        "import numpy as np \n",
        "import pandas as pd\n",
        "\n",
        "import matplotlib.pyplot as plt\n",
        "import seaborn as sns\n",
        "\n",
        "import warnings\n",
        "warnings.filterwarnings('ignore')\n",
        "\n",
        "from sklearn.preprocessing import LabelEncoder\n",
        "from sklearn.model_selection import train_test_split, cross_val_score\n",
        "from sklearn.preprocessing import StandardScaler\n",
        "from sklearn.metrics import classification_report, confusion_matrix\n",
        "from sklearn.ensemble import IsolationForest\n",
        "\n",
        "from sklearn.metrics import classification_report\n",
        "from sklearn.metrics import roc_auc_score,roc_curve\n",
        "from sklearn.model_selection import StratifiedKFold\n",
        "from sklearn.model_selection import GridSearchCV\n",
        "from scipy.stats import randint\n",
        "\n",
        "from imblearn.combine import SMOTETomek\n",
        "from imblearn.combine import SMOTEENN\n",
        "\n",
        "from sklearn.linear_model import LogisticRegression\n",
        "from sklearn.neighbors import KNeighborsClassifier\n",
        "from sklearn.svm import SVC\n",
        "from sklearn.tree import DecisionTreeClassifier\n",
        "from sklearn.ensemble import BaggingClassifier\n",
        "from sklearn.ensemble import AdaBoostClassifier\n",
        "from sklearn.ensemble import RandomForestClassifier\n",
        "\n",
        "from xgboost import XGBClassifier"
      ],
      "execution_count": 17,
      "outputs": []
    },
    {
      "cell_type": "markdown",
      "metadata": {
        "id": "cRUqR9Zb3voU"
      },
      "source": [
        "### Dataset loading"
      ]
    },
    {
      "cell_type": "code",
      "metadata": {
        "colab": {
          "base_uri": "https://localhost:8080/"
        },
        "id": "AKqdDELQ4gdz",
        "outputId": "0fea9b52-b2af-4ed5-e1e5-5e1d0450fe7d"
      },
      "source": [
        "from google.colab import drive\n",
        "drive.mount('/content/drive')"
      ],
      "execution_count": null,
      "outputs": [
        {
          "output_type": "stream",
          "text": [
            "Mounted at /content/drive\n"
          ],
          "name": "stdout"
        }
      ]
    },
    {
      "cell_type": "code",
      "metadata": {
        "colab": {
          "base_uri": "https://localhost:8080/",
          "height": 445
        },
        "id": "4HWBjkk53voV",
        "outputId": "1a319287-59dc-4f44-8c81-60392fdb0eab"
      },
      "source": [
        "df = pd.read_csv(\"/content/drive/MyDrive/Project Fraud Analytics/Insurance Dataset.csv\")\n",
        "df.head()"
      ],
      "execution_count": null,
      "outputs": [
        {
          "output_type": "execute_result",
          "data": {
            "text/html": [
              "<div>\n",
              "<style scoped>\n",
              "    .dataframe tbody tr th:only-of-type {\n",
              "        vertical-align: middle;\n",
              "    }\n",
              "\n",
              "    .dataframe tbody tr th {\n",
              "        vertical-align: top;\n",
              "    }\n",
              "\n",
              "    .dataframe thead th {\n",
              "        text-align: right;\n",
              "    }\n",
              "</style>\n",
              "<table border=\"1\" class=\"dataframe\">\n",
              "  <thead>\n",
              "    <tr style=\"text-align: right;\">\n",
              "      <th></th>\n",
              "      <th>Area_Service</th>\n",
              "      <th>Hospital County</th>\n",
              "      <th>Hospital Id</th>\n",
              "      <th>Age</th>\n",
              "      <th>Gender</th>\n",
              "      <th>Cultural_group</th>\n",
              "      <th>ethnicity</th>\n",
              "      <th>Days_spend_hsptl</th>\n",
              "      <th>Admission_type</th>\n",
              "      <th>Home or self care,</th>\n",
              "      <th>ccs_diagnosis_code</th>\n",
              "      <th>ccs_procedure_code</th>\n",
              "      <th>apr_drg_description</th>\n",
              "      <th>Code_illness</th>\n",
              "      <th>Mortality risk</th>\n",
              "      <th>Surg_Description</th>\n",
              "      <th>Weight_baby</th>\n",
              "      <th>Abortion</th>\n",
              "      <th>Emergency dept_yes/No</th>\n",
              "      <th>Tot_charg</th>\n",
              "      <th>Tot_cost</th>\n",
              "      <th>ratio_of_total_costs_to_total_charges</th>\n",
              "      <th>Result</th>\n",
              "      <th>Payment_Typology</th>\n",
              "    </tr>\n",
              "  </thead>\n",
              "  <tbody>\n",
              "    <tr>\n",
              "      <th>0</th>\n",
              "      <td>Western NY</td>\n",
              "      <td>Allegany</td>\n",
              "      <td>37.0</td>\n",
              "      <td>30 to 49</td>\n",
              "      <td>F</td>\n",
              "      <td>White</td>\n",
              "      <td>Not Span/Hispanic</td>\n",
              "      <td>4</td>\n",
              "      <td>Elective</td>\n",
              "      <td>Home or Self Care</td>\n",
              "      <td>122</td>\n",
              "      <td>0</td>\n",
              "      <td>Other pneumonia</td>\n",
              "      <td>1</td>\n",
              "      <td>1.0</td>\n",
              "      <td>Medical</td>\n",
              "      <td>0</td>\n",
              "      <td>N</td>\n",
              "      <td>Y</td>\n",
              "      <td>5511.95</td>\n",
              "      <td>5582.49</td>\n",
              "      <td>1.012798</td>\n",
              "      <td>1</td>\n",
              "      <td>1</td>\n",
              "    </tr>\n",
              "    <tr>\n",
              "      <th>1</th>\n",
              "      <td>Western NY</td>\n",
              "      <td>Allegany</td>\n",
              "      <td>37.0</td>\n",
              "      <td>70 or Older</td>\n",
              "      <td>F</td>\n",
              "      <td>White</td>\n",
              "      <td>Not Span/Hispanic</td>\n",
              "      <td>4</td>\n",
              "      <td>Urgent</td>\n",
              "      <td>Short-term Hospital</td>\n",
              "      <td>197</td>\n",
              "      <td>0</td>\n",
              "      <td>Cellulitis &amp; other skin infections</td>\n",
              "      <td>3</td>\n",
              "      <td>2.0</td>\n",
              "      <td>Medical</td>\n",
              "      <td>0</td>\n",
              "      <td>N</td>\n",
              "      <td>Y</td>\n",
              "      <td>4783.20</td>\n",
              "      <td>5162.82</td>\n",
              "      <td>1.079365</td>\n",
              "      <td>1</td>\n",
              "      <td>1</td>\n",
              "    </tr>\n",
              "    <tr>\n",
              "      <th>2</th>\n",
              "      <td>Western NY</td>\n",
              "      <td>Allegany</td>\n",
              "      <td>37.0</td>\n",
              "      <td>30 to 49</td>\n",
              "      <td>F</td>\n",
              "      <td>White</td>\n",
              "      <td>Not Span/Hispanic</td>\n",
              "      <td>3</td>\n",
              "      <td>Urgent</td>\n",
              "      <td>Home or Self Care</td>\n",
              "      <td>122</td>\n",
              "      <td>0</td>\n",
              "      <td>Other pneumonia</td>\n",
              "      <td>1</td>\n",
              "      <td>1.0</td>\n",
              "      <td>Medical</td>\n",
              "      <td>0</td>\n",
              "      <td>N</td>\n",
              "      <td>Y</td>\n",
              "      <td>3829.15</td>\n",
              "      <td>4056.52</td>\n",
              "      <td>1.059379</td>\n",
              "      <td>1</td>\n",
              "      <td>1</td>\n",
              "    </tr>\n",
              "    <tr>\n",
              "      <th>3</th>\n",
              "      <td>Western NY</td>\n",
              "      <td>Allegany</td>\n",
              "      <td>37.0</td>\n",
              "      <td>0 to 17</td>\n",
              "      <td>F</td>\n",
              "      <td>White</td>\n",
              "      <td>Not Span/Hispanic</td>\n",
              "      <td>1</td>\n",
              "      <td>Urgent</td>\n",
              "      <td>Home or Self Care</td>\n",
              "      <td>122</td>\n",
              "      <td>0</td>\n",
              "      <td>Other pneumonia</td>\n",
              "      <td>1</td>\n",
              "      <td>1.0</td>\n",
              "      <td>Medical</td>\n",
              "      <td>0</td>\n",
              "      <td>N</td>\n",
              "      <td>Y</td>\n",
              "      <td>1108.20</td>\n",
              "      <td>1644.75</td>\n",
              "      <td>1.484167</td>\n",
              "      <td>0</td>\n",
              "      <td>1</td>\n",
              "    </tr>\n",
              "    <tr>\n",
              "      <th>4</th>\n",
              "      <td>Western NY</td>\n",
              "      <td>Allegany</td>\n",
              "      <td>37.0</td>\n",
              "      <td>70 or Older</td>\n",
              "      <td>F</td>\n",
              "      <td>White</td>\n",
              "      <td>Not Span/Hispanic</td>\n",
              "      <td>3</td>\n",
              "      <td>Elective</td>\n",
              "      <td>Home or Self Care</td>\n",
              "      <td>122</td>\n",
              "      <td>0</td>\n",
              "      <td>Other pneumonia</td>\n",
              "      <td>2</td>\n",
              "      <td>3.0</td>\n",
              "      <td>Medical</td>\n",
              "      <td>0</td>\n",
              "      <td>N</td>\n",
              "      <td>Y</td>\n",
              "      <td>3418.18</td>\n",
              "      <td>3370.87</td>\n",
              "      <td>0.986161</td>\n",
              "      <td>1</td>\n",
              "      <td>1</td>\n",
              "    </tr>\n",
              "  </tbody>\n",
              "</table>\n",
              "</div>"
            ],
            "text/plain": [
              "  Area_Service Hospital County  ...  Result Payment_Typology\n",
              "0   Western NY        Allegany  ...       1                1\n",
              "1   Western NY        Allegany  ...       1                1\n",
              "2   Western NY        Allegany  ...       1                1\n",
              "3   Western NY        Allegany  ...       0                1\n",
              "4   Western NY        Allegany  ...       1                1\n",
              "\n",
              "[5 rows x 24 columns]"
            ]
          },
          "metadata": {
            "tags": []
          },
          "execution_count": 3
        }
      ]
    },
    {
      "cell_type": "code",
      "metadata": {
        "colab": {
          "base_uri": "https://localhost:8080/"
        },
        "id": "HfKv6BRKRuxh",
        "outputId": "4c1c9bc2-3e43-4954-da73-66d5ad25eb3b"
      },
      "source": [
        "df.columns"
      ],
      "execution_count": null,
      "outputs": [
        {
          "output_type": "execute_result",
          "data": {
            "text/plain": [
              "Index(['Area_Service', 'Hospital County', 'Hospital Id', 'Age', 'Gender',\n",
              "       'Cultural_group', 'ethnicity', 'Days_spend_hsptl', 'Admission_type',\n",
              "       'Home or self care,', 'ccs_diagnosis_code', 'ccs_procedure_code',\n",
              "       'apr_drg_description', 'Code_illness', 'Mortality risk',\n",
              "       'Surg_Description', 'Weight_baby', 'Abortion', 'Emergency dept_yes/No',\n",
              "       'Tot_charg', 'Tot_cost', 'ratio_of_total_costs_to_total_charges',\n",
              "       'Result', 'Payment_Typology'],\n",
              "      dtype='object')"
            ]
          },
          "metadata": {
            "tags": []
          },
          "execution_count": 4
        }
      ]
    },
    {
      "cell_type": "code",
      "metadata": {
        "colab": {
          "base_uri": "https://localhost:8080/"
        },
        "id": "XKTZLtFmRxwK",
        "outputId": "e381a69d-b731-4f67-db79-617bcfd04a9d"
      },
      "source": [
        "df.info()"
      ],
      "execution_count": null,
      "outputs": [
        {
          "output_type": "stream",
          "text": [
            "<class 'pandas.core.frame.DataFrame'>\n",
            "RangeIndex: 1048575 entries, 0 to 1048574\n",
            "Data columns (total 24 columns):\n",
            " #   Column                                 Non-Null Count    Dtype  \n",
            "---  ------                                 --------------    -----  \n",
            " 0   Area_Service                           1046119 non-null  object \n",
            " 1   Hospital County                        1046119 non-null  object \n",
            " 2   Hospital Id                            1046119 non-null  float64\n",
            " 3   Age                                    1048575 non-null  object \n",
            " 4   Gender                                 1048575 non-null  object \n",
            " 5   Cultural_group                         1048575 non-null  object \n",
            " 6   ethnicity                              1048575 non-null  object \n",
            " 7   Days_spend_hsptl                       1048575 non-null  object \n",
            " 8   Admission_type                         1048575 non-null  object \n",
            " 9   Home or self care,                     1048575 non-null  object \n",
            " 10  ccs_diagnosis_code                     1048575 non-null  int64  \n",
            " 11  ccs_procedure_code                     1048575 non-null  int64  \n",
            " 12  apr_drg_description                    1048575 non-null  object \n",
            " 13  Code_illness                           1048575 non-null  int64  \n",
            " 14  Mortality risk                         1048533 non-null  float64\n",
            " 15  Surg_Description                       1048575 non-null  object \n",
            " 16  Weight_baby                            1048575 non-null  int64  \n",
            " 17  Abortion                               1048575 non-null  object \n",
            " 18  Emergency dept_yes/No                  1048575 non-null  object \n",
            " 19  Tot_charg                              1048575 non-null  float64\n",
            " 20  Tot_cost                               1048575 non-null  float64\n",
            " 21  ratio_of_total_costs_to_total_charges  1048575 non-null  float64\n",
            " 22  Result                                 1048575 non-null  int64  \n",
            " 23  Payment_Typology                       1048575 non-null  int64  \n",
            "dtypes: float64(5), int64(6), object(13)\n",
            "memory usage: 192.0+ MB\n"
          ],
          "name": "stdout"
        }
      ]
    },
    {
      "cell_type": "code",
      "metadata": {
        "colab": {
          "base_uri": "https://localhost:8080/"
        },
        "id": "LDEdbYKsSB6Z",
        "outputId": "ceffbcd9-deee-4afe-d109-957d46d19161"
      },
      "source": [
        "df.shape"
      ],
      "execution_count": null,
      "outputs": [
        {
          "output_type": "execute_result",
          "data": {
            "text/plain": [
              "(1048575, 24)"
            ]
          },
          "metadata": {
            "tags": []
          },
          "execution_count": 6
        }
      ]
    },
    {
      "cell_type": "markdown",
      "metadata": {
        "id": "ioUIOZK93voX"
      },
      "source": [
        "### Data Preprocessing"
      ]
    },
    {
      "cell_type": "markdown",
      "metadata": {
        "id": "rR2xZUcM3voY"
      },
      "source": [
        "#### 1. Drop Duplicates "
      ]
    },
    {
      "cell_type": "code",
      "metadata": {
        "colab": {
          "base_uri": "https://localhost:8080/",
          "height": 334
        },
        "id": "n1nakEO73voY",
        "outputId": "877ab870-f14f-4dad-d949-466132687825"
      },
      "source": [
        "df.drop_duplicates(inplace=True,ignore_index=True)\n",
        "df.describe().apply(lambda s: s.apply('{0:.1f}'.format))"
      ],
      "execution_count": null,
      "outputs": [
        {
          "output_type": "execute_result",
          "data": {
            "text/html": [
              "<div>\n",
              "<style scoped>\n",
              "    .dataframe tbody tr th:only-of-type {\n",
              "        vertical-align: middle;\n",
              "    }\n",
              "\n",
              "    .dataframe tbody tr th {\n",
              "        vertical-align: top;\n",
              "    }\n",
              "\n",
              "    .dataframe thead th {\n",
              "        text-align: right;\n",
              "    }\n",
              "</style>\n",
              "<table border=\"1\" class=\"dataframe\">\n",
              "  <thead>\n",
              "    <tr style=\"text-align: right;\">\n",
              "      <th></th>\n",
              "      <th>Hospital Id</th>\n",
              "      <th>ccs_diagnosis_code</th>\n",
              "      <th>ccs_procedure_code</th>\n",
              "      <th>Code_illness</th>\n",
              "      <th>Mortality risk</th>\n",
              "      <th>Weight_baby</th>\n",
              "      <th>Tot_charg</th>\n",
              "      <th>Tot_cost</th>\n",
              "      <th>ratio_of_total_costs_to_total_charges</th>\n",
              "      <th>Result</th>\n",
              "      <th>Payment_Typology</th>\n",
              "    </tr>\n",
              "  </thead>\n",
              "  <tbody>\n",
              "    <tr>\n",
              "      <th>count</th>\n",
              "      <td>1041306.0</td>\n",
              "      <td>1043761.0</td>\n",
              "      <td>1043761.0</td>\n",
              "      <td>1043761.0</td>\n",
              "      <td>1043720.0</td>\n",
              "      <td>1043761.0</td>\n",
              "      <td>1043761.0</td>\n",
              "      <td>1043761.0</td>\n",
              "      <td>1043761.0</td>\n",
              "      <td>1043761.0</td>\n",
              "      <td>1043761.0</td>\n",
              "    </tr>\n",
              "    <tr>\n",
              "      <th>mean</th>\n",
              "      <td>652.5</td>\n",
              "      <td>198.6</td>\n",
              "      <td>97.1</td>\n",
              "      <td>2.1</td>\n",
              "      <td>1.8</td>\n",
              "      <td>282.0</td>\n",
              "      <td>27190.1</td>\n",
              "      <td>10501.2</td>\n",
              "      <td>0.5</td>\n",
              "      <td>0.7</td>\n",
              "      <td>1.9</td>\n",
              "    </tr>\n",
              "    <tr>\n",
              "      <th>std</th>\n",
              "      <td>669.6</td>\n",
              "      <td>165.5</td>\n",
              "      <td>87.3</td>\n",
              "      <td>0.9</td>\n",
              "      <td>1.0</td>\n",
              "      <td>932.3</td>\n",
              "      <td>54976.5</td>\n",
              "      <td>22345.9</td>\n",
              "      <td>0.8</td>\n",
              "      <td>0.4</td>\n",
              "      <td>0.8</td>\n",
              "    </tr>\n",
              "    <tr>\n",
              "      <th>min</th>\n",
              "      <td>1.0</td>\n",
              "      <td>1.0</td>\n",
              "      <td>0.0</td>\n",
              "      <td>0.0</td>\n",
              "      <td>1.0</td>\n",
              "      <td>0.0</td>\n",
              "      <td>0.3</td>\n",
              "      <td>0.1</td>\n",
              "      <td>0.0</td>\n",
              "      <td>0.0</td>\n",
              "      <td>1.0</td>\n",
              "    </tr>\n",
              "    <tr>\n",
              "      <th>25%</th>\n",
              "      <td>213.0</td>\n",
              "      <td>108.0</td>\n",
              "      <td>0.0</td>\n",
              "      <td>1.0</td>\n",
              "      <td>1.0</td>\n",
              "      <td>0.0</td>\n",
              "      <td>7473.6</td>\n",
              "      <td>3262.2</td>\n",
              "      <td>0.3</td>\n",
              "      <td>0.0</td>\n",
              "      <td>1.0</td>\n",
              "    </tr>\n",
              "    <tr>\n",
              "      <th>50%</th>\n",
              "      <td>630.0</td>\n",
              "      <td>159.0</td>\n",
              "      <td>88.0</td>\n",
              "      <td>2.0</td>\n",
              "      <td>1.0</td>\n",
              "      <td>0.0</td>\n",
              "      <td>14669.2</td>\n",
              "      <td>5955.4</td>\n",
              "      <td>0.4</td>\n",
              "      <td>1.0</td>\n",
              "      <td>2.0</td>\n",
              "    </tr>\n",
              "    <tr>\n",
              "      <th>75%</th>\n",
              "      <td>977.0</td>\n",
              "      <td>218.0</td>\n",
              "      <td>172.0</td>\n",
              "      <td>3.0</td>\n",
              "      <td>3.0</td>\n",
              "      <td>0.0</td>\n",
              "      <td>29242.3</td>\n",
              "      <td>11377.4</td>\n",
              "      <td>0.5</td>\n",
              "      <td>1.0</td>\n",
              "      <td>3.0</td>\n",
              "    </tr>\n",
              "    <tr>\n",
              "      <th>max</th>\n",
              "      <td>9250.0</td>\n",
              "      <td>670.0</td>\n",
              "      <td>231.0</td>\n",
              "      <td>4.0</td>\n",
              "      <td>4.0</td>\n",
              "      <td>9000.0</td>\n",
              "      <td>6196973.5</td>\n",
              "      <td>2562477.7</td>\n",
              "      <td>157.6</td>\n",
              "      <td>1.0</td>\n",
              "      <td>5.0</td>\n",
              "    </tr>\n",
              "  </tbody>\n",
              "</table>\n",
              "</div>"
            ],
            "text/plain": [
              "      Hospital Id ccs_diagnosis_code  ...     Result Payment_Typology\n",
              "count   1041306.0          1043761.0  ...  1043761.0        1043761.0\n",
              "mean        652.5              198.6  ...        0.7              1.9\n",
              "std         669.6              165.5  ...        0.4              0.8\n",
              "min           1.0                1.0  ...        0.0              1.0\n",
              "25%         213.0              108.0  ...        0.0              1.0\n",
              "50%         630.0              159.0  ...        1.0              2.0\n",
              "75%         977.0              218.0  ...        1.0              3.0\n",
              "max        9250.0              670.0  ...        1.0              5.0\n",
              "\n",
              "[8 rows x 11 columns]"
            ]
          },
          "metadata": {
            "tags": []
          },
          "execution_count": 7
        }
      ]
    },
    {
      "cell_type": "markdown",
      "metadata": {
        "id": "oQd9FjhK3voZ"
      },
      "source": [
        "#### 2. Drop NA"
      ]
    },
    {
      "cell_type": "code",
      "metadata": {
        "colab": {
          "base_uri": "https://localhost:8080/"
        },
        "id": "fBvlS8P83voa",
        "outputId": "625f5b3e-9b17-4c43-bdfa-a770fedff43a"
      },
      "source": [
        "df.dropna(inplace=True)\n",
        "df.isnull().any()"
      ],
      "execution_count": null,
      "outputs": [
        {
          "output_type": "execute_result",
          "data": {
            "text/plain": [
              "Area_Service                             False\n",
              "Hospital County                          False\n",
              "Hospital Id                              False\n",
              "Age                                      False\n",
              "Gender                                   False\n",
              "Cultural_group                           False\n",
              "ethnicity                                False\n",
              "Days_spend_hsptl                         False\n",
              "Admission_type                           False\n",
              "Home or self care,                       False\n",
              "ccs_diagnosis_code                       False\n",
              "ccs_procedure_code                       False\n",
              "apr_drg_description                      False\n",
              "Code_illness                             False\n",
              "Mortality risk                           False\n",
              "Surg_Description                         False\n",
              "Weight_baby                              False\n",
              "Abortion                                 False\n",
              "Emergency dept_yes/No                    False\n",
              "Tot_charg                                False\n",
              "Tot_cost                                 False\n",
              "ratio_of_total_costs_to_total_charges    False\n",
              "Result                                   False\n",
              "Payment_Typology                         False\n",
              "dtype: bool"
            ]
          },
          "metadata": {
            "tags": []
          },
          "execution_count": 8
        }
      ]
    },
    {
      "cell_type": "markdown",
      "metadata": {
        "id": "qN0hulg_3vob"
      },
      "source": [
        "#### 3. Drop Columns"
      ]
    },
    {
      "cell_type": "code",
      "metadata": {
        "id": "rtAH6bXX3voc"
      },
      "source": [
        "df.drop(['Area_Service','Hospital County','Hospital Id','Gender','Cultural_group',\"ethnicity\",\"apr_drg_description\",\"Weight_baby\",'Abortion','Payment_Typology'], axis=1, inplace=True)"
      ],
      "execution_count": null,
      "outputs": []
    },
    {
      "cell_type": "code",
      "metadata": {
        "colab": {
          "base_uri": "https://localhost:8080/"
        },
        "id": "9dWJ7u9y3vod",
        "outputId": "10114d20-f625-4501-e1ef-9743f4717baa"
      },
      "source": [
        "df.info()"
      ],
      "execution_count": null,
      "outputs": [
        {
          "output_type": "stream",
          "text": [
            "<class 'pandas.core.frame.DataFrame'>\n",
            "Int64Index: 1041265 entries, 0 to 1043760\n",
            "Data columns (total 14 columns):\n",
            " #   Column                                 Non-Null Count    Dtype  \n",
            "---  ------                                 --------------    -----  \n",
            " 0   Age                                    1041265 non-null  object \n",
            " 1   Days_spend_hsptl                       1041265 non-null  object \n",
            " 2   Admission_type                         1041265 non-null  object \n",
            " 3   Home or self care,                     1041265 non-null  object \n",
            " 4   ccs_diagnosis_code                     1041265 non-null  int64  \n",
            " 5   ccs_procedure_code                     1041265 non-null  int64  \n",
            " 6   Code_illness                           1041265 non-null  int64  \n",
            " 7   Mortality risk                         1041265 non-null  float64\n",
            " 8   Surg_Description                       1041265 non-null  object \n",
            " 9   Emergency dept_yes/No                  1041265 non-null  object \n",
            " 10  Tot_charg                              1041265 non-null  float64\n",
            " 11  Tot_cost                               1041265 non-null  float64\n",
            " 12  ratio_of_total_costs_to_total_charges  1041265 non-null  float64\n",
            " 13  Result                                 1041265 non-null  int64  \n",
            "dtypes: float64(4), int64(4), object(6)\n",
            "memory usage: 119.2+ MB\n"
          ],
          "name": "stdout"
        }
      ]
    },
    {
      "cell_type": "markdown",
      "metadata": {
        "id": "mvQAKY8LTrIX"
      },
      "source": [
        "###4.Rename Column Names"
      ]
    },
    {
      "cell_type": "code",
      "metadata": {
        "colab": {
          "base_uri": "https://localhost:8080/"
        },
        "id": "C4ajYOMW6M78",
        "outputId": "41ec150e-de27-43fc-a4e9-ce63474305ae"
      },
      "source": [
        "df = df.rename(columns={'Mortality risk':'Mortality_risk',\"Home or self care,\":\"Home_or_self_care\",'Emergency dept_yes/No':'Emergency_dept_yes/No'})\n",
        "df.columns"
      ],
      "execution_count": null,
      "outputs": [
        {
          "output_type": "execute_result",
          "data": {
            "text/plain": [
              "Index(['Age', 'Days_spend_hsptl', 'Admission_type', 'Home_or_self_care',\n",
              "       'ccs_diagnosis_code', 'ccs_procedure_code', 'Code_illness',\n",
              "       'Mortality_risk', 'Surg_Description', 'Emergency_dept_yes/No',\n",
              "       'Tot_charg', 'Tot_cost', 'ratio_of_total_costs_to_total_charges',\n",
              "       'Result'],\n",
              "      dtype='object')"
            ]
          },
          "metadata": {
            "tags": []
          },
          "execution_count": 11
        }
      ]
    },
    {
      "cell_type": "markdown",
      "metadata": {
        "id": "vVwbUp6k3vod"
      },
      "source": [
        "####5. Converting Columns to Right Datatypes"
      ]
    },
    {
      "cell_type": "code",
      "metadata": {
        "id": "I-_kWELP3voe"
      },
      "source": [
        "df.replace({'Days_spend_hsptl': '120 +'}, 120, inplace=True)\n",
        "df['Mortality_risk'] = df['Mortality_risk'].astype(int)"
      ],
      "execution_count": null,
      "outputs": []
    },
    {
      "cell_type": "code",
      "metadata": {
        "colab": {
          "base_uri": "https://localhost:8080/",
          "height": 609
        },
        "id": "6ARFh-Y860dE",
        "outputId": "3e5bb62c-19c3-4035-fa8e-e70f6502d9af"
      },
      "source": [
        "df"
      ],
      "execution_count": null,
      "outputs": [
        {
          "output_type": "execute_result",
          "data": {
            "text/html": [
              "<div>\n",
              "<style scoped>\n",
              "    .dataframe tbody tr th:only-of-type {\n",
              "        vertical-align: middle;\n",
              "    }\n",
              "\n",
              "    .dataframe tbody tr th {\n",
              "        vertical-align: top;\n",
              "    }\n",
              "\n",
              "    .dataframe thead th {\n",
              "        text-align: right;\n",
              "    }\n",
              "</style>\n",
              "<table border=\"1\" class=\"dataframe\">\n",
              "  <thead>\n",
              "    <tr style=\"text-align: right;\">\n",
              "      <th></th>\n",
              "      <th>Age</th>\n",
              "      <th>Days_spend_hsptl</th>\n",
              "      <th>Admission_type</th>\n",
              "      <th>Home_or_self_care</th>\n",
              "      <th>ccs_diagnosis_code</th>\n",
              "      <th>ccs_procedure_code</th>\n",
              "      <th>Code_illness</th>\n",
              "      <th>Mortality_risk</th>\n",
              "      <th>Surg_Description</th>\n",
              "      <th>Emergency_dept_yes/No</th>\n",
              "      <th>Tot_charg</th>\n",
              "      <th>Tot_cost</th>\n",
              "      <th>ratio_of_total_costs_to_total_charges</th>\n",
              "      <th>Result</th>\n",
              "    </tr>\n",
              "  </thead>\n",
              "  <tbody>\n",
              "    <tr>\n",
              "      <th>0</th>\n",
              "      <td>30 to 49</td>\n",
              "      <td>4</td>\n",
              "      <td>Elective</td>\n",
              "      <td>Home or Self Care</td>\n",
              "      <td>122</td>\n",
              "      <td>0</td>\n",
              "      <td>1</td>\n",
              "      <td>1</td>\n",
              "      <td>Medical</td>\n",
              "      <td>Y</td>\n",
              "      <td>5511.95</td>\n",
              "      <td>5582.49</td>\n",
              "      <td>1.012798</td>\n",
              "      <td>1</td>\n",
              "    </tr>\n",
              "    <tr>\n",
              "      <th>1</th>\n",
              "      <td>70 or Older</td>\n",
              "      <td>4</td>\n",
              "      <td>Urgent</td>\n",
              "      <td>Short-term Hospital</td>\n",
              "      <td>197</td>\n",
              "      <td>0</td>\n",
              "      <td>3</td>\n",
              "      <td>2</td>\n",
              "      <td>Medical</td>\n",
              "      <td>Y</td>\n",
              "      <td>4783.20</td>\n",
              "      <td>5162.82</td>\n",
              "      <td>1.079365</td>\n",
              "      <td>1</td>\n",
              "    </tr>\n",
              "    <tr>\n",
              "      <th>2</th>\n",
              "      <td>30 to 49</td>\n",
              "      <td>3</td>\n",
              "      <td>Urgent</td>\n",
              "      <td>Home or Self Care</td>\n",
              "      <td>122</td>\n",
              "      <td>0</td>\n",
              "      <td>1</td>\n",
              "      <td>1</td>\n",
              "      <td>Medical</td>\n",
              "      <td>Y</td>\n",
              "      <td>3829.15</td>\n",
              "      <td>4056.52</td>\n",
              "      <td>1.059379</td>\n",
              "      <td>1</td>\n",
              "    </tr>\n",
              "    <tr>\n",
              "      <th>3</th>\n",
              "      <td>0 to 17</td>\n",
              "      <td>1</td>\n",
              "      <td>Urgent</td>\n",
              "      <td>Home or Self Care</td>\n",
              "      <td>122</td>\n",
              "      <td>0</td>\n",
              "      <td>1</td>\n",
              "      <td>1</td>\n",
              "      <td>Medical</td>\n",
              "      <td>Y</td>\n",
              "      <td>1108.20</td>\n",
              "      <td>1644.75</td>\n",
              "      <td>1.484167</td>\n",
              "      <td>0</td>\n",
              "    </tr>\n",
              "    <tr>\n",
              "      <th>4</th>\n",
              "      <td>70 or Older</td>\n",
              "      <td>3</td>\n",
              "      <td>Elective</td>\n",
              "      <td>Home or Self Care</td>\n",
              "      <td>122</td>\n",
              "      <td>0</td>\n",
              "      <td>2</td>\n",
              "      <td>3</td>\n",
              "      <td>Medical</td>\n",
              "      <td>Y</td>\n",
              "      <td>3418.18</td>\n",
              "      <td>3370.87</td>\n",
              "      <td>0.986161</td>\n",
              "      <td>1</td>\n",
              "    </tr>\n",
              "    <tr>\n",
              "      <th>...</th>\n",
              "      <td>...</td>\n",
              "      <td>...</td>\n",
              "      <td>...</td>\n",
              "      <td>...</td>\n",
              "      <td>...</td>\n",
              "      <td>...</td>\n",
              "      <td>...</td>\n",
              "      <td>...</td>\n",
              "      <td>...</td>\n",
              "      <td>...</td>\n",
              "      <td>...</td>\n",
              "      <td>...</td>\n",
              "      <td>...</td>\n",
              "      <td>...</td>\n",
              "    </tr>\n",
              "    <tr>\n",
              "      <th>1043756</th>\n",
              "      <td>70 or Older</td>\n",
              "      <td>6</td>\n",
              "      <td>Emergency</td>\n",
              "      <td>Skilled Nursing Home</td>\n",
              "      <td>106</td>\n",
              "      <td>29</td>\n",
              "      <td>2</td>\n",
              "      <td>3</td>\n",
              "      <td>Medical</td>\n",
              "      <td>Y</td>\n",
              "      <td>69650.41</td>\n",
              "      <td>13896.82</td>\n",
              "      <td>0.199522</td>\n",
              "      <td>1</td>\n",
              "    </tr>\n",
              "    <tr>\n",
              "      <th>1043757</th>\n",
              "      <td>0 to 17</td>\n",
              "      <td>2</td>\n",
              "      <td>Emergency</td>\n",
              "      <td>Home or Self Care</td>\n",
              "      <td>8</td>\n",
              "      <td>231</td>\n",
              "      <td>2</td>\n",
              "      <td>1</td>\n",
              "      <td>Medical</td>\n",
              "      <td>N</td>\n",
              "      <td>13587.38</td>\n",
              "      <td>3918.35</td>\n",
              "      <td>0.288382</td>\n",
              "      <td>1</td>\n",
              "    </tr>\n",
              "    <tr>\n",
              "      <th>1043758</th>\n",
              "      <td>50 to 69</td>\n",
              "      <td>13</td>\n",
              "      <td>Emergency</td>\n",
              "      <td>Medicare Cert Long Term Care Hospital</td>\n",
              "      <td>151</td>\n",
              "      <td>88</td>\n",
              "      <td>4</td>\n",
              "      <td>4</td>\n",
              "      <td>Medical</td>\n",
              "      <td>Y</td>\n",
              "      <td>104629.78</td>\n",
              "      <td>24746.64</td>\n",
              "      <td>0.236516</td>\n",
              "      <td>0</td>\n",
              "    </tr>\n",
              "    <tr>\n",
              "      <th>1043759</th>\n",
              "      <td>30 to 49</td>\n",
              "      <td>2</td>\n",
              "      <td>Emergency</td>\n",
              "      <td>Home or Self Care</td>\n",
              "      <td>143</td>\n",
              "      <td>86</td>\n",
              "      <td>1</td>\n",
              "      <td>1</td>\n",
              "      <td>Surgical</td>\n",
              "      <td>Y</td>\n",
              "      <td>27521.41</td>\n",
              "      <td>6766.04</td>\n",
              "      <td>0.245846</td>\n",
              "      <td>1</td>\n",
              "    </tr>\n",
              "    <tr>\n",
              "      <th>1043760</th>\n",
              "      <td>50 to 69</td>\n",
              "      <td>2</td>\n",
              "      <td>Emergency</td>\n",
              "      <td>Home or Self Care</td>\n",
              "      <td>106</td>\n",
              "      <td>0</td>\n",
              "      <td>1</td>\n",
              "      <td>1</td>\n",
              "      <td>Medical</td>\n",
              "      <td>Y</td>\n",
              "      <td>24832.23</td>\n",
              "      <td>4974.66</td>\n",
              "      <td>0.200331</td>\n",
              "      <td>1</td>\n",
              "    </tr>\n",
              "  </tbody>\n",
              "</table>\n",
              "<p>1041265 rows × 14 columns</p>\n",
              "</div>"
            ],
            "text/plain": [
              "                 Age  ... Result\n",
              "0           30 to 49  ...      1\n",
              "1        70 or Older  ...      1\n",
              "2           30 to 49  ...      1\n",
              "3            0 to 17  ...      0\n",
              "4        70 or Older  ...      1\n",
              "...              ...  ...    ...\n",
              "1043756  70 or Older  ...      1\n",
              "1043757      0 to 17  ...      1\n",
              "1043758     50 to 69  ...      0\n",
              "1043759     30 to 49  ...      1\n",
              "1043760     50 to 69  ...      1\n",
              "\n",
              "[1041265 rows x 14 columns]"
            ]
          },
          "metadata": {
            "tags": []
          },
          "execution_count": 13
        }
      ]
    },
    {
      "cell_type": "markdown",
      "metadata": {
        "id": "bF3bqNFS3vof"
      },
      "source": [
        "###6. Label Encoding"
      ]
    },
    {
      "cell_type": "code",
      "metadata": {
        "id": "tyvBBDqr3vof"
      },
      "source": [
        "from sklearn.preprocessing import LabelEncoder\n",
        "labelencoder = LabelEncoder()"
      ],
      "execution_count": null,
      "outputs": []
    },
    {
      "cell_type": "code",
      "metadata": {
        "id": "Pvz_Yypb3vog"
      },
      "source": [
        "df['Age']  = labelencoder.fit_transform(df['Age'])\n",
        "df['Admission_type'] = labelencoder.fit_transform(df['Admission_type'])\n",
        "df['Home_or_self_care'] = labelencoder.fit_transform(df['Home_or_self_care'])\n",
        "df['Surg_Description'] = labelencoder.fit_transform(df['Surg_Description'])\n",
        "df['Emergency_dept_yes/No'] = labelencoder.fit_transform(df['Emergency_dept_yes/No'])"
      ],
      "execution_count": null,
      "outputs": []
    },
    {
      "cell_type": "code",
      "metadata": {
        "colab": {
          "base_uri": "https://localhost:8080/",
          "height": 439
        },
        "id": "AljKF1YIvApO",
        "outputId": "3ad16d96-8e88-47c9-99d5-cde7ba2ca82f"
      },
      "source": [
        "df"
      ],
      "execution_count": null,
      "outputs": [
        {
          "output_type": "execute_result",
          "data": {
            "text/html": [
              "<div>\n",
              "<style scoped>\n",
              "    .dataframe tbody tr th:only-of-type {\n",
              "        vertical-align: middle;\n",
              "    }\n",
              "\n",
              "    .dataframe tbody tr th {\n",
              "        vertical-align: top;\n",
              "    }\n",
              "\n",
              "    .dataframe thead th {\n",
              "        text-align: right;\n",
              "    }\n",
              "</style>\n",
              "<table border=\"1\" class=\"dataframe\">\n",
              "  <thead>\n",
              "    <tr style=\"text-align: right;\">\n",
              "      <th></th>\n",
              "      <th>Age</th>\n",
              "      <th>Days_spend_hsptl</th>\n",
              "      <th>Admission_type</th>\n",
              "      <th>Home_or_self_care</th>\n",
              "      <th>ccs_diagnosis_code</th>\n",
              "      <th>ccs_procedure_code</th>\n",
              "      <th>Code_illness</th>\n",
              "      <th>Mortality_risk</th>\n",
              "      <th>Surg_Description</th>\n",
              "      <th>Emergency_dept_yes/No</th>\n",
              "      <th>Tot_charg</th>\n",
              "      <th>Tot_cost</th>\n",
              "      <th>ratio_of_total_costs_to_total_charges</th>\n",
              "      <th>Result</th>\n",
              "    </tr>\n",
              "  </thead>\n",
              "  <tbody>\n",
              "    <tr>\n",
              "      <th>0</th>\n",
              "      <td>2</td>\n",
              "      <td>4</td>\n",
              "      <td>0</td>\n",
              "      <td>7</td>\n",
              "      <td>122</td>\n",
              "      <td>0</td>\n",
              "      <td>1</td>\n",
              "      <td>1</td>\n",
              "      <td>0</td>\n",
              "      <td>1</td>\n",
              "      <td>5511.95</td>\n",
              "      <td>5582.49</td>\n",
              "      <td>1.012798</td>\n",
              "      <td>1</td>\n",
              "    </tr>\n",
              "    <tr>\n",
              "      <th>1</th>\n",
              "      <td>4</td>\n",
              "      <td>4</td>\n",
              "      <td>5</td>\n",
              "      <td>17</td>\n",
              "      <td>197</td>\n",
              "      <td>0</td>\n",
              "      <td>3</td>\n",
              "      <td>2</td>\n",
              "      <td>0</td>\n",
              "      <td>1</td>\n",
              "      <td>4783.20</td>\n",
              "      <td>5162.82</td>\n",
              "      <td>1.079365</td>\n",
              "      <td>1</td>\n",
              "    </tr>\n",
              "    <tr>\n",
              "      <th>2</th>\n",
              "      <td>2</td>\n",
              "      <td>3</td>\n",
              "      <td>5</td>\n",
              "      <td>7</td>\n",
              "      <td>122</td>\n",
              "      <td>0</td>\n",
              "      <td>1</td>\n",
              "      <td>1</td>\n",
              "      <td>0</td>\n",
              "      <td>1</td>\n",
              "      <td>3829.15</td>\n",
              "      <td>4056.52</td>\n",
              "      <td>1.059379</td>\n",
              "      <td>1</td>\n",
              "    </tr>\n",
              "    <tr>\n",
              "      <th>3</th>\n",
              "      <td>0</td>\n",
              "      <td>1</td>\n",
              "      <td>5</td>\n",
              "      <td>7</td>\n",
              "      <td>122</td>\n",
              "      <td>0</td>\n",
              "      <td>1</td>\n",
              "      <td>1</td>\n",
              "      <td>0</td>\n",
              "      <td>1</td>\n",
              "      <td>1108.20</td>\n",
              "      <td>1644.75</td>\n",
              "      <td>1.484167</td>\n",
              "      <td>0</td>\n",
              "    </tr>\n",
              "    <tr>\n",
              "      <th>4</th>\n",
              "      <td>4</td>\n",
              "      <td>3</td>\n",
              "      <td>0</td>\n",
              "      <td>7</td>\n",
              "      <td>122</td>\n",
              "      <td>0</td>\n",
              "      <td>2</td>\n",
              "      <td>3</td>\n",
              "      <td>0</td>\n",
              "      <td>1</td>\n",
              "      <td>3418.18</td>\n",
              "      <td>3370.87</td>\n",
              "      <td>0.986161</td>\n",
              "      <td>1</td>\n",
              "    </tr>\n",
              "    <tr>\n",
              "      <th>...</th>\n",
              "      <td>...</td>\n",
              "      <td>...</td>\n",
              "      <td>...</td>\n",
              "      <td>...</td>\n",
              "      <td>...</td>\n",
              "      <td>...</td>\n",
              "      <td>...</td>\n",
              "      <td>...</td>\n",
              "      <td>...</td>\n",
              "      <td>...</td>\n",
              "      <td>...</td>\n",
              "      <td>...</td>\n",
              "      <td>...</td>\n",
              "      <td>...</td>\n",
              "    </tr>\n",
              "    <tr>\n",
              "      <th>1043756</th>\n",
              "      <td>4</td>\n",
              "      <td>6</td>\n",
              "      <td>1</td>\n",
              "      <td>18</td>\n",
              "      <td>106</td>\n",
              "      <td>29</td>\n",
              "      <td>2</td>\n",
              "      <td>3</td>\n",
              "      <td>0</td>\n",
              "      <td>1</td>\n",
              "      <td>69650.41</td>\n",
              "      <td>13896.82</td>\n",
              "      <td>0.199522</td>\n",
              "      <td>1</td>\n",
              "    </tr>\n",
              "    <tr>\n",
              "      <th>1043757</th>\n",
              "      <td>0</td>\n",
              "      <td>2</td>\n",
              "      <td>1</td>\n",
              "      <td>7</td>\n",
              "      <td>8</td>\n",
              "      <td>231</td>\n",
              "      <td>2</td>\n",
              "      <td>1</td>\n",
              "      <td>0</td>\n",
              "      <td>0</td>\n",
              "      <td>13587.38</td>\n",
              "      <td>3918.35</td>\n",
              "      <td>0.288382</td>\n",
              "      <td>1</td>\n",
              "    </tr>\n",
              "    <tr>\n",
              "      <th>1043758</th>\n",
              "      <td>3</td>\n",
              "      <td>13</td>\n",
              "      <td>1</td>\n",
              "      <td>15</td>\n",
              "      <td>151</td>\n",
              "      <td>88</td>\n",
              "      <td>4</td>\n",
              "      <td>4</td>\n",
              "      <td>0</td>\n",
              "      <td>1</td>\n",
              "      <td>104629.78</td>\n",
              "      <td>24746.64</td>\n",
              "      <td>0.236516</td>\n",
              "      <td>0</td>\n",
              "    </tr>\n",
              "    <tr>\n",
              "      <th>1043759</th>\n",
              "      <td>2</td>\n",
              "      <td>2</td>\n",
              "      <td>1</td>\n",
              "      <td>7</td>\n",
              "      <td>143</td>\n",
              "      <td>86</td>\n",
              "      <td>1</td>\n",
              "      <td>1</td>\n",
              "      <td>1</td>\n",
              "      <td>1</td>\n",
              "      <td>27521.41</td>\n",
              "      <td>6766.04</td>\n",
              "      <td>0.245846</td>\n",
              "      <td>1</td>\n",
              "    </tr>\n",
              "    <tr>\n",
              "      <th>1043760</th>\n",
              "      <td>3</td>\n",
              "      <td>2</td>\n",
              "      <td>1</td>\n",
              "      <td>7</td>\n",
              "      <td>106</td>\n",
              "      <td>0</td>\n",
              "      <td>1</td>\n",
              "      <td>1</td>\n",
              "      <td>0</td>\n",
              "      <td>1</td>\n",
              "      <td>24832.23</td>\n",
              "      <td>4974.66</td>\n",
              "      <td>0.200331</td>\n",
              "      <td>1</td>\n",
              "    </tr>\n",
              "  </tbody>\n",
              "</table>\n",
              "<p>1041265 rows × 14 columns</p>\n",
              "</div>"
            ],
            "text/plain": [
              "         Age Days_spend_hsptl  ...  ratio_of_total_costs_to_total_charges  Result\n",
              "0          2                4  ...                               1.012798       1\n",
              "1          4                4  ...                               1.079365       1\n",
              "2          2                3  ...                               1.059379       1\n",
              "3          0                1  ...                               1.484167       0\n",
              "4          4                3  ...                               0.986161       1\n",
              "...      ...              ...  ...                                    ...     ...\n",
              "1043756    4                6  ...                               0.199522       1\n",
              "1043757    0                2  ...                               0.288382       1\n",
              "1043758    3               13  ...                               0.236516       0\n",
              "1043759    2                2  ...                               0.245846       1\n",
              "1043760    3                2  ...                               0.200331       1\n",
              "\n",
              "[1041265 rows x 14 columns]"
            ]
          },
          "metadata": {
            "tags": []
          },
          "execution_count": 16
        }
      ]
    },
    {
      "cell_type": "code",
      "metadata": {
        "colab": {
          "base_uri": "https://localhost:8080/",
          "height": 472
        },
        "id": "ip9pZ6oxwqG_",
        "outputId": "f8bba658-e91c-448f-c29a-53241f546557"
      },
      "source": [
        "df.corr()"
      ],
      "execution_count": null,
      "outputs": [
        {
          "output_type": "execute_result",
          "data": {
            "text/html": [
              "<div>\n",
              "<style scoped>\n",
              "    .dataframe tbody tr th:only-of-type {\n",
              "        vertical-align: middle;\n",
              "    }\n",
              "\n",
              "    .dataframe tbody tr th {\n",
              "        vertical-align: top;\n",
              "    }\n",
              "\n",
              "    .dataframe thead th {\n",
              "        text-align: right;\n",
              "    }\n",
              "</style>\n",
              "<table border=\"1\" class=\"dataframe\">\n",
              "  <thead>\n",
              "    <tr style=\"text-align: right;\">\n",
              "      <th></th>\n",
              "      <th>Age</th>\n",
              "      <th>Admission_type</th>\n",
              "      <th>Home_or_self_care</th>\n",
              "      <th>ccs_diagnosis_code</th>\n",
              "      <th>ccs_procedure_code</th>\n",
              "      <th>Code_illness</th>\n",
              "      <th>Mortality_risk</th>\n",
              "      <th>Surg_Description</th>\n",
              "      <th>Emergency_dept_yes/No</th>\n",
              "      <th>Tot_charg</th>\n",
              "      <th>Tot_cost</th>\n",
              "      <th>ratio_of_total_costs_to_total_charges</th>\n",
              "      <th>Result</th>\n",
              "    </tr>\n",
              "  </thead>\n",
              "  <tbody>\n",
              "    <tr>\n",
              "      <th>Age</th>\n",
              "      <td>1.000000</td>\n",
              "      <td>-0.109385</td>\n",
              "      <td>0.302961</td>\n",
              "      <td>-0.223039</td>\n",
              "      <td>-0.119909</td>\n",
              "      <td>0.413520</td>\n",
              "      <td>0.498528</td>\n",
              "      <td>0.092201</td>\n",
              "      <td>0.342891</td>\n",
              "      <td>0.099697</td>\n",
              "      <td>0.084832</td>\n",
              "      <td>-0.049608</td>\n",
              "      <td>0.001983</td>\n",
              "    </tr>\n",
              "    <tr>\n",
              "      <th>Admission_type</th>\n",
              "      <td>-0.109385</td>\n",
              "      <td>1.000000</td>\n",
              "      <td>-0.040385</td>\n",
              "      <td>0.012607</td>\n",
              "      <td>-0.002615</td>\n",
              "      <td>0.019216</td>\n",
              "      <td>0.013942</td>\n",
              "      <td>-0.163797</td>\n",
              "      <td>-0.076151</td>\n",
              "      <td>-0.031345</td>\n",
              "      <td>-0.022222</td>\n",
              "      <td>0.022305</td>\n",
              "      <td>-0.001403</td>\n",
              "    </tr>\n",
              "    <tr>\n",
              "      <th>Home_or_self_care</th>\n",
              "      <td>0.302961</td>\n",
              "      <td>-0.040385</td>\n",
              "      <td>1.000000</td>\n",
              "      <td>-0.070088</td>\n",
              "      <td>-0.000530</td>\n",
              "      <td>0.241575</td>\n",
              "      <td>0.243000</td>\n",
              "      <td>0.023579</td>\n",
              "      <td>0.142063</td>\n",
              "      <td>0.107349</td>\n",
              "      <td>0.096862</td>\n",
              "      <td>-0.012959</td>\n",
              "      <td>0.000477</td>\n",
              "    </tr>\n",
              "    <tr>\n",
              "      <th>ccs_diagnosis_code</th>\n",
              "      <td>-0.223039</td>\n",
              "      <td>0.012607</td>\n",
              "      <td>-0.070088</td>\n",
              "      <td>1.000000</td>\n",
              "      <td>0.051307</td>\n",
              "      <td>-0.181906</td>\n",
              "      <td>-0.269338</td>\n",
              "      <td>-0.148600</td>\n",
              "      <td>-0.100412</td>\n",
              "      <td>-0.076322</td>\n",
              "      <td>-0.041976</td>\n",
              "      <td>0.030690</td>\n",
              "      <td>0.000317</td>\n",
              "    </tr>\n",
              "    <tr>\n",
              "      <th>ccs_procedure_code</th>\n",
              "      <td>-0.119909</td>\n",
              "      <td>-0.002615</td>\n",
              "      <td>-0.000530</td>\n",
              "      <td>0.051307</td>\n",
              "      <td>1.000000</td>\n",
              "      <td>0.013522</td>\n",
              "      <td>-0.035020</td>\n",
              "      <td>0.047185</td>\n",
              "      <td>-0.170406</td>\n",
              "      <td>0.025710</td>\n",
              "      <td>0.034001</td>\n",
              "      <td>0.017527</td>\n",
              "      <td>-0.000441</td>\n",
              "    </tr>\n",
              "    <tr>\n",
              "      <th>Code_illness</th>\n",
              "      <td>0.413520</td>\n",
              "      <td>0.019216</td>\n",
              "      <td>0.241575</td>\n",
              "      <td>-0.181906</td>\n",
              "      <td>0.013522</td>\n",
              "      <td>1.000000</td>\n",
              "      <td>0.635410</td>\n",
              "      <td>-0.084941</td>\n",
              "      <td>0.307177</td>\n",
              "      <td>0.290234</td>\n",
              "      <td>0.246470</td>\n",
              "      <td>-0.033883</td>\n",
              "      <td>0.002065</td>\n",
              "    </tr>\n",
              "    <tr>\n",
              "      <th>Mortality_risk</th>\n",
              "      <td>0.498528</td>\n",
              "      <td>0.013942</td>\n",
              "      <td>0.243000</td>\n",
              "      <td>-0.269338</td>\n",
              "      <td>-0.035020</td>\n",
              "      <td>0.635410</td>\n",
              "      <td>1.000000</td>\n",
              "      <td>-0.068615</td>\n",
              "      <td>0.294515</td>\n",
              "      <td>0.221497</td>\n",
              "      <td>0.181717</td>\n",
              "      <td>-0.036955</td>\n",
              "      <td>0.002483</td>\n",
              "    </tr>\n",
              "    <tr>\n",
              "      <th>Surg_Description</th>\n",
              "      <td>0.092201</td>\n",
              "      <td>-0.163797</td>\n",
              "      <td>0.023579</td>\n",
              "      <td>-0.148600</td>\n",
              "      <td>0.047185</td>\n",
              "      <td>-0.084941</td>\n",
              "      <td>-0.068615</td>\n",
              "      <td>1.000000</td>\n",
              "      <td>-0.277383</td>\n",
              "      <td>0.210457</td>\n",
              "      <td>0.192765</td>\n",
              "      <td>-0.010672</td>\n",
              "      <td>-0.002039</td>\n",
              "    </tr>\n",
              "    <tr>\n",
              "      <th>Emergency_dept_yes/No</th>\n",
              "      <td>0.342891</td>\n",
              "      <td>-0.076151</td>\n",
              "      <td>0.142063</td>\n",
              "      <td>-0.100412</td>\n",
              "      <td>-0.170406</td>\n",
              "      <td>0.307177</td>\n",
              "      <td>0.294515</td>\n",
              "      <td>-0.277383</td>\n",
              "      <td>1.000000</td>\n",
              "      <td>0.010675</td>\n",
              "      <td>-0.009997</td>\n",
              "      <td>-0.049358</td>\n",
              "      <td>0.002676</td>\n",
              "    </tr>\n",
              "    <tr>\n",
              "      <th>Tot_charg</th>\n",
              "      <td>0.099697</td>\n",
              "      <td>-0.031345</td>\n",
              "      <td>0.107349</td>\n",
              "      <td>-0.076322</td>\n",
              "      <td>0.025710</td>\n",
              "      <td>0.290234</td>\n",
              "      <td>0.221497</td>\n",
              "      <td>0.210457</td>\n",
              "      <td>0.010675</td>\n",
              "      <td>1.000000</td>\n",
              "      <td>0.723527</td>\n",
              "      <td>-0.043142</td>\n",
              "      <td>-0.001055</td>\n",
              "    </tr>\n",
              "    <tr>\n",
              "      <th>Tot_cost</th>\n",
              "      <td>0.084832</td>\n",
              "      <td>-0.022222</td>\n",
              "      <td>0.096862</td>\n",
              "      <td>-0.041976</td>\n",
              "      <td>0.034001</td>\n",
              "      <td>0.246470</td>\n",
              "      <td>0.181717</td>\n",
              "      <td>0.192765</td>\n",
              "      <td>-0.009997</td>\n",
              "      <td>0.723527</td>\n",
              "      <td>1.000000</td>\n",
              "      <td>0.421115</td>\n",
              "      <td>-0.001400</td>\n",
              "    </tr>\n",
              "    <tr>\n",
              "      <th>ratio_of_total_costs_to_total_charges</th>\n",
              "      <td>-0.049608</td>\n",
              "      <td>0.022305</td>\n",
              "      <td>-0.012959</td>\n",
              "      <td>0.030690</td>\n",
              "      <td>0.017527</td>\n",
              "      <td>-0.033883</td>\n",
              "      <td>-0.036955</td>\n",
              "      <td>-0.010672</td>\n",
              "      <td>-0.049358</td>\n",
              "      <td>-0.043142</td>\n",
              "      <td>0.421115</td>\n",
              "      <td>1.000000</td>\n",
              "      <td>0.000465</td>\n",
              "    </tr>\n",
              "    <tr>\n",
              "      <th>Result</th>\n",
              "      <td>0.001983</td>\n",
              "      <td>-0.001403</td>\n",
              "      <td>0.000477</td>\n",
              "      <td>0.000317</td>\n",
              "      <td>-0.000441</td>\n",
              "      <td>0.002065</td>\n",
              "      <td>0.002483</td>\n",
              "      <td>-0.002039</td>\n",
              "      <td>0.002676</td>\n",
              "      <td>-0.001055</td>\n",
              "      <td>-0.001400</td>\n",
              "      <td>0.000465</td>\n",
              "      <td>1.000000</td>\n",
              "    </tr>\n",
              "  </tbody>\n",
              "</table>\n",
              "</div>"
            ],
            "text/plain": [
              "                                            Age  ...    Result\n",
              "Age                                    1.000000  ...  0.001983\n",
              "Admission_type                        -0.109385  ... -0.001403\n",
              "Home_or_self_care                      0.302961  ...  0.000477\n",
              "ccs_diagnosis_code                    -0.223039  ...  0.000317\n",
              "ccs_procedure_code                    -0.119909  ... -0.000441\n",
              "Code_illness                           0.413520  ...  0.002065\n",
              "Mortality_risk                         0.498528  ...  0.002483\n",
              "Surg_Description                       0.092201  ... -0.002039\n",
              "Emergency_dept_yes/No                  0.342891  ...  0.002676\n",
              "Tot_charg                              0.099697  ... -0.001055\n",
              "Tot_cost                               0.084832  ... -0.001400\n",
              "ratio_of_total_costs_to_total_charges -0.049608  ...  0.000465\n",
              "Result                                 0.001983  ...  1.000000\n",
              "\n",
              "[13 rows x 13 columns]"
            ]
          },
          "metadata": {
            "tags": []
          },
          "execution_count": 17
        }
      ]
    },
    {
      "cell_type": "markdown",
      "metadata": {
        "id": "jKTNuRLn4R17"
      },
      "source": [
        "###Assigning X and Y Varibles"
      ]
    },
    {
      "cell_type": "code",
      "metadata": {
        "id": "nLsuTmav3voh"
      },
      "source": [
        "X = df.drop(['Result'],axis=1)\n",
        "Y = df.Result"
      ],
      "execution_count": null,
      "outputs": []
    },
    {
      "cell_type": "markdown",
      "metadata": {
        "id": "ujsx_spt3von"
      },
      "source": [
        "### Data Sampling"
      ]
    },
    {
      "cell_type": "code",
      "metadata": {
        "id": "bFXZ04bi3voo"
      },
      "source": [
        "# sampled_data = df.sample(frac=0.02,random_state=42)\n",
        "# sampled_data.Result.value_counts()"
      ],
      "execution_count": null,
      "outputs": []
    },
    {
      "cell_type": "markdown",
      "metadata": {
        "id": "n99yjUv-JYcD"
      },
      "source": [
        "###Saving Sampled to data to csv file"
      ]
    },
    {
      "cell_type": "code",
      "metadata": {
        "id": "eDvqCM6vQP6l"
      },
      "source": [
        "# sampled_data.to_csv('Sampled_Data.csv')"
      ],
      "execution_count": null,
      "outputs": []
    },
    {
      "cell_type": "markdown",
      "metadata": {
        "id": "Wl1c8OGDpFbA"
      },
      "source": [
        "#Loading Sampled Data"
      ]
    },
    {
      "cell_type": "code",
      "metadata": {
        "colab": {
          "base_uri": "https://localhost:8080/",
          "height": 439
        },
        "id": "Mrxamtdmmdgx",
        "outputId": "729fb2f0-9ab2-4ff4-8499-83d52b02d1fe"
      },
      "source": [
        "sampled_data = pd.read_csv('Sampled_Data.csv')\n",
        "sampled_data"
      ],
      "execution_count": 2,
      "outputs": [
        {
          "output_type": "execute_result",
          "data": {
            "text/html": [
              "<div>\n",
              "<style scoped>\n",
              "    .dataframe tbody tr th:only-of-type {\n",
              "        vertical-align: middle;\n",
              "    }\n",
              "\n",
              "    .dataframe tbody tr th {\n",
              "        vertical-align: top;\n",
              "    }\n",
              "\n",
              "    .dataframe thead th {\n",
              "        text-align: right;\n",
              "    }\n",
              "</style>\n",
              "<table border=\"1\" class=\"dataframe\">\n",
              "  <thead>\n",
              "    <tr style=\"text-align: right;\">\n",
              "      <th></th>\n",
              "      <th>Age</th>\n",
              "      <th>Days_spend_hsptl</th>\n",
              "      <th>Admission_type</th>\n",
              "      <th>Home_or_self_care</th>\n",
              "      <th>ccs_diagnosis_code</th>\n",
              "      <th>ccs_procedure_code</th>\n",
              "      <th>Code_illness</th>\n",
              "      <th>Mortality_risk</th>\n",
              "      <th>Surg_Description</th>\n",
              "      <th>Emergency_dept_yes/No</th>\n",
              "      <th>Tot_charg</th>\n",
              "      <th>Tot_cost</th>\n",
              "      <th>ratio_of_total_costs_to_total_charges</th>\n",
              "      <th>Result</th>\n",
              "    </tr>\n",
              "  </thead>\n",
              "  <tbody>\n",
              "    <tr>\n",
              "      <th>0</th>\n",
              "      <td>1</td>\n",
              "      <td>1</td>\n",
              "      <td>1</td>\n",
              "      <td>7</td>\n",
              "      <td>236</td>\n",
              "      <td>169</td>\n",
              "      <td>2</td>\n",
              "      <td>1</td>\n",
              "      <td>0</td>\n",
              "      <td>1</td>\n",
              "      <td>7078.50</td>\n",
              "      <td>5860.88</td>\n",
              "      <td>0.827984</td>\n",
              "      <td>0</td>\n",
              "    </tr>\n",
              "    <tr>\n",
              "      <th>1</th>\n",
              "      <td>2</td>\n",
              "      <td>4</td>\n",
              "      <td>0</td>\n",
              "      <td>8</td>\n",
              "      <td>15</td>\n",
              "      <td>78</td>\n",
              "      <td>1</td>\n",
              "      <td>1</td>\n",
              "      <td>1</td>\n",
              "      <td>0</td>\n",
              "      <td>34109.75</td>\n",
              "      <td>16858.17</td>\n",
              "      <td>0.494233</td>\n",
              "      <td>0</td>\n",
              "    </tr>\n",
              "    <tr>\n",
              "      <th>2</th>\n",
              "      <td>4</td>\n",
              "      <td>10</td>\n",
              "      <td>1</td>\n",
              "      <td>18</td>\n",
              "      <td>157</td>\n",
              "      <td>63</td>\n",
              "      <td>3</td>\n",
              "      <td>4</td>\n",
              "      <td>0</td>\n",
              "      <td>1</td>\n",
              "      <td>42550.96</td>\n",
              "      <td>15109.27</td>\n",
              "      <td>0.355086</td>\n",
              "      <td>1</td>\n",
              "    </tr>\n",
              "    <tr>\n",
              "      <th>3</th>\n",
              "      <td>3</td>\n",
              "      <td>3</td>\n",
              "      <td>0</td>\n",
              "      <td>18</td>\n",
              "      <td>203</td>\n",
              "      <td>152</td>\n",
              "      <td>2</td>\n",
              "      <td>1</td>\n",
              "      <td>1</td>\n",
              "      <td>0</td>\n",
              "      <td>27259.90</td>\n",
              "      <td>11135.95</td>\n",
              "      <td>0.408510</td>\n",
              "      <td>0</td>\n",
              "    </tr>\n",
              "    <tr>\n",
              "      <th>4</th>\n",
              "      <td>3</td>\n",
              "      <td>6</td>\n",
              "      <td>1</td>\n",
              "      <td>7</td>\n",
              "      <td>106</td>\n",
              "      <td>178</td>\n",
              "      <td>4</td>\n",
              "      <td>4</td>\n",
              "      <td>0</td>\n",
              "      <td>1</td>\n",
              "      <td>52074.70</td>\n",
              "      <td>22893.52</td>\n",
              "      <td>0.439628</td>\n",
              "      <td>0</td>\n",
              "    </tr>\n",
              "    <tr>\n",
              "      <th>...</th>\n",
              "      <td>...</td>\n",
              "      <td>...</td>\n",
              "      <td>...</td>\n",
              "      <td>...</td>\n",
              "      <td>...</td>\n",
              "      <td>...</td>\n",
              "      <td>...</td>\n",
              "      <td>...</td>\n",
              "      <td>...</td>\n",
              "      <td>...</td>\n",
              "      <td>...</td>\n",
              "      <td>...</td>\n",
              "      <td>...</td>\n",
              "      <td>...</td>\n",
              "    </tr>\n",
              "    <tr>\n",
              "      <th>20820</th>\n",
              "      <td>0</td>\n",
              "      <td>2</td>\n",
              "      <td>2</td>\n",
              "      <td>7</td>\n",
              "      <td>218</td>\n",
              "      <td>115</td>\n",
              "      <td>1</td>\n",
              "      <td>1</td>\n",
              "      <td>0</td>\n",
              "      <td>0</td>\n",
              "      <td>2223.05</td>\n",
              "      <td>959.53</td>\n",
              "      <td>0.431628</td>\n",
              "      <td>1</td>\n",
              "    </tr>\n",
              "    <tr>\n",
              "      <th>20821</th>\n",
              "      <td>4</td>\n",
              "      <td>7</td>\n",
              "      <td>1</td>\n",
              "      <td>8</td>\n",
              "      <td>129</td>\n",
              "      <td>0</td>\n",
              "      <td>3</td>\n",
              "      <td>2</td>\n",
              "      <td>0</td>\n",
              "      <td>1</td>\n",
              "      <td>20442.28</td>\n",
              "      <td>10359.60</td>\n",
              "      <td>0.506773</td>\n",
              "      <td>1</td>\n",
              "    </tr>\n",
              "    <tr>\n",
              "      <th>20822</th>\n",
              "      <td>3</td>\n",
              "      <td>2</td>\n",
              "      <td>0</td>\n",
              "      <td>8</td>\n",
              "      <td>203</td>\n",
              "      <td>153</td>\n",
              "      <td>1</td>\n",
              "      <td>1</td>\n",
              "      <td>1</td>\n",
              "      <td>0</td>\n",
              "      <td>34643.10</td>\n",
              "      <td>14191.65</td>\n",
              "      <td>0.409653</td>\n",
              "      <td>1</td>\n",
              "    </tr>\n",
              "    <tr>\n",
              "      <th>20823</th>\n",
              "      <td>2</td>\n",
              "      <td>1</td>\n",
              "      <td>1</td>\n",
              "      <td>7</td>\n",
              "      <td>149</td>\n",
              "      <td>84</td>\n",
              "      <td>2</td>\n",
              "      <td>1</td>\n",
              "      <td>1</td>\n",
              "      <td>1</td>\n",
              "      <td>11171.62</td>\n",
              "      <td>3520.43</td>\n",
              "      <td>0.315122</td>\n",
              "      <td>1</td>\n",
              "    </tr>\n",
              "    <tr>\n",
              "      <th>20824</th>\n",
              "      <td>3</td>\n",
              "      <td>2</td>\n",
              "      <td>0</td>\n",
              "      <td>17</td>\n",
              "      <td>657</td>\n",
              "      <td>0</td>\n",
              "      <td>3</td>\n",
              "      <td>2</td>\n",
              "      <td>0</td>\n",
              "      <td>0</td>\n",
              "      <td>3557.72</td>\n",
              "      <td>1986.96</td>\n",
              "      <td>0.558492</td>\n",
              "      <td>0</td>\n",
              "    </tr>\n",
              "  </tbody>\n",
              "</table>\n",
              "<p>20825 rows × 14 columns</p>\n",
              "</div>"
            ],
            "text/plain": [
              "       Age  Days_spend_hsptl  ...  ratio_of_total_costs_to_total_charges  Result\n",
              "0        1                 1  ...                               0.827984       0\n",
              "1        2                 4  ...                               0.494233       0\n",
              "2        4                10  ...                               0.355086       1\n",
              "3        3                 3  ...                               0.408510       0\n",
              "4        3                 6  ...                               0.439628       0\n",
              "...    ...               ...  ...                                    ...     ...\n",
              "20820    0                 2  ...                               0.431628       1\n",
              "20821    4                 7  ...                               0.506773       1\n",
              "20822    3                 2  ...                               0.409653       1\n",
              "20823    2                 1  ...                               0.315122       1\n",
              "20824    3                 2  ...                               0.558492       0\n",
              "\n",
              "[20825 rows x 14 columns]"
            ]
          },
          "metadata": {
            "tags": []
          },
          "execution_count": 2
        }
      ]
    },
    {
      "cell_type": "code",
      "metadata": {
        "colab": {
          "base_uri": "https://localhost:8080/",
          "height": 279
        },
        "id": "n3Pri9j6oRUq",
        "outputId": "c2bdcc23-03ff-4142-ede0-5e744cc499bc"
      },
      "source": [
        "g = sns.countplot(sampled_data['Result'])\n",
        "g.set_xticklabels(['Fraud','Genuine'])\n",
        "plt.show()"
      ],
      "execution_count": null,
      "outputs": [
        {
          "output_type": "display_data",
          "data": {
            "image/png": "[encoded data removed]",
            "text/plain": [
              "<Figure size 432x288 with 1 Axes>"
            ]
          },
          "metadata": {
            "tags": [],
            "needs_background": "light"
          }
        }
      ]
    },
    {
      "cell_type": "markdown",
      "metadata": {
        "id": "ArF_wcAbpI2_"
      },
      "source": [
        "###We can Clearly see that there is Class Imbalance in the Dataset and need to use resampling techniques to deal with higly imbalance dataset"
      ]
    },
    {
      "cell_type": "markdown",
      "metadata": {
        "id": "WCXlqCZnVwNN"
      },
      "source": [
        "##Outlier Detection Using Isolation Forest"
      ]
    },
    {
      "cell_type": "code",
      "metadata": {
        "id": "EGi5jWnJnOdh"
      },
      "source": [
        "x = sampled_data.drop(['Result'],axis=1)\n",
        "y = sampled_data.Result"
      ],
      "execution_count": null,
      "outputs": []
    },
    {
      "cell_type": "code",
      "metadata": {
        "colab": {
          "base_uri": "https://localhost:8080/",
          "height": 439
        },
        "id": "bqbRsv5_M56q",
        "outputId": "46e7189a-dcaf-4c91-a7f5-2ccca544fb01"
      },
      "source": [
        "clf = IsolationForest(random_state=42,contamination=0.1)\n",
        "clf.fit(x,y)\n",
        "y_outliers = clf.predict(x)\n",
        "sampled_data['y_outliers'] = y_outliers\n",
        "sampled_data[sampled_data['y_outliers']==-1]"
      ],
      "execution_count": null,
      "outputs": [
        {
          "output_type": "execute_result",
          "data": {
            "text/html": [
              "<div>\n",
              "<style scoped>\n",
              "    .dataframe tbody tr th:only-of-type {\n",
              "        vertical-align: middle;\n",
              "    }\n",
              "\n",
              "    .dataframe tbody tr th {\n",
              "        vertical-align: top;\n",
              "    }\n",
              "\n",
              "    .dataframe thead th {\n",
              "        text-align: right;\n",
              "    }\n",
              "</style>\n",
              "<table border=\"1\" class=\"dataframe\">\n",
              "  <thead>\n",
              "    <tr style=\"text-align: right;\">\n",
              "      <th></th>\n",
              "      <th>Age</th>\n",
              "      <th>Days_spend_hsptl</th>\n",
              "      <th>Admission_type</th>\n",
              "      <th>Home_or_self_care</th>\n",
              "      <th>ccs_diagnosis_code</th>\n",
              "      <th>ccs_procedure_code</th>\n",
              "      <th>Code_illness</th>\n",
              "      <th>Mortality_risk</th>\n",
              "      <th>Surg_Description</th>\n",
              "      <th>Emergency_dept_yes/No</th>\n",
              "      <th>Tot_charg</th>\n",
              "      <th>Tot_cost</th>\n",
              "      <th>ratio_of_total_costs_to_total_charges</th>\n",
              "      <th>Result</th>\n",
              "      <th>y_outliers</th>\n",
              "    </tr>\n",
              "  </thead>\n",
              "  <tbody>\n",
              "    <tr>\n",
              "      <th>12</th>\n",
              "      <td>0</td>\n",
              "      <td>117</td>\n",
              "      <td>2</td>\n",
              "      <td>8</td>\n",
              "      <td>218</td>\n",
              "      <td>61</td>\n",
              "      <td>4</td>\n",
              "      <td>2</td>\n",
              "      <td>1</td>\n",
              "      <td>0</td>\n",
              "      <td>953373.43</td>\n",
              "      <td>205264.94</td>\n",
              "      <td>0.215304</td>\n",
              "      <td>1</td>\n",
              "      <td>-1</td>\n",
              "    </tr>\n",
              "    <tr>\n",
              "      <th>13</th>\n",
              "      <td>3</td>\n",
              "      <td>8</td>\n",
              "      <td>1</td>\n",
              "      <td>17</td>\n",
              "      <td>657</td>\n",
              "      <td>0</td>\n",
              "      <td>1</td>\n",
              "      <td>1</td>\n",
              "      <td>0</td>\n",
              "      <td>0</td>\n",
              "      <td>26830.09</td>\n",
              "      <td>6966.96</td>\n",
              "      <td>0.259670</td>\n",
              "      <td>1</td>\n",
              "      <td>-1</td>\n",
              "    </tr>\n",
              "    <tr>\n",
              "      <th>21</th>\n",
              "      <td>3</td>\n",
              "      <td>22</td>\n",
              "      <td>5</td>\n",
              "      <td>8</td>\n",
              "      <td>2</td>\n",
              "      <td>216</td>\n",
              "      <td>4</td>\n",
              "      <td>4</td>\n",
              "      <td>0</td>\n",
              "      <td>1</td>\n",
              "      <td>136367.61</td>\n",
              "      <td>53654.43</td>\n",
              "      <td>0.393454</td>\n",
              "      <td>0</td>\n",
              "      <td>-1</td>\n",
              "    </tr>\n",
              "    <tr>\n",
              "      <th>23</th>\n",
              "      <td>1</td>\n",
              "      <td>20</td>\n",
              "      <td>0</td>\n",
              "      <td>7</td>\n",
              "      <td>144</td>\n",
              "      <td>223</td>\n",
              "      <td>3</td>\n",
              "      <td>1</td>\n",
              "      <td>0</td>\n",
              "      <td>0</td>\n",
              "      <td>95387.51</td>\n",
              "      <td>63860.12</td>\n",
              "      <td>0.669481</td>\n",
              "      <td>1</td>\n",
              "      <td>-1</td>\n",
              "    </tr>\n",
              "    <tr>\n",
              "      <th>24</th>\n",
              "      <td>4</td>\n",
              "      <td>8</td>\n",
              "      <td>5</td>\n",
              "      <td>18</td>\n",
              "      <td>226</td>\n",
              "      <td>153</td>\n",
              "      <td>3</td>\n",
              "      <td>3</td>\n",
              "      <td>1</td>\n",
              "      <td>0</td>\n",
              "      <td>48949.04</td>\n",
              "      <td>19769.02</td>\n",
              "      <td>0.403869</td>\n",
              "      <td>1</td>\n",
              "      <td>-1</td>\n",
              "    </tr>\n",
              "    <tr>\n",
              "      <th>...</th>\n",
              "      <td>...</td>\n",
              "      <td>...</td>\n",
              "      <td>...</td>\n",
              "      <td>...</td>\n",
              "      <td>...</td>\n",
              "      <td>...</td>\n",
              "      <td>...</td>\n",
              "      <td>...</td>\n",
              "      <td>...</td>\n",
              "      <td>...</td>\n",
              "      <td>...</td>\n",
              "      <td>...</td>\n",
              "      <td>...</td>\n",
              "      <td>...</td>\n",
              "      <td>...</td>\n",
              "    </tr>\n",
              "    <tr>\n",
              "      <th>20766</th>\n",
              "      <td>4</td>\n",
              "      <td>13</td>\n",
              "      <td>1</td>\n",
              "      <td>18</td>\n",
              "      <td>211</td>\n",
              "      <td>71</td>\n",
              "      <td>4</td>\n",
              "      <td>2</td>\n",
              "      <td>0</td>\n",
              "      <td>1</td>\n",
              "      <td>92618.54</td>\n",
              "      <td>32076.93</td>\n",
              "      <td>0.346334</td>\n",
              "      <td>1</td>\n",
              "      <td>-1</td>\n",
              "    </tr>\n",
              "    <tr>\n",
              "      <th>20773</th>\n",
              "      <td>0</td>\n",
              "      <td>22</td>\n",
              "      <td>2</td>\n",
              "      <td>8</td>\n",
              "      <td>218</td>\n",
              "      <td>115</td>\n",
              "      <td>1</td>\n",
              "      <td>1</td>\n",
              "      <td>0</td>\n",
              "      <td>0</td>\n",
              "      <td>56796.74</td>\n",
              "      <td>34293.85</td>\n",
              "      <td>0.603800</td>\n",
              "      <td>1</td>\n",
              "      <td>-1</td>\n",
              "    </tr>\n",
              "    <tr>\n",
              "      <th>20801</th>\n",
              "      <td>4</td>\n",
              "      <td>2</td>\n",
              "      <td>5</td>\n",
              "      <td>7</td>\n",
              "      <td>96</td>\n",
              "      <td>45</td>\n",
              "      <td>3</td>\n",
              "      <td>3</td>\n",
              "      <td>1</td>\n",
              "      <td>0</td>\n",
              "      <td>55826.91</td>\n",
              "      <td>9226.25</td>\n",
              "      <td>0.165265</td>\n",
              "      <td>1</td>\n",
              "      <td>-1</td>\n",
              "    </tr>\n",
              "    <tr>\n",
              "      <th>20806</th>\n",
              "      <td>4</td>\n",
              "      <td>3</td>\n",
              "      <td>5</td>\n",
              "      <td>8</td>\n",
              "      <td>211</td>\n",
              "      <td>160</td>\n",
              "      <td>2</td>\n",
              "      <td>3</td>\n",
              "      <td>1</td>\n",
              "      <td>0</td>\n",
              "      <td>12317.51</td>\n",
              "      <td>4986.44</td>\n",
              "      <td>0.404825</td>\n",
              "      <td>1</td>\n",
              "      <td>-1</td>\n",
              "    </tr>\n",
              "    <tr>\n",
              "      <th>20824</th>\n",
              "      <td>3</td>\n",
              "      <td>2</td>\n",
              "      <td>0</td>\n",
              "      <td>17</td>\n",
              "      <td>657</td>\n",
              "      <td>0</td>\n",
              "      <td>3</td>\n",
              "      <td>2</td>\n",
              "      <td>0</td>\n",
              "      <td>0</td>\n",
              "      <td>3557.72</td>\n",
              "      <td>1986.96</td>\n",
              "      <td>0.558492</td>\n",
              "      <td>0</td>\n",
              "      <td>-1</td>\n",
              "    </tr>\n",
              "  </tbody>\n",
              "</table>\n",
              "<p>2083 rows × 15 columns</p>\n",
              "</div>"
            ],
            "text/plain": [
              "       Age  Days_spend_hsptl  ...  Result  y_outliers\n",
              "12       0               117  ...       1          -1\n",
              "13       3                 8  ...       1          -1\n",
              "21       3                22  ...       0          -1\n",
              "23       1                20  ...       1          -1\n",
              "24       4                 8  ...       1          -1\n",
              "...    ...               ...  ...     ...         ...\n",
              "20766    4                13  ...       1          -1\n",
              "20773    0                22  ...       1          -1\n",
              "20801    4                 2  ...       1          -1\n",
              "20806    4                 3  ...       1          -1\n",
              "20824    3                 2  ...       0          -1\n",
              "\n",
              "[2083 rows x 15 columns]"
            ]
          },
          "metadata": {
            "tags": []
          },
          "execution_count": 24
        }
      ]
    },
    {
      "cell_type": "code",
      "metadata": {
        "id": "BfbAq94oOFPj"
      },
      "source": [
        "sampled_data.drop(sampled_data.loc[sampled_data['y_outliers']==-1].index, inplace=True)"
      ],
      "execution_count": null,
      "outputs": []
    },
    {
      "cell_type": "code",
      "metadata": {
        "id": "QLgNClsoOPFH"
      },
      "source": [
        "sampled_data = sampled_data.drop(columns=['y_outliers'])"
      ],
      "execution_count": null,
      "outputs": []
    },
    {
      "cell_type": "code",
      "metadata": {
        "id": "GPxKcFp7OaP3"
      },
      "source": [
        "x = sampled_data.drop(['Result'],axis=1)\n",
        "y = sampled_data.Result"
      ],
      "execution_count": 4,
      "outputs": []
    },
    {
      "cell_type": "code",
      "metadata": {
        "colab": {
          "base_uri": "https://localhost:8080/"
        },
        "id": "fS-WtEqhB8sU",
        "outputId": "4aeb0c78-4ff9-413b-f451-bc99e1457fa6"
      },
      "source": [
        "y.value_counts()"
      ],
      "execution_count": null,
      "outputs": [
        {
          "output_type": "execute_result",
          "data": {
            "text/plain": [
              "1    14111\n",
              "0     4631\n",
              "Name: Result, dtype: int64"
            ]
          },
          "metadata": {
            "tags": []
          },
          "execution_count": 28
        }
      ]
    },
    {
      "cell_type": "markdown",
      "metadata": {
        "id": "04W12TLpnPFm"
      },
      "source": [
        "##Resampling(OverSampling) Data Using SMOTETomek"
      ]
    },
    {
      "cell_type": "code",
      "metadata": {
        "id": "Pt62s0jkp2jG"
      },
      "source": [
        "from imblearn.combine import SMOTETomek\n",
        "smt = SMOTETomek(ratio=\"auto\",random_state=42)\n",
        "x_smt, y_smt = smt.fit_sample(x,y)"
      ],
      "execution_count": 5,
      "outputs": []
    },
    {
      "cell_type": "code",
      "metadata": {
        "colab": {
          "base_uri": "https://localhost:8080/"
        },
        "id": "JPw3G5kv4wXV",
        "outputId": "9dba3961-6fa2-40b6-9220-bef1f79eb42b"
      },
      "source": [
        "y_smt"
      ],
      "execution_count": null,
      "outputs": [
        {
          "output_type": "execute_result",
          "data": {
            "text/plain": [
              "array([0, 0, 1, ..., 0, 0, 0])"
            ]
          },
          "metadata": {
            "tags": []
          },
          "execution_count": 30
        }
      ]
    },
    {
      "cell_type": "code",
      "metadata": {
        "colab": {
          "base_uri": "https://localhost:8080/"
        },
        "id": "BdIj1K0XmPV9",
        "outputId": "8d8eef46-bf9c-4125-df9f-fa0617fc6560"
      },
      "source": [
        "unique, count = np.unique(y_smt, return_counts=True)\n",
        "count"
      ],
      "execution_count": 6,
      "outputs": [
        {
          "output_type": "execute_result",
          "data": {
            "text/plain": [
              "array([14300, 14300])"
            ]
          },
          "metadata": {
            "tags": []
          },
          "execution_count": 6
        }
      ]
    },
    {
      "cell_type": "markdown",
      "metadata": {
        "id": "-_BG_KvH1S5P"
      },
      "source": [
        "##Resampling(UnderSampling) Data Using Tomek Links"
      ]
    },
    {
      "cell_type": "code",
      "metadata": {
        "id": "190PbEkm1ghR"
      },
      "source": [
        "# from imblearn.under_sampling import TomekLinks\n",
        "# tl = TomekLinks(ratio='auto')\n",
        "# X_tl, y_tl= tl.fit_sample(x, y)"
      ],
      "execution_count": null,
      "outputs": []
    },
    {
      "cell_type": "code",
      "metadata": {
        "id": "cKz-dXiW1gUm"
      },
      "source": [
        "# y_tl"
      ],
      "execution_count": null,
      "outputs": []
    },
    {
      "cell_type": "code",
      "metadata": {
        "id": "60lUZM2j1gNz"
      },
      "source": [
        "# unique, count = np.unique(y_tl,return_counts=True)\n",
        "# count"
      ],
      "execution_count": null,
      "outputs": []
    },
    {
      "cell_type": "markdown",
      "metadata": {
        "id": "_9G2pu7t4fyU"
      },
      "source": [
        "##Train Test Split after Upsampling"
      ]
    },
    {
      "cell_type": "code",
      "metadata": {
        "id": "hxor1Ssw1gHi"
      },
      "source": [
        "x_train,x_test,y_train,y_test = train_test_split(x_smt, y_smt, test_size=0.2,stratify=y_smt)"
      ],
      "execution_count": 8,
      "outputs": []
    },
    {
      "cell_type": "markdown",
      "metadata": {
        "id": "RZ8rzOF7s9JE"
      },
      "source": [
        "#**Model Building on Sampled Data**"
      ]
    },
    {
      "cell_type": "markdown",
      "metadata": {
        "id": "KXr6U9SHLSX8"
      },
      "source": [
        "##**Logistic Regression**"
      ]
    },
    {
      "cell_type": "markdown",
      "metadata": {
        "id": "BR2MtsX5nQeM"
      },
      "source": [
        "###Grid Search for best Hyperparameters"
      ]
    },
    {
      "cell_type": "code",
      "metadata": {
        "id": "oIbsm5zeLWTV"
      },
      "source": [
        "clf1 = LogisticRegression()\n",
        "solvers = ['newton-cg','lbfgs','liblinear']\n",
        "penalty = ['l1','l2','elasticnet']\n",
        "c_values = [100,10,1.0,0.1,0.01]"
      ],
      "execution_count": null,
      "outputs": []
    },
    {
      "cell_type": "code",
      "metadata": {
        "id": "pwWoFPT-LWQM"
      },
      "source": [
        "params1 = dict(solver=solvers,penalty=penalty,C=c_values)\n",
        "cv = StratifiedKFold(n_splits=3,random_state=42)"
      ],
      "execution_count": null,
      "outputs": []
    },
    {
      "cell_type": "code",
      "metadata": {
        "id": "6j4Orpm1LWNc"
      },
      "source": [
        "grid1 = GridSearchCV(estimator=clf1,param_grid=params1,n_jobs=-1,cv=cv,scoring='accuracy',error_score=0)\n",
        "result1 = grid1.fit(x_train,y_train)"
      ],
      "execution_count": null,
      "outputs": []
    },
    {
      "cell_type": "code",
      "metadata": {
        "colab": {
          "base_uri": "https://localhost:8080/"
        },
        "id": "6V1_1GHPLWKe",
        "outputId": "dee90d87-5e59-4b9a-d814-49a35bf7de24"
      },
      "source": [
        "print(\"Best: %f using %s\" % (result1.best_score_,result1.best_params_))"
      ],
      "execution_count": null,
      "outputs": [
        {
          "output_type": "stream",
          "text": [
            "Best: 0.516184 using {'C': 0.1, 'penalty': 'l1', 'solver': 'liblinear'}\n"
          ],
          "name": "stdout"
        }
      ]
    },
    {
      "cell_type": "markdown",
      "metadata": {
        "id": "MhW-NDZvnX9q"
      },
      "source": [
        "###Model building using best Hyperparameters"
      ]
    },
    {
      "cell_type": "code",
      "metadata": {
        "colab": {
          "base_uri": "https://localhost:8080/"
        },
        "id": "PTbYUds8Qi7g",
        "outputId": "d5931be8-77d8-4a35-b96a-813bbfb78f06"
      },
      "source": [
        "model1 = LogisticRegression(penalty='l1',C=0.1,solver='liblinear')\n",
        "model1.fit(x_train,y_train)"
      ],
      "execution_count": null,
      "outputs": [
        {
          "output_type": "execute_result",
          "data": {
            "text/plain": [
              "LogisticRegression(C=0.1, class_weight=None, dual=False, fit_intercept=True,\n",
              "                   intercept_scaling=1, l1_ratio=None, max_iter=100,\n",
              "                   multi_class='auto', n_jobs=None, penalty='l1',\n",
              "                   random_state=None, solver='liblinear', tol=0.0001, verbose=0,\n",
              "                   warm_start=False)"
            ]
          },
          "metadata": {
            "tags": []
          },
          "execution_count": 36
        }
      ]
    },
    {
      "cell_type": "code",
      "metadata": {
        "colab": {
          "base_uri": "https://localhost:8080/"
        },
        "id": "ptJ8F0yvLWJG",
        "outputId": "db31c5df-5074-49df-ced0-dff8ea62702e"
      },
      "source": [
        "y_train_pred1 = model1.predict(x_train)\n",
        "print(classification_report(y_train,y_train_pred1))"
      ],
      "execution_count": null,
      "outputs": [
        {
          "output_type": "stream",
          "text": [
            "              precision    recall  f1-score   support\n",
            "\n",
            "           0       0.52      0.51      0.52     10010\n",
            "           1       0.52      0.53      0.52     10010\n",
            "\n",
            "    accuracy                           0.52     20020\n",
            "   macro avg       0.52      0.52      0.52     20020\n",
            "weighted avg       0.52      0.52      0.52     20020\n",
            "\n"
          ],
          "name": "stdout"
        }
      ]
    },
    {
      "cell_type": "code",
      "metadata": {
        "colab": {
          "base_uri": "https://localhost:8080/"
        },
        "id": "-XuSJS4oOzKB",
        "outputId": "1c5a450e-1749-487b-b809-4932113a00e7"
      },
      "source": [
        "y_pred1 = model1.predict(x_test)\n",
        "print(classification_report(y_test,y_pred1))"
      ],
      "execution_count": null,
      "outputs": [
        {
          "output_type": "stream",
          "text": [
            "              precision    recall  f1-score   support\n",
            "\n",
            "           0       0.52      0.51      0.52      4290\n",
            "           1       0.52      0.53      0.53      4290\n",
            "\n",
            "    accuracy                           0.52      8580\n",
            "   macro avg       0.52      0.52      0.52      8580\n",
            "weighted avg       0.52      0.52      0.52      8580\n",
            "\n"
          ],
          "name": "stdout"
        }
      ]
    },
    {
      "cell_type": "markdown",
      "metadata": {
        "id": "k8s6NsKQnn-n"
      },
      "source": [
        "##**KNN**"
      ]
    },
    {
      "cell_type": "markdown",
      "metadata": {
        "id": "lIS0um1yoBpM"
      },
      "source": [
        "###Grid Search for best Hyperparameters"
      ]
    },
    {
      "cell_type": "code",
      "metadata": {
        "id": "-C8tm_LkOzGl"
      },
      "source": [
        "clf2 = KNeighborsClassifier()\n",
        "n_neighbors = range(1,21,2)\n",
        "metric = ['euclidean','manhattan','minkowski']\n",
        "weights = ['uniform','distance']"
      ],
      "execution_count": null,
      "outputs": []
    },
    {
      "cell_type": "code",
      "metadata": {
        "id": "ryhrVlv8OzC8"
      },
      "source": [
        "params2 = dict(n_neighbors=n_neighbors,weights=weights,metric=metric)\n",
        "cv = StratifiedKFold(n_splits=3,random_state=42)"
      ],
      "execution_count": null,
      "outputs": []
    },
    {
      "cell_type": "code",
      "metadata": {
        "id": "f2yERv6iOzAa"
      },
      "source": [
        "grid = GridSearchCV(estimator=clf2,param_grid=params,n_jobs=-1,cv=cv,scoring='accuracy',error_score=0)\n",
        "result = grid.fit(x_train,y_train)"
      ],
      "execution_count": null,
      "outputs": []
    },
    {
      "cell_type": "code",
      "metadata": {
        "colab": {
          "base_uri": "https://localhost:8080/"
        },
        "id": "dhoti3pxOy-z",
        "outputId": "e44e0a21-12ab-4471-8d62-41c696794196"
      },
      "source": [
        "print(\"Best: %f using %s\" % (result.best_score_,result.best_params_))"
      ],
      "execution_count": null,
      "outputs": [
        {
          "output_type": "stream",
          "text": [
            "Best: 0.738611 using {'metric': 'manhattan', 'n_neighbors': 1, 'weights': 'uniform'}\n"
          ],
          "name": "stdout"
        }
      ]
    },
    {
      "cell_type": "markdown",
      "metadata": {
        "id": "JlZutySCrAfF"
      },
      "source": [
        "###Model building using best Hyperparameters"
      ]
    },
    {
      "cell_type": "code",
      "metadata": {
        "colab": {
          "base_uri": "https://localhost:8080/"
        },
        "id": "bDzSgTWwOy8f",
        "outputId": "9b781f95-f72d-48d2-e512-558d74faffa1"
      },
      "source": [
        "model2 = KNeighborsClassifier(n_neighbors=1,metric='manhattan',weights='uniform')\n",
        "model2.fit(x_train,y_train)"
      ],
      "execution_count": null,
      "outputs": [
        {
          "output_type": "execute_result",
          "data": {
            "text/plain": [
              "KNeighborsClassifier(algorithm='auto', leaf_size=30, metric='manhattan',\n",
              "                     metric_params=None, n_jobs=None, n_neighbors=1, p=2,\n",
              "                     weights='uniform')"
            ]
          },
          "metadata": {
            "tags": []
          },
          "execution_count": 42
        }
      ]
    },
    {
      "cell_type": "code",
      "metadata": {
        "colab": {
          "base_uri": "https://localhost:8080/"
        },
        "id": "msBdjzIImVjg",
        "outputId": "49e6bf7c-f83b-48a1-8717-4a2984007d05"
      },
      "source": [
        "y_train_pred2 = model2.predict(x_train)\n",
        "print(classification_report(y_train,y_train_pred2))"
      ],
      "execution_count": null,
      "outputs": [
        {
          "output_type": "stream",
          "text": [
            "              precision    recall  f1-score   support\n",
            "\n",
            "           0       1.00      1.00      1.00     10010\n",
            "           1       1.00      1.00      1.00     10010\n",
            "\n",
            "    accuracy                           1.00     20020\n",
            "   macro avg       1.00      1.00      1.00     20020\n",
            "weighted avg       1.00      1.00      1.00     20020\n",
            "\n"
          ],
          "name": "stdout"
        }
      ]
    },
    {
      "cell_type": "code",
      "metadata": {
        "colab": {
          "base_uri": "https://localhost:8080/"
        },
        "id": "10FS-H0arn2F",
        "outputId": "1410498a-1faf-4e55-9454-e6eee61c613d"
      },
      "source": [
        "y_pred2 = model2.predict(x_test)\n",
        "print(classification_report(y_test,y_pred2))"
      ],
      "execution_count": null,
      "outputs": [
        {
          "output_type": "stream",
          "text": [
            "              precision    recall  f1-score   support\n",
            "\n",
            "           0       0.75      0.88      0.81      4290\n",
            "           1       0.86      0.70      0.77      4290\n",
            "\n",
            "    accuracy                           0.79      8580\n",
            "   macro avg       0.80      0.79      0.79      8580\n",
            "weighted avg       0.80      0.79      0.79      8580\n",
            "\n"
          ],
          "name": "stdout"
        }
      ]
    },
    {
      "cell_type": "markdown",
      "metadata": {
        "id": "glDDo6KRsLZG"
      },
      "source": [
        "##**SVM**"
      ]
    },
    {
      "cell_type": "markdown",
      "metadata": {
        "id": "mEA3tlWj0IdY"
      },
      "source": [
        "###Grid Search for best Hyperparameters"
      ]
    },
    {
      "cell_type": "code",
      "metadata": {
        "id": "VaSc9uifsAkz"
      },
      "source": [
        "clf3 = SVC()\n",
        "kernel = ['poly','rbf','sigmoid']\n",
        "C = [50,10,1.0,0.1,0.01]\n",
        "gamma = ['auto']"
      ],
      "execution_count": null,
      "outputs": []
    },
    {
      "cell_type": "code",
      "metadata": {
        "id": "rvJgNTmSsDR9"
      },
      "source": [
        "params3 = dict(kernel=kernel,C=C,gamma=gamma)\n",
        "cv = StratifiedKFold(n_splits=3,random_state=42)"
      ],
      "execution_count": null,
      "outputs": []
    },
    {
      "cell_type": "code",
      "metadata": {
        "id": "uSkhJE-esDN5"
      },
      "source": [
        "grid = GridSearchCV(estimator=clf3,param_grid=params3,cv=cv,n_jobs=-1,scoring='accuracy',error_score=0)\n",
        "grid.fit(x_train,y_train)"
      ],
      "execution_count": null,
      "outputs": []
    },
    {
      "cell_type": "code",
      "metadata": {
        "id": "yeqVqLL7sDML"
      },
      "source": [
        "print(\"Best: %f using %s\" % (grid.best_score_,grid.best_params_))"
      ],
      "execution_count": null,
      "outputs": []
    },
    {
      "cell_type": "markdown",
      "metadata": {
        "id": "NXBgRl5qu7kA"
      },
      "source": [
        "###Model building using best Hyperparameters"
      ]
    },
    {
      "cell_type": "code",
      "metadata": {
        "colab": {
          "base_uri": "https://localhost:8080/"
        },
        "id": "xjResrqQvBPv",
        "outputId": "4bca4572-311c-4471-80cb-32e0ce30314c"
      },
      "source": [
        "model3 = SVC(C=50,gamma='auto',kernel='rbf')\n",
        "model3.fit(x_train,y_train)"
      ],
      "execution_count": null,
      "outputs": [
        {
          "output_type": "execute_result",
          "data": {
            "text/plain": [
              "SVC(C=50, break_ties=False, cache_size=200, class_weight=None, coef0=0.0,\n",
              "    decision_function_shape='ovr', degree=3, gamma='auto', kernel='rbf',\n",
              "    max_iter=-1, probability=False, random_state=None, shrinking=True,\n",
              "    tol=0.001, verbose=False)"
            ]
          },
          "metadata": {
            "tags": []
          },
          "execution_count": 19
        }
      ]
    },
    {
      "cell_type": "code",
      "metadata": {
        "colab": {
          "base_uri": "https://localhost:8080/"
        },
        "id": "BOfKn0CjvA_O",
        "outputId": "262967c8-fb05-41bf-a141-5c08e23ef600"
      },
      "source": [
        "y_train_pred3 = model3.predict(x_train)\n",
        "print(classification_report(y_train,y_train_pred3))"
      ],
      "execution_count": null,
      "outputs": [
        {
          "output_type": "stream",
          "text": [
            "              precision    recall  f1-score   support\n",
            "\n",
            "           0       1.00      1.00      1.00     10010\n",
            "           1       1.00      1.00      1.00     10010\n",
            "\n",
            "    accuracy                           1.00     20020\n",
            "   macro avg       1.00      1.00      1.00     20020\n",
            "weighted avg       1.00      1.00      1.00     20020\n",
            "\n"
          ],
          "name": "stdout"
        }
      ]
    },
    {
      "cell_type": "code",
      "metadata": {
        "colab": {
          "base_uri": "https://localhost:8080/"
        },
        "id": "gK6Vb_xxvA7j",
        "outputId": "c6a391bc-22d0-4b75-ce67-ba503f1a4e96"
      },
      "source": [
        "y_pred3 = model3.predict(x_test)\n",
        "print(classification_report(y_test,y_pred3))"
      ],
      "execution_count": null,
      "outputs": [
        {
          "output_type": "stream",
          "text": [
            "              precision    recall  f1-score   support\n",
            "\n",
            "           0       0.97      0.08      0.16      4290\n",
            "           1       0.52      1.00      0.69      4290\n",
            "\n",
            "    accuracy                           0.54      8580\n",
            "   macro avg       0.75      0.54      0.42      8580\n",
            "weighted avg       0.75      0.54      0.42      8580\n",
            "\n"
          ],
          "name": "stdout"
        }
      ]
    },
    {
      "cell_type": "markdown",
      "metadata": {
        "id": "A9oD66Bf1WrI"
      },
      "source": [
        "##**Decision Tree Classifier**"
      ]
    },
    {
      "cell_type": "markdown",
      "metadata": {
        "id": "PPrLEdYR0KZ9"
      },
      "source": [
        "###Grid Search for best Hyperparameters"
      ]
    },
    {
      "cell_type": "code",
      "metadata": {
        "id": "MHjpix-yxRSq"
      },
      "source": [
        "clf4 = DecisionTreeClassifier()\n",
        "params = {'max_depth': [11,12,13],\n",
        "          'max_features': [11,12,13],\n",
        "          'criterion': ['gini','entropy']}\n",
        "cv = StratifiedKFold(n_splits=3,random_state=42)        "
      ],
      "execution_count": null,
      "outputs": []
    },
    {
      "cell_type": "code",
      "metadata": {
        "colab": {
          "base_uri": "https://localhost:8080/"
        },
        "id": "66rTPDvVxRQx",
        "outputId": "dfed7bb8-01bc-44b4-c6a4-4584ecc2a38f"
      },
      "source": [
        "grid = GridSearchCV(clf4,params,cv=cv,n_jobs=-1,scoring='accuracy',error_score=0)\n",
        "grid.fit(x_train,y_train)"
      ],
      "execution_count": null,
      "outputs": [
        {
          "output_type": "execute_result",
          "data": {
            "text/plain": [
              "GridSearchCV(cv=StratifiedKFold(n_splits=3, random_state=42, shuffle=False),\n",
              "             error_score=0,\n",
              "             estimator=DecisionTreeClassifier(ccp_alpha=0.0, class_weight=None,\n",
              "                                              criterion='gini', max_depth=None,\n",
              "                                              max_features=None,\n",
              "                                              max_leaf_nodes=None,\n",
              "                                              min_impurity_decrease=0.0,\n",
              "                                              min_impurity_split=None,\n",
              "                                              min_samples_leaf=1,\n",
              "                                              min_samples_split=2,\n",
              "                                              min_weight_fraction_leaf=0.0,\n",
              "                                              presort='deprecated',\n",
              "                                              random_state=None,\n",
              "                                              splitter='best'),\n",
              "             iid='deprecated', n_jobs=-1,\n",
              "             param_grid={'criterion': ['gini', 'entropy'],\n",
              "                         'max_depth': [11, 12, 13],\n",
              "                         'max_features': [11, 12, 13]},\n",
              "             pre_dispatch='2*n_jobs', refit=True, return_train_score=False,\n",
              "             scoring='accuracy', verbose=0)"
            ]
          },
          "metadata": {
            "tags": []
          },
          "execution_count": 70
        }
      ]
    },
    {
      "cell_type": "code",
      "metadata": {
        "colab": {
          "base_uri": "https://localhost:8080/"
        },
        "id": "ZRz6q71_xRO2",
        "outputId": "62cb5e32-f903-47fa-f118-adf562aeda2a"
      },
      "source": [
        "print(\"Best: %f using %s\" % (grid.best_score_,grid.best_params_))"
      ],
      "execution_count": null,
      "outputs": [
        {
          "output_type": "stream",
          "text": [
            "Best: 0.777723 using {'criterion': 'entropy', 'max_depth': 12, 'max_features': 13}\n"
          ],
          "name": "stdout"
        }
      ]
    },
    {
      "cell_type": "markdown",
      "metadata": {
        "id": "UnLAPITDMcR2"
      },
      "source": [
        "###Model building using best Hyperparameters"
      ]
    },
    {
      "cell_type": "code",
      "metadata": {
        "colab": {
          "base_uri": "https://localhost:8080/"
        },
        "id": "R29aIyHaxRMT",
        "outputId": "b6f34cfc-a2cf-4783-9f17-62270a83e6c4"
      },
      "source": [
        "model4 = DecisionTreeClassifier(criterion='entropy',max_depth=12,max_features=13)\n",
        "model4.fit(x_train,y_train)"
      ],
      "execution_count": null,
      "outputs": [
        {
          "output_type": "execute_result",
          "data": {
            "text/plain": [
              "DecisionTreeClassifier(ccp_alpha=0.0, class_weight=None, criterion='entropy',\n",
              "                       max_depth=12, max_features=13, max_leaf_nodes=None,\n",
              "                       min_impurity_decrease=0.0, min_impurity_split=None,\n",
              "                       min_samples_leaf=1, min_samples_split=2,\n",
              "                       min_weight_fraction_leaf=0.0, presort='deprecated',\n",
              "                       random_state=None, splitter='best')"
            ]
          },
          "metadata": {
            "tags": []
          },
          "execution_count": 75
        }
      ]
    },
    {
      "cell_type": "code",
      "metadata": {
        "colab": {
          "base_uri": "https://localhost:8080/"
        },
        "id": "vGFlU8oLvA5t",
        "outputId": "e9411b9f-fcc4-4fd6-f2a7-29e948c3830c"
      },
      "source": [
        "y_train_pred4 = model4.predict(x_train)\n",
        "print(classification_report(y_train,y_train_pred4))"
      ],
      "execution_count": null,
      "outputs": [
        {
          "output_type": "stream",
          "text": [
            "              precision    recall  f1-score   support\n",
            "\n",
            "           0       0.97      0.66      0.79     10010\n",
            "           1       0.74      0.98      0.85     10010\n",
            "\n",
            "    accuracy                           0.82     20020\n",
            "   macro avg       0.86      0.82      0.82     20020\n",
            "weighted avg       0.86      0.82      0.82     20020\n",
            "\n"
          ],
          "name": "stdout"
        }
      ]
    },
    {
      "cell_type": "code",
      "metadata": {
        "colab": {
          "base_uri": "https://localhost:8080/"
        },
        "id": "jGYMQlaLsDKA",
        "outputId": "1a426637-1001-4392-d672-99998cbea1be"
      },
      "source": [
        "y_pred4 = model4.predict(x_test)\n",
        "print(classification_report(y_test,y_pred4))"
      ],
      "execution_count": null,
      "outputs": [
        {
          "output_type": "stream",
          "text": [
            "              precision    recall  f1-score   support\n",
            "\n",
            "           0       0.92      0.63      0.75      4290\n",
            "           1       0.72      0.94      0.82      4290\n",
            "\n",
            "    accuracy                           0.79      8580\n",
            "   macro avg       0.82      0.79      0.78      8580\n",
            "weighted avg       0.82      0.79      0.78      8580\n",
            "\n"
          ],
          "name": "stdout"
        }
      ]
    },
    {
      "cell_type": "markdown",
      "metadata": {
        "id": "bGDID2W2KSUf"
      },
      "source": [
        "##**Bagged DecisionTree Classifier**"
      ]
    },
    {
      "cell_type": "markdown",
      "metadata": {
        "id": "7tMAPWXc0M9V"
      },
      "source": [
        "###Grid Search for best Hyperparameters"
      ]
    },
    {
      "cell_type": "code",
      "metadata": {
        "id": "I_awXyfQrnxJ"
      },
      "source": [
        "clf5 = BaggingClassifier()\n",
        "params = {'n_estimators':[10,50,100,200]}"
      ],
      "execution_count": null,
      "outputs": []
    },
    {
      "cell_type": "code",
      "metadata": {
        "colab": {
          "base_uri": "https://localhost:8080/"
        },
        "id": "mQypSdTkrnvN",
        "outputId": "bc16e000-cd5d-423c-e58b-fdead62beab3"
      },
      "source": [
        "grid = GridSearchCV(clf5,params,cv=cv,n_jobs=-1,scoring='accuracy',error_score=0)\n",
        "grid.fit(x_train,y_train)"
      ],
      "execution_count": null,
      "outputs": [
        {
          "output_type": "execute_result",
          "data": {
            "text/plain": [
              "GridSearchCV(cv=StratifiedKFold(n_splits=3, random_state=42, shuffle=False),\n",
              "             error_score=0,\n",
              "             estimator=BaggingClassifier(base_estimator=None, bootstrap=True,\n",
              "                                         bootstrap_features=False,\n",
              "                                         max_features=1.0, max_samples=1.0,\n",
              "                                         n_estimators=10, n_jobs=None,\n",
              "                                         oob_score=False, random_state=None,\n",
              "                                         verbose=0, warm_start=False),\n",
              "             iid='deprecated', n_jobs=-1,\n",
              "             param_grid={'n_estimators': [10, 50, 100, 200]},\n",
              "             pre_dispatch='2*n_jobs', refit=True, return_train_score=False,\n",
              "             scoring='accuracy', verbose=0)"
            ]
          },
          "metadata": {
            "tags": []
          },
          "execution_count": 79
        }
      ]
    },
    {
      "cell_type": "code",
      "metadata": {
        "colab": {
          "base_uri": "https://localhost:8080/"
        },
        "id": "DiKKWc_1mVf0",
        "outputId": "bee0aede-7360-4c02-bf6c-8aae2808433f"
      },
      "source": [
        "print(\"Best: %f using %s\" % (grid.best_score_,grid.best_params_))"
      ],
      "execution_count": null,
      "outputs": [
        {
          "output_type": "stream",
          "text": [
            "Best: 0.820680 using {'n_estimators': 200}\n"
          ],
          "name": "stdout"
        }
      ]
    },
    {
      "cell_type": "markdown",
      "metadata": {
        "id": "egyeY9duNrqL"
      },
      "source": [
        "###Model building using best Hyperparameters"
      ]
    },
    {
      "cell_type": "code",
      "metadata": {
        "colab": {
          "base_uri": "https://localhost:8080/"
        },
        "id": "5wl9MOA7MQDZ",
        "outputId": "670bac6a-822d-4926-ebfd-39ff358f3f49"
      },
      "source": [
        "model5 = BaggingClassifier(DecisionTreeClassifier(criterion='entropy',max_depth=12,max_features=13),n_estimators=200)\n",
        "model5.fit(x_train,y_train)"
      ],
      "execution_count": null,
      "outputs": [
        {
          "output_type": "execute_result",
          "data": {
            "text/plain": [
              "BaggingClassifier(base_estimator=DecisionTreeClassifier(ccp_alpha=0.0,\n",
              "                                                        class_weight=None,\n",
              "                                                        criterion='entropy',\n",
              "                                                        max_depth=12,\n",
              "                                                        max_features=13,\n",
              "                                                        max_leaf_nodes=None,\n",
              "                                                        min_impurity_decrease=0.0,\n",
              "                                                        min_impurity_split=None,\n",
              "                                                        min_samples_leaf=1,\n",
              "                                                        min_samples_split=2,\n",
              "                                                        min_weight_fraction_leaf=0.0,\n",
              "                                                        presort='deprecated',\n",
              "                                                        random_state=None,\n",
              "                                                        splitter='best'),\n",
              "                  bootstrap=True, bootstrap_features=False, max_features=1.0,\n",
              "                  max_samples=1.0, n_estimators=200, n_jobs=None,\n",
              "                  oob_score=False, random_state=None, verbose=0,\n",
              "                  warm_start=False)"
            ]
          },
          "metadata": {
            "tags": []
          },
          "execution_count": 81
        }
      ]
    },
    {
      "cell_type": "code",
      "metadata": {
        "colab": {
          "base_uri": "https://localhost:8080/"
        },
        "id": "5s0orLipmVdq",
        "outputId": "24ff9778-1624-4757-ace1-a6ff0900d889"
      },
      "source": [
        "y_train_pred5 = model5.predict(x_train)\n",
        "print(classification_report(y_train,y_train_pred5))"
      ],
      "execution_count": null,
      "outputs": [
        {
          "output_type": "stream",
          "text": [
            "              precision    recall  f1-score   support\n",
            "\n",
            "           0       1.00      0.68      0.81     10010\n",
            "           1       0.76      1.00      0.86     10010\n",
            "\n",
            "    accuracy                           0.84     20020\n",
            "   macro avg       0.88      0.84      0.83     20020\n",
            "weighted avg       0.88      0.84      0.83     20020\n",
            "\n"
          ],
          "name": "stdout"
        }
      ]
    },
    {
      "cell_type": "code",
      "metadata": {
        "colab": {
          "base_uri": "https://localhost:8080/"
        },
        "id": "D3SN2juvmVa_",
        "outputId": "3221c761-430a-4c6f-c090-cc6508b951b6"
      },
      "source": [
        "y_pred5 = model5.predict(x_test)\n",
        "print(classification_report(y_test,y_pred5))"
      ],
      "execution_count": null,
      "outputs": [
        {
          "output_type": "stream",
          "text": [
            "              precision    recall  f1-score   support\n",
            "\n",
            "           0       1.00      0.66      0.79      4290\n",
            "           1       0.75      1.00      0.85      4290\n",
            "\n",
            "    accuracy                           0.83      8580\n",
            "   macro avg       0.87      0.83      0.82      8580\n",
            "weighted avg       0.87      0.83      0.82      8580\n",
            "\n"
          ],
          "name": "stdout"
        }
      ]
    },
    {
      "cell_type": "markdown",
      "metadata": {
        "id": "AOM7EsaGPU99"
      },
      "source": [
        "##**AdaBoost Classifier**"
      ]
    },
    {
      "cell_type": "markdown",
      "metadata": {
        "id": "Fb8zrNSo0O2N"
      },
      "source": [
        "###Grid Search for best Hyperparameters"
      ]
    },
    {
      "cell_type": "code",
      "metadata": {
        "id": "w7xTF8Ee8S_J"
      },
      "source": [
        "clf6 = AdaBoostClassifier()\n",
        "params6 = {'n_estimators': [10,20,50,100,200,500]}\n",
        "cv = StratifiedKFold(n_splits=3,random_state=42)"
      ],
      "execution_count": null,
      "outputs": []
    },
    {
      "cell_type": "code",
      "metadata": {
        "colab": {
          "base_uri": "https://localhost:8080/"
        },
        "id": "Mc5-fBW08S7H",
        "outputId": "a67646bd-a3bc-4ff4-8ccd-93265c4b6c8b"
      },
      "source": [
        "grid = GridSearchCV(clf6,params6,scoring='accuracy',n_jobs=-1,cv=cv,error_score=0)\n",
        "grid.fit(x_train,y_train)"
      ],
      "execution_count": null,
      "outputs": [
        {
          "output_type": "execute_result",
          "data": {
            "text/plain": [
              "GridSearchCV(cv=StratifiedKFold(n_splits=3, random_state=42, shuffle=False),\n",
              "             error_score=0,\n",
              "             estimator=AdaBoostClassifier(algorithm='SAMME.R',\n",
              "                                          base_estimator=None,\n",
              "                                          learning_rate=1.0, n_estimators=50,\n",
              "                                          random_state=None),\n",
              "             iid='deprecated', n_jobs=-1,\n",
              "             param_grid={'n_estimators': [10, 20, 50, 100, 200, 500]},\n",
              "             pre_dispatch='2*n_jobs', refit=True, return_train_score=False,\n",
              "             scoring='accuracy', verbose=0)"
            ]
          },
          "metadata": {
            "tags": []
          },
          "execution_count": 37
        }
      ]
    },
    {
      "cell_type": "code",
      "metadata": {
        "colab": {
          "base_uri": "https://localhost:8080/"
        },
        "id": "z2HB-Noa8S4u",
        "outputId": "370dda66-f0e3-4751-e2ab-380d589ea3d7"
      },
      "source": [
        "print(\"Best: %f using %s\" % (grid.best_score_,grid.best_params_))"
      ],
      "execution_count": null,
      "outputs": [
        {
          "output_type": "stream",
          "text": [
            "Best: 0.825924 using {'n_estimators': 500}\n"
          ],
          "name": "stdout"
        }
      ]
    },
    {
      "cell_type": "markdown",
      "metadata": {
        "id": "HkMS67il5TxK"
      },
      "source": [
        "###Model building using best Hyperparameters"
      ]
    },
    {
      "cell_type": "code",
      "metadata": {
        "colab": {
          "base_uri": "https://localhost:8080/"
        },
        "id": "fwOXmL1G5Uvl",
        "outputId": "5a7a85ae-5977-4252-e3a3-7e2f045f3669"
      },
      "source": [
        "model6 = AdaBoostClassifier(DecisionTreeClassifier(criterion='entropy',max_depth=12,max_features=13),n_estimators=500)\n",
        "model6.fit(x_train,y_train)"
      ],
      "execution_count": null,
      "outputs": [
        {
          "output_type": "execute_result",
          "data": {
            "text/plain": [
              "AdaBoostClassifier(algorithm='SAMME.R',\n",
              "                   base_estimator=DecisionTreeClassifier(ccp_alpha=0.0,\n",
              "                                                         class_weight=None,\n",
              "                                                         criterion='entropy',\n",
              "                                                         max_depth=12,\n",
              "                                                         max_features=13,\n",
              "                                                         max_leaf_nodes=None,\n",
              "                                                         min_impurity_decrease=0.0,\n",
              "                                                         min_impurity_split=None,\n",
              "                                                         min_samples_leaf=1,\n",
              "                                                         min_samples_split=2,\n",
              "                                                         min_weight_fraction_leaf=0.0,\n",
              "                                                         presort='deprecated',\n",
              "                                                         random_state=None,\n",
              "                                                         splitter='best'),\n",
              "                   learning_rate=1.0, n_estimators=500, random_state=None)"
            ]
          },
          "metadata": {
            "tags": []
          },
          "execution_count": 55
        }
      ]
    },
    {
      "cell_type": "code",
      "metadata": {
        "colab": {
          "base_uri": "https://localhost:8080/"
        },
        "id": "asV3WNiz5Usn",
        "outputId": "72ee5dc6-12eb-499f-c282-7a6ecb9bc423"
      },
      "source": [
        "y_train_pred6 = model6.predict(x_train)\n",
        "print(classification_report(y_train,y_train_pred6))"
      ],
      "execution_count": null,
      "outputs": [
        {
          "output_type": "stream",
          "text": [
            "              precision    recall  f1-score   support\n",
            "\n",
            "           0       1.00      1.00      1.00     10010\n",
            "           1       1.00      1.00      1.00     10010\n",
            "\n",
            "    accuracy                           1.00     20020\n",
            "   macro avg       1.00      1.00      1.00     20020\n",
            "weighted avg       1.00      1.00      1.00     20020\n",
            "\n"
          ],
          "name": "stdout"
        }
      ]
    },
    {
      "cell_type": "code",
      "metadata": {
        "colab": {
          "base_uri": "https://localhost:8080/"
        },
        "id": "In7WZKXQ5Uqi",
        "outputId": "f5887121-a2fc-4c94-b972-cb58339cc4a3"
      },
      "source": [
        "y_pred6 = model6.predict(x_test)\n",
        "print(classification_report(y_test,y_pred6))"
      ],
      "execution_count": null,
      "outputs": [
        {
          "output_type": "stream",
          "text": [
            "              precision    recall  f1-score   support\n",
            "\n",
            "           0       0.84      0.74      0.79      4290\n",
            "           1       0.77      0.86      0.81      4290\n",
            "\n",
            "    accuracy                           0.80      8580\n",
            "   macro avg       0.80      0.80      0.80      8580\n",
            "weighted avg       0.80      0.80      0.80      8580\n",
            "\n"
          ],
          "name": "stdout"
        }
      ]
    },
    {
      "cell_type": "markdown",
      "metadata": {
        "id": "AKeavKKJ3DTA"
      },
      "source": [
        "#**XG Boost Classifier**"
      ]
    },
    {
      "cell_type": "code",
      "metadata": {
        "id": "0K_okiqj3DG5"
      },
      "source": [
        "clf7 = XGBClassifier()\n",
        "n_estimators = [100,500,1000]\n",
        "learning_rate = [0.1,0.2]\n",
        "subsample = [0.9,1.0,1.1]\n",
        "max_depth = [7,9,11,13]"
      ],
      "execution_count": null,
      "outputs": []
    },
    {
      "cell_type": "code",
      "metadata": {
        "id": "WefoAayTPugH"
      },
      "source": [
        "params7 = dict(n_estimators=n_estimators,learning_rate=learning_rate,subsample=subsample,max_depth=max_depth)\n",
        "cv = StratifiedKFold(n_splits=3,random_state=42)"
      ],
      "execution_count": null,
      "outputs": []
    },
    {
      "cell_type": "code",
      "metadata": {
        "colab": {
          "base_uri": "https://localhost:8080/"
        },
        "id": "1dKiY5_a3DDQ",
        "outputId": "08d4d8a5-a1b3-40cc-b9fd-56bb19521264"
      },
      "source": [
        "grid = GridSearchCV(clf7,params7,scoring='accuracy',n_jobs=-1,cv=cv,error_score=0)\n",
        "grid.fit(x_train,y_train)"
      ],
      "execution_count": null,
      "outputs": [
        {
          "output_type": "execute_result",
          "data": {
            "text/plain": [
              "GridSearchCV(cv=StratifiedKFold(n_splits=3, random_state=42, shuffle=False),\n",
              "             error_score=0,\n",
              "             estimator=XGBClassifier(base_score=0.5, booster='gbtree',\n",
              "                                     colsample_bylevel=1, colsample_bynode=1,\n",
              "                                     colsample_bytree=1, gamma=0,\n",
              "                                     learning_rate=0.1, max_delta_step=0,\n",
              "                                     max_depth=3, min_child_weight=1,\n",
              "                                     missing=None, n_estimators=100, n_jobs=1,\n",
              "                                     nthread=None, objective='binary:logistic',\n",
              "                                     random_state=0, reg_alpha=0, reg_lambda=1,\n",
              "                                     scale_pos_weight=1, seed=None, silent=None,\n",
              "                                     subsample=1, verbosity=1),\n",
              "             iid='deprecated', n_jobs=-1,\n",
              "             param_grid={'learning_rate': [0.1, 0.2],\n",
              "                         'max_depth': [7, 9, 11, 13],\n",
              "                         'n_estimators': [100, 500, 1000],\n",
              "                         'subsample': [0.9, 1.0, 1.1]},\n",
              "             pre_dispatch='2*n_jobs', refit=True, return_train_score=False,\n",
              "             scoring='accuracy', verbose=0)"
            ]
          },
          "metadata": {
            "tags": []
          },
          "execution_count": 24
        }
      ]
    },
    {
      "cell_type": "code",
      "metadata": {
        "colab": {
          "base_uri": "https://localhost:8080/"
        },
        "id": "RtawYGnx3C_Q",
        "outputId": "bbfadc65-3e3d-44f5-aebe-ce3e2b1964de"
      },
      "source": [
        "print(\"Best: %f using %s\" % (grid.best_score_,grid.best_params_))"
      ],
      "execution_count": null,
      "outputs": [
        {
          "output_type": "stream",
          "text": [
            "Best: 0.830070 using {'learning_rate': 0.1, 'max_depth': 7, 'n_estimators': 100, 'subsample': 0.9}\n"
          ],
          "name": "stdout"
        }
      ]
    },
    {
      "cell_type": "markdown",
      "metadata": {
        "id": "_HQu700u6k1m"
      },
      "source": [
        "###Model building using best Hyperparameters"
      ]
    },
    {
      "cell_type": "code",
      "metadata": {
        "colab": {
          "base_uri": "https://localhost:8080/"
        },
        "id": "kTml9SqR3C8Y",
        "outputId": "f158a55a-68ae-403e-db94-f6af016c0736"
      },
      "source": [
        "model7 = XGBClassifier(n_estimators=100,learning_rate=0.1,subsample=0.8,max_depth=7)\n",
        "model7.fit(x_train,y_train)"
      ],
      "execution_count": null,
      "outputs": [
        {
          "output_type": "execute_result",
          "data": {
            "text/plain": [
              "XGBClassifier(base_score=0.5, booster='gbtree', colsample_bylevel=1,\n",
              "              colsample_bynode=1, colsample_bytree=1, gamma=0,\n",
              "              learning_rate=0.1, max_delta_step=0, max_depth=7,\n",
              "              min_child_weight=1, missing=None, n_estimators=100, n_jobs=1,\n",
              "              nthread=None, objective='binary:logistic', random_state=0,\n",
              "              reg_alpha=0, reg_lambda=1, scale_pos_weight=1, seed=None,\n",
              "              silent=None, subsample=0.8, verbosity=1)"
            ]
          },
          "metadata": {
            "tags": []
          },
          "execution_count": 26
        }
      ]
    },
    {
      "cell_type": "code",
      "metadata": {
        "colab": {
          "base_uri": "https://localhost:8080/"
        },
        "id": "9vlbLlTK3C6O",
        "outputId": "38aae839-339a-47ca-abb5-db937eaeefc7"
      },
      "source": [
        "y_train_pred7 = model7.predict(x_train)\n",
        "print(classification_report(y_train,y_train_pred7))"
      ],
      "execution_count": null,
      "outputs": [
        {
          "output_type": "stream",
          "text": [
            "              precision    recall  f1-score   support\n",
            "\n",
            "           0       1.00      0.71      0.83     10010\n",
            "           1       0.77      1.00      0.87     10010\n",
            "\n",
            "    accuracy                           0.85     20020\n",
            "   macro avg       0.88      0.85      0.85     20020\n",
            "weighted avg       0.88      0.85      0.85     20020\n",
            "\n"
          ],
          "name": "stdout"
        }
      ]
    },
    {
      "cell_type": "code",
      "metadata": {
        "colab": {
          "base_uri": "https://localhost:8080/"
        },
        "id": "lxc8Merv3C3_",
        "outputId": "57395dac-59f7-4260-cc4f-c591302bab49"
      },
      "source": [
        "y_pred7 = model7.predict(x_test)\n",
        "print(classification_report(y_test,y_pred7))"
      ],
      "execution_count": null,
      "outputs": [
        {
          "output_type": "stream",
          "text": [
            "              precision    recall  f1-score   support\n",
            "\n",
            "           0       0.99      0.67      0.79      4290\n",
            "           1       0.75      0.99      0.85      4290\n",
            "\n",
            "    accuracy                           0.83      8580\n",
            "   macro avg       0.87      0.83      0.82      8580\n",
            "weighted avg       0.87      0.83      0.82      8580\n",
            "\n"
          ],
          "name": "stdout"
        }
      ]
    },
    {
      "cell_type": "markdown",
      "metadata": {
        "id": "Dxl24_xHDIe4"
      },
      "source": [
        "##**Random Forest Classifier**"
      ]
    },
    {
      "cell_type": "code",
      "metadata": {
        "id": "USdVPrS-PEzA"
      },
      "source": [
        "clf8 = RandomForestClassifier()\n",
        "n_estimators = [15,30,50]\n",
        "max_features = [3,6,8,10,13]\n",
        "min_samples_split = [1,2,3,5]\n",
        "min_samples_leaf = [1,3,4,6]"
      ],
      "execution_count": null,
      "outputs": []
    },
    {
      "cell_type": "code",
      "metadata": {
        "id": "rHak_YhiPEwP"
      },
      "source": [
        "params8 = dict(n_estimators=n_estimators,max_features=max_features,min_samples_split=min_samples_split,min_samples_leaf=min_samples_leaf)\n",
        "cv = StratifiedKFold(n_splits=3,random_state=42)"
      ],
      "execution_count": null,
      "outputs": []
    },
    {
      "cell_type": "code",
      "metadata": {
        "id": "h8460p3HPEr2",
        "colab": {
          "base_uri": "https://localhost:8080/"
        },
        "outputId": "deab3cbf-a737-4597-8c1f-d10eeacae424"
      },
      "source": [
        "grid = GridSearchCV(estimator=clf8,param_grid=params8,scoring='accuracy',n_jobs=-1,cv=cv,error_score=0)\n",
        "grid.fit(x_train,y_train)"
      ],
      "execution_count": null,
      "outputs": [
        {
          "output_type": "execute_result",
          "data": {
            "text/plain": [
              "GridSearchCV(cv=StratifiedKFold(n_splits=3, random_state=42, shuffle=False),\n",
              "             error_score=0,\n",
              "             estimator=RandomForestClassifier(bootstrap=True, ccp_alpha=0.0,\n",
              "                                              class_weight=None,\n",
              "                                              criterion='gini', max_depth=None,\n",
              "                                              max_features='auto',\n",
              "                                              max_leaf_nodes=None,\n",
              "                                              max_samples=None,\n",
              "                                              min_impurity_decrease=0.0,\n",
              "                                              min_impurity_split=None,\n",
              "                                              min_samples_leaf=1,\n",
              "                                              min_samples_split=2,\n",
              "                                              min_...action_leaf=0.0,\n",
              "                                              n_estimators=100, n_jobs=None,\n",
              "                                              oob_score=False,\n",
              "                                              random_state=None, verbose=0,\n",
              "                                              warm_start=False),\n",
              "             iid='deprecated', n_jobs=-1,\n",
              "             param_grid={'max_features': [3, 6, 8, 10, 13],\n",
              "                         'min_samples_leaf': [1, 3, 4, 6],\n",
              "                         'min_samples_split': [1, 2, 3, 5],\n",
              "                         'n_estimators': [15, 30, 50]},\n",
              "             pre_dispatch='2*n_jobs', refit=True, return_train_score=False,\n",
              "             scoring='accuracy', verbose=0)"
            ]
          },
          "metadata": {
            "tags": []
          },
          "execution_count": 38
        }
      ]
    },
    {
      "cell_type": "code",
      "metadata": {
        "colab": {
          "base_uri": "https://localhost:8080/"
        },
        "id": "nRDZJbhd0Qym",
        "outputId": "41bee297-8f5a-4185-aee1-d06c9b4115e9"
      },
      "source": [
        "print(\"Best: %f using %s\" % (grid.best_score_,grid.best_params_))"
      ],
      "execution_count": null,
      "outputs": [
        {
          "output_type": "stream",
          "text": [
            "Best: 0.825382 using {'max_features': 3, 'min_samples_leaf': 3, 'min_samples_split': 2, 'n_estimators': 50}\n"
          ],
          "name": "stdout"
        }
      ]
    },
    {
      "cell_type": "markdown",
      "metadata": {
        "id": "1yEGSEjUxjoi"
      },
      "source": [
        "###Model building using best Hyperparameters"
      ]
    },
    {
      "cell_type": "code",
      "metadata": {
        "colab": {
          "base_uri": "https://localhost:8080/"
        },
        "id": "KYMlKfKK0Qva",
        "outputId": "4336792f-72ff-451c-8d7d-f8d49d022f94"
      },
      "source": [
        "model8 = RandomForestClassifier(n_estimators=13,max_features=6,min_samples_leaf=6,min_samples_split=5,n_jobs=-1)\n",
        "model8.fit(x_train,y_train) "
      ],
      "execution_count": 12,
      "outputs": [
        {
          "output_type": "execute_result",
          "data": {
            "text/plain": [
              "RandomForestClassifier(bootstrap=True, ccp_alpha=0.0, class_weight=None,\n",
              "                       criterion='gini', max_depth=None, max_features=6,\n",
              "                       max_leaf_nodes=None, max_samples=None,\n",
              "                       min_impurity_decrease=0.0, min_impurity_split=None,\n",
              "                       min_samples_leaf=6, min_samples_split=5,\n",
              "                       min_weight_fraction_leaf=0.0, n_estimators=13, n_jobs=-1,\n",
              "                       oob_score=False, random_state=None, verbose=0,\n",
              "                       warm_start=False)"
            ]
          },
          "metadata": {
            "tags": []
          },
          "execution_count": 12
        }
      ]
    },
    {
      "cell_type": "code",
      "metadata": {
        "colab": {
          "base_uri": "https://localhost:8080/"
        },
        "id": "V0HL9MqO0QtI",
        "outputId": "3d715393-c9cf-40d9-ee62-ac4d74cc8347"
      },
      "source": [
        "y_train_pred8 = model8.predict(x_train)\n",
        "print(classification_report(y_train,y_train_pred8))"
      ],
      "execution_count": 13,
      "outputs": [
        {
          "output_type": "stream",
          "text": [
            "              precision    recall  f1-score   support\n",
            "\n",
            "           0       0.99      0.79      0.88     11440\n",
            "           1       0.83      0.99      0.90     11440\n",
            "\n",
            "    accuracy                           0.89     22880\n",
            "   macro avg       0.91      0.89      0.89     22880\n",
            "weighted avg       0.91      0.89      0.89     22880\n",
            "\n"
          ],
          "name": "stdout"
        }
      ]
    },
    {
      "cell_type": "code",
      "metadata": {
        "colab": {
          "base_uri": "https://localhost:8080/"
        },
        "id": "4UpFLAjbB598",
        "outputId": "a6c03f2b-f6f1-4bbc-9772-73dd8cd116b4"
      },
      "source": [
        "y_pred8 = model8.predict(x_test)\n",
        "print(classification_report(y_test,y_pred8))"
      ],
      "execution_count": 14,
      "outputs": [
        {
          "output_type": "stream",
          "text": [
            "              precision    recall  f1-score   support\n",
            "\n",
            "           0       0.95      0.69      0.80      2860\n",
            "           1       0.75      0.96      0.85      2860\n",
            "\n",
            "    accuracy                           0.82      5720\n",
            "   macro avg       0.85      0.82      0.82      5720\n",
            "weighted avg       0.85      0.82      0.82      5720\n",
            "\n"
          ],
          "name": "stdout"
        }
      ]
    },
    {
      "cell_type": "markdown",
      "metadata": {
        "id": "7k2oHHn1RSRG"
      },
      "source": [
        "##Best Threshold for Classification"
      ]
    },
    {
      "cell_type": "code",
      "metadata": {
        "id": "56yomdj4QRJw"
      },
      "source": [
        "predict_proba = model8.predict_proba(x_test)\n",
        "final_prediction = predict_proba[:,1]"
      ],
      "execution_count": 15,
      "outputs": []
    },
    {
      "cell_type": "code",
      "metadata": {
        "colab": {
          "base_uri": "https://localhost:8080/"
        },
        "id": "LWa6tdozQbkr",
        "outputId": "b3bd3c35-0ce5-4b59-855b-6dce8821e036"
      },
      "source": [
        "fpr, tpr, thresholds = roc_curve(y_test,final_prediction)\n",
        "thresholds"
      ],
      "execution_count": 18,
      "outputs": [
        {
          "output_type": "execute_result",
          "data": {
            "text/plain": [
              "array([1.99408284, 0.99408284, 0.97454682, ..., 0.003663  , 0.00320513,\n",
              "       0.        ])"
            ]
          },
          "metadata": {
            "tags": []
          },
          "execution_count": 18
        }
      ]
    },
    {
      "cell_type": "code",
      "metadata": {
        "id": "pMmk5tihQujo"
      },
      "source": [
        "def plot_roc_curve(fpr, tpr):\n",
        "    plt.plot(fpr, tpr, color='orange', label='ROC')\n",
        "    plt.plot([0, 1], [0, 1], color='darkblue', linestyle='--')\n",
        "    plt.xlabel('False Positive Rate')\n",
        "    plt.ylabel('True Positive Rate')\n",
        "    plt.title('Receiver Operating Characteristic (ROC) Curve')\n",
        "    plt.legend()\n",
        "    plt.show()"
      ],
      "execution_count": 19,
      "outputs": []
    },
    {
      "cell_type": "code",
      "metadata": {
        "colab": {
          "base_uri": "https://localhost:8080/",
          "height": 295
        },
        "id": "dYgH8N1mQshw",
        "outputId": "79946c96-d860-4f59-99bd-b56d8fbe7c53"
      },
      "source": [
        "plot_roc_curve(fpr,tpr)"
      ],
      "execution_count": 20,
      "outputs": [
        {
          "output_type": "display_data",
          "data": {
            "image/png": "[encoded data removed]",
            "text/plain": [
              "<Figure size 432x288 with 1 Axes>"
            ]
          },
          "metadata": {
            "tags": [],
            "needs_background": "light"
          }
        }
      ]
    },
    {
      "cell_type": "code",
      "metadata": {
        "colab": {
          "base_uri": "https://localhost:8080/",
          "height": 204
        },
        "id": "U74vzTjxQ0Y7",
        "outputId": "b35c957a-214c-460e-b779-fd05d575bd65"
      },
      "source": [
        "from sklearn.metrics import accuracy_score\n",
        "accuracy_ls = []\n",
        "for thres in thresholds:\n",
        "    y_pred = np.where(final_prediction>thres,1,0)\n",
        "    accuracy_ls.append(accuracy_score(y_test, y_pred, normalize=True))\n",
        "    \n",
        "accuracy_ls = pd.concat([pd.Series(thresholds), pd.Series(accuracy_ls)],\n",
        "                        axis=1)\n",
        "accuracy_ls.columns = ['thresholds', 'accuracy']\n",
        "accuracy_ls.sort_values(by='accuracy', ascending=False, inplace=True)\n",
        "accuracy_ls.head()"
      ],
      "execution_count": 22,
      "outputs": [
        {
          "output_type": "execute_result",
          "data": {
            "text/html": [
              "<div>\n",
              "<style scoped>\n",
              "    .dataframe tbody tr th:only-of-type {\n",
              "        vertical-align: middle;\n",
              "    }\n",
              "\n",
              "    .dataframe tbody tr th {\n",
              "        vertical-align: top;\n",
              "    }\n",
              "\n",
              "    .dataframe thead th {\n",
              "        text-align: right;\n",
              "    }\n",
              "</style>\n",
              "<table border=\"1\" class=\"dataframe\">\n",
              "  <thead>\n",
              "    <tr style=\"text-align: right;\">\n",
              "      <th></th>\n",
              "      <th>thresholds</th>\n",
              "      <th>accuracy</th>\n",
              "    </tr>\n",
              "  </thead>\n",
              "  <tbody>\n",
              "    <tr>\n",
              "      <th>1338</th>\n",
              "      <td>0.489242</td>\n",
              "      <td>0.825699</td>\n",
              "    </tr>\n",
              "    <tr>\n",
              "      <th>1366</th>\n",
              "      <td>0.458589</td>\n",
              "      <td>0.825524</td>\n",
              "    </tr>\n",
              "    <tr>\n",
              "      <th>1335</th>\n",
              "      <td>0.490897</td>\n",
              "      <td>0.825524</td>\n",
              "    </tr>\n",
              "    <tr>\n",
              "      <th>1337</th>\n",
              "      <td>0.489921</td>\n",
              "      <td>0.825524</td>\n",
              "    </tr>\n",
              "    <tr>\n",
              "      <th>1333</th>\n",
              "      <td>0.491453</td>\n",
              "      <td>0.825524</td>\n",
              "    </tr>\n",
              "  </tbody>\n",
              "</table>\n",
              "</div>"
            ],
            "text/plain": [
              "      thresholds  accuracy\n",
              "1338    0.489242  0.825699\n",
              "1366    0.458589  0.825524\n",
              "1335    0.490897  0.825524\n",
              "1337    0.489921  0.825524\n",
              "1333    0.491453  0.825524"
            ]
          },
          "metadata": {
            "tags": []
          },
          "execution_count": 22
        }
      ]
    },
    {
      "cell_type": "markdown",
      "metadata": {
        "id": "3TpMVtFUTeco"
      },
      "source": [
        "# **Working with Complete Dataset**"
      ]
    },
    {
      "cell_type": "code",
      "metadata": {
        "colab": {
          "base_uri": "https://localhost:8080/"
        },
        "id": "cjMiVXwUTiW1",
        "outputId": "0386d8ec-2bcd-4b78-bbb6-facc67b6ea06"
      },
      "source": [
        "df['Result'].value_counts()"
      ],
      "execution_count": null,
      "outputs": [
        {
          "output_type": "execute_result",
          "data": {
            "text/plain": [
              "1    780361\n",
              "0    260904\n",
              "Name: Result, dtype: int64"
            ]
          },
          "metadata": {
            "tags": []
          },
          "execution_count": 45
        }
      ]
    },
    {
      "cell_type": "code",
      "metadata": {
        "colab": {
          "base_uri": "https://localhost:8080/",
          "height": 279
        },
        "id": "erHOmBjTURq_",
        "outputId": "9611cd0f-8aa5-442c-df6b-43fe048aeda1"
      },
      "source": [
        "g = sns.countplot(df['Result'])\n",
        "g.set_xticklabels(['Fraud','Genuine'])\n",
        "plt.show()"
      ],
      "execution_count": null,
      "outputs": [
        {
          "output_type": "display_data",
          "data": {
            "image/png": "[encoded data removed]",
            "text/plain": [
              "<Figure size 432x288 with 1 Axes>"
            ]
          },
          "metadata": {
            "tags": []
          }
        }
      ]
    },
    {
      "cell_type": "markdown",
      "metadata": {
        "id": "TjwZrwmqOCZ0"
      },
      "source": [
        "##Assigning X and Y on Complete Dataset"
      ]
    },
    {
      "cell_type": "code",
      "metadata": {
        "id": "KEPh__Mg_yKp"
      },
      "source": [
        "X = df.drop(['Result'],axis=1)\n",
        "Y = df.Result"
      ],
      "execution_count": null,
      "outputs": []
    },
    {
      "cell_type": "code",
      "metadata": {
        "colab": {
          "base_uri": "https://localhost:8080/"
        },
        "id": "k13mxrSHXQGc",
        "outputId": "a1758fbe-60ca-4a88-cd67-ef8bff07794b"
      },
      "source": [
        "Y.value_counts()"
      ],
      "execution_count": null,
      "outputs": [
        {
          "output_type": "execute_result",
          "data": {
            "text/plain": [
              "1    780361\n",
              "0    260904\n",
              "Name: Result, dtype: int64"
            ]
          },
          "metadata": {
            "tags": []
          },
          "execution_count": 47
        }
      ]
    },
    {
      "cell_type": "markdown",
      "metadata": {
        "id": "-6F6r5_DTSAq"
      },
      "source": [
        "##Oversampling Complete Dataset using SMOTETomek"
      ]
    },
    {
      "cell_type": "code",
      "metadata": {
        "id": "-EiN-isPs8LN"
      },
      "source": [
        "from imblearn.combine import SMOTETomek\n",
        "smt = SMOTETomek(ratio=\"auto\",random_state=42)\n",
        "X_smt, Y_smt = smt.fit_sample(X,Y)"
      ],
      "execution_count": null,
      "outputs": []
    },
    {
      "cell_type": "code",
      "metadata": {
        "colab": {
          "base_uri": "https://localhost:8080/"
        },
        "id": "vmr75icgqK8X",
        "outputId": "b9690b27-2ea9-430b-bbef-278d836ca0fa"
      },
      "source": [
        "unique, count = np.unique(Y_smt, return_counts=True)\n",
        "count"
      ],
      "execution_count": null,
      "outputs": [
        {
          "output_type": "execute_result",
          "data": {
            "text/plain": [
              "array([718461, 718461])"
            ]
          },
          "metadata": {
            "tags": []
          },
          "execution_count": 49
        }
      ]
    },
    {
      "cell_type": "markdown",
      "metadata": {
        "id": "8eQao5FbXBzh"
      },
      "source": [
        "##Undersampling Complete Dataset using Cluster Centriods\n"
      ]
    },
    {
      "cell_type": "code",
      "metadata": {
        "id": "EJz60HQoWufJ"
      },
      "source": [
        "# from imblearn.under_sampling import ClusterCentroids\n",
        "# cc = ClusterCentroids(ratio={1:260904})\n",
        "# X_cc, Y_cc = cc.fit_sample(X,Y)"
      ],
      "execution_count": null,
      "outputs": []
    },
    {
      "cell_type": "code",
      "metadata": {
        "id": "LDsJsjUTYHtP"
      },
      "source": [
        "# unique, count = np.unique(Y_cc, return_counts=True)\n",
        "# count"
      ],
      "execution_count": null,
      "outputs": []
    },
    {
      "cell_type": "markdown",
      "metadata": {
        "id": "FgyVmq0vs_ZH"
      },
      "source": [
        "##Train Test Split"
      ]
    },
    {
      "cell_type": "code",
      "metadata": {
        "id": "PKQPuQQcqK54"
      },
      "source": [
        "X_train,X_test,Y_train,Y_test = train_test_split(X_smt,Y_smt,test_size=0.2,stratify=Y_smt)"
      ],
      "execution_count": null,
      "outputs": []
    },
    {
      "cell_type": "code",
      "metadata": {
        "colab": {
          "base_uri": "https://localhost:8080/"
        },
        "id": "dPlm2pu6tB4K",
        "outputId": "da69e4c6-8e80-4210-e35c-4355bc6f980f"
      },
      "source": [
        "unique, count = np.unique(Y_train,return_counts=True)\n",
        "count"
      ],
      "execution_count": null,
      "outputs": [
        {
          "output_type": "execute_result",
          "data": {
            "text/plain": [
              "array([574768, 574769])"
            ]
          },
          "metadata": {
            "tags": []
          },
          "execution_count": 51
        }
      ]
    },
    {
      "cell_type": "markdown",
      "metadata": {
        "id": "JvVFA25Y3vo4"
      },
      "source": [
        "#**Model Building on Complete Dataset**"
      ]
    },
    {
      "cell_type": "markdown",
      "metadata": {
        "id": "LOG3Jdb5WJ3B"
      },
      "source": [
        "#**Logistic Regression**"
      ]
    },
    {
      "cell_type": "code",
      "metadata": {
        "colab": {
          "base_uri": "https://localhost:8080/"
        },
        "id": "_dnPfxb6WJVg",
        "outputId": "994ed5aa-873e-4b66-9cf1-5d0862619cd4"
      },
      "source": [
        "Model1 = LogisticRegression(penalty='l1',C=0.1,solver='liblinear')\n",
        "Model1.fit(X_train,Y_train)"
      ],
      "execution_count": null,
      "outputs": [
        {
          "output_type": "execute_result",
          "data": {
            "text/plain": [
              "LogisticRegression(C=0.1, class_weight=None, dual=False, fit_intercept=True,\n",
              "                   intercept_scaling=1, l1_ratio=None, max_iter=100,\n",
              "                   multi_class='auto', n_jobs=None, penalty='l1',\n",
              "                   random_state=None, solver='liblinear', tol=0.0001, verbose=0,\n",
              "                   warm_start=False)"
            ]
          },
          "metadata": {
            "tags": []
          },
          "execution_count": 71
        }
      ]
    },
    {
      "cell_type": "code",
      "metadata": {
        "colab": {
          "base_uri": "https://localhost:8080/"
        },
        "id": "4Vv9BVabWJSs",
        "outputId": "b0305777-a6c4-43e8-a1d1-d0e7657fe78f"
      },
      "source": [
        "Y_train_pred1 = Model1.predict(X_train)\n",
        "print(classification_report(Y_train,Y_train_pred1))"
      ],
      "execution_count": null,
      "outputs": [
        {
          "output_type": "stream",
          "text": [
            "              precision    recall  f1-score   support\n",
            "\n",
            "           0       0.51      0.50      0.51    574768\n",
            "           1       0.51      0.51      0.51    574769\n",
            "\n",
            "    accuracy                           0.51   1149537\n",
            "   macro avg       0.51      0.51      0.51   1149537\n",
            "weighted avg       0.51      0.51      0.51   1149537\n",
            "\n"
          ],
          "name": "stdout"
        }
      ]
    },
    {
      "cell_type": "code",
      "metadata": {
        "colab": {
          "base_uri": "https://localhost:8080/"
        },
        "id": "6SQF_r_9WJPX",
        "outputId": "ccffdfcc-0400-4bc4-a327-1ec72f8ea71f"
      },
      "source": [
        "Y_pred1 = Model1.predict(X_test)\n",
        "print(classification_report(Y_test,Y_pred1))"
      ],
      "execution_count": null,
      "outputs": [
        {
          "output_type": "stream",
          "text": [
            "              precision    recall  f1-score   support\n",
            "\n",
            "           0       0.51      0.50      0.50    143693\n",
            "           1       0.51      0.52      0.51    143692\n",
            "\n",
            "    accuracy                           0.51    287385\n",
            "   macro avg       0.51      0.51      0.51    287385\n",
            "weighted avg       0.51      0.51      0.51    287385\n",
            "\n"
          ],
          "name": "stdout"
        }
      ]
    },
    {
      "cell_type": "markdown",
      "metadata": {
        "id": "3ciNdGmbXUVN"
      },
      "source": [
        "##**KNN**"
      ]
    },
    {
      "cell_type": "code",
      "metadata": {
        "colab": {
          "base_uri": "https://localhost:8080/"
        },
        "id": "2rJQKTqxWJNM",
        "outputId": "dbed2014-84cf-458e-b2b6-b6baf3a1f737"
      },
      "source": [
        "Model2 = KNeighborsClassifier(n_neighbors=1,metric='manhattan',weights='uniform')\n",
        "Model2.fit(X_train,Y_train)"
      ],
      "execution_count": null,
      "outputs": [
        {
          "output_type": "execute_result",
          "data": {
            "text/plain": [
              "KNeighborsClassifier(algorithm='auto', leaf_size=30, metric='manhattan',\n",
              "                     metric_params=None, n_jobs=None, n_neighbors=1, p=2,\n",
              "                     weights='uniform')"
            ]
          },
          "metadata": {
            "tags": []
          },
          "execution_count": 75
        }
      ]
    },
    {
      "cell_type": "code",
      "metadata": {
        "colab": {
          "base_uri": "https://localhost:8080/"
        },
        "id": "Z1xWuDodWJKc",
        "outputId": "650031d2-f2ed-4056-c05a-f6097a0aab7a"
      },
      "source": [
        "Y_train_pred2 = Model2.predict(X_train)\n",
        "print(classification_report(Y_train,Y_train_pred2))"
      ],
      "execution_count": null,
      "outputs": [
        {
          "output_type": "stream",
          "text": [
            "              precision    recall  f1-score   support\n",
            "\n",
            "           0       0.99      0.99      0.99    574768\n",
            "           1       0.99      0.99      0.99    574769\n",
            "\n",
            "    accuracy                           0.99   1149537\n",
            "   macro avg       0.99      0.99      0.99   1149537\n",
            "weighted avg       0.99      0.99      0.99   1149537\n",
            "\n"
          ],
          "name": "stdout"
        }
      ]
    },
    {
      "cell_type": "code",
      "metadata": {
        "colab": {
          "base_uri": "https://localhost:8080/"
        },
        "id": "R1X44M4nWJIQ",
        "outputId": "cb0c76a7-9a95-49a8-c45b-545a942f7952"
      },
      "source": [
        "Y_pred2 = Model2.predict(X_test)\n",
        "print(classification_report(Y_test,Y_pred2))"
      ],
      "execution_count": null,
      "outputs": [
        {
          "output_type": "stream",
          "text": [
            "              precision    recall  f1-score   support\n",
            "\n",
            "           0       0.75      0.90      0.82    143693\n",
            "           1       0.88      0.71      0.78    143692\n",
            "\n",
            "    accuracy                           0.80    287385\n",
            "   macro avg       0.82      0.80      0.80    287385\n",
            "weighted avg       0.82      0.80      0.80    287385\n",
            "\n"
          ],
          "name": "stdout"
        }
      ]
    },
    {
      "cell_type": "markdown",
      "metadata": {
        "id": "rj9cmzz6uZGp"
      },
      "source": [
        "##**SVM**"
      ]
    },
    {
      "cell_type": "code",
      "metadata": {
        "id": "W8aJtDApWJFa"
      },
      "source": [
        "Model3 = SVC(C=50,gamma='auto',kernel='rbf')\n",
        "Model3.fit(X_train,Y_train)"
      ],
      "execution_count": null,
      "outputs": []
    },
    {
      "cell_type": "code",
      "metadata": {
        "colab": {
          "base_uri": "https://localhost:8080/"
        },
        "id": "1d2ZRsm-WJC7",
        "outputId": "a8afc947-79ca-44cc-e3fd-b33703af92d4"
      },
      "source": [
        "Y_train_pred3 = model3.predict(X_train)\n",
        "print(classification_report(Y_train,Y_train_pred3))"
      ],
      "execution_count": null,
      "outputs": [
        {
          "output_type": "stream",
          "text": [
            "              precision    recall  f1-score   support\n",
            "\n",
            "           0       0.75      0.01      0.02    574768\n",
            "           1       0.50      1.00      0.67    574769\n",
            "\n",
            "    accuracy                           0.50   1149537\n",
            "   macro avg       0.63      0.50      0.34   1149537\n",
            "weighted avg       0.63      0.50      0.34   1149537\n",
            "\n"
          ],
          "name": "stdout"
        }
      ]
    },
    {
      "cell_type": "code",
      "metadata": {
        "colab": {
          "base_uri": "https://localhost:8080/"
        },
        "id": "ytn2bXESuCP-",
        "outputId": "0b8a6043-4c31-4a0d-bb82-4f0a28dd1311"
      },
      "source": [
        "Y_pred3 = model3.predict(X_test)\n",
        "print(classification_report(Y_test,Y_pred3))"
      ],
      "execution_count": null,
      "outputs": [
        {
          "output_type": "stream",
          "text": [
            "              precision    recall  f1-score   support\n",
            "\n",
            "           0       0.77      0.01      0.02    143693\n",
            "           1       0.50      1.00      0.67    143692\n",
            "\n",
            "    accuracy                           0.50    287385\n",
            "   macro avg       0.63      0.50      0.34    287385\n",
            "weighted avg       0.63      0.50      0.34    287385\n",
            "\n"
          ],
          "name": "stdout"
        }
      ]
    },
    {
      "cell_type": "markdown",
      "metadata": {
        "id": "ciY15vGCu6dz"
      },
      "source": [
        "##**Decision Tree Classifier**"
      ]
    },
    {
      "cell_type": "code",
      "metadata": {
        "colab": {
          "base_uri": "https://localhost:8080/"
        },
        "id": "okAFuO-EuCM9",
        "outputId": "0c0acf29-e9d1-4ca1-a389-0b8594d69e9a"
      },
      "source": [
        "Model4 = DecisionTreeClassifier(criterion='entropy',max_depth=12,max_features=13)\n",
        "Model4.fit(X_train,Y_train)"
      ],
      "execution_count": null,
      "outputs": [
        {
          "output_type": "execute_result",
          "data": {
            "text/plain": [
              "DecisionTreeClassifier(ccp_alpha=0.0, class_weight=None, criterion='entropy',\n",
              "                       max_depth=12, max_features=13, max_leaf_nodes=None,\n",
              "                       min_impurity_decrease=0.0, min_impurity_split=None,\n",
              "                       min_samples_leaf=1, min_samples_split=2,\n",
              "                       min_weight_fraction_leaf=0.0, presort='deprecated',\n",
              "                       random_state=None, splitter='best')"
            ]
          },
          "metadata": {
            "tags": []
          },
          "execution_count": 51
        }
      ]
    },
    {
      "cell_type": "code",
      "metadata": {
        "colab": {
          "base_uri": "https://localhost:8080/"
        },
        "id": "dwLk6_5FuCHd",
        "outputId": "6937c0d5-24a9-406a-ebec-e1894bd9b5c2"
      },
      "source": [
        "Y_train_pred4 = Model4.predict(X_train)\n",
        "print(classification_report(Y_train,Y_train_pred4))"
      ],
      "execution_count": null,
      "outputs": [
        {
          "output_type": "stream",
          "text": [
            "              precision    recall  f1-score   support\n",
            "\n",
            "           0       1.00      0.60      0.75    574768\n",
            "           1       0.71      1.00      0.83    574769\n",
            "\n",
            "    accuracy                           0.80   1149537\n",
            "   macro avg       0.85      0.80      0.79   1149537\n",
            "weighted avg       0.85      0.80      0.79   1149537\n",
            "\n"
          ],
          "name": "stdout"
        }
      ]
    },
    {
      "cell_type": "code",
      "metadata": {
        "colab": {
          "base_uri": "https://localhost:8080/"
        },
        "id": "p1s149ZEuCEE",
        "outputId": "3a2d30e6-3ab0-4105-ab42-725199df78f9"
      },
      "source": [
        "Y_pred4 = Model4.predict(X_test)\n",
        "print(classification_report(Y_test,Y_pred4))"
      ],
      "execution_count": null,
      "outputs": [
        {
          "output_type": "stream",
          "text": [
            "              precision    recall  f1-score   support\n",
            "\n",
            "           0       0.99      0.60      0.75    143693\n",
            "           1       0.71      1.00      0.83    143692\n",
            "\n",
            "    accuracy                           0.80    287385\n",
            "   macro avg       0.85      0.80      0.79    287385\n",
            "weighted avg       0.85      0.80      0.79    287385\n",
            "\n"
          ],
          "name": "stdout"
        }
      ]
    },
    {
      "cell_type": "markdown",
      "metadata": {
        "id": "Kd2W1uh5vub0"
      },
      "source": [
        "##**Bagged Decision Tree Classifier**"
      ]
    },
    {
      "cell_type": "code",
      "metadata": {
        "colab": {
          "base_uri": "https://localhost:8080/"
        },
        "id": "pGUx4tA5u5rQ",
        "outputId": "4812ecd3-e3cf-481e-cd48-62c00ca781b0"
      },
      "source": [
        "Model5 = BaggingClassifier(DecisionTreeClassifier(criterion='entropy',max_depth=12,max_features=13),n_estimators=200)\n",
        "Model5.fit(X_train,Y_train)"
      ],
      "execution_count": null,
      "outputs": [
        {
          "output_type": "execute_result",
          "data": {
            "text/plain": [
              "BaggingClassifier(base_estimator=DecisionTreeClassifier(ccp_alpha=0.0,\n",
              "                                                        class_weight=None,\n",
              "                                                        criterion='entropy',\n",
              "                                                        max_depth=12,\n",
              "                                                        max_features=13,\n",
              "                                                        max_leaf_nodes=None,\n",
              "                                                        min_impurity_decrease=0.0,\n",
              "                                                        min_impurity_split=None,\n",
              "                                                        min_samples_leaf=1,\n",
              "                                                        min_samples_split=2,\n",
              "                                                        min_weight_fraction_leaf=0.0,\n",
              "                                                        presort='deprecated',\n",
              "                                                        random_state=None,\n",
              "                                                        splitter='best'),\n",
              "                  bootstrap=True, bootstrap_features=False, max_features=1.0,\n",
              "                  max_samples=1.0, n_estimators=200, n_jobs=None,\n",
              "                  oob_score=False, random_state=None, verbose=0,\n",
              "                  warm_start=False)"
            ]
          },
          "metadata": {
            "tags": []
          },
          "execution_count": 28
        }
      ]
    },
    {
      "cell_type": "code",
      "metadata": {
        "colab": {
          "base_uri": "https://localhost:8080/"
        },
        "id": "3jXU_V9_u5n0",
        "outputId": "8e1e0844-7c2a-4ad6-dc5a-1bb44ff4740c"
      },
      "source": [
        "Y_train_pred5 = Model5.predict(X_train)\n",
        "print(classification_report(Y_train,Y_train_pred5))"
      ],
      "execution_count": null,
      "outputs": [
        {
          "output_type": "stream",
          "text": [
            "              precision    recall  f1-score   support\n",
            "\n",
            "           0       1.00      0.61      0.75    574768\n",
            "           1       0.72      1.00      0.83    574769\n",
            "\n",
            "    accuracy                           0.80   1149537\n",
            "   macro avg       0.86      0.80      0.79   1149537\n",
            "weighted avg       0.86      0.80      0.79   1149537\n",
            "\n"
          ],
          "name": "stdout"
        }
      ]
    },
    {
      "cell_type": "code",
      "metadata": {
        "colab": {
          "base_uri": "https://localhost:8080/"
        },
        "id": "AIZDr4OAu5kw",
        "outputId": "5c38f82f-81cb-483d-a46f-8eaa9f0c3ab7"
      },
      "source": [
        "Y_pred5 = Model5.predict(X_test)\n",
        "print(classification_report(Y_test,Y_pred5))"
      ],
      "execution_count": null,
      "outputs": [
        {
          "output_type": "stream",
          "text": [
            "              precision    recall  f1-score   support\n",
            "\n",
            "           0       1.00      0.61      0.75    143693\n",
            "           1       0.72      1.00      0.83    143692\n",
            "\n",
            "    accuracy                           0.80    287385\n",
            "   macro avg       0.86      0.80      0.79    287385\n",
            "weighted avg       0.86      0.80      0.79    287385\n",
            "\n"
          ],
          "name": "stdout"
        }
      ]
    },
    {
      "cell_type": "markdown",
      "metadata": {
        "id": "B5EC7fQ-wXQ7"
      },
      "source": [
        "##**ADA Boost Classifier**"
      ]
    },
    {
      "cell_type": "code",
      "metadata": {
        "id": "tg8QqF4FwVle"
      },
      "source": [
        "Model6 = AdaBoostClassifier(DecisionTreeClassifier(criterion='entropy',max_depth=12,max_features=13),n_estimators=500)\n",
        "Model6.fit(X_train,Y_train)"
      ],
      "execution_count": null,
      "outputs": []
    },
    {
      "cell_type": "code",
      "metadata": {
        "id": "Qmb9oICxwVjH"
      },
      "source": [
        "Y_train_pred6 = Model6.predict(X_train)\n",
        "print(classification_report(Y_train,Y_train_pred6))"
      ],
      "execution_count": null,
      "outputs": []
    },
    {
      "cell_type": "code",
      "metadata": {
        "id": "8GDN2QgzwVgP"
      },
      "source": [
        "Y_pred6 = Model6.predict(X_test)\n",
        "print(classification_report(Y_test,Y_pred6))"
      ],
      "execution_count": null,
      "outputs": []
    },
    {
      "cell_type": "markdown",
      "metadata": {
        "id": "HlXxgIikwthf"
      },
      "source": [
        "##**XGBoost Classifier**"
      ]
    },
    {
      "cell_type": "code",
      "metadata": {
        "colab": {
          "base_uri": "https://localhost:8080/"
        },
        "id": "d8iz2grFuCB2",
        "outputId": "03550740-d8d0-4101-924d-c20b36961f40"
      },
      "source": [
        "Model7 = XGBClassifier(n_estimators=100,learning_rate=0.1,subsample=0.8,max_depth=7)\n",
        "Model7.fit(X_train,Y_train)"
      ],
      "execution_count": null,
      "outputs": [
        {
          "output_type": "execute_result",
          "data": {
            "text/plain": [
              "XGBClassifier(base_score=0.5, booster='gbtree', colsample_bylevel=1,\n",
              "              colsample_bynode=1, colsample_bytree=1, gamma=0,\n",
              "              learning_rate=0.1, max_delta_step=0, max_depth=7,\n",
              "              min_child_weight=1, missing=None, n_estimators=100, n_jobs=1,\n",
              "              nthread=None, objective='binary:logistic', random_state=0,\n",
              "              reg_alpha=0, reg_lambda=1, scale_pos_weight=1, seed=None,\n",
              "              silent=None, subsample=0.8, verbosity=1)"
            ]
          },
          "metadata": {
            "tags": []
          },
          "execution_count": 28
        }
      ]
    },
    {
      "cell_type": "code",
      "metadata": {
        "colab": {
          "base_uri": "https://localhost:8080/"
        },
        "id": "X3R63nJuuB_l",
        "outputId": "e829f5f9-1cd4-4697-babb-e55860dcccf3"
      },
      "source": [
        "Y_train_pred7 = Model7.predict(X_train)\n",
        "print(classification_report(Y_train,Y_train_pred7))"
      ],
      "execution_count": null,
      "outputs": [
        {
          "output_type": "stream",
          "text": [
            "              precision    recall  f1-score   support\n",
            "\n",
            "           0       1.00      0.64      0.78    574769\n",
            "           1       0.73      1.00      0.85    574768\n",
            "\n",
            "    accuracy                           0.82   1149537\n",
            "   macro avg       0.87      0.82      0.81   1149537\n",
            "weighted avg       0.87      0.82      0.81   1149537\n",
            "\n"
          ],
          "name": "stdout"
        }
      ]
    },
    {
      "cell_type": "code",
      "metadata": {
        "colab": {
          "base_uri": "https://localhost:8080/"
        },
        "id": "-ZS-P6ISuB86",
        "outputId": "aad54a3f-8b04-4fdd-d0a4-e51fe0172fe6"
      },
      "source": [
        "Y_pred7 = Model7.predict(X_test)\n",
        "print(classification_report(Y_test,Y_pred7))"
      ],
      "execution_count": null,
      "outputs": [
        {
          "output_type": "stream",
          "text": [
            "              precision    recall  f1-score   support\n",
            "\n",
            "           0       1.00      0.64      0.78    143692\n",
            "           1       0.74      1.00      0.85    143693\n",
            "\n",
            "    accuracy                           0.82    287385\n",
            "   macro avg       0.87      0.82      0.81    287385\n",
            "weighted avg       0.87      0.82      0.81    287385\n",
            "\n"
          ],
          "name": "stdout"
        }
      ]
    },
    {
      "cell_type": "markdown",
      "metadata": {
        "id": "AKD0dhQWxF2Y"
      },
      "source": [
        "##**Random Forest Classifier**"
      ]
    },
    {
      "cell_type": "code",
      "metadata": {
        "colab": {
          "base_uri": "https://localhost:8080/"
        },
        "id": "o9PmC35luB6O",
        "outputId": "f8ed30ae-6050-4813-ce8f-0568a639d52f"
      },
      "source": [
        "Model8 = RandomForestClassifier(n_estimators=50,max_features=3,min_samples_leaf=3,min_samples_split=2,n_jobs=-1)\n",
        "Model8.fit(X_train,Y_train)"
      ],
      "execution_count": null,
      "outputs": [
        {
          "output_type": "execute_result",
          "data": {
            "text/plain": [
              "RandomForestClassifier(bootstrap=True, ccp_alpha=0.0, class_weight=None,\n",
              "                       criterion='gini', max_depth=None, max_features=3,\n",
              "                       max_leaf_nodes=None, max_samples=None,\n",
              "                       min_impurity_decrease=0.0, min_impurity_split=None,\n",
              "                       min_samples_leaf=3, min_samples_split=2,\n",
              "                       min_weight_fraction_leaf=0.0, n_estimators=50, n_jobs=-1,\n",
              "                       oob_score=False, random_state=None, verbose=0,\n",
              "                       warm_start=False)"
            ]
          },
          "metadata": {
            "tags": []
          },
          "execution_count": 52
        }
      ]
    },
    {
      "cell_type": "code",
      "metadata": {
        "colab": {
          "base_uri": "https://localhost:8080/"
        },
        "id": "zRIDwBYXxywx",
        "outputId": "d25b71e9-b1e5-4c27-edc0-cc5dd8e999bf"
      },
      "source": [
        "Y_train_pred8 = Model8.predict(X_train)\n",
        "print(classification_report(Y_train,Y_train_pred8))"
      ],
      "execution_count": null,
      "outputs": [
        {
          "output_type": "stream",
          "text": [
            "              precision    recall  f1-score   support\n",
            "\n",
            "           0       0.99      0.77      0.87    574768\n",
            "           1       0.81      0.99      0.89    574769\n",
            "\n",
            "    accuracy                           0.88   1149537\n",
            "   macro avg       0.90      0.88      0.88   1149537\n",
            "weighted avg       0.90      0.88      0.88   1149537\n",
            "\n"
          ],
          "name": "stdout"
        }
      ]
    },
    {
      "cell_type": "code",
      "metadata": {
        "colab": {
          "base_uri": "https://localhost:8080/"
        },
        "id": "9JAYLeIjuB3A",
        "outputId": "1bb83c89-6fc5-4f89-90d6-097158cc8233"
      },
      "source": [
        "Y_pred8 = Model8.predict(X_test)\n",
        "print(classification_report(Y_test,Y_pred8))"
      ],
      "execution_count": null,
      "outputs": [
        {
          "output_type": "stream",
          "text": [
            "              precision    recall  f1-score   support\n",
            "\n",
            "           0       0.97      0.67      0.79    143693\n",
            "           1       0.75      0.98      0.85    143692\n",
            "\n",
            "    accuracy                           0.82    287385\n",
            "   macro avg       0.86      0.82      0.82    287385\n",
            "weighted avg       0.86      0.82      0.82    287385\n",
            "\n"
          ],
          "name": "stdout"
        }
      ]
    },
    {
      "cell_type": "code",
      "metadata": {
        "colab": {
          "base_uri": "https://localhost:8080/"
        },
        "id": "a_F0yBnFCwNe",
        "outputId": "df0e750a-af6d-4c37-c4b1-8dbf6f67eec0"
      },
      "source": [
        "import joblib\n",
        "#Serialize the model and save\n",
        "from sklearn.externals import joblib\n",
        "joblib.dump(Model8, 'RFModel.joblib',0)"
      ],
      "execution_count": null,
      "outputs": [
        {
          "output_type": "execute_result",
          "data": {
            "text/plain": [
              "['RFModel.joblib']"
            ]
          },
          "metadata": {
            "tags": []
          },
          "execution_count": 55
        }
      ]
    },
    {
      "cell_type": "code",
      "metadata": {
        "id": "mIicxC2BB5Cl"
      },
      "source": [
        "import pickle\n",
        "with open('Model.joblib','wb') as f:\n",
        "  pickle.dump(Model8,f,-1)"
      ],
      "execution_count": null,
      "outputs": []
    }
  ]
}